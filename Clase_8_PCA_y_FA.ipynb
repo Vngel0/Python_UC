{
  "nbformat": 4,
  "nbformat_minor": 0,
  "metadata": {
    "colab": {
      "name": "Clase 8 PCA y FA.ipynb",
      "provenance": [],
      "collapsed_sections": [
        "wLoN-ClftAFu"
      ],
      "include_colab_link": true
    },
    "kernelspec": {
      "display_name": "Python 3",
      "language": "python",
      "name": "python3"
    },
    "language_info": {
      "codemirror_mode": {
        "name": "ipython",
        "version": 3
      },
      "file_extension": ".py",
      "mimetype": "text/x-python",
      "name": "python",
      "nbconvert_exporter": "python",
      "pygments_lexer": "ipython3",
      "version": "3.8.8"
    }
  },
  "cells": [
    {
      "cell_type": "markdown",
      "metadata": {
        "id": "view-in-github",
        "colab_type": "text"
      },
      "source": [
        "<a href=\"https://colab.research.google.com/github/Vngel0/Python_UC/blob/main/Clase_8_PCA_y_FA.ipynb\" target=\"_parent\"><img src=\"https://colab.research.google.com/assets/colab-badge.svg\" alt=\"Open In Colab\"/></a>"
      ]
    },
    {
      "cell_type": "markdown",
      "metadata": {
        "id": "owTfbVZhpKFr"
      },
      "source": [
        "# Reduccion Dimensional\n",
        "\n",
        "Los algoritmos de Machine Learning que hemos estudiado buscan extraer *insights* de un conjunto de datos ya sea de manera supervisada o no-supervisada. Dichos datos son representaciones de ciertos fenomenos, cuyo \"tamaño\" se denomina **dimensionalidad**. A mayor complejidad de un fenomeno y detalle de la descripción mayor será la dimensionalidad de nuestra representación. \n",
        "\n",
        "Existe un balance importante entre el performance de un modelo y el detalle con el que se lo describe. El desempeño de un buen modelo puede decaer significativamente cuando la dimensionalidad de los datos ocupados se incrementa. Esto se debe a varias razones:\n",
        "\n",
        "- Requieren mas datos para ser entrenados\n",
        "- Los datasets requieren mayor espacio en memoria\n",
        "- El entrenamiento se vuelve mas lento\n",
        "- Datasets con grandes cantidades de datos tiene muchos campos correlacionados entre sí. Un modelo robusto tiene sus features independientes una de la otra\n",
        "\n",
        "Estos problemas, entre otros, se conocen como **la maldicion de la dimensionalidad**. Se puede disminuir el el tamaño de la representación usando Feature Engineering, en particular:\n",
        "\n",
        "- **Feature Selection**: Eliminar ciertas Features del conjunto de datos. Se puede hacer usando conocimiento específico, análisis de correlación, eliminacion recursiva de features (RFE por sus siglas en ingles) o un método backward, etc.\n",
        "\n",
        "- **Feature Extraction**: Creación de variables sintéticas que reflejen el comportamiento de los datos a pesar de ser muchas menos que las originales. Algunos ejemplos son Análisis de componentes principales (PCA) y Analisis Factorial (FA), que son los que veremos hoy.\n",
        " "
      ]
    },
    {
      "cell_type": "markdown",
      "metadata": {
        "id": "hiuiHRMhtAFh"
      },
      "source": [
        "# PCA"
      ]
    },
    {
      "cell_type": "markdown",
      "metadata": {
        "id": "N1YbCQWytAFi"
      },
      "source": [
        "Primero importaremos las librerias para todo lo que usaremos"
      ]
    },
    {
      "cell_type": "code",
      "metadata": {
        "id": "VI2oEKpRtAFj",
        "colab": {
          "base_uri": "https://localhost:8080/"
        },
        "outputId": "91fd69ee-3847-4b2f-c5cc-9e56171cb542"
      },
      "source": [
        "import numpy as np\n",
        "import pandas as pd\n",
        "import statsmodels.api as sm\n",
        "\n",
        "import matplotlib.pyplot as plt\n",
        "\n",
        "from sklearn.decomposition import PCA\n",
        "from sklearn.pipeline import make_pipeline\n",
        "from sklearn.preprocessing import StandardScaler\n",
        "from sklearn.preprocessing import scale\n",
        "\n",
        "import warnings\n",
        "warnings.filterwarnings('ignore')"
      ],
      "execution_count": 1,
      "outputs": [
        {
          "output_type": "stream",
          "name": "stderr",
          "text": [
            "/usr/local/lib/python3.7/dist-packages/statsmodels/tools/_testing.py:19: FutureWarning: pandas.util.testing is deprecated. Use the functions in the public API at pandas.testing instead.\n",
            "  import pandas.util.testing as tm\n"
          ]
        }
      ]
    },
    {
      "cell_type": "markdown",
      "metadata": {
        "id": "EEDaOxHOtAFk"
      },
      "source": [
        "Usaremos los datos USArrests ya que aunque solo tiene 4 campos, y PCA se suele utilizar cuando tenemos mucha más información, podremos ir visualizando paso a paso el procedimiento. Los campos son: Murder, Assault, UrbanPop y Rape.\n",
        "\n",
        "En las filas tenemos los distintos 50 estados de USA"
      ]
    },
    {
      "cell_type": "code",
      "metadata": {
        "id": "ZIcj5oRmtAFk",
        "outputId": "d1084106-2e1d-4940-b652-3f65b89a11ba"
      },
      "source": [
        "USArrests = sm.datasets.get_rdataset(\"USArrests\", \"datasets\")\n",
        "datos = USArrests.data\n",
        "datos.head(2)"
      ],
      "execution_count": null,
      "outputs": [
        {
          "data": {
            "text/html": [
              "<div>\n",
              "<style scoped>\n",
              "    .dataframe tbody tr th:only-of-type {\n",
              "        vertical-align: middle;\n",
              "    }\n",
              "\n",
              "    .dataframe tbody tr th {\n",
              "        vertical-align: top;\n",
              "    }\n",
              "\n",
              "    .dataframe thead th {\n",
              "        text-align: right;\n",
              "    }\n",
              "</style>\n",
              "<table border=\"1\" class=\"dataframe\">\n",
              "  <thead>\n",
              "    <tr style=\"text-align: right;\">\n",
              "      <th></th>\n",
              "      <th>Murder</th>\n",
              "      <th>Assault</th>\n",
              "      <th>UrbanPop</th>\n",
              "      <th>Rape</th>\n",
              "    </tr>\n",
              "  </thead>\n",
              "  <tbody>\n",
              "    <tr>\n",
              "      <th>Alabama</th>\n",
              "      <td>13.2</td>\n",
              "      <td>236</td>\n",
              "      <td>58</td>\n",
              "      <td>21.2</td>\n",
              "    </tr>\n",
              "    <tr>\n",
              "      <th>Alaska</th>\n",
              "      <td>10.0</td>\n",
              "      <td>263</td>\n",
              "      <td>48</td>\n",
              "      <td>44.5</td>\n",
              "    </tr>\n",
              "  </tbody>\n",
              "</table>\n",
              "</div>"
            ],
            "text/plain": [
              "         Murder  Assault  UrbanPop  Rape\n",
              "Alabama    13.2      236        58  21.2\n",
              "Alaska     10.0      263        48  44.5"
            ]
          },
          "execution_count": 2,
          "metadata": {},
          "output_type": "execute_result"
        }
      ]
    },
    {
      "cell_type": "markdown",
      "metadata": {
        "id": "CrImAww9tAFl"
      },
      "source": [
        "Veamos rápidamente información de la data:"
      ]
    },
    {
      "cell_type": "code",
      "metadata": {
        "id": "3LjPbwN4tAFm",
        "outputId": "1e8e2525-5284-45ad-f934-f9fd32e80c45"
      },
      "source": [
        "datos.info()"
      ],
      "execution_count": null,
      "outputs": [
        {
          "name": "stdout",
          "output_type": "stream",
          "text": [
            "<class 'pandas.core.frame.DataFrame'>\n",
            "Index: 50 entries, Alabama to Wyoming\n",
            "Data columns (total 4 columns):\n",
            " #   Column    Non-Null Count  Dtype  \n",
            "---  ------    --------------  -----  \n",
            " 0   Murder    50 non-null     float64\n",
            " 1   Assault   50 non-null     int64  \n",
            " 2   UrbanPop  50 non-null     int64  \n",
            " 3   Rape      50 non-null     float64\n",
            "dtypes: float64(2), int64(2)\n",
            "memory usage: 2.0+ KB\n"
          ]
        }
      ]
    },
    {
      "cell_type": "code",
      "metadata": {
        "id": "r8l-aCDxtAFn",
        "outputId": "a13af9cb-e7df-4dfb-cc69-0726fb51e46a"
      },
      "source": [
        "datos.describe()"
      ],
      "execution_count": null,
      "outputs": [
        {
          "data": {
            "text/html": [
              "<div>\n",
              "<style scoped>\n",
              "    .dataframe tbody tr th:only-of-type {\n",
              "        vertical-align: middle;\n",
              "    }\n",
              "\n",
              "    .dataframe tbody tr th {\n",
              "        vertical-align: top;\n",
              "    }\n",
              "\n",
              "    .dataframe thead th {\n",
              "        text-align: right;\n",
              "    }\n",
              "</style>\n",
              "<table border=\"1\" class=\"dataframe\">\n",
              "  <thead>\n",
              "    <tr style=\"text-align: right;\">\n",
              "      <th></th>\n",
              "      <th>Murder</th>\n",
              "      <th>Assault</th>\n",
              "      <th>UrbanPop</th>\n",
              "      <th>Rape</th>\n",
              "    </tr>\n",
              "  </thead>\n",
              "  <tbody>\n",
              "    <tr>\n",
              "      <th>count</th>\n",
              "      <td>50.00000</td>\n",
              "      <td>50.000000</td>\n",
              "      <td>50.000000</td>\n",
              "      <td>50.000000</td>\n",
              "    </tr>\n",
              "    <tr>\n",
              "      <th>mean</th>\n",
              "      <td>7.78800</td>\n",
              "      <td>170.760000</td>\n",
              "      <td>65.540000</td>\n",
              "      <td>21.232000</td>\n",
              "    </tr>\n",
              "    <tr>\n",
              "      <th>std</th>\n",
              "      <td>4.35551</td>\n",
              "      <td>83.337661</td>\n",
              "      <td>14.474763</td>\n",
              "      <td>9.366385</td>\n",
              "    </tr>\n",
              "    <tr>\n",
              "      <th>min</th>\n",
              "      <td>0.80000</td>\n",
              "      <td>45.000000</td>\n",
              "      <td>32.000000</td>\n",
              "      <td>7.300000</td>\n",
              "    </tr>\n",
              "    <tr>\n",
              "      <th>25%</th>\n",
              "      <td>4.07500</td>\n",
              "      <td>109.000000</td>\n",
              "      <td>54.500000</td>\n",
              "      <td>15.075000</td>\n",
              "    </tr>\n",
              "    <tr>\n",
              "      <th>50%</th>\n",
              "      <td>7.25000</td>\n",
              "      <td>159.000000</td>\n",
              "      <td>66.000000</td>\n",
              "      <td>20.100000</td>\n",
              "    </tr>\n",
              "    <tr>\n",
              "      <th>75%</th>\n",
              "      <td>11.25000</td>\n",
              "      <td>249.000000</td>\n",
              "      <td>77.750000</td>\n",
              "      <td>26.175000</td>\n",
              "    </tr>\n",
              "    <tr>\n",
              "      <th>max</th>\n",
              "      <td>17.40000</td>\n",
              "      <td>337.000000</td>\n",
              "      <td>91.000000</td>\n",
              "      <td>46.000000</td>\n",
              "    </tr>\n",
              "  </tbody>\n",
              "</table>\n",
              "</div>"
            ],
            "text/plain": [
              "         Murder     Assault   UrbanPop       Rape\n",
              "count  50.00000   50.000000  50.000000  50.000000\n",
              "mean    7.78800  170.760000  65.540000  21.232000\n",
              "std     4.35551   83.337661  14.474763   9.366385\n",
              "min     0.80000   45.000000  32.000000   7.300000\n",
              "25%     4.07500  109.000000  54.500000  15.075000\n",
              "50%     7.25000  159.000000  66.000000  20.100000\n",
              "75%    11.25000  249.000000  77.750000  26.175000\n",
              "max    17.40000  337.000000  91.000000  46.000000"
            ]
          },
          "execution_count": 4,
          "metadata": {},
          "output_type": "execute_result"
        }
      ]
    },
    {
      "cell_type": "markdown",
      "metadata": {
        "id": "Iw2dmPBZtAFo"
      },
      "source": [
        "Notemos que la varianza y la media de Assault es muy superior al resto. Por lo tanto explicaría mayor variabilidad de los datos y el análisis de PCA no tendría sentido. Es por esto, que lo primero que debemos hacer es estandarizar los datos, para que toda la información esté a la misma escala. \n",
        "\n",
        "Como primero transformaremos los datos y luego los pondremos al cálculo del modelo PCA, lo mejor es realizar un pipeline, tal y como lo hemos visto en clases anteriores"
      ]
    },
    {
      "cell_type": "code",
      "metadata": {
        "id": "qHa9MGPPtAFp",
        "outputId": "42eb0c42-dd6d-48be-facf-0f9e7c6555ed"
      },
      "source": [
        "pca_pipe = make_pipeline(StandardScaler(), PCA())\n",
        "pca_pipe.fit(datos)"
      ],
      "execution_count": null,
      "outputs": [
        {
          "data": {
            "text/plain": [
              "Pipeline(steps=[('standardscaler', StandardScaler()), ('pca', PCA())])"
            ]
          },
          "execution_count": 5,
          "metadata": {},
          "output_type": "execute_result"
        }
      ]
    },
    {
      "cell_type": "markdown",
      "metadata": {
        "id": "mudfWiZFtAFp"
      },
      "source": [
        "Como el `.fit` está aplicado al objeto pca_pipe, podemos extraer el modelo llamando a dicho objeto y rescatando directamente el pca:"
      ]
    },
    {
      "cell_type": "code",
      "metadata": {
        "id": "ZPH7pMtZtAFq"
      },
      "source": [
        "modelo_pca = pca_pipe.named_steps['pca']"
      ],
      "execution_count": null,
      "outputs": []
    },
    {
      "cell_type": "markdown",
      "metadata": {
        "id": "NwqFsqzLtAFq"
      },
      "source": [
        "Analizaremos las distintas características del modelo para ir entendiendo las salidas. Primero veremos los `eigenvector` que podemos extraer con `.components_`"
      ]
    },
    {
      "cell_type": "code",
      "metadata": {
        "id": "ZFPMtNmXtAFr",
        "outputId": "11087022-942a-45b4-add0-0389196f73b9"
      },
      "source": [
        "pd.DataFrame(\n",
        "    data    = modelo_pca.components_,\n",
        "    columns = datos.columns,\n",
        "    index   = ['PC1', 'PC2', 'PC3', 'PC4']\n",
        ")"
      ],
      "execution_count": null,
      "outputs": [
        {
          "data": {
            "text/html": [
              "<div>\n",
              "<style scoped>\n",
              "    .dataframe tbody tr th:only-of-type {\n",
              "        vertical-align: middle;\n",
              "    }\n",
              "\n",
              "    .dataframe tbody tr th {\n",
              "        vertical-align: top;\n",
              "    }\n",
              "\n",
              "    .dataframe thead th {\n",
              "        text-align: right;\n",
              "    }\n",
              "</style>\n",
              "<table border=\"1\" class=\"dataframe\">\n",
              "  <thead>\n",
              "    <tr style=\"text-align: right;\">\n",
              "      <th></th>\n",
              "      <th>Murder</th>\n",
              "      <th>Assault</th>\n",
              "      <th>UrbanPop</th>\n",
              "      <th>Rape</th>\n",
              "    </tr>\n",
              "  </thead>\n",
              "  <tbody>\n",
              "    <tr>\n",
              "      <th>PC1</th>\n",
              "      <td>0.535899</td>\n",
              "      <td>0.583184</td>\n",
              "      <td>0.278191</td>\n",
              "      <td>0.543432</td>\n",
              "    </tr>\n",
              "    <tr>\n",
              "      <th>PC2</th>\n",
              "      <td>0.418181</td>\n",
              "      <td>0.187986</td>\n",
              "      <td>-0.872806</td>\n",
              "      <td>-0.167319</td>\n",
              "    </tr>\n",
              "    <tr>\n",
              "      <th>PC3</th>\n",
              "      <td>-0.341233</td>\n",
              "      <td>-0.268148</td>\n",
              "      <td>-0.378016</td>\n",
              "      <td>0.817778</td>\n",
              "    </tr>\n",
              "    <tr>\n",
              "      <th>PC4</th>\n",
              "      <td>0.649228</td>\n",
              "      <td>-0.743407</td>\n",
              "      <td>0.133878</td>\n",
              "      <td>0.089024</td>\n",
              "    </tr>\n",
              "  </tbody>\n",
              "</table>\n",
              "</div>"
            ],
            "text/plain": [
              "       Murder   Assault  UrbanPop      Rape\n",
              "PC1  0.535899  0.583184  0.278191  0.543432\n",
              "PC2  0.418181  0.187986 -0.872806 -0.167319\n",
              "PC3 -0.341233 -0.268148 -0.378016  0.817778\n",
              "PC4  0.649228 -0.743407  0.133878  0.089024"
            ]
          },
          "execution_count": 7,
          "metadata": {},
          "output_type": "execute_result"
        }
      ]
    },
    {
      "cell_type": "markdown",
      "metadata": {
        "id": "hBnrX732tAFr"
      },
      "source": [
        "Así podremos observar cuanta variabilidad explica cada uno de los 4 Componentes Principales, para cada uno de los atributos que tenemos. Por ejemplo el primer componente principal, obtiene su variabilidad principalmente de las variables Murder, Assault y Rape. Por lo que toma buena información de los delitos.\n",
        "\n",
        "De manera análoga, en la segunda componente, vemos que UrbanPop es la que tiene mayor peso (pues vemos el valor absoluto obviando el signo), la que corresponde al nivel de urbanización.\n",
        "\n",
        "Ahora con las PCA creadas, podemos saber cuanta variabilidad de los datos explica cada una de ellas:"
      ]
    },
    {
      "cell_type": "code",
      "metadata": {
        "id": "aBjSYpe8tAFr",
        "outputId": "bf04295f-dfa8-4a13-cadd-6c510267bc7d"
      },
      "source": [
        "modelo_pca.explained_variance_ratio_"
      ],
      "execution_count": null,
      "outputs": [
        {
          "data": {
            "text/plain": [
              "array([0.62006039, 0.24744129, 0.0891408 , 0.04335752])"
            ]
          },
          "execution_count": 8,
          "metadata": {},
          "output_type": "execute_result"
        }
      ]
    },
    {
      "cell_type": "markdown",
      "metadata": {
        "id": "obiAjrcNtAFr"
      },
      "source": [
        "La primera PCA puede xplicar el 62% de la variabilidad de los datos, y la segunda el siguiente 24%, luego la tercera y cuarta el 8% y 4% aproximadamente. Es decir, que con las 2 primeras CP, podemos explicar un 86% de los datos aproximadamente.\n",
        "\n",
        "Hay personas que prefieren observar esto gráficamente:"
      ]
    },
    {
      "cell_type": "code",
      "metadata": {
        "id": "zm_mJieFtAFs",
        "outputId": "114dafec-60cd-4086-9afb-8b8e7b56a8b2"
      },
      "source": [
        "plt.bar(range(1,len(modelo_pca.components_) + 1),\n",
        "np.cumsum(modelo_pca.explained_variance_ratio_))"
      ],
      "execution_count": null,
      "outputs": [
        {
          "data": {
            "text/plain": [
              "<BarContainer object of 4 artists>"
            ]
          },
          "execution_count": 9,
          "metadata": {},
          "output_type": "execute_result"
        },
        {
          "data": {
            "image/png": "[encoded data removed]",
            "text/plain": [
              "<Figure size 432x288 with 1 Axes>"
            ]
          },
          "metadata": {
            "needs_background": "light"
          },
          "output_type": "display_data"
        }
      ]
    },
    {
      "cell_type": "markdown",
      "metadata": {
        "id": "gTY8ymfjtAFs"
      },
      "source": [
        "Finalmente lo que necesitamos es crear un nuevo set de datos, donde los registros sigan siendo los 50 estados, pero ahora los campos sean nuestras PCA, esto lo logramos con `transform()`"
      ]
    },
    {
      "cell_type": "code",
      "metadata": {
        "id": "uvFQhrOStAFs"
      },
      "source": [
        "datos_proyectados = pca_pipe.transform(X=datos)"
      ],
      "execution_count": null,
      "outputs": []
    },
    {
      "cell_type": "code",
      "metadata": {
        "id": "pL5MLyr4tAFs",
        "outputId": "e658b8d2-eb53-4fda-f3ec-55fa5941f4b4"
      },
      "source": [
        "proyecciones = pd.DataFrame(\n",
        "    datos_proyectados,\n",
        "    columns = ['PC1', 'PC2', 'PC3', 'PC4'],\n",
        "    index   = datos.index\n",
        ")\n",
        "proyecciones.head(3)"
      ],
      "execution_count": null,
      "outputs": [
        {
          "data": {
            "text/html": [
              "<div>\n",
              "<style scoped>\n",
              "    .dataframe tbody tr th:only-of-type {\n",
              "        vertical-align: middle;\n",
              "    }\n",
              "\n",
              "    .dataframe tbody tr th {\n",
              "        vertical-align: top;\n",
              "    }\n",
              "\n",
              "    .dataframe thead th {\n",
              "        text-align: right;\n",
              "    }\n",
              "</style>\n",
              "<table border=\"1\" class=\"dataframe\">\n",
              "  <thead>\n",
              "    <tr style=\"text-align: right;\">\n",
              "      <th></th>\n",
              "      <th>PC1</th>\n",
              "      <th>PC2</th>\n",
              "      <th>PC3</th>\n",
              "      <th>PC4</th>\n",
              "    </tr>\n",
              "  </thead>\n",
              "  <tbody>\n",
              "    <tr>\n",
              "      <th>Alabama</th>\n",
              "      <td>0.985566</td>\n",
              "      <td>1.133392</td>\n",
              "      <td>-0.444269</td>\n",
              "      <td>0.156267</td>\n",
              "    </tr>\n",
              "    <tr>\n",
              "      <th>Alaska</th>\n",
              "      <td>1.950138</td>\n",
              "      <td>1.073213</td>\n",
              "      <td>2.040003</td>\n",
              "      <td>-0.438583</td>\n",
              "    </tr>\n",
              "    <tr>\n",
              "      <th>Arizona</th>\n",
              "      <td>1.763164</td>\n",
              "      <td>-0.745957</td>\n",
              "      <td>0.054781</td>\n",
              "      <td>-0.834653</td>\n",
              "    </tr>\n",
              "  </tbody>\n",
              "</table>\n",
              "</div>"
            ],
            "text/plain": [
              "              PC1       PC2       PC3       PC4\n",
              "Alabama  0.985566  1.133392 -0.444269  0.156267\n",
              "Alaska   1.950138  1.073213  2.040003 -0.438583\n",
              "Arizona  1.763164 -0.745957  0.054781 -0.834653"
            ]
          },
          "execution_count": 11,
          "metadata": {},
          "output_type": "execute_result"
        }
      ]
    },
    {
      "cell_type": "markdown",
      "metadata": {
        "id": "AW6TKS-ytAFt"
      },
      "source": [
        "Recordemos como vieron en clases, que la transformación es el resultado de multiplicar los vectores que definen cada componente con el valor de las variables:"
      ]
    },
    {
      "cell_type": "code",
      "metadata": {
        "id": "M7RPuw9ntAFt",
        "outputId": "93e131f8-b11f-44d8-f58e-69f8d6b3dd90"
      },
      "source": [
        "proyecciones2 = np.dot(modelo_pca.components_, scale(datos).T) #punto cruzado\n",
        "proyecciones2 = pd.DataFrame(proyecciones2, index = ['PC1', 'PC2', 'PC3', 'PC4'])\n",
        "proyecciones2 = proyecciones2.transpose().set_index(datos.index)\n",
        "proyecciones2.head(3)"
      ],
      "execution_count": null,
      "outputs": [
        {
          "data": {
            "text/html": [
              "<div>\n",
              "<style scoped>\n",
              "    .dataframe tbody tr th:only-of-type {\n",
              "        vertical-align: middle;\n",
              "    }\n",
              "\n",
              "    .dataframe tbody tr th {\n",
              "        vertical-align: top;\n",
              "    }\n",
              "\n",
              "    .dataframe thead th {\n",
              "        text-align: right;\n",
              "    }\n",
              "</style>\n",
              "<table border=\"1\" class=\"dataframe\">\n",
              "  <thead>\n",
              "    <tr style=\"text-align: right;\">\n",
              "      <th></th>\n",
              "      <th>PC1</th>\n",
              "      <th>PC2</th>\n",
              "      <th>PC3</th>\n",
              "      <th>PC4</th>\n",
              "    </tr>\n",
              "  </thead>\n",
              "  <tbody>\n",
              "    <tr>\n",
              "      <th>Alabama</th>\n",
              "      <td>0.985566</td>\n",
              "      <td>1.133392</td>\n",
              "      <td>-0.444269</td>\n",
              "      <td>0.156267</td>\n",
              "    </tr>\n",
              "    <tr>\n",
              "      <th>Alaska</th>\n",
              "      <td>1.950138</td>\n",
              "      <td>1.073213</td>\n",
              "      <td>2.040003</td>\n",
              "      <td>-0.438583</td>\n",
              "    </tr>\n",
              "    <tr>\n",
              "      <th>Arizona</th>\n",
              "      <td>1.763164</td>\n",
              "      <td>-0.745957</td>\n",
              "      <td>0.054781</td>\n",
              "      <td>-0.834653</td>\n",
              "    </tr>\n",
              "  </tbody>\n",
              "</table>\n",
              "</div>"
            ],
            "text/plain": [
              "              PC1       PC2       PC3       PC4\n",
              "Alabama  0.985566  1.133392 -0.444269  0.156267\n",
              "Alaska   1.950138  1.073213  2.040003 -0.438583\n",
              "Arizona  1.763164 -0.745957  0.054781 -0.834653"
            ]
          },
          "execution_count": 12,
          "metadata": {},
          "output_type": "execute_result"
        }
      ]
    },
    {
      "cell_type": "markdown",
      "metadata": {
        "id": "PYGgEGHPtAFt"
      },
      "source": [
        "Finalmente, como sabemos que para un modelo tenemos el 86% de la data explicada con las primeras 2 PCA, solo deberiamos usar esas dos:"
      ]
    },
    {
      "cell_type": "code",
      "metadata": {
        "id": "G9u5JLqitAFt",
        "outputId": "90021bb0-f6b6-4c02-9b4c-e25b98b23499"
      },
      "source": [
        "df_para_modelo = proyecciones.iloc[:,0:2]\n",
        "df_para_modelo.head(3)"
      ],
      "execution_count": null,
      "outputs": [
        {
          "data": {
            "text/html": [
              "<div>\n",
              "<style scoped>\n",
              "    .dataframe tbody tr th:only-of-type {\n",
              "        vertical-align: middle;\n",
              "    }\n",
              "\n",
              "    .dataframe tbody tr th {\n",
              "        vertical-align: top;\n",
              "    }\n",
              "\n",
              "    .dataframe thead th {\n",
              "        text-align: right;\n",
              "    }\n",
              "</style>\n",
              "<table border=\"1\" class=\"dataframe\">\n",
              "  <thead>\n",
              "    <tr style=\"text-align: right;\">\n",
              "      <th></th>\n",
              "      <th>PC1</th>\n",
              "      <th>PC2</th>\n",
              "    </tr>\n",
              "  </thead>\n",
              "  <tbody>\n",
              "    <tr>\n",
              "      <th>Alabama</th>\n",
              "      <td>0.985566</td>\n",
              "      <td>1.133392</td>\n",
              "    </tr>\n",
              "    <tr>\n",
              "      <th>Alaska</th>\n",
              "      <td>1.950138</td>\n",
              "      <td>1.073213</td>\n",
              "    </tr>\n",
              "    <tr>\n",
              "      <th>Arizona</th>\n",
              "      <td>1.763164</td>\n",
              "      <td>-0.745957</td>\n",
              "    </tr>\n",
              "  </tbody>\n",
              "</table>\n",
              "</div>"
            ],
            "text/plain": [
              "              PC1       PC2\n",
              "Alabama  0.985566  1.133392\n",
              "Alaska   1.950138  1.073213\n",
              "Arizona  1.763164 -0.745957"
            ]
          },
          "execution_count": 13,
          "metadata": {},
          "output_type": "execute_result"
        }
      ]
    },
    {
      "cell_type": "markdown",
      "metadata": {
        "id": "wLoN-ClftAFu"
      },
      "source": [
        "# Análisis Factorial"
      ]
    },
    {
      "cell_type": "markdown",
      "metadata": {
        "id": "zDvkwtWatAFu"
      },
      "source": [
        "Anteriormente pudimos reducir la dimensionalidad pero de variables numéricas. Nos vimos forzados además de estandarizar los datos para poder proyectar las dimensiones de manera correcta. Pero sabemos que hay otro tipo de dato muy importante que no hemos trabajado, los datos categóricos.\n",
        "\n",
        "En concreto en este ejemplo, trabajaremos con psicométrica de factores:\n",
        "\n",
        "* Para esta actividad utilizaremos un subconjunto de 25 items de la International Personality Item Pool, aplicados a 2800 individuos. \n",
        "\n",
        "\n",
        "* El objetivo de esta información es desarrollar perfiles de personalidad en base a una serie de oraciones asociadas a las características Amabilidad, Escrupolisidad, Extroversión, Neuroticismo, Apertura. \n",
        "\n",
        "\n",
        "* Los individuos deben responder qué tan adecuada es la oración respecto a su personalidad en base a 6 categorías:\n",
        "\n",
        "    - 1: No me representa para nada.\n",
        "    - 2: No me representa.\n",
        "    - 3: Algunas cosas no me representan.\n",
        "    - 4: Algunas cosas me representan.\n",
        "    - 5: Me representa.\n",
        "    - 6: Me representa completamente.\n",
        "\n",
        "\n",
        "* Las 25 preguntas son:\n",
        "    * `A1`  Soy indiferente a los sentimientos de otros.\n",
        "    * `A2` Me preocupo del bienestar de otros. \n",
        "    * `A3` Sé cómo confortar a otros.\n",
        "    * `A4` Me agradan los niños. \n",
        "    * `A5` Hago sentir tranquila a la gente. \n",
        "    * `C1` Soy exacto en mi trabajo.\n",
        "    * `C2` Sigo con mis tareas hasta que todo esté perfecto.\n",
        "    * `C3` Hago cosas siguiendo un plan.\n",
        "    * `C4` Hago cosas con el mínimo esfuerzo.\n",
        "    * `C5` Pierdo mi tiempo. \n",
        "    * `E1` No hablo mucho con las personas.\n",
        "    * `E2` Me es dificil acercarme a otros.\n",
        "    * `E3` Sé cómo cautivar gente.\n",
        "    * `E4` Hago amigos de forma fácil. \n",
        "    * `E5` Puedo tomar el cargo de las cosas. \n",
        "    * `N1` Me enojo con facilidad.\n",
        "    * `N2` Me irrito con facilidad.\n",
        "    * `N3` Tengo cambios de humor frecuentes.\n",
        "    * `N4` Usualmente me siento melancólico. \n",
        "    * `N5` Entro en pánico con facilidad. \n",
        "    * `O1` Estoy lleno de ideas.\n",
        "    * `O2` Evito leer material difícil.\n",
        "    * `O3` Tiendo a llevar la conversación a niveles más altos.\n",
        "    * `O4` Dedico tiempo a la reflexión de cosas. \n",
        "    * `O5` No profundizaré sobre una materia específica. \n",
        "    \n",
        "    \n",
        "* Se registraron una serie de covariables sobre características demográficas de los encuestados:\n",
        "    * `gender` Hombre = 1, Mujer =2.\n",
        "    * `education` 1 = Educación Media Incompleta, 2 = Educación Media Completa, 3 = Educación Universitaria Incompleta, 4 = Educación Universitaria Completa 5 = Estudios de Postgrado.\n",
        "    * `age` Edad en Años.\n",
        "    \n",
        "    \n",
        "* Implementaremos un modelo de extracción factorial para identificar los principales perfiles psicológicos."
      ]
    },
    {
      "cell_type": "code",
      "metadata": {
        "id": "XSG4iKcltAFu",
        "outputId": "3beb8475-de9a-402d-b1c2-8c43753ca0b7"
      },
      "source": [
        "!pip install factor_analyzer"
      ],
      "execution_count": null,
      "outputs": [
        {
          "name": "stdout",
          "output_type": "stream",
          "text": [
            "Requirement already satisfied: factor_analyzer in /opt/anaconda3/lib/python3.8/site-packages (0.3.2)\n",
            "Requirement already satisfied: numpy in /opt/anaconda3/lib/python3.8/site-packages (from factor_analyzer) (1.20.1)\n",
            "Requirement already satisfied: scikit-learn in /opt/anaconda3/lib/python3.8/site-packages (from factor_analyzer) (0.24.1)\n",
            "Requirement already satisfied: scipy in /opt/anaconda3/lib/python3.8/site-packages (from factor_analyzer) (1.6.2)\n",
            "Requirement already satisfied: pandas in /opt/anaconda3/lib/python3.8/site-packages (from factor_analyzer) (1.2.4)\n",
            "Requirement already satisfied: python-dateutil>=2.7.3 in /opt/anaconda3/lib/python3.8/site-packages (from pandas->factor_analyzer) (2.8.1)\n",
            "Requirement already satisfied: pytz>=2017.3 in /opt/anaconda3/lib/python3.8/site-packages (from pandas->factor_analyzer) (2021.1)\n",
            "Requirement already satisfied: six>=1.5 in /opt/anaconda3/lib/python3.8/site-packages (from python-dateutil>=2.7.3->pandas->factor_analyzer) (1.15.0)\n",
            "Requirement already satisfied: threadpoolctl>=2.0.0 in /opt/anaconda3/lib/python3.8/site-packages (from scikit-learn->factor_analyzer) (2.1.0)\n",
            "Requirement already satisfied: joblib>=0.11 in /opt/anaconda3/lib/python3.8/site-packages (from scikit-learn->factor_analyzer) (1.0.1)\n"
          ]
        }
      ]
    },
    {
      "cell_type": "code",
      "metadata": {
        "id": "2NZ0TFFjtAFv"
      },
      "source": [
        "# Importaremos las librerias adicionales a este caso\n",
        "import scipy.stats as stats\n",
        "import seaborn as sns\n",
        "import factor_analyzer as factor\n",
        "import missingno as msngo"
      ],
      "execution_count": null,
      "outputs": []
    },
    {
      "cell_type": "code",
      "metadata": {
        "id": "c600nBf1tAFv",
        "outputId": "7cf8b584-5b59-4dba-a535-c5f3217339c4"
      },
      "source": [
        "df = pd.read_csv(\"bfi.csv\")\n",
        "df.head()"
      ],
      "execution_count": null,
      "outputs": [
        {
          "data": {
            "text/html": [
              "<div>\n",
              "<style scoped>\n",
              "    .dataframe tbody tr th:only-of-type {\n",
              "        vertical-align: middle;\n",
              "    }\n",
              "\n",
              "    .dataframe tbody tr th {\n",
              "        vertical-align: top;\n",
              "    }\n",
              "\n",
              "    .dataframe thead th {\n",
              "        text-align: right;\n",
              "    }\n",
              "</style>\n",
              "<table border=\"1\" class=\"dataframe\">\n",
              "  <thead>\n",
              "    <tr style=\"text-align: right;\">\n",
              "      <th></th>\n",
              "      <th>Unnamed: 0</th>\n",
              "      <th>A1</th>\n",
              "      <th>A2</th>\n",
              "      <th>A3</th>\n",
              "      <th>A4</th>\n",
              "      <th>A5</th>\n",
              "      <th>C1</th>\n",
              "      <th>C2</th>\n",
              "      <th>C3</th>\n",
              "      <th>C4</th>\n",
              "      <th>...</th>\n",
              "      <th>N4</th>\n",
              "      <th>N5</th>\n",
              "      <th>O1</th>\n",
              "      <th>O2</th>\n",
              "      <th>O3</th>\n",
              "      <th>O4</th>\n",
              "      <th>O5</th>\n",
              "      <th>gender</th>\n",
              "      <th>education</th>\n",
              "      <th>age</th>\n",
              "    </tr>\n",
              "  </thead>\n",
              "  <tbody>\n",
              "    <tr>\n",
              "      <th>0</th>\n",
              "      <td>61617</td>\n",
              "      <td>2.0</td>\n",
              "      <td>4.0</td>\n",
              "      <td>3.0</td>\n",
              "      <td>4.0</td>\n",
              "      <td>4.0</td>\n",
              "      <td>2.0</td>\n",
              "      <td>3.0</td>\n",
              "      <td>3.0</td>\n",
              "      <td>4.0</td>\n",
              "      <td>...</td>\n",
              "      <td>2.0</td>\n",
              "      <td>3.0</td>\n",
              "      <td>3.0</td>\n",
              "      <td>6</td>\n",
              "      <td>3.0</td>\n",
              "      <td>4.0</td>\n",
              "      <td>3.0</td>\n",
              "      <td>1</td>\n",
              "      <td>NaN</td>\n",
              "      <td>16</td>\n",
              "    </tr>\n",
              "    <tr>\n",
              "      <th>1</th>\n",
              "      <td>61618</td>\n",
              "      <td>2.0</td>\n",
              "      <td>4.0</td>\n",
              "      <td>5.0</td>\n",
              "      <td>2.0</td>\n",
              "      <td>5.0</td>\n",
              "      <td>5.0</td>\n",
              "      <td>4.0</td>\n",
              "      <td>4.0</td>\n",
              "      <td>3.0</td>\n",
              "      <td>...</td>\n",
              "      <td>5.0</td>\n",
              "      <td>5.0</td>\n",
              "      <td>4.0</td>\n",
              "      <td>2</td>\n",
              "      <td>4.0</td>\n",
              "      <td>3.0</td>\n",
              "      <td>3.0</td>\n",
              "      <td>2</td>\n",
              "      <td>NaN</td>\n",
              "      <td>18</td>\n",
              "    </tr>\n",
              "    <tr>\n",
              "      <th>2</th>\n",
              "      <td>61620</td>\n",
              "      <td>5.0</td>\n",
              "      <td>4.0</td>\n",
              "      <td>5.0</td>\n",
              "      <td>4.0</td>\n",
              "      <td>4.0</td>\n",
              "      <td>4.0</td>\n",
              "      <td>5.0</td>\n",
              "      <td>4.0</td>\n",
              "      <td>2.0</td>\n",
              "      <td>...</td>\n",
              "      <td>2.0</td>\n",
              "      <td>3.0</td>\n",
              "      <td>4.0</td>\n",
              "      <td>2</td>\n",
              "      <td>5.0</td>\n",
              "      <td>5.0</td>\n",
              "      <td>2.0</td>\n",
              "      <td>2</td>\n",
              "      <td>NaN</td>\n",
              "      <td>17</td>\n",
              "    </tr>\n",
              "    <tr>\n",
              "      <th>3</th>\n",
              "      <td>61621</td>\n",
              "      <td>4.0</td>\n",
              "      <td>4.0</td>\n",
              "      <td>6.0</td>\n",
              "      <td>5.0</td>\n",
              "      <td>5.0</td>\n",
              "      <td>4.0</td>\n",
              "      <td>4.0</td>\n",
              "      <td>3.0</td>\n",
              "      <td>5.0</td>\n",
              "      <td>...</td>\n",
              "      <td>4.0</td>\n",
              "      <td>1.0</td>\n",
              "      <td>3.0</td>\n",
              "      <td>3</td>\n",
              "      <td>4.0</td>\n",
              "      <td>3.0</td>\n",
              "      <td>5.0</td>\n",
              "      <td>2</td>\n",
              "      <td>NaN</td>\n",
              "      <td>17</td>\n",
              "    </tr>\n",
              "    <tr>\n",
              "      <th>4</th>\n",
              "      <td>61622</td>\n",
              "      <td>2.0</td>\n",
              "      <td>3.0</td>\n",
              "      <td>3.0</td>\n",
              "      <td>4.0</td>\n",
              "      <td>5.0</td>\n",
              "      <td>4.0</td>\n",
              "      <td>4.0</td>\n",
              "      <td>5.0</td>\n",
              "      <td>3.0</td>\n",
              "      <td>...</td>\n",
              "      <td>4.0</td>\n",
              "      <td>3.0</td>\n",
              "      <td>3.0</td>\n",
              "      <td>3</td>\n",
              "      <td>4.0</td>\n",
              "      <td>3.0</td>\n",
              "      <td>3.0</td>\n",
              "      <td>1</td>\n",
              "      <td>NaN</td>\n",
              "      <td>17</td>\n",
              "    </tr>\n",
              "  </tbody>\n",
              "</table>\n",
              "<p>5 rows × 29 columns</p>\n",
              "</div>"
            ],
            "text/plain": [
              "   Unnamed: 0   A1   A2   A3   A4   A5   C1   C2   C3   C4  ...   N4   N5  \\\n",
              "0       61617  2.0  4.0  3.0  4.0  4.0  2.0  3.0  3.0  4.0  ...  2.0  3.0   \n",
              "1       61618  2.0  4.0  5.0  2.0  5.0  5.0  4.0  4.0  3.0  ...  5.0  5.0   \n",
              "2       61620  5.0  4.0  5.0  4.0  4.0  4.0  5.0  4.0  2.0  ...  2.0  3.0   \n",
              "3       61621  4.0  4.0  6.0  5.0  5.0  4.0  4.0  3.0  5.0  ...  4.0  1.0   \n",
              "4       61622  2.0  3.0  3.0  4.0  5.0  4.0  4.0  5.0  3.0  ...  4.0  3.0   \n",
              "\n",
              "    O1  O2   O3   O4   O5  gender  education  age  \n",
              "0  3.0   6  3.0  4.0  3.0       1        NaN   16  \n",
              "1  4.0   2  4.0  3.0  3.0       2        NaN   18  \n",
              "2  4.0   2  5.0  5.0  2.0       2        NaN   17  \n",
              "3  3.0   3  4.0  3.0  5.0       2        NaN   17  \n",
              "4  3.0   3  4.0  3.0  3.0       1        NaN   17  \n",
              "\n",
              "[5 rows x 29 columns]"
            ]
          },
          "execution_count": 16,
          "metadata": {},
          "output_type": "execute_result"
        }
      ]
    },
    {
      "cell_type": "markdown",
      "metadata": {
        "id": "Z9dut7xXtAFv"
      },
      "source": [
        "Como siempre primero deberemos preprocesar nuestros datos: Notemos que hay una columna llamada `Unnamed:0` que no aporta información, y ciertos datos perdidos."
      ]
    },
    {
      "cell_type": "code",
      "metadata": {
        "id": "l2jI5Zk2tAFv"
      },
      "source": [
        "df = df.drop('Unnamed: 0', axis=1)"
      ],
      "execution_count": null,
      "outputs": []
    },
    {
      "cell_type": "code",
      "metadata": {
        "id": "WE7cNUNetAFv",
        "outputId": "759b2a83-91d0-4c0e-881d-227a595c86ce"
      },
      "source": [
        "plt.figure(figsize=(4,4));\n",
        "msngo.matrix(df);\n",
        "orden = df.isnull().sum()/df.shape[0]*100\n",
        "orden.sort_values(ascending=False)[0:5]"
      ],
      "execution_count": null,
      "outputs": [
        {
          "data": {
            "text/plain": [
              "education    7.964286\n",
              "N4           1.285714\n",
              "N5           1.035714\n",
              "O3           1.000000\n",
              "A2           0.964286\n",
              "dtype: float64"
            ]
          },
          "execution_count": 18,
          "metadata": {},
          "output_type": "execute_result"
        },
        {
          "data": {
            "text/plain": [
              "<Figure size 288x288 with 0 Axes>"
            ]
          },
          "metadata": {},
          "output_type": "display_data"
        },
        {
          "data": {
            "image/png": "[encoded data removed]",
            "text/plain": [
              "<Figure size 1800x720 with 2 Axes>"
            ]
          },
          "metadata": {
            "needs_background": "light"
          },
          "output_type": "display_data"
        }
      ]
    },
    {
      "cell_type": "markdown",
      "metadata": {
        "id": "B71M-5TOtAFv"
      },
      "source": [
        "La variable con mayor casos perdidos es education con un 7.9%, sin embargo esta no entra al análisis factorial, pues solo unificaremos las preguntas del set.\n",
        "\n",
        "Por otro lado las variables con mayor porcentaje de datos perdidos son: N4 (1.2%), N5 (1.03%), O3 (1%) y A2 (0.9%).\n",
        "\n",
        "Eliminaremos todos los datos perdidos para poder utilizar las librerias de python. Pero un buen preprocesamiento debería ser capaz de analizar que hacer con esta información."
      ]
    },
    {
      "cell_type": "code",
      "metadata": {
        "id": "B_LzJhSktAFw"
      },
      "source": [
        "df.dropna(inplace=True)"
      ],
      "execution_count": null,
      "outputs": []
    },
    {
      "cell_type": "markdown",
      "metadata": {
        "id": "UYLoKv2VtAFw"
      },
      "source": [
        "Ahora haremos lo siguiente\n",
        "* Separemos en un nuevo objeto DataFrame la batería de preguntas a extraer.\n",
        "* Reportaremos las medias para cada uno de las preguntas de la batería con un dotplot.\n",
        "* Generemos una matriz de correlaciones con este nuevo objeto y lo visualizaremos con heatmap."
      ]
    },
    {
      "cell_type": "code",
      "metadata": {
        "id": "-QaBiqNjtAFw"
      },
      "source": [
        "df_preg=df.loc[:,'A1':'O5']"
      ],
      "execution_count": null,
      "outputs": []
    },
    {
      "cell_type": "code",
      "metadata": {
        "id": "IJuaWABktAFw",
        "outputId": "f2615ba7-9b7e-44cd-b906-ddea6968c2fa"
      },
      "source": [
        "variable = []\n",
        "media = []\n",
        "plt.figure(figsize=(6,6));\n",
        "for colname, serie in df_preg.iteritems():\n",
        "    variable.append(colname)\n",
        "    media.append(serie.mean())\n",
        "df_medias = pd.DataFrame({'var':variable, 'media':media})#.sort_values(by=['media'])\n",
        "plt.plot(df_medias['media'], df_medias['var'],'o');\n",
        "plt.title('Promedio de puntaje de las preguntas');"
      ],
      "execution_count": null,
      "outputs": [
        {
          "data": {
            "image/png": "[encoded data removed]",
            "text/plain": [
              "<Figure size 432x432 with 1 Axes>"
            ]
          },
          "metadata": {
            "needs_background": "light"
          },
          "output_type": "display_data"
        }
      ]
    },
    {
      "cell_type": "code",
      "metadata": {
        "id": "_eJU3G_OtAFw",
        "outputId": "ee14af12-0ebc-4900-b32e-1466e96ac46d"
      },
      "source": [
        "corr = df_preg.corr()\n",
        "plt.figure(figsize=(8, 6))\n",
        "sns.heatmap(corr, cmap=\"BrBG\", vmin=-1, vmax=1);"
      ],
      "execution_count": null,
      "outputs": [
        {
          "data": {
            "image/png": "[encoded data removed]",
            "text/plain": [
              "<Figure size 576x432 with 2 Axes>"
            ]
          },
          "metadata": {
            "needs_background": "light"
          },
          "output_type": "display_data"
        }
      ]
    },
    {
      "cell_type": "markdown",
      "metadata": {
        "id": "3wmStAqktAFw"
      },
      "source": [
        "Se evidencia una correlación baja en la mayoría de las variables mezcladas, pero se evidencia cierta correlación entre la misma cateogría de variables. Por ejemplo las preguntas \"N\" que estan correlacionadas entre si (llamemosle \"preguntas furia\") y las preguntas A (llamemosle preguntas \"condescendiente\"), también presentan una relación entre sí. Pero las preguntas \"N\" con las \"A\" no presentan altos niveles de correlación"
      ]
    },
    {
      "cell_type": "markdown",
      "metadata": {
        "id": "orfzbOWmtAFx"
      },
      "source": [
        "Ya con nuestro preprocesamiento listo procederemos a la construcción de nuestros análisis factoriales.\n",
        "\n",
        "Antes de iniciar la extracción de factores, debemos inspeccionar los supuestos de la ideonidad de la batería de preguntas para realizar un análisis factorial mediante la prueba de esferacidad de Barlett y Kaiser-Meyer-Olkin. \n",
        "\n",
        "El test de Barlett dice que:\n",
        "\n",
        "$$H_0: \\text{La matriz de correlaciones entre las variables es una matriz identidad}$$\n",
        "$$H_a: \\text{La matriz de correlaciones entre las variables es distinta a una identidad}$$\n"
      ]
    },
    {
      "cell_type": "code",
      "metadata": {
        "id": "Uxms0tP2tAFx",
        "outputId": "a8861e76-6c33-4671-ab6d-2506036d9e0f"
      },
      "source": [
        "factor.calculate_bartlett_sphericity(df_preg)\n",
        "#Nota: Si existe algun NA en la matriz, esta función no sacará resultados"
      ],
      "execution_count": null,
      "outputs": [
        {
          "data": {
            "text/plain": [
              "(16509.6735504972, 0.0)"
            ]
          },
          "execution_count": 23,
          "metadata": {},
          "output_type": "execute_result"
        }
      ]
    },
    {
      "cell_type": "markdown",
      "metadata": {
        "id": "wpjlbgAltAFx"
      },
      "source": [
        "Como su estadístico es muy alto, su valor-p es prácticamente 0. Con ello rechazamos la hipótesis nula en favor de la alternativa. Esto significa que la matriz de correlacion es distinta de la identidad, y con ello tiene sentido buscar relación entre las variables"
      ]
    },
    {
      "cell_type": "markdown",
      "metadata": {
        "id": "EGP9oo54tAFx"
      },
      "source": [
        "De manera adicional a la prueba de Bartlett, podemos medir si las correlaciones parciales\n",
        "dentro de la matriz son cercanas a 0. De ser este el caso, la prueba sugiere la existencia de\n",
        "por lo menos un factor latente dentro de la batería de preguntas.\n",
        "Se puede implementar mediante el método calculate_kmo de la librería factor_analyzer.\n",
        "El método devuelve el puntaje KMO para cada ítem dentro de la batería, así como un puntaje\n",
        "global para todos los items.\n",
        "Se sugiere que para seguir con el análisis factorial, el KMO debe presentar valores\n",
        "superiores a .7"
      ]
    },
    {
      "cell_type": "code",
      "metadata": {
        "id": "yghaMMd7tAFx",
        "outputId": "9113fe74-fb1f-44e2-e40f-ad5a852d9aed"
      },
      "source": [
        "factor.calculate_kmo(df_preg)"
      ],
      "execution_count": null,
      "outputs": [
        {
          "data": {
            "text/plain": [
              "(array([0.73783211, 0.83426339, 0.87158082, 0.87042369, 0.90061871,\n",
              "        0.83810325, 0.78841959, 0.84946345, 0.82364592, 0.86188771,\n",
              "        0.84151427, 0.88389524, 0.89307072, 0.87818653, 0.89404239,\n",
              "        0.7781268 , 0.77845262, 0.86005895, 0.88625489, 0.86049617,\n",
              "        0.85501182, 0.78381059, 0.83374388, 0.78111794, 0.75804877]),\n",
              " 0.8468295031833752)"
            ]
          },
          "execution_count": 24,
          "metadata": {},
          "output_type": "execute_result"
        }
      ]
    },
    {
      "cell_type": "markdown",
      "metadata": {
        "id": "5i16pAretAFx"
      },
      "source": [
        "Todas las variables tienen un KMO mayor a 0.7 y de manera global es de 0.84, por lo que cumple esta condición.\n",
        "\n",
        "Nota: Ante el caso en que encontremos puntajes bajos, la estructura a estimar se puede mejorar al\n",
        "eliminar los ítems con cargas KMO inferiores al puntaje de corte.\n",
        "La eliminación de estos ítems permite liberar la matriz de elementos inestables que\n",
        "dificulten la identificación de los factores a extraer.\n",
        "\n",
        "Ahora veremos cuantos factores deberíamos utilizar. Probaremos con 10 como número aleatorio, y veremos cuantos serían los óptimos"
      ]
    },
    {
      "cell_type": "code",
      "metadata": {
        "id": "P3eqeFChtAFy",
        "outputId": "8c255a68-9661-490b-a66b-d61b7883a358"
      },
      "source": [
        "# Generamos una nueva instancia en el objeto factorize\n",
        "factorize = factor.FactorAnalyzer(n_factors=10)\n",
        "# # Implementamos el análisis\n",
        "factorize.fit(df_preg)\n",
        "# extraemos los eigenvalues\n",
        "factor_screeplot = factorize.get_eigenvalues()[0]\n",
        "# graficamos los eigenvalues contra la cantidad de dimensiones estimables\n",
        "plt.plot(np.arange(1,factor_screeplot.shape[0]+1), factor_screeplot, 'o-',color='red')\n",
        "plt.xlabel('Número de Factor')\n",
        "plt.ylabel('Valores Propios')\n",
        "# visualizamos el criterio de corte\n",
        "plt.axhline(1)\n",
        "plt.title(\"Scree plot\");"
      ],
      "execution_count": null,
      "outputs": [
        {
          "data": {
            "image/png": "[encoded data removed]",
            "text/plain": [
              "<Figure size 432x288 with 1 Axes>"
            ]
          },
          "metadata": {
            "needs_background": "light"
          },
          "output_type": "display_data"
        }
      ]
    },
    {
      "cell_type": "code",
      "metadata": {
        "id": "iH5nu1g-tAFy",
        "outputId": "87448633-0cea-4c52-8412-dc3804217e75"
      },
      "source": [
        "factor_screeplot"
      ],
      "execution_count": null,
      "outputs": [
        {
          "data": {
            "text/plain": [
              "array([5.06851622, 2.7624793 , 2.152623  , 1.89233295, 1.51753291,\n",
              "       1.07882932, 0.83090573, 0.80450025, 0.7140883 , 0.7015381 ,\n",
              "       0.6808421 , 0.64897347, 0.63125633, 0.58803197, 0.5659652 ,\n",
              "       0.54483958, 0.51993349, 0.49386855, 0.48273618, 0.44250032,\n",
              "       0.42887063, 0.40709741, 0.38887531, 0.38476259, 0.2681008 ])"
            ]
          },
          "execution_count": 26,
          "metadata": {},
          "output_type": "execute_result"
        }
      ]
    },
    {
      "cell_type": "markdown",
      "metadata": {
        "id": "xd4fhlRstAFy"
      },
      "source": [
        "A modo de guía: Un factor con valor propio de exactamente 1 significa que ese factor\n",
        "explica una parte de la varianza igual a la de una variable, de forma análoga, un factor con\n",
        "valor propio mayor/menor a 1 explica una varianza total mayor/menor a la de una sola\n",
        "variable.\n",
        "La convención indica que se deben preservar todos los factores con eigenvalues mayores a 1. De esta forma maximizamos la cantidad de varianza explicada por la matriz. Los\n",
        "resultados indican que hay 2 dimensiones sustanciales.\n",
        "\n",
        "En este caso los primeros 6 tienen un valor mayor a 1, pero el sexto factor tiene un valor de 1.07, por lo que por razones expositivas lo sacaremos para simplificar los factores latentes"
      ]
    },
    {
      "cell_type": "code",
      "metadata": {
        "id": "33yZvypmtAFy",
        "outputId": "28057496-9adf-4711-bbdb-39c77fbb2dd0"
      },
      "source": [
        "factorize2 = factor.FactorAnalyzer(n_factors=5,rotation='varimax')\n",
        "factorize2.fit(df_preg)"
      ],
      "execution_count": null,
      "outputs": [
        {
          "data": {
            "text/plain": [
              "FactorAnalyzer(n_factors=5, rotation='varimax', rotation_kwargs={})"
            ]
          },
          "execution_count": 27,
          "metadata": {},
          "output_type": "execute_result"
        }
      ]
    },
    {
      "cell_type": "code",
      "metadata": {
        "id": "OfrQaEBltAFy",
        "outputId": "4e80f2b4-966b-4892-d237-c26ca8b220cf"
      },
      "source": [
        "# Extraemos los factores latentes\n",
        "factor_loadings = factorize2.loadings_\n",
        "# Pondremos todo en un df para una visualización más facil\n",
        "loadings_df = pd.DataFrame(factor_loadings,\n",
        "                           columns=['Factor1','Factor2','Factor3','Factor4','Factor5'],\n",
        "                           index=df_preg.columns)\n",
        "\n",
        "# Eliminaremos todas las cargas menores a 4.\n",
        "#La lógica de excluir cargas menores es limpiar cargas bajas con cada factor y simplificar la estructura\n",
        "loadings_df.applymap(lambda x: np.where(x < .4, ' ', round(x, 2)))"
      ],
      "execution_count": null,
      "outputs": [
        {
          "data": {
            "text/html": [
              "<div>\n",
              "<style scoped>\n",
              "    .dataframe tbody tr th:only-of-type {\n",
              "        vertical-align: middle;\n",
              "    }\n",
              "\n",
              "    .dataframe tbody tr th {\n",
              "        vertical-align: top;\n",
              "    }\n",
              "\n",
              "    .dataframe thead th {\n",
              "        text-align: right;\n",
              "    }\n",
              "</style>\n",
              "<table border=\"1\" class=\"dataframe\">\n",
              "  <thead>\n",
              "    <tr style=\"text-align: right;\">\n",
              "      <th></th>\n",
              "      <th>Factor1</th>\n",
              "      <th>Factor2</th>\n",
              "      <th>Factor3</th>\n",
              "      <th>Factor4</th>\n",
              "      <th>Factor5</th>\n",
              "    </tr>\n",
              "  </thead>\n",
              "  <tbody>\n",
              "    <tr>\n",
              "      <th>A1</th>\n",
              "      <td></td>\n",
              "      <td></td>\n",
              "      <td></td>\n",
              "      <td></td>\n",
              "      <td></td>\n",
              "    </tr>\n",
              "    <tr>\n",
              "      <th>A2</th>\n",
              "      <td></td>\n",
              "      <td></td>\n",
              "      <td></td>\n",
              "      <td>0.61</td>\n",
              "      <td></td>\n",
              "    </tr>\n",
              "    <tr>\n",
              "      <th>A3</th>\n",
              "      <td></td>\n",
              "      <td></td>\n",
              "      <td></td>\n",
              "      <td>0.64</td>\n",
              "      <td></td>\n",
              "    </tr>\n",
              "    <tr>\n",
              "      <th>A4</th>\n",
              "      <td></td>\n",
              "      <td></td>\n",
              "      <td></td>\n",
              "      <td>0.43</td>\n",
              "      <td></td>\n",
              "    </tr>\n",
              "    <tr>\n",
              "      <th>A5</th>\n",
              "      <td></td>\n",
              "      <td></td>\n",
              "      <td></td>\n",
              "      <td>0.53</td>\n",
              "      <td></td>\n",
              "    </tr>\n",
              "    <tr>\n",
              "      <th>C1</th>\n",
              "      <td></td>\n",
              "      <td></td>\n",
              "      <td>0.54</td>\n",
              "      <td></td>\n",
              "      <td></td>\n",
              "    </tr>\n",
              "    <tr>\n",
              "      <th>C2</th>\n",
              "      <td></td>\n",
              "      <td></td>\n",
              "      <td>0.64</td>\n",
              "      <td></td>\n",
              "      <td></td>\n",
              "    </tr>\n",
              "    <tr>\n",
              "      <th>C3</th>\n",
              "      <td></td>\n",
              "      <td></td>\n",
              "      <td>0.56</td>\n",
              "      <td></td>\n",
              "      <td></td>\n",
              "    </tr>\n",
              "    <tr>\n",
              "      <th>C4</th>\n",
              "      <td></td>\n",
              "      <td></td>\n",
              "      <td></td>\n",
              "      <td></td>\n",
              "      <td></td>\n",
              "    </tr>\n",
              "    <tr>\n",
              "      <th>C5</th>\n",
              "      <td></td>\n",
              "      <td></td>\n",
              "      <td></td>\n",
              "      <td></td>\n",
              "      <td></td>\n",
              "    </tr>\n",
              "    <tr>\n",
              "      <th>E1</th>\n",
              "      <td></td>\n",
              "      <td></td>\n",
              "      <td></td>\n",
              "      <td></td>\n",
              "      <td></td>\n",
              "    </tr>\n",
              "    <tr>\n",
              "      <th>E2</th>\n",
              "      <td></td>\n",
              "      <td></td>\n",
              "      <td></td>\n",
              "      <td></td>\n",
              "      <td></td>\n",
              "    </tr>\n",
              "    <tr>\n",
              "      <th>E3</th>\n",
              "      <td></td>\n",
              "      <td>0.55</td>\n",
              "      <td></td>\n",
              "      <td></td>\n",
              "      <td></td>\n",
              "    </tr>\n",
              "    <tr>\n",
              "      <th>E4</th>\n",
              "      <td></td>\n",
              "      <td>0.64</td>\n",
              "      <td></td>\n",
              "      <td></td>\n",
              "      <td></td>\n",
              "    </tr>\n",
              "    <tr>\n",
              "      <th>E5</th>\n",
              "      <td></td>\n",
              "      <td>0.51</td>\n",
              "      <td></td>\n",
              "      <td></td>\n",
              "      <td></td>\n",
              "    </tr>\n",
              "    <tr>\n",
              "      <th>N1</th>\n",
              "      <td>0.79</td>\n",
              "      <td></td>\n",
              "      <td></td>\n",
              "      <td></td>\n",
              "      <td></td>\n",
              "    </tr>\n",
              "    <tr>\n",
              "      <th>N2</th>\n",
              "      <td>0.75</td>\n",
              "      <td></td>\n",
              "      <td></td>\n",
              "      <td></td>\n",
              "      <td></td>\n",
              "    </tr>\n",
              "    <tr>\n",
              "      <th>N3</th>\n",
              "      <td>0.73</td>\n",
              "      <td></td>\n",
              "      <td></td>\n",
              "      <td></td>\n",
              "      <td></td>\n",
              "    </tr>\n",
              "    <tr>\n",
              "      <th>N4</th>\n",
              "      <td>0.59</td>\n",
              "      <td></td>\n",
              "      <td></td>\n",
              "      <td></td>\n",
              "      <td></td>\n",
              "    </tr>\n",
              "    <tr>\n",
              "      <th>N5</th>\n",
              "      <td>0.54</td>\n",
              "      <td></td>\n",
              "      <td></td>\n",
              "      <td></td>\n",
              "      <td></td>\n",
              "    </tr>\n",
              "    <tr>\n",
              "      <th>O1</th>\n",
              "      <td></td>\n",
              "      <td></td>\n",
              "      <td></td>\n",
              "      <td></td>\n",
              "      <td>0.5</td>\n",
              "    </tr>\n",
              "    <tr>\n",
              "      <th>O2</th>\n",
              "      <td></td>\n",
              "      <td></td>\n",
              "      <td></td>\n",
              "      <td></td>\n",
              "      <td></td>\n",
              "    </tr>\n",
              "    <tr>\n",
              "      <th>O3</th>\n",
              "      <td></td>\n",
              "      <td></td>\n",
              "      <td></td>\n",
              "      <td></td>\n",
              "      <td>0.6</td>\n",
              "    </tr>\n",
              "    <tr>\n",
              "      <th>O4</th>\n",
              "      <td></td>\n",
              "      <td></td>\n",
              "      <td></td>\n",
              "      <td></td>\n",
              "      <td></td>\n",
              "    </tr>\n",
              "    <tr>\n",
              "      <th>O5</th>\n",
              "      <td></td>\n",
              "      <td></td>\n",
              "      <td></td>\n",
              "      <td></td>\n",
              "      <td></td>\n",
              "    </tr>\n",
              "  </tbody>\n",
              "</table>\n",
              "</div>"
            ],
            "text/plain": [
              "   Factor1 Factor2 Factor3 Factor4 Factor5\n",
              "A1                                        \n",
              "A2                            0.61        \n",
              "A3                            0.64        \n",
              "A4                            0.43        \n",
              "A5                            0.53        \n",
              "C1                    0.54                \n",
              "C2                    0.64                \n",
              "C3                    0.56                \n",
              "C4                                        \n",
              "C5                                        \n",
              "E1                                        \n",
              "E2                                        \n",
              "E3            0.55                        \n",
              "E4            0.64                        \n",
              "E5            0.51                        \n",
              "N1    0.79                                \n",
              "N2    0.75                                \n",
              "N3    0.73                                \n",
              "N4    0.59                                \n",
              "N5    0.54                                \n",
              "O1                                     0.5\n",
              "O2                                        \n",
              "O3                                     0.6\n",
              "O4                                        \n",
              "O5                                        "
            ]
          },
          "execution_count": 28,
          "metadata": {},
          "output_type": "execute_result"
        }
      ]
    },
    {
      "cell_type": "markdown",
      "metadata": {
        "id": "naPGyVi3tAFy"
      },
      "source": [
        "Claramente los factores están muy asociados a las preguntas: simplemente se podria llamar al Factor1: preguntas N, al Factor2, preguntas E, etc. Unos nombres más interesantes podrían ser:\n",
        "\n",
        "    * Factor 1: Emociones_ira_pena\n",
        "    * Factor 2: Capacidad_social\n",
        "    * Factor 3: Pulcritud\n",
        "    * Factor 4: Condescendencia\n",
        "    * Factor 5: Creatividad_y_Debate"
      ]
    },
    {
      "cell_type": "code",
      "metadata": {
        "id": "Xfx0LYAvtAFy",
        "outputId": "cda6093d-38e4-482b-8e2b-5205362e6727"
      },
      "source": [
        "factorize2.get_factor_variance() # explicación de la varianza"
      ],
      "execution_count": null,
      "outputs": [
        {
          "data": {
            "text/plain": [
              "(array([2.70513484, 2.48655429, 2.01707544, 1.79406324, 1.53926418]),\n",
              " array([0.10820539, 0.09946217, 0.08068302, 0.07176253, 0.06157057]),\n",
              " array([0.10820539, 0.20766757, 0.28835058, 0.36011311, 0.42168368]))"
            ]
          },
          "execution_count": 29,
          "metadata": {},
          "output_type": "execute_result"
        }
      ]
    },
    {
      "cell_type": "markdown",
      "metadata": {
        "id": "MdbQZo-TtAFz"
      },
      "source": [
        "Analicemos lo que tenemos hasta ahora:\n",
        "\n",
        "df_preg tiene dimensiones 25$x$2236, que sería el set de datos original con sus variables que serán factorizadas, sin las demograficas.\n",
        "\n",
        "Por su parte, las dimensiones de factor loadings son de 5$x$25 que son los factores creados en columna, por las variables explicadas en fila.\n",
        "\n",
        "Con lo anterior, la multiplicación de ambos sería de 5$x$25 * 25$x$2236, es decir:\n",
        "\n",
        "Se multiplica factor_loadings por df_preg y se obtiene un df con los factores asociados a las filas"
      ]
    },
    {
      "cell_type": "code",
      "metadata": {
        "id": "qvkQfyMLtAFz"
      },
      "source": [
        "df_factores = factorize2.transform(df_preg)"
      ],
      "execution_count": null,
      "outputs": []
    },
    {
      "cell_type": "code",
      "metadata": {
        "id": "EfFlRk8-tAFz",
        "outputId": "60471d5e-0cae-402c-b578-565cdd47e798"
      },
      "source": [
        "df_factores=pd.DataFrame(df_factores)\n",
        "df_factores.columns = ['Emociones_ira_pena', 'Capacidad_social', 'Pulcritud', 'Condescendencia', 'Creatividad_y_Debate']\n",
        "df_factores.head(4)"
      ],
      "execution_count": null,
      "outputs": [
        {
          "data": {
            "text/html": [
              "<div>\n",
              "<style scoped>\n",
              "    .dataframe tbody tr th:only-of-type {\n",
              "        vertical-align: middle;\n",
              "    }\n",
              "\n",
              "    .dataframe tbody tr th {\n",
              "        vertical-align: top;\n",
              "    }\n",
              "\n",
              "    .dataframe thead th {\n",
              "        text-align: right;\n",
              "    }\n",
              "</style>\n",
              "<table border=\"1\" class=\"dataframe\">\n",
              "  <thead>\n",
              "    <tr style=\"text-align: right;\">\n",
              "      <th></th>\n",
              "      <th>Emociones_ira_pena</th>\n",
              "      <th>Capacidad_social</th>\n",
              "      <th>Pulcritud</th>\n",
              "      <th>Condescendencia</th>\n",
              "      <th>Creatividad_y_Debate</th>\n",
              "    </tr>\n",
              "  </thead>\n",
              "  <tbody>\n",
              "    <tr>\n",
              "      <th>0</th>\n",
              "      <td>0.241795</td>\n",
              "      <td>1.090388</td>\n",
              "      <td>1.289563</td>\n",
              "      <td>-0.143249</td>\n",
              "      <td>0.263421</td>\n",
              "    </tr>\n",
              "    <tr>\n",
              "      <th>1</th>\n",
              "      <td>0.386986</td>\n",
              "      <td>-1.303600</td>\n",
              "      <td>-0.788692</td>\n",
              "      <td>-1.919132</td>\n",
              "      <td>-0.404143</td>\n",
              "    </tr>\n",
              "    <tr>\n",
              "      <th>2</th>\n",
              "      <td>-0.155849</td>\n",
              "      <td>0.272835</td>\n",
              "      <td>-0.219292</td>\n",
              "      <td>-0.102257</td>\n",
              "      <td>-0.336266</td>\n",
              "    </tr>\n",
              "    <tr>\n",
              "      <th>3</th>\n",
              "      <td>-0.434364</td>\n",
              "      <td>0.023121</td>\n",
              "      <td>0.709011</td>\n",
              "      <td>-1.698283</td>\n",
              "      <td>-0.261523</td>\n",
              "    </tr>\n",
              "  </tbody>\n",
              "</table>\n",
              "</div>"
            ],
            "text/plain": [
              "   Emociones_ira_pena  Capacidad_social  Pulcritud  Condescendencia  \\\n",
              "0            0.241795          1.090388   1.289563        -0.143249   \n",
              "1            0.386986         -1.303600  -0.788692        -1.919132   \n",
              "2           -0.155849          0.272835  -0.219292        -0.102257   \n",
              "3           -0.434364          0.023121   0.709011        -1.698283   \n",
              "\n",
              "   Creatividad_y_Debate  \n",
              "0              0.263421  \n",
              "1             -0.404143  \n",
              "2             -0.336266  \n",
              "3             -0.261523  "
            ]
          },
          "execution_count": 31,
          "metadata": {},
          "output_type": "execute_result"
        }
      ]
    },
    {
      "cell_type": "markdown",
      "metadata": {
        "id": "TxFoC5ektAFz"
      },
      "source": [
        "Finalmente le agregamos las columnas que habiamos eliminado:"
      ]
    },
    {
      "cell_type": "code",
      "metadata": {
        "id": "m0UKWejKtAFz"
      },
      "source": [
        "#esto lo hago pues usaremos concat que genera filas nuevas por tratar de preservar los indices de los datos anteriores a borrar los missing\n",
        "df_factores=df_factores.reset_index(drop=True)\n",
        "df=df.reset_index(drop=True)"
      ],
      "execution_count": null,
      "outputs": []
    },
    {
      "cell_type": "code",
      "metadata": {
        "id": "1-dzGg9KtAFz",
        "outputId": "70bf3d3b-4bbb-4bae-a75d-7081dbeee90b"
      },
      "source": [
        "df_factores=pd.concat([df_factores,  df['gender'],df['education'],df['age']], axis=1)\n",
        "df_factores.columns = ['Emociones_ira_pena', 'Capacidad_social', 'Pulcritud', 'Condescendencia', \n",
        "                      'Creatividad_y_Debate','Género','Educacion','Edad']\n",
        "df_factores.head(2)"
      ],
      "execution_count": null,
      "outputs": [
        {
          "data": {
            "text/html": [
              "<div>\n",
              "<style scoped>\n",
              "    .dataframe tbody tr th:only-of-type {\n",
              "        vertical-align: middle;\n",
              "    }\n",
              "\n",
              "    .dataframe tbody tr th {\n",
              "        vertical-align: top;\n",
              "    }\n",
              "\n",
              "    .dataframe thead th {\n",
              "        text-align: right;\n",
              "    }\n",
              "</style>\n",
              "<table border=\"1\" class=\"dataframe\">\n",
              "  <thead>\n",
              "    <tr style=\"text-align: right;\">\n",
              "      <th></th>\n",
              "      <th>Emociones_ira_pena</th>\n",
              "      <th>Capacidad_social</th>\n",
              "      <th>Pulcritud</th>\n",
              "      <th>Condescendencia</th>\n",
              "      <th>Creatividad_y_Debate</th>\n",
              "      <th>Género</th>\n",
              "      <th>Educacion</th>\n",
              "      <th>Edad</th>\n",
              "    </tr>\n",
              "  </thead>\n",
              "  <tbody>\n",
              "    <tr>\n",
              "      <th>0</th>\n",
              "      <td>0.241795</td>\n",
              "      <td>1.090388</td>\n",
              "      <td>1.289563</td>\n",
              "      <td>-0.143249</td>\n",
              "      <td>0.263421</td>\n",
              "      <td>2</td>\n",
              "      <td>3.0</td>\n",
              "      <td>21</td>\n",
              "    </tr>\n",
              "    <tr>\n",
              "      <th>1</th>\n",
              "      <td>0.386986</td>\n",
              "      <td>-1.303600</td>\n",
              "      <td>-0.788692</td>\n",
              "      <td>-1.919132</td>\n",
              "      <td>-0.404143</td>\n",
              "      <td>1</td>\n",
              "      <td>2.0</td>\n",
              "      <td>19</td>\n",
              "    </tr>\n",
              "  </tbody>\n",
              "</table>\n",
              "</div>"
            ],
            "text/plain": [
              "   Emociones_ira_pena  Capacidad_social  Pulcritud  Condescendencia  \\\n",
              "0            0.241795          1.090388   1.289563        -0.143249   \n",
              "1            0.386986         -1.303600  -0.788692        -1.919132   \n",
              "\n",
              "   Creatividad_y_Debate  Género  Educacion  Edad  \n",
              "0              0.263421       2        3.0    21  \n",
              "1             -0.404143       1        2.0    19  "
            ]
          },
          "execution_count": 33,
          "metadata": {},
          "output_type": "execute_result"
        }
      ]
    },
    {
      "cell_type": "code",
      "metadata": {
        "id": "qjtJCUbDtAFz",
        "outputId": "6b64e734-c65c-496d-a71d-67c426a65d6f"
      },
      "source": [
        "display(df_factores.shape)"
      ],
      "execution_count": null,
      "outputs": [
        {
          "data": {
            "text/plain": [
              "(2236, 8)"
            ]
          },
          "metadata": {},
          "output_type": "display_data"
        }
      ]
    },
    {
      "cell_type": "markdown",
      "metadata": {
        "id": "m19e65IHtAFz"
      },
      "source": [
        "# Ejercicios"
      ]
    },
    {
      "cell_type": "markdown",
      "metadata": {
        "id": "fSeaZBiXtAFz"
      },
      "source": [
        "La base de datos *House_price.csv* contiene información de casas. La idea es obtener un modelo que permita predecir el valor de venta de una casa. Las variables son las siguientes:\n",
        "\n",
        "- LotFrontage: Pies lineales de calle conectados a la propiedad\n",
        "- LotArea: Tamaño del lote en pies cuadrados\n",
        "- MasVnrArea: Área de revestimiento de mampostería en pies cuadrados\n",
        "- BsmtFinSF1: Pies cuadrados del sótano terminados tipo 1\n",
        "- BsmtFinSF2: Pies cuadrados con del sótano acabados tipo 2\n",
        "- BsmtUnfSF: Pies cuadrados sin terminar de área del sótano\n",
        "- TotalBsmtSF: Total de pies cuadrados de área del sótano\n",
        "- 1stFlrSF: Pies cuadrados del primer piso\n",
        "- 2ndFlrSF: Pies cuadrados del segundo piso\n",
        "- LowQualFinSF: Pies cuadrados con acabado de baja calidad (todos los pisos)\n",
        "- GrLivArea: Pies cuadrados de área habitable sobre el nivel (suelo)\n",
        "- GarageArea: Tamaño del garaje en pies cuadrados\n",
        "- WoodDeckSF: Área de la plataforma de madera en pies cuadrados\n",
        "- OpenPorchSF: Área del porche abierto en pies cuadrados\n",
        "- EnclosedPorch: Área del porche cerrado en pies cuadrados\n",
        "- 3SsnPorch: área de porche de tres estaciones en pies cuadrados\n",
        "- ScreenPorch: Área del porche de la pantalla en pies cuadrados\n",
        "- PoolArea: Área de la piscina en pies cuadrados\n",
        "- MiscVal: Valor de la función miscelánea\n"
      ]
    },
    {
      "cell_type": "markdown",
      "metadata": {
        "id": "gxjRZ3tItAF0"
      },
      "source": [
        "- SalePrice: el precio de venta de la propiedad en dólares. Esta es la variable objetivo que se quiere modelar."
      ]
    },
    {
      "cell_type": "markdown",
      "metadata": {
        "id": "0bzYL-9LtAF0"
      },
      "source": [
        "a) Cargue la base de datos, ¿hay alguna columna que no sea útil para el análisis?. Revise si existen casos faltantes en la base de datos, según la descripción de las variables, ¿qué pudiera significar un NA? Tome decisiones de qué hacer si existen casos faltantes. Si desea imputar los valores nulos de alguna variable por un valor puede utilizar data[\"columna\"].fillna('valor', inplace = True)."
      ]
    },
    {
      "cell_type": "code",
      "metadata": {
        "colab": {
          "base_uri": "https://localhost:8080/",
          "height": 258
        },
        "id": "tDpod6yS0dwC",
        "outputId": "c5ce290c-c619-412d-d417-d9b3b6c90597"
      },
      "source": [
        "df = pd.read_csv(\"https://raw.githubusercontent.com/Vngel0/Python_UC/main/House_price.csv\", delimiter=\";\", index_col=0)\n",
        "df.head()"
      ],
      "execution_count": 11,
      "outputs": [
        {
          "output_type": "execute_result",
          "data": {
            "text/html": [
              "<div>\n",
              "<style scoped>\n",
              "    .dataframe tbody tr th:only-of-type {\n",
              "        vertical-align: middle;\n",
              "    }\n",
              "\n",
              "    .dataframe tbody tr th {\n",
              "        vertical-align: top;\n",
              "    }\n",
              "\n",
              "    .dataframe thead th {\n",
              "        text-align: right;\n",
              "    }\n",
              "</style>\n",
              "<table border=\"1\" class=\"dataframe\">\n",
              "  <thead>\n",
              "    <tr style=\"text-align: right;\">\n",
              "      <th></th>\n",
              "      <th>LotFrontage</th>\n",
              "      <th>LotArea</th>\n",
              "      <th>MasVnrArea</th>\n",
              "      <th>BsmtFinSF1</th>\n",
              "      <th>BsmtFinSF2</th>\n",
              "      <th>BsmtUnfSF</th>\n",
              "      <th>TotalBsmtSF</th>\n",
              "      <th>1stFlrSF</th>\n",
              "      <th>2ndFlrSF</th>\n",
              "      <th>LowQualFinSF</th>\n",
              "      <th>GrLivArea</th>\n",
              "      <th>GarageArea</th>\n",
              "      <th>WoodDeckSF</th>\n",
              "      <th>OpenPorchSF</th>\n",
              "      <th>EnclosedPorch</th>\n",
              "      <th>3SsnPorch</th>\n",
              "      <th>ScreenPorch</th>\n",
              "      <th>PoolArea</th>\n",
              "      <th>MiscVal</th>\n",
              "      <th>SalePrice</th>\n",
              "    </tr>\n",
              "    <tr>\n",
              "      <th>Id</th>\n",
              "      <th></th>\n",
              "      <th></th>\n",
              "      <th></th>\n",
              "      <th></th>\n",
              "      <th></th>\n",
              "      <th></th>\n",
              "      <th></th>\n",
              "      <th></th>\n",
              "      <th></th>\n",
              "      <th></th>\n",
              "      <th></th>\n",
              "      <th></th>\n",
              "      <th></th>\n",
              "      <th></th>\n",
              "      <th></th>\n",
              "      <th></th>\n",
              "      <th></th>\n",
              "      <th></th>\n",
              "      <th></th>\n",
              "      <th></th>\n",
              "    </tr>\n",
              "  </thead>\n",
              "  <tbody>\n",
              "    <tr>\n",
              "      <th>1</th>\n",
              "      <td>65.0</td>\n",
              "      <td>8450</td>\n",
              "      <td>196.0</td>\n",
              "      <td>706</td>\n",
              "      <td>0</td>\n",
              "      <td>150</td>\n",
              "      <td>856</td>\n",
              "      <td>856</td>\n",
              "      <td>854</td>\n",
              "      <td>0</td>\n",
              "      <td>1710</td>\n",
              "      <td>548</td>\n",
              "      <td>0</td>\n",
              "      <td>61</td>\n",
              "      <td>0</td>\n",
              "      <td>0</td>\n",
              "      <td>0</td>\n",
              "      <td>0</td>\n",
              "      <td>0</td>\n",
              "      <td>208500</td>\n",
              "    </tr>\n",
              "    <tr>\n",
              "      <th>2</th>\n",
              "      <td>80.0</td>\n",
              "      <td>9600</td>\n",
              "      <td>0.0</td>\n",
              "      <td>978</td>\n",
              "      <td>0</td>\n",
              "      <td>284</td>\n",
              "      <td>1262</td>\n",
              "      <td>1262</td>\n",
              "      <td>0</td>\n",
              "      <td>0</td>\n",
              "      <td>1262</td>\n",
              "      <td>460</td>\n",
              "      <td>298</td>\n",
              "      <td>0</td>\n",
              "      <td>0</td>\n",
              "      <td>0</td>\n",
              "      <td>0</td>\n",
              "      <td>0</td>\n",
              "      <td>0</td>\n",
              "      <td>181500</td>\n",
              "    </tr>\n",
              "    <tr>\n",
              "      <th>3</th>\n",
              "      <td>68.0</td>\n",
              "      <td>11250</td>\n",
              "      <td>162.0</td>\n",
              "      <td>486</td>\n",
              "      <td>0</td>\n",
              "      <td>434</td>\n",
              "      <td>920</td>\n",
              "      <td>920</td>\n",
              "      <td>866</td>\n",
              "      <td>0</td>\n",
              "      <td>1786</td>\n",
              "      <td>608</td>\n",
              "      <td>0</td>\n",
              "      <td>42</td>\n",
              "      <td>0</td>\n",
              "      <td>0</td>\n",
              "      <td>0</td>\n",
              "      <td>0</td>\n",
              "      <td>0</td>\n",
              "      <td>223500</td>\n",
              "    </tr>\n",
              "    <tr>\n",
              "      <th>4</th>\n",
              "      <td>60.0</td>\n",
              "      <td>9550</td>\n",
              "      <td>0.0</td>\n",
              "      <td>216</td>\n",
              "      <td>0</td>\n",
              "      <td>540</td>\n",
              "      <td>756</td>\n",
              "      <td>961</td>\n",
              "      <td>756</td>\n",
              "      <td>0</td>\n",
              "      <td>1717</td>\n",
              "      <td>642</td>\n",
              "      <td>0</td>\n",
              "      <td>35</td>\n",
              "      <td>272</td>\n",
              "      <td>0</td>\n",
              "      <td>0</td>\n",
              "      <td>0</td>\n",
              "      <td>0</td>\n",
              "      <td>140000</td>\n",
              "    </tr>\n",
              "    <tr>\n",
              "      <th>5</th>\n",
              "      <td>84.0</td>\n",
              "      <td>14260</td>\n",
              "      <td>350.0</td>\n",
              "      <td>655</td>\n",
              "      <td>0</td>\n",
              "      <td>490</td>\n",
              "      <td>1145</td>\n",
              "      <td>1145</td>\n",
              "      <td>1053</td>\n",
              "      <td>0</td>\n",
              "      <td>2198</td>\n",
              "      <td>836</td>\n",
              "      <td>192</td>\n",
              "      <td>84</td>\n",
              "      <td>0</td>\n",
              "      <td>0</td>\n",
              "      <td>0</td>\n",
              "      <td>0</td>\n",
              "      <td>0</td>\n",
              "      <td>250000</td>\n",
              "    </tr>\n",
              "  </tbody>\n",
              "</table>\n",
              "</div>"
            ],
            "text/plain": [
              "    LotFrontage  LotArea  MasVnrArea  ...  PoolArea  MiscVal  SalePrice\n",
              "Id                                    ...                              \n",
              "1          65.0     8450       196.0  ...         0        0     208500\n",
              "2          80.0     9600         0.0  ...         0        0     181500\n",
              "3          68.0    11250       162.0  ...         0        0     223500\n",
              "4          60.0     9550         0.0  ...         0        0     140000\n",
              "5          84.0    14260       350.0  ...         0        0     250000\n",
              "\n",
              "[5 rows x 20 columns]"
            ]
          },
          "metadata": {},
          "execution_count": 11
        }
      ]
    },
    {
      "cell_type": "code",
      "metadata": {
        "colab": {
          "base_uri": "https://localhost:8080/",
          "height": 703
        },
        "id": "NmamcVXG0hXj",
        "outputId": "53e4ec1b-9ade-4b7c-c6b3-1ad72b2cb0b4"
      },
      "source": [
        "import missingno as msngo\n",
        "msngo.matrix(df)"
      ],
      "execution_count": 10,
      "outputs": [
        {
          "output_type": "execute_result",
          "data": {
            "text/plain": [
              "<matplotlib.axes._subplots.AxesSubplot at 0x7fb58b7a33d0>"
            ]
          },
          "metadata": {},
          "execution_count": 10
        },
        {
          "output_type": "display_data",
          "data": {
            "image/png": "[encoded data removed]",
            "text/plain": [
              "<Figure size 1800x720 with 2 Axes>"
            ]
          },
          "metadata": {
            "needs_background": "light"
          }
        }
      ]
    },
    {
      "cell_type": "code",
      "metadata": {
        "id": "8zcmxdzE1Vn1"
      },
      "source": [
        "#LotFrontage eliminar por masividad en na\n",
        "#MasVnrArea reemplazar por 0\n",
        "df = df.drop(columns = \"LotFrontage\")\n",
        "df.MasVnrArea.fillna(0, inplace = True)"
      ],
      "execution_count": 13,
      "outputs": []
    },
    {
      "cell_type": "code",
      "metadata": {
        "colab": {
          "base_uri": "https://localhost:8080/",
          "height": 703
        },
        "id": "03LmQbtZ2gL2",
        "outputId": "373b9e41-f2a4-4f00-de63-e97da7457ebd"
      },
      "source": [
        "msngo.matrix(df)"
      ],
      "execution_count": 14,
      "outputs": [
        {
          "output_type": "execute_result",
          "data": {
            "text/plain": [
              "<matplotlib.axes._subplots.AxesSubplot at 0x7fb57c600c10>"
            ]
          },
          "metadata": {},
          "execution_count": 14
        },
        {
          "output_type": "display_data",
          "data": {
            "image/png": "[encoded data removed]",
            "text/plain": [
              "<Figure size 1800x720 with 2 Axes>"
            ]
          },
          "metadata": {
            "needs_background": "light"
          }
        }
      ]
    },
    {
      "cell_type": "markdown",
      "metadata": {
        "id": "Ev66unketAF1"
      },
      "source": [
        "b) La variable a modelar corresponde al precio de venta de la casa en dólares. En base a los modelos que hemos aprendido en clases, ¿qué modelo(s) podría(n) ser de utilidad para predecir el precio de venta de casas mediante las variables predictoras?"
      ]
    },
    {
      "cell_type": "code",
      "metadata": {
        "id": "ro7wn4-srb3A"
      },
      "source": [
        "#Modelo de regresión\n",
        "#Modelo RandomForest"
      ],
      "execution_count": 5,
      "outputs": []
    },
    {
      "cell_type": "markdown",
      "metadata": {
        "id": "UAUit7B1tAF2"
      },
      "source": [
        "c) Vamos a implementar un modelo de regresión lineal para modelar el precio de venta de casas. Considerando que en la base de datos tenemos varias variables que dependen de otras, ¿cuál pudiera ser el problema que surgiría en este contexto? ¿por qué esto es un problema? Discuta."
      ]
    },
    {
      "cell_type": "code",
      "metadata": {
        "id": "Dvlz5KC6rb3C"
      },
      "source": [
        "#La correlación entre variables"
      ],
      "execution_count": null,
      "outputs": []
    },
    {
      "cell_type": "markdown",
      "metadata": {
        "id": "NYnZqOzitAF2"
      },
      "source": [
        "d) Realice un análisis de la correlación entre las variables. Comente, ¿existen variables muy correlacionadas entre sí? ¿Por qué cree que ocurre?"
      ]
    },
    {
      "cell_type": "code",
      "metadata": {
        "colab": {
          "base_uri": "https://localhost:8080/",
          "height": 440
        },
        "id": "nkkD4JkYrb3E",
        "outputId": "088da10c-1529-4e03-dc00-2c08a45c9093"
      },
      "source": [
        "import seaborn as sns\n",
        "corr = df.corr()\n",
        "plt.figure(figsize=(8, 6))\n",
        "sns.heatmap(corr, cmap=\"BrBG\", vmin=-1, vmax=1);\n",
        "#Se logra apreciar una relacion entre: 1stFlrSF y TotalBsmtSf; BsmtFinSF1 y BsmtUnfSF; GrLivArea y 2ndFlrSF"
      ],
      "execution_count": 18,
      "outputs": [
        {
          "output_type": "display_data",
          "data": {
            "image/png": "[encoded data removed]",
            "text/plain": [
              "<Figure size 576x432 with 2 Axes>"
            ]
          },
          "metadata": {
            "needs_background": "light"
          }
        }
      ]
    },
    {
      "cell_type": "markdown",
      "metadata": {
        "id": "OcLDsOT0tAF3"
      },
      "source": [
        "e) Suponga que este es un problema de gran volumen, donde tenemos muchas columnas y registros. Cuando existen variables muy correlacionadas el costo computacional para obtener el modelo puede ser muy elevado. Obtenga el tiempo de procesamiento para obtener una regresión lineal. Para esto, podemos obtener la regresión lineal utilizando la función LinearRegression de sklearn.linear_model y calcular el tiempo de procesamiento de la siguiente forma:\n",
        "\n",
        "```\n",
        "from datetime import datetime\n",
        "start=datetime.now()\n",
        "\n",
        " [aquí va el código del modelo]\n",
        "\n",
        "print(datetime.now()-start)   #esto entrega el tiempo que demoró en correr el modelo.\n",
        "```\n"
      ]
    },
    {
      "cell_type": "code",
      "metadata": {
        "id": "7RUM5IQJ6Wo7"
      },
      "source": [
        "X = df.drop(columns = \"SalePrice\")\n",
        "y = df.SalePrice"
      ],
      "execution_count": 54,
      "outputs": []
    },
    {
      "cell_type": "code",
      "metadata": {
        "id": "iHvE4mQ658te"
      },
      "source": [
        "from sklearn.linear_model import LinearRegression\n",
        "from sklearn.model_selection import train_test_split\n",
        "from datetime import datetime"
      ],
      "execution_count": 55,
      "outputs": []
    },
    {
      "cell_type": "code",
      "metadata": {
        "colab": {
          "base_uri": "https://localhost:8080/"
        },
        "id": "-XmHKK1Brb3E",
        "outputId": "e36aa071-b1be-48eb-e542-1734f3397968"
      },
      "source": [
        "start=datetime.now()\n",
        "\n",
        "X_train, X_test, y_train, y_test = train_test_split(X,y)\n",
        "\n",
        "modelo = LinearRegression().fit(X_train,y_train)\n",
        "\n",
        "TimeInicial = datetime.now()-start\n",
        "print(datetime.now()-start)   #esto entrega el tiempo que demoró en correr el modelo."
      ],
      "execution_count": 57,
      "outputs": [
        {
          "output_type": "stream",
          "name": "stdout",
          "text": [
            "0:00:00.015575\n"
          ]
        }
      ]
    },
    {
      "cell_type": "markdown",
      "metadata": {
        "id": "TCjfWeHJtAF3"
      },
      "source": [
        "f) Obtenga las componentes principales utilizando las variables estandarizadas, si desea explicar un 80% de la variabilidad, ¿cuántas componentes debería elegir? Argumente."
      ]
    },
    {
      "cell_type": "code",
      "metadata": {
        "id": "0xgPrMFr8JWx"
      },
      "source": [
        "import numpy as np\n",
        "import pandas as pd\n",
        "import statsmodels.api as sm\n",
        "\n",
        "import matplotlib.pyplot as plt\n",
        "\n",
        "from sklearn.decomposition import PCA\n",
        "from sklearn.pipeline import make_pipeline\n",
        "from sklearn.preprocessing import StandardScaler\n",
        "from sklearn.preprocessing import scale\n",
        "\n",
        "import warnings\n",
        "warnings.filterwarnings('ignore')"
      ],
      "execution_count": 58,
      "outputs": []
    },
    {
      "cell_type": "code",
      "metadata": {
        "colab": {
          "base_uri": "https://localhost:8080/",
          "height": 320
        },
        "id": "NW1-fd2k8lqB",
        "outputId": "e7d73661-f16c-47ce-9956-f56d1d21a817"
      },
      "source": [
        "df.describe()"
      ],
      "execution_count": 59,
      "outputs": [
        {
          "output_type": "execute_result",
          "data": {
            "text/html": [
              "<div>\n",
              "<style scoped>\n",
              "    .dataframe tbody tr th:only-of-type {\n",
              "        vertical-align: middle;\n",
              "    }\n",
              "\n",
              "    .dataframe tbody tr th {\n",
              "        vertical-align: top;\n",
              "    }\n",
              "\n",
              "    .dataframe thead th {\n",
              "        text-align: right;\n",
              "    }\n",
              "</style>\n",
              "<table border=\"1\" class=\"dataframe\">\n",
              "  <thead>\n",
              "    <tr style=\"text-align: right;\">\n",
              "      <th></th>\n",
              "      <th>LotArea</th>\n",
              "      <th>MasVnrArea</th>\n",
              "      <th>BsmtFinSF1</th>\n",
              "      <th>BsmtFinSF2</th>\n",
              "      <th>BsmtUnfSF</th>\n",
              "      <th>TotalBsmtSF</th>\n",
              "      <th>1stFlrSF</th>\n",
              "      <th>2ndFlrSF</th>\n",
              "      <th>LowQualFinSF</th>\n",
              "      <th>GrLivArea</th>\n",
              "      <th>GarageArea</th>\n",
              "      <th>WoodDeckSF</th>\n",
              "      <th>OpenPorchSF</th>\n",
              "      <th>EnclosedPorch</th>\n",
              "      <th>3SsnPorch</th>\n",
              "      <th>ScreenPorch</th>\n",
              "      <th>PoolArea</th>\n",
              "      <th>MiscVal</th>\n",
              "      <th>SalePrice</th>\n",
              "    </tr>\n",
              "  </thead>\n",
              "  <tbody>\n",
              "    <tr>\n",
              "      <th>count</th>\n",
              "      <td>1460.000000</td>\n",
              "      <td>1460.000000</td>\n",
              "      <td>1460.000000</td>\n",
              "      <td>1460.000000</td>\n",
              "      <td>1460.000000</td>\n",
              "      <td>1460.000000</td>\n",
              "      <td>1460.000000</td>\n",
              "      <td>1460.000000</td>\n",
              "      <td>1460.000000</td>\n",
              "      <td>1460.000000</td>\n",
              "      <td>1460.000000</td>\n",
              "      <td>1460.000000</td>\n",
              "      <td>1460.000000</td>\n",
              "      <td>1460.000000</td>\n",
              "      <td>1460.000000</td>\n",
              "      <td>1460.000000</td>\n",
              "      <td>1460.000000</td>\n",
              "      <td>1460.000000</td>\n",
              "      <td>1460.000000</td>\n",
              "    </tr>\n",
              "    <tr>\n",
              "      <th>mean</th>\n",
              "      <td>10516.828082</td>\n",
              "      <td>103.117123</td>\n",
              "      <td>443.639726</td>\n",
              "      <td>46.549315</td>\n",
              "      <td>567.240411</td>\n",
              "      <td>1057.429452</td>\n",
              "      <td>1162.626712</td>\n",
              "      <td>346.992466</td>\n",
              "      <td>5.844521</td>\n",
              "      <td>1515.463699</td>\n",
              "      <td>472.980137</td>\n",
              "      <td>94.244521</td>\n",
              "      <td>46.660274</td>\n",
              "      <td>21.954110</td>\n",
              "      <td>3.409589</td>\n",
              "      <td>15.060959</td>\n",
              "      <td>2.758904</td>\n",
              "      <td>43.489041</td>\n",
              "      <td>180921.195890</td>\n",
              "    </tr>\n",
              "    <tr>\n",
              "      <th>std</th>\n",
              "      <td>9981.264932</td>\n",
              "      <td>180.731373</td>\n",
              "      <td>456.098091</td>\n",
              "      <td>161.319273</td>\n",
              "      <td>441.866955</td>\n",
              "      <td>438.705324</td>\n",
              "      <td>386.587738</td>\n",
              "      <td>436.528436</td>\n",
              "      <td>48.623081</td>\n",
              "      <td>525.480383</td>\n",
              "      <td>213.804841</td>\n",
              "      <td>125.338794</td>\n",
              "      <td>66.256028</td>\n",
              "      <td>61.119149</td>\n",
              "      <td>29.317331</td>\n",
              "      <td>55.757415</td>\n",
              "      <td>40.177307</td>\n",
              "      <td>496.123024</td>\n",
              "      <td>79442.502883</td>\n",
              "    </tr>\n",
              "    <tr>\n",
              "      <th>min</th>\n",
              "      <td>1300.000000</td>\n",
              "      <td>0.000000</td>\n",
              "      <td>0.000000</td>\n",
              "      <td>0.000000</td>\n",
              "      <td>0.000000</td>\n",
              "      <td>0.000000</td>\n",
              "      <td>334.000000</td>\n",
              "      <td>0.000000</td>\n",
              "      <td>0.000000</td>\n",
              "      <td>334.000000</td>\n",
              "      <td>0.000000</td>\n",
              "      <td>0.000000</td>\n",
              "      <td>0.000000</td>\n",
              "      <td>0.000000</td>\n",
              "      <td>0.000000</td>\n",
              "      <td>0.000000</td>\n",
              "      <td>0.000000</td>\n",
              "      <td>0.000000</td>\n",
              "      <td>34900.000000</td>\n",
              "    </tr>\n",
              "    <tr>\n",
              "      <th>25%</th>\n",
              "      <td>7553.500000</td>\n",
              "      <td>0.000000</td>\n",
              "      <td>0.000000</td>\n",
              "      <td>0.000000</td>\n",
              "      <td>223.000000</td>\n",
              "      <td>795.750000</td>\n",
              "      <td>882.000000</td>\n",
              "      <td>0.000000</td>\n",
              "      <td>0.000000</td>\n",
              "      <td>1129.500000</td>\n",
              "      <td>334.500000</td>\n",
              "      <td>0.000000</td>\n",
              "      <td>0.000000</td>\n",
              "      <td>0.000000</td>\n",
              "      <td>0.000000</td>\n",
              "      <td>0.000000</td>\n",
              "      <td>0.000000</td>\n",
              "      <td>0.000000</td>\n",
              "      <td>129975.000000</td>\n",
              "    </tr>\n",
              "    <tr>\n",
              "      <th>50%</th>\n",
              "      <td>9478.500000</td>\n",
              "      <td>0.000000</td>\n",
              "      <td>383.500000</td>\n",
              "      <td>0.000000</td>\n",
              "      <td>477.500000</td>\n",
              "      <td>991.500000</td>\n",
              "      <td>1087.000000</td>\n",
              "      <td>0.000000</td>\n",
              "      <td>0.000000</td>\n",
              "      <td>1464.000000</td>\n",
              "      <td>480.000000</td>\n",
              "      <td>0.000000</td>\n",
              "      <td>25.000000</td>\n",
              "      <td>0.000000</td>\n",
              "      <td>0.000000</td>\n",
              "      <td>0.000000</td>\n",
              "      <td>0.000000</td>\n",
              "      <td>0.000000</td>\n",
              "      <td>163000.000000</td>\n",
              "    </tr>\n",
              "    <tr>\n",
              "      <th>75%</th>\n",
              "      <td>11601.500000</td>\n",
              "      <td>164.250000</td>\n",
              "      <td>712.250000</td>\n",
              "      <td>0.000000</td>\n",
              "      <td>808.000000</td>\n",
              "      <td>1298.250000</td>\n",
              "      <td>1391.250000</td>\n",
              "      <td>728.000000</td>\n",
              "      <td>0.000000</td>\n",
              "      <td>1776.750000</td>\n",
              "      <td>576.000000</td>\n",
              "      <td>168.000000</td>\n",
              "      <td>68.000000</td>\n",
              "      <td>0.000000</td>\n",
              "      <td>0.000000</td>\n",
              "      <td>0.000000</td>\n",
              "      <td>0.000000</td>\n",
              "      <td>0.000000</td>\n",
              "      <td>214000.000000</td>\n",
              "    </tr>\n",
              "    <tr>\n",
              "      <th>max</th>\n",
              "      <td>215245.000000</td>\n",
              "      <td>1600.000000</td>\n",
              "      <td>5644.000000</td>\n",
              "      <td>1474.000000</td>\n",
              "      <td>2336.000000</td>\n",
              "      <td>6110.000000</td>\n",
              "      <td>4692.000000</td>\n",
              "      <td>2065.000000</td>\n",
              "      <td>572.000000</td>\n",
              "      <td>5642.000000</td>\n",
              "      <td>1418.000000</td>\n",
              "      <td>857.000000</td>\n",
              "      <td>547.000000</td>\n",
              "      <td>552.000000</td>\n",
              "      <td>508.000000</td>\n",
              "      <td>480.000000</td>\n",
              "      <td>738.000000</td>\n",
              "      <td>15500.000000</td>\n",
              "      <td>755000.000000</td>\n",
              "    </tr>\n",
              "  </tbody>\n",
              "</table>\n",
              "</div>"
            ],
            "text/plain": [
              "             LotArea   MasVnrArea  ...       MiscVal      SalePrice\n",
              "count    1460.000000  1460.000000  ...   1460.000000    1460.000000\n",
              "mean    10516.828082   103.117123  ...     43.489041  180921.195890\n",
              "std      9981.264932   180.731373  ...    496.123024   79442.502883\n",
              "min      1300.000000     0.000000  ...      0.000000   34900.000000\n",
              "25%      7553.500000     0.000000  ...      0.000000  129975.000000\n",
              "50%      9478.500000     0.000000  ...      0.000000  163000.000000\n",
              "75%     11601.500000   164.250000  ...      0.000000  214000.000000\n",
              "max    215245.000000  1600.000000  ...  15500.000000  755000.000000\n",
              "\n",
              "[8 rows x 19 columns]"
            ]
          },
          "metadata": {},
          "execution_count": 59
        }
      ]
    },
    {
      "cell_type": "code",
      "metadata": {
        "colab": {
          "base_uri": "https://localhost:8080/"
        },
        "id": "EVEooWTKrb3F",
        "outputId": "7085761c-b6ed-4049-ae72-6725a45c3959"
      },
      "source": [
        "#Estandarizamos\n",
        "pca_pipe = make_pipeline(StandardScaler(), PCA())\n",
        "pca_pipe.fit(X)"
      ],
      "execution_count": 60,
      "outputs": [
        {
          "output_type": "execute_result",
          "data": {
            "text/plain": [
              "Pipeline(memory=None,\n",
              "         steps=[('standardscaler',\n",
              "                 StandardScaler(copy=True, with_mean=True, with_std=True)),\n",
              "                ('pca',\n",
              "                 PCA(copy=True, iterated_power='auto', n_components=None,\n",
              "                     random_state=None, svd_solver='auto', tol=0.0,\n",
              "                     whiten=False))],\n",
              "         verbose=False)"
            ]
          },
          "metadata": {},
          "execution_count": 60
        }
      ]
    },
    {
      "cell_type": "code",
      "metadata": {
        "id": "iPbYKKd58Ost"
      },
      "source": [
        "modelo_pca = pca_pipe.named_steps['pca']"
      ],
      "execution_count": 61,
      "outputs": []
    },
    {
      "cell_type": "code",
      "metadata": {
        "colab": {
          "base_uri": "https://localhost:8080/",
          "height": 634
        },
        "id": "VmzuSgpW8biO",
        "outputId": "860e3889-ba61-4b2b-93d2-5b2700c91260"
      },
      "source": [
        "pd.DataFrame(\n",
        "    data    = modelo_pca.components_,\n",
        "    columns = X.columns\n",
        ")"
      ],
      "execution_count": 62,
      "outputs": [
        {
          "output_type": "execute_result",
          "data": {
            "text/html": [
              "<div>\n",
              "<style scoped>\n",
              "    .dataframe tbody tr th:only-of-type {\n",
              "        vertical-align: middle;\n",
              "    }\n",
              "\n",
              "    .dataframe tbody tr th {\n",
              "        vertical-align: top;\n",
              "    }\n",
              "\n",
              "    .dataframe thead th {\n",
              "        text-align: right;\n",
              "    }\n",
              "</style>\n",
              "<table border=\"1\" class=\"dataframe\">\n",
              "  <thead>\n",
              "    <tr style=\"text-align: right;\">\n",
              "      <th></th>\n",
              "      <th>LotArea</th>\n",
              "      <th>MasVnrArea</th>\n",
              "      <th>BsmtFinSF1</th>\n",
              "      <th>BsmtFinSF2</th>\n",
              "      <th>BsmtUnfSF</th>\n",
              "      <th>TotalBsmtSF</th>\n",
              "      <th>1stFlrSF</th>\n",
              "      <th>2ndFlrSF</th>\n",
              "      <th>LowQualFinSF</th>\n",
              "      <th>GrLivArea</th>\n",
              "      <th>GarageArea</th>\n",
              "      <th>WoodDeckSF</th>\n",
              "      <th>OpenPorchSF</th>\n",
              "      <th>EnclosedPorch</th>\n",
              "      <th>3SsnPorch</th>\n",
              "      <th>ScreenPorch</th>\n",
              "      <th>PoolArea</th>\n",
              "      <th>MiscVal</th>\n",
              "    </tr>\n",
              "  </thead>\n",
              "  <tbody>\n",
              "    <tr>\n",
              "      <th>0</th>\n",
              "      <td>2.091973e-01</td>\n",
              "      <td>2.884872e-01</td>\n",
              "      <td>0.270117</td>\n",
              "      <td>0.017646</td>\n",
              "      <td>0.145262</td>\n",
              "      <td>0.433624</td>\n",
              "      <td>0.434156</td>\n",
              "      <td>0.090650</td>\n",
              "      <td>-0.005824</td>\n",
              "      <td>0.394168</td>\n",
              "      <td>3.623468e-01</td>\n",
              "      <td>2.021302e-01</td>\n",
              "      <td>2.082101e-01</td>\n",
              "      <td>-7.840904e-02</td>\n",
              "      <td>2.589348e-02</td>\n",
              "      <td>7.033368e-02</td>\n",
              "      <td>1.053342e-01</td>\n",
              "      <td>-1.149471e-02</td>\n",
              "    </tr>\n",
              "    <tr>\n",
              "      <th>1</th>\n",
              "      <td>-8.686471e-02</td>\n",
              "      <td>6.528848e-02</td>\n",
              "      <td>-0.422371</td>\n",
              "      <td>-0.195445</td>\n",
              "      <td>0.310065</td>\n",
              "      <td>-0.198685</td>\n",
              "      <td>-0.183825</td>\n",
              "      <td>0.605129</td>\n",
              "      <td>0.173725</td>\n",
              "      <td>0.383532</td>\n",
              "      <td>3.496035e-02</td>\n",
              "      <td>-5.418081e-02</td>\n",
              "      <td>1.947133e-01</td>\n",
              "      <td>1.238628e-01</td>\n",
              "      <td>-3.456927e-02</td>\n",
              "      <td>-5.714620e-04</td>\n",
              "      <td>1.097973e-02</td>\n",
              "      <td>-1.032956e-03</td>\n",
              "    </tr>\n",
              "    <tr>\n",
              "      <th>2</th>\n",
              "      <td>1.650173e-01</td>\n",
              "      <td>1.351073e-02</td>\n",
              "      <td>0.345050</td>\n",
              "      <td>0.175209</td>\n",
              "      <td>-0.659170</td>\n",
              "      <td>-0.240764</td>\n",
              "      <td>-0.201525</td>\n",
              "      <td>0.375054</td>\n",
              "      <td>0.073728</td>\n",
              "      <td>0.170129</td>\n",
              "      <td>-3.979949e-02</td>\n",
              "      <td>1.679968e-01</td>\n",
              "      <td>3.777451e-02</td>\n",
              "      <td>4.490583e-02</td>\n",
              "      <td>-8.884110e-02</td>\n",
              "      <td>9.963493e-02</td>\n",
              "      <td>2.351270e-01</td>\n",
              "      <td>9.134663e-02</td>\n",
              "    </tr>\n",
              "    <tr>\n",
              "      <th>3</th>\n",
              "      <td>2.126814e-01</td>\n",
              "      <td>-3.119594e-01</td>\n",
              "      <td>-0.172212</td>\n",
              "      <td>0.456548</td>\n",
              "      <td>0.143226</td>\n",
              "      <td>0.133099</td>\n",
              "      <td>0.170455</td>\n",
              "      <td>-0.127368</td>\n",
              "      <td>0.397911</td>\n",
              "      <td>0.056413</td>\n",
              "      <td>-1.613102e-01</td>\n",
              "      <td>-1.252792e-01</td>\n",
              "      <td>-1.780412e-02</td>\n",
              "      <td>4.088846e-01</td>\n",
              "      <td>-9.764926e-02</td>\n",
              "      <td>1.791625e-01</td>\n",
              "      <td>3.237778e-01</td>\n",
              "      <td>1.365532e-01</td>\n",
              "    </tr>\n",
              "    <tr>\n",
              "      <th>4</th>\n",
              "      <td>-1.207819e-01</td>\n",
              "      <td>2.853804e-02</td>\n",
              "      <td>-0.055286</td>\n",
              "      <td>0.167091</td>\n",
              "      <td>-0.013850</td>\n",
              "      <td>-0.009985</td>\n",
              "      <td>-0.042198</td>\n",
              "      <td>-0.011882</td>\n",
              "      <td>-0.032811</td>\n",
              "      <td>-0.043951</td>\n",
              "      <td>7.139433e-03</td>\n",
              "      <td>-2.974024e-01</td>\n",
              "      <td>2.851671e-01</td>\n",
              "      <td>-4.233113e-01</td>\n",
              "      <td>-1.047876e-01</td>\n",
              "      <td>7.545472e-01</td>\n",
              "      <td>-1.209250e-01</td>\n",
              "      <td>6.665735e-02</td>\n",
              "    </tr>\n",
              "    <tr>\n",
              "      <th>5</th>\n",
              "      <td>-1.488536e-01</td>\n",
              "      <td>4.862130e-02</td>\n",
              "      <td>0.262374</td>\n",
              "      <td>-0.465786</td>\n",
              "      <td>-0.066574</td>\n",
              "      <td>0.034444</td>\n",
              "      <td>0.039641</td>\n",
              "      <td>-0.039620</td>\n",
              "      <td>0.183030</td>\n",
              "      <td>0.013186</td>\n",
              "      <td>-2.552248e-02</td>\n",
              "      <td>-4.469700e-01</td>\n",
              "      <td>-1.835536e-02</td>\n",
              "      <td>1.692905e-01</td>\n",
              "      <td>5.154951e-01</td>\n",
              "      <td>1.257258e-01</td>\n",
              "      <td>2.733812e-01</td>\n",
              "      <td>2.480708e-01</td>\n",
              "    </tr>\n",
              "    <tr>\n",
              "      <th>6</th>\n",
              "      <td>2.362735e-01</td>\n",
              "      <td>-3.190713e-03</td>\n",
              "      <td>-0.132269</td>\n",
              "      <td>0.040529</td>\n",
              "      <td>0.096756</td>\n",
              "      <td>-0.025157</td>\n",
              "      <td>-0.021940</td>\n",
              "      <td>0.051491</td>\n",
              "      <td>-0.337538</td>\n",
              "      <td>-0.004599</td>\n",
              "      <td>1.292304e-02</td>\n",
              "      <td>1.175492e-01</td>\n",
              "      <td>-1.100913e-01</td>\n",
              "      <td>-4.193745e-02</td>\n",
              "      <td>6.850089e-02</td>\n",
              "      <td>-1.499222e-02</td>\n",
              "      <td>-1.090642e-01</td>\n",
              "      <td>8.679120e-01</td>\n",
              "    </tr>\n",
              "    <tr>\n",
              "      <th>7</th>\n",
              "      <td>2.354177e-01</td>\n",
              "      <td>-1.246108e-01</td>\n",
              "      <td>-0.146188</td>\n",
              "      <td>0.302235</td>\n",
              "      <td>-0.029364</td>\n",
              "      <td>-0.070422</td>\n",
              "      <td>-0.029719</td>\n",
              "      <td>0.050781</td>\n",
              "      <td>0.191090</td>\n",
              "      <td>0.038003</td>\n",
              "      <td>-2.242330e-02</td>\n",
              "      <td>1.396031e-01</td>\n",
              "      <td>5.285585e-02</td>\n",
              "      <td>-2.921444e-01</td>\n",
              "      <td>7.728038e-01</td>\n",
              "      <td>-6.749177e-02</td>\n",
              "      <td>-1.975680e-01</td>\n",
              "      <td>-1.419253e-01</td>\n",
              "    </tr>\n",
              "    <tr>\n",
              "      <th>8</th>\n",
              "      <td>-7.407779e-02</td>\n",
              "      <td>-1.664454e-01</td>\n",
              "      <td>0.017521</td>\n",
              "      <td>-0.276305</td>\n",
              "      <td>0.084034</td>\n",
              "      <td>0.001254</td>\n",
              "      <td>-0.026114</td>\n",
              "      <td>-0.117612</td>\n",
              "      <td>0.539878</td>\n",
              "      <td>-0.066959</td>\n",
              "      <td>-8.169887e-02</td>\n",
              "      <td>3.443947e-01</td>\n",
              "      <td>4.623268e-02</td>\n",
              "      <td>-5.352653e-01</td>\n",
              "      <td>-1.889660e-01</td>\n",
              "      <td>-1.124196e-01</td>\n",
              "      <td>2.484692e-01</td>\n",
              "      <td>2.204888e-01</td>\n",
              "    </tr>\n",
              "    <tr>\n",
              "      <th>9</th>\n",
              "      <td>-1.523162e-01</td>\n",
              "      <td>-2.413496e-01</td>\n",
              "      <td>-0.111938</td>\n",
              "      <td>0.086654</td>\n",
              "      <td>0.081937</td>\n",
              "      <td>-0.001984</td>\n",
              "      <td>-0.042034</td>\n",
              "      <td>0.008986</td>\n",
              "      <td>-0.511654</td>\n",
              "      <td>-0.070802</td>\n",
              "      <td>-1.649387e-03</td>\n",
              "      <td>6.766652e-02</td>\n",
              "      <td>3.411485e-01</td>\n",
              "      <td>-1.290727e-01</td>\n",
              "      <td>1.427261e-01</td>\n",
              "      <td>-1.095777e-01</td>\n",
              "      <td>6.668220e-01</td>\n",
              "      <td>-9.214284e-02</td>\n",
              "    </tr>\n",
              "    <tr>\n",
              "      <th>10</th>\n",
              "      <td>4.790081e-02</td>\n",
              "      <td>-2.686113e-01</td>\n",
              "      <td>0.157058</td>\n",
              "      <td>-0.006495</td>\n",
              "      <td>-0.115953</td>\n",
              "      <td>0.044107</td>\n",
              "      <td>0.009222</td>\n",
              "      <td>-0.057312</td>\n",
              "      <td>0.079249</td>\n",
              "      <td>-0.033493</td>\n",
              "      <td>1.264815e-02</td>\n",
              "      <td>-2.290674e-01</td>\n",
              "      <td>7.314384e-01</td>\n",
              "      <td>9.468582e-02</td>\n",
              "      <td>-1.032540e-01</td>\n",
              "      <td>-3.645511e-01</td>\n",
              "      <td>-3.362536e-01</td>\n",
              "      <td>1.464817e-01</td>\n",
              "    </tr>\n",
              "    <tr>\n",
              "      <th>11</th>\n",
              "      <td>7.796880e-01</td>\n",
              "      <td>-2.288094e-01</td>\n",
              "      <td>0.010370</td>\n",
              "      <td>-0.424540</td>\n",
              "      <td>0.082741</td>\n",
              "      <td>-0.061991</td>\n",
              "      <td>-0.031094</td>\n",
              "      <td>0.006254</td>\n",
              "      <td>-0.146869</td>\n",
              "      <td>-0.031270</td>\n",
              "      <td>-1.284839e-01</td>\n",
              "      <td>-1.224156e-01</td>\n",
              "      <td>-1.206250e-02</td>\n",
              "      <td>-7.955911e-02</td>\n",
              "      <td>-1.032357e-01</td>\n",
              "      <td>1.446371e-01</td>\n",
              "      <td>4.042248e-02</td>\n",
              "      <td>-2.323098e-01</td>\n",
              "    </tr>\n",
              "    <tr>\n",
              "      <th>12</th>\n",
              "      <td>2.031438e-01</td>\n",
              "      <td>3.960086e-01</td>\n",
              "      <td>-0.092265</td>\n",
              "      <td>0.255006</td>\n",
              "      <td>-0.025083</td>\n",
              "      <td>-0.027416</td>\n",
              "      <td>-0.034010</td>\n",
              "      <td>0.021762</td>\n",
              "      <td>0.076554</td>\n",
              "      <td>0.000141</td>\n",
              "      <td>4.634163e-02</td>\n",
              "      <td>-5.786929e-01</td>\n",
              "      <td>-1.216645e-01</td>\n",
              "      <td>-3.586473e-01</td>\n",
              "      <td>-1.377959e-01</td>\n",
              "      <td>-4.151328e-01</td>\n",
              "      <td>2.169127e-01</td>\n",
              "      <td>2.569617e-02</td>\n",
              "    </tr>\n",
              "    <tr>\n",
              "      <th>13</th>\n",
              "      <td>1.369050e-01</td>\n",
              "      <td>6.337673e-01</td>\n",
              "      <td>-0.066817</td>\n",
              "      <td>-0.017805</td>\n",
              "      <td>0.060649</td>\n",
              "      <td>-0.014928</td>\n",
              "      <td>-0.089672</td>\n",
              "      <td>-0.152981</td>\n",
              "      <td>0.044022</td>\n",
              "      <td>-0.188982</td>\n",
              "      <td>-5.254241e-01</td>\n",
              "      <td>2.349070e-01</td>\n",
              "      <td>3.576775e-01</td>\n",
              "      <td>1.694619e-01</td>\n",
              "      <td>6.823437e-02</td>\n",
              "      <td>5.981908e-02</td>\n",
              "      <td>7.512314e-02</td>\n",
              "      <td>6.097125e-03</td>\n",
              "    </tr>\n",
              "    <tr>\n",
              "      <th>14</th>\n",
              "      <td>1.672304e-01</td>\n",
              "      <td>1.598815e-01</td>\n",
              "      <td>-0.173266</td>\n",
              "      <td>-0.035308</td>\n",
              "      <td>-0.030741</td>\n",
              "      <td>-0.224081</td>\n",
              "      <td>-0.232992</td>\n",
              "      <td>-0.210742</td>\n",
              "      <td>0.162272</td>\n",
              "      <td>-0.331462</td>\n",
              "      <td>7.325279e-01</td>\n",
              "      <td>9.998540e-02</td>\n",
              "      <td>1.429358e-01</td>\n",
              "      <td>1.953428e-01</td>\n",
              "      <td>2.398144e-02</td>\n",
              "      <td>9.324332e-02</td>\n",
              "      <td>1.205125e-01</td>\n",
              "      <td>1.318519e-02</td>\n",
              "    </tr>\n",
              "    <tr>\n",
              "      <th>15</th>\n",
              "      <td>-3.691436e-02</td>\n",
              "      <td>4.230195e-02</td>\n",
              "      <td>-0.271983</td>\n",
              "      <td>-0.109156</td>\n",
              "      <td>-0.244027</td>\n",
              "      <td>-0.568690</td>\n",
              "      <td>0.628265</td>\n",
              "      <td>-0.261060</td>\n",
              "      <td>-0.043945</td>\n",
              "      <td>0.241270</td>\n",
              "      <td>-1.856497e-02</td>\n",
              "      <td>6.706493e-03</td>\n",
              "      <td>5.989018e-02</td>\n",
              "      <td>-1.949968e-02</td>\n",
              "      <td>-2.135326e-02</td>\n",
              "      <td>-5.238394e-03</td>\n",
              "      <td>8.506644e-03</td>\n",
              "      <td>8.817024e-03</td>\n",
              "    </tr>\n",
              "    <tr>\n",
              "      <th>16</th>\n",
              "      <td>1.660059e-16</td>\n",
              "      <td>-3.689427e-18</td>\n",
              "      <td>-0.060947</td>\n",
              "      <td>-0.021557</td>\n",
              "      <td>-0.059045</td>\n",
              "      <td>0.058623</td>\n",
              "      <td>0.488825</td>\n",
              "      <td>0.551973</td>\n",
              "      <td>0.061482</td>\n",
              "      <td>-0.664450</td>\n",
              "      <td>-1.121634e-16</td>\n",
              "      <td>1.045273e-16</td>\n",
              "      <td>-4.273621e-17</td>\n",
              "      <td>-1.066307e-16</td>\n",
              "      <td>3.774840e-17</td>\n",
              "      <td>1.276036e-17</td>\n",
              "      <td>-2.241257e-16</td>\n",
              "      <td>-3.533352e-17</td>\n",
              "    </tr>\n",
              "    <tr>\n",
              "      <th>17</th>\n",
              "      <td>-3.159833e-17</td>\n",
              "      <td>2.120827e-17</td>\n",
              "      <td>-0.575206</td>\n",
              "      <td>-0.203447</td>\n",
              "      <td>-0.557258</td>\n",
              "      <td>0.553271</td>\n",
              "      <td>-0.051794</td>\n",
              "      <td>-0.058485</td>\n",
              "      <td>-0.006514</td>\n",
              "      <td>0.070403</td>\n",
              "      <td>2.541699e-16</td>\n",
              "      <td>-9.365532e-17</td>\n",
              "      <td>5.020812e-17</td>\n",
              "      <td>2.063118e-16</td>\n",
              "      <td>-7.079264e-17</td>\n",
              "      <td>-7.760007e-17</td>\n",
              "      <td>-1.517381e-16</td>\n",
              "      <td>1.842617e-16</td>\n",
              "    </tr>\n",
              "  </tbody>\n",
              "</table>\n",
              "</div>"
            ],
            "text/plain": [
              "         LotArea    MasVnrArea  ...      PoolArea       MiscVal\n",
              "0   2.091973e-01  2.884872e-01  ...  1.053342e-01 -1.149471e-02\n",
              "1  -8.686471e-02  6.528848e-02  ...  1.097973e-02 -1.032956e-03\n",
              "2   1.650173e-01  1.351073e-02  ...  2.351270e-01  9.134663e-02\n",
              "3   2.126814e-01 -3.119594e-01  ...  3.237778e-01  1.365532e-01\n",
              "4  -1.207819e-01  2.853804e-02  ... -1.209250e-01  6.665735e-02\n",
              "5  -1.488536e-01  4.862130e-02  ...  2.733812e-01  2.480708e-01\n",
              "6   2.362735e-01 -3.190713e-03  ... -1.090642e-01  8.679120e-01\n",
              "7   2.354177e-01 -1.246108e-01  ... -1.975680e-01 -1.419253e-01\n",
              "8  -7.407779e-02 -1.664454e-01  ...  2.484692e-01  2.204888e-01\n",
              "9  -1.523162e-01 -2.413496e-01  ...  6.668220e-01 -9.214284e-02\n",
              "10  4.790081e-02 -2.686113e-01  ... -3.362536e-01  1.464817e-01\n",
              "11  7.796880e-01 -2.288094e-01  ...  4.042248e-02 -2.323098e-01\n",
              "12  2.031438e-01  3.960086e-01  ...  2.169127e-01  2.569617e-02\n",
              "13  1.369050e-01  6.337673e-01  ...  7.512314e-02  6.097125e-03\n",
              "14  1.672304e-01  1.598815e-01  ...  1.205125e-01  1.318519e-02\n",
              "15 -3.691436e-02  4.230195e-02  ...  8.506644e-03  8.817024e-03\n",
              "16  1.660059e-16 -3.689427e-18  ... -2.241257e-16 -3.533352e-17\n",
              "17 -3.159833e-17  2.120827e-17  ... -1.517381e-16  1.842617e-16\n",
              "\n",
              "[18 rows x 18 columns]"
            ]
          },
          "metadata": {},
          "execution_count": 62
        }
      ]
    },
    {
      "cell_type": "code",
      "metadata": {
        "colab": {
          "base_uri": "https://localhost:8080/"
        },
        "id": "rrZQMQ8y8_Co",
        "outputId": "4cf773fd-a274-4ac6-b7c1-f2b4d4e350f2"
      },
      "source": [
        "modelo_pca.explained_variance_ratio_"
      ],
      "execution_count": 63,
      "outputs": [
        {
          "output_type": "execute_result",
          "data": {
            "text/plain": [
              "array([2.07225173e-01, 9.98009083e-02, 8.44525654e-02, 6.95976568e-02,\n",
              "       6.11262489e-02, 5.80209469e-02, 5.59186023e-02, 5.49938190e-02,\n",
              "       5.24058272e-02, 4.97655481e-02, 4.76722693e-02, 4.49918471e-02,\n",
              "       3.80832017e-02, 3.27403521e-02, 2.97763218e-02, 1.34287121e-02,\n",
              "       7.78414222e-33, 4.40076516e-34])"
            ]
          },
          "metadata": {},
          "execution_count": 63
        }
      ]
    },
    {
      "cell_type": "code",
      "metadata": {
        "colab": {
          "base_uri": "https://localhost:8080/",
          "height": 265
        },
        "id": "vEBxWaDc9Qyu",
        "outputId": "e67c48a1-27e8-4306-8c4d-e75df492dad6"
      },
      "source": [
        "plt.bar(range(1,len(modelo_pca.components_) + 1), np.cumsum(modelo_pca.explained_variance_ratio_))\n",
        "plt.axhline(0.8);\n",
        "#Debemos ocupar 11 variables para explicar el 80%"
      ],
      "execution_count": 64,
      "outputs": [
        {
          "output_type": "display_data",
          "data": {
            "image/png": "[encoded data removed]",
            "text/plain": [
              "<Figure size 432x288 with 1 Axes>"
            ]
          },
          "metadata": {
            "needs_background": "light"
          }
        }
      ]
    },
    {
      "cell_type": "markdown",
      "metadata": {
        "id": "bFY28_-MtAF5"
      },
      "source": [
        "g) Corra el modelo de regresión lineal con las componentes principales como variables predictoras. Vuelva a calcular el tiempo de procesamiento. ¿En cuál caso suele demorarse menos? ¿Qué ganamos al realizar componentes principales? Concluya."
      ]
    },
    {
      "cell_type": "code",
      "metadata": {
        "id": "mr0KMREvrb3F"
      },
      "source": [
        "df_pca = X.iloc[:,0:10]"
      ],
      "execution_count": 65,
      "outputs": []
    },
    {
      "cell_type": "code",
      "metadata": {
        "id": "LqPUxztR-t7t"
      },
      "source": [
        "X = df_pca\n",
        "y = df.SalePrice"
      ],
      "execution_count": 66,
      "outputs": []
    },
    {
      "cell_type": "code",
      "metadata": {
        "colab": {
          "base_uri": "https://localhost:8080/"
        },
        "id": "2lYgL-ZO-hzs",
        "outputId": "b51267ce-2270-4efe-ded9-5551f49c997d"
      },
      "source": [
        "start=datetime.now()\n",
        "\n",
        "X_train, X_test, y_train, y_test = train_test_split(X,y)\n",
        "\n",
        "modelo = LinearRegression().fit(X_train,y_train)\n",
        "\n",
        "TimeFinal = datetime.now()-start\n",
        "print(datetime.now()-start)   #esto entrega el tiempo que demoró en correr el modelo."
      ],
      "execution_count": 67,
      "outputs": [
        {
          "output_type": "stream",
          "name": "stdout",
          "text": [
            "0:00:00.013322\n"
          ]
        }
      ]
    },
    {
      "cell_type": "code",
      "metadata": {
        "colab": {
          "base_uri": "https://localhost:8080/"
        },
        "id": "XCivdvA2AUDQ",
        "outputId": "78d23f43-f524-4f77-e244-ae09c4533abe"
      },
      "source": [
        "print(\"Diferencia : \", TimeInicial - TimeFinal)"
      ],
      "execution_count": 83,
      "outputs": [
        {
          "output_type": "stream",
          "name": "stdout",
          "text": [
            "Diferencia :  0.002253\n"
          ]
        }
      ]
    },
    {
      "cell_type": "code",
      "metadata": {
        "colab": {
          "base_uri": "https://localhost:8080/"
        },
        "id": "7o30Ri7r-0RB",
        "outputId": "db1163ea-f98a-415f-983c-b3065a1cce8b"
      },
      "source": [
        "diferencia = (TimeInicial - TimeFinal)/TimeInicial*100\n",
        "\n",
        "print(\"porcentaje : \",round(diferencia, ndigits= 10))"
      ],
      "execution_count": 84,
      "outputs": [
        {
          "output_type": "stream",
          "name": "stdout",
          "text": [
            "porcentaje :  14.4654895666\n"
          ]
        }
      ]
    }
  ]
}