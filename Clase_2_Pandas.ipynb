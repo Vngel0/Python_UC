{
  "nbformat": 4,
  "nbformat_minor": 0,
  "metadata": {
    "colab": {
      "name": "Clase 2 - Pandas.ipynb",
      "provenance": [],
      "collapsed_sections": [],
      "include_colab_link": true
    },
    "kernelspec": {
      "display_name": "Python 3",
      "language": "python",
      "name": "python3"
    },
    "language_info": {
      "codemirror_mode": {
        "name": "ipython",
        "version": 3
      },
      "file_extension": ".py",
      "mimetype": "text/x-python",
      "name": "python",
      "nbconvert_exporter": "python",
      "pygments_lexer": "ipython3",
      "version": "3.8.3"
    }
  },
  "cells": [
    {
      "cell_type": "markdown",
      "metadata": {
        "id": "view-in-github",
        "colab_type": "text"
      },
      "source": [
        "<a href=\"https://colab.research.google.com/github/Vngel0/Python_UC/blob/main/Clase_2_Pandas.ipynb\" target=\"_parent\"><img src=\"https://colab.research.google.com/assets/colab-badge.svg\" alt=\"Open In Colab\"/></a>"
      ]
    },
    {
      "cell_type": "markdown",
      "metadata": {
        "id": "BoWhRIVVvAkG"
      },
      "source": [
        "# Clase 2 - Pandas\n",
        "\n",
        "En la clase inicial realizamos una introducción general a python, donde aprendimos distintos tipos de objetos, creación de variables, funciones, operaciones, etc. En esta clase aprenderemos a utilizar el modulo Pandas, el cual consiste en una librería open-source que permite realizar manipulación y análisis de datos estructurados (tablas, dataframe).\n",
        "\n",
        "Dentro de los conceptos que revisaremos durante este modulo serán:\n",
        " - Creación e importación de dataframes\n",
        " - Índices\n",
        " - Selección de variables y/o observaciones\n",
        " - Vista y operación de dataframes\n",
        " - Principales métodos de un dataframe\n",
        " - Métodos de agregación y merge"
      ]
    },
    {
      "cell_type": "markdown",
      "metadata": {
        "id": "P5rSdOlAvAkI"
      },
      "source": [
        "## Creación e importación de dataframes\n",
        "\n",
        "Un dataframe o tabla se puede considerar la unidad base para realizar data science, dado que consiste en forma ordenada de presentar las observaciones correspondientes a distintas variables de interés. En este sentido, partiremos desde lo más esencial que es crear un dataframe desde cero para luego importar dataframes (que es típicamente lo que más hacemos!)\n",
        "\n",
        "Primero que todo, importamos el módulo que nos permite hacer todo lo que hemos hablado hasta hora que es `pandas`!"
      ]
    },
    {
      "cell_type": "code",
      "metadata": {
        "id": "I0qD50oTXuXk"
      },
      "source": [
        "#!pip install gcsfs"
      ],
      "execution_count": null,
      "outputs": []
    },
    {
      "cell_type": "code",
      "metadata": {
        "id": "vULclQyJvAkM"
      },
      "source": [
        "import pandas as pd"
      ],
      "execution_count": null,
      "outputs": []
    },
    {
      "cell_type": "markdown",
      "metadata": {
        "id": "RELnj8oDvAke"
      },
      "source": [
        "Para ver la descripción del módulo podemos utilizar el comando help(pd) y se desplegará un informativo del módulo. Para la documentación y otras consultas sobre el módulo, pueden visitar https://pandas.pydata.org\n",
        "\n",
        "#### Creación\n",
        "\n",
        "Ahora que tenemos importado nuestro módulo, podemos crear nuestro primer dataframe. Para ello utilizaremos los siguientes datos\n",
        "\n",
        "| Nombre | Edad | Color de pelo | Hobby | Sexo |\n",
        "| --- | --- | --- | --- | --- |\n",
        "| Camila | 25 | Castaño | Deporte | F |\n",
        "| Ernesto | 44 | Negro | Bailar | M |\n",
        "| Bastian | 34 | Rubio | Bateria | M |\n",
        "| Paz | 31 | Pelirrojo | Karate |\n",
        "\n",
        "los cuales debemos guardar como un data frame utilizando pandas, lo que se realiza de la siguiente forma:"
      ]
    },
    {
      "cell_type": "code",
      "metadata": {
        "id": "yw_KNvXlC9eg"
      },
      "source": [
        "import numpy as np"
      ],
      "execution_count": null,
      "outputs": []
    },
    {
      "cell_type": "code",
      "metadata": {
        "id": "vP3EnKzsvAkh"
      },
      "source": [
        "first_dataset = pd.DataFrame({'Nombre' : ['Camila','Ernesto','Bastian','Paz'],\n",
        "                              'Edad' : [25,44,34,31],\n",
        "                              'Color de pelo' : ['Castaño','Negro','Rubio','Pelirrojo'],\n",
        "                              'Hobby' : ['Deporte','Bailar','Bateria','Karate'], \n",
        "                              'Sexo': ['F', 'M', 'M', np.nan]})\n"
      ],
      "execution_count": null,
      "outputs": []
    },
    {
      "cell_type": "code",
      "metadata": {
        "colab": {
          "base_uri": "https://localhost:8080/",
          "height": 173
        },
        "id": "-Xa65dp-vAkq",
        "outputId": "78e116d2-e2d6-4226-e9a5-35573753a082"
      },
      "source": [
        "first_dataset"
      ],
      "execution_count": null,
      "outputs": [
        {
          "output_type": "execute_result",
          "data": {
            "text/html": [
              "<div>\n",
              "<style scoped>\n",
              "    .dataframe tbody tr th:only-of-type {\n",
              "        vertical-align: middle;\n",
              "    }\n",
              "\n",
              "    .dataframe tbody tr th {\n",
              "        vertical-align: top;\n",
              "    }\n",
              "\n",
              "    .dataframe thead th {\n",
              "        text-align: right;\n",
              "    }\n",
              "</style>\n",
              "<table border=\"1\" class=\"dataframe\">\n",
              "  <thead>\n",
              "    <tr style=\"text-align: right;\">\n",
              "      <th></th>\n",
              "      <th>Nombre</th>\n",
              "      <th>Edad</th>\n",
              "      <th>Color de pelo</th>\n",
              "      <th>Hobby</th>\n",
              "      <th>Sexo</th>\n",
              "    </tr>\n",
              "  </thead>\n",
              "  <tbody>\n",
              "    <tr>\n",
              "      <th>0</th>\n",
              "      <td>Camila</td>\n",
              "      <td>25</td>\n",
              "      <td>Castaño</td>\n",
              "      <td>Deporte</td>\n",
              "      <td>F</td>\n",
              "    </tr>\n",
              "    <tr>\n",
              "      <th>1</th>\n",
              "      <td>Ernesto</td>\n",
              "      <td>44</td>\n",
              "      <td>Negro</td>\n",
              "      <td>Bailar</td>\n",
              "      <td>M</td>\n",
              "    </tr>\n",
              "    <tr>\n",
              "      <th>2</th>\n",
              "      <td>Bastian</td>\n",
              "      <td>34</td>\n",
              "      <td>Rubio</td>\n",
              "      <td>Bateria</td>\n",
              "      <td>M</td>\n",
              "    </tr>\n",
              "    <tr>\n",
              "      <th>3</th>\n",
              "      <td>Paz</td>\n",
              "      <td>31</td>\n",
              "      <td>Pelirrojo</td>\n",
              "      <td>Karate</td>\n",
              "      <td>NaN</td>\n",
              "    </tr>\n",
              "  </tbody>\n",
              "</table>\n",
              "</div>"
            ],
            "text/plain": [
              "    Nombre  Edad Color de pelo    Hobby Sexo\n",
              "0   Camila    25       Castaño  Deporte    F\n",
              "1  Ernesto    44         Negro   Bailar    M\n",
              "2  Bastian    34         Rubio  Bateria    M\n",
              "3      Paz    31     Pelirrojo   Karate  NaN"
            ]
          },
          "metadata": {
            "tags": []
          },
          "execution_count": 5
        }
      ]
    },
    {
      "cell_type": "markdown",
      "metadata": {
        "id": "u5zjyqzSvAk0"
      },
      "source": [
        "Observamos que la tabla creada es identica a la inicial con la diferencia que esta última posee una columna adicional con lo números del 0 al 3 la cual se denomina índice. Profundizaremos en ellos un poco más adelante."
      ]
    },
    {
      "cell_type": "markdown",
      "metadata": {
        "id": "El_M7AVtvAk-"
      },
      "source": [
        "#### Importación\n",
        "\n",
        "En la gran mayoría (si es que no en todos) los proyectos de data science, los datos a utilizar provienen de una fuente externa (archivo, base de datos, etc) y en un gran volumen! por lo cual reconstruir dichos datos como los acabamos de imputar se vuelve imposible. Por esto, utilizaremos el módulo de pandas que trae funciones que nos permiten transformar archivos de datos en dataframes. En particular, veremos como traer datos desde un archivo, como CSV u otros formatos.\n",
        "\n",
        "Cuando nuestros datos vienen en un archivo CSV, utilizamos la función **read_csv** para poder desde un archivo crear un dataframe"
      ]
    },
    {
      "cell_type": "code",
      "metadata": {
        "id": "QYDKPJdovAlP"
      },
      "source": [
        "first_import = pd.read_csv('gs://diplomado-data-science-uc-python/python/02-Pandas/data/anime.csv',delimiter=';')"
      ],
      "execution_count": null,
      "outputs": []
    },
    {
      "cell_type": "code",
      "metadata": {
        "id": "kQDT42VBEvGV",
        "outputId": "b1f2a549-652f-4695-d392-430f5a7d1362"
      },
      "source": [
        "first_import.head(2)"
      ],
      "execution_count": null,
      "outputs": [
        {
          "output_type": "execute_result",
          "data": {
            "text/html": [
              "<div>\n",
              "<style scoped>\n",
              "    .dataframe tbody tr th:only-of-type {\n",
              "        vertical-align: middle;\n",
              "    }\n",
              "\n",
              "    .dataframe tbody tr th {\n",
              "        vertical-align: top;\n",
              "    }\n",
              "\n",
              "    .dataframe thead th {\n",
              "        text-align: right;\n",
              "    }\n",
              "</style>\n",
              "<table border=\"1\" class=\"dataframe\">\n",
              "  <thead>\n",
              "    <tr style=\"text-align: right;\">\n",
              "      <th></th>\n",
              "      <th>anime_id</th>\n",
              "      <th>name</th>\n",
              "      <th>genre</th>\n",
              "      <th>type</th>\n",
              "      <th>episodes</th>\n",
              "      <th>rating</th>\n",
              "      <th>members</th>\n",
              "    </tr>\n",
              "  </thead>\n",
              "  <tbody>\n",
              "    <tr>\n",
              "      <th>0</th>\n",
              "      <td>32281</td>\n",
              "      <td>Kimi no Na wa.</td>\n",
              "      <td>Drama, Romance, School, Supernatural</td>\n",
              "      <td>Movie</td>\n",
              "      <td>1</td>\n",
              "      <td>9.37</td>\n",
              "      <td>200630</td>\n",
              "    </tr>\n",
              "    <tr>\n",
              "      <th>1</th>\n",
              "      <td>5114</td>\n",
              "      <td>Fullmetal Alchemist: Brotherhood</td>\n",
              "      <td>Action, Adventure, Drama, Fantasy, Magic, Mili...</td>\n",
              "      <td>TV</td>\n",
              "      <td>64</td>\n",
              "      <td>9.26</td>\n",
              "      <td>793665</td>\n",
              "    </tr>\n",
              "  </tbody>\n",
              "</table>\n",
              "</div>"
            ],
            "text/plain": [
              "   anime_id                              name  \\\n",
              "0     32281                    Kimi no Na wa.   \n",
              "1      5114  Fullmetal Alchemist: Brotherhood   \n",
              "\n",
              "                                               genre   type  episodes  rating  \\\n",
              "0               Drama, Romance, School, Supernatural  Movie         1    9.37   \n",
              "1  Action, Adventure, Drama, Fantasy, Magic, Mili...     TV        64    9.26   \n",
              "\n",
              "   members  \n",
              "0   200630  \n",
              "1   793665  "
            ]
          },
          "metadata": {
            "tags": []
          },
          "execution_count": 7
        }
      ]
    },
    {
      "cell_type": "markdown",
      "metadata": {
        "id": "wxBvvDQvvAlV"
      },
      "source": [
        "## Índices\n",
        "\n",
        "Los índices en palabras simples es darle \"nombres\" a las observaciones o filas dentro de un dataframe. Muchas veces son útiles dado que podemos asignar como índice algún identificador de la observación, que típicamente no son variables de interés más allá de saber a quién corresponden los valores observados.\n",
        "\n",
        "En `R` los índices son conocimos como **row names** y solamente admite índices simples, mientras que `pandas` admite índices multiples en sus dataframes\n",
        "\n",
        "Tomando el mismo dataset que cargamos antes, podemos obtener su(s) índice(s) mediante el método **index**"
      ]
    },
    {
      "cell_type": "code",
      "metadata": {
        "colab": {
          "base_uri": "https://localhost:8080/",
          "height": 34
        },
        "id": "SHG95F9JvAlX",
        "outputId": "dd5e6d3f-c797-4b5f-8210-10b69e4ffcfa"
      },
      "source": [
        "first_import.index"
      ],
      "execution_count": null,
      "outputs": [
        {
          "output_type": "execute_result",
          "data": {
            "text/plain": [
              "RangeIndex(start=0, stop=10731, step=1)"
            ]
          },
          "metadata": {
            "tags": []
          },
          "execution_count": 8
        }
      ]
    },
    {
      "cell_type": "markdown",
      "metadata": {
        "id": "FivT57dlvAle"
      },
      "source": [
        "Observamos que la primera variable es un indentificador llamado `anime_id` el cual es un candidato ideal para transformarse en índice, lo cual lo podemos hacer directamente en la carga de los datos utilizando el parámetro `index` o una vez cargado utilizando el método `set_index`"
      ]
    },
    {
      "cell_type": "code",
      "metadata": {
        "colab": {
          "base_uri": "https://localhost:8080/",
          "height": 235
        },
        "id": "4xVEdjLovAlf",
        "outputId": "08006e5f-3eff-4623-aef1-e54db34d2cbd"
      },
      "source": [
        "first_import.set_index('anime_id', inplace = True)\n",
        "first_import.head()"
      ],
      "execution_count": null,
      "outputs": [
        {
          "output_type": "execute_result",
          "data": {
            "text/html": [
              "<div>\n",
              "<style scoped>\n",
              "    .dataframe tbody tr th:only-of-type {\n",
              "        vertical-align: middle;\n",
              "    }\n",
              "\n",
              "    .dataframe tbody tr th {\n",
              "        vertical-align: top;\n",
              "    }\n",
              "\n",
              "    .dataframe thead th {\n",
              "        text-align: right;\n",
              "    }\n",
              "</style>\n",
              "<table border=\"1\" class=\"dataframe\">\n",
              "  <thead>\n",
              "    <tr style=\"text-align: right;\">\n",
              "      <th></th>\n",
              "      <th>name</th>\n",
              "      <th>genre</th>\n",
              "      <th>type</th>\n",
              "      <th>episodes</th>\n",
              "      <th>rating</th>\n",
              "      <th>members</th>\n",
              "    </tr>\n",
              "    <tr>\n",
              "      <th>anime_id</th>\n",
              "      <th></th>\n",
              "      <th></th>\n",
              "      <th></th>\n",
              "      <th></th>\n",
              "      <th></th>\n",
              "      <th></th>\n",
              "    </tr>\n",
              "  </thead>\n",
              "  <tbody>\n",
              "    <tr>\n",
              "      <th>32281</th>\n",
              "      <td>Kimi no Na wa.</td>\n",
              "      <td>Drama, Romance, School, Supernatural</td>\n",
              "      <td>Movie</td>\n",
              "      <td>1</td>\n",
              "      <td>9.37</td>\n",
              "      <td>200630</td>\n",
              "    </tr>\n",
              "    <tr>\n",
              "      <th>5114</th>\n",
              "      <td>Fullmetal Alchemist: Brotherhood</td>\n",
              "      <td>Action, Adventure, Drama, Fantasy, Magic, Mili...</td>\n",
              "      <td>TV</td>\n",
              "      <td>64</td>\n",
              "      <td>9.26</td>\n",
              "      <td>793665</td>\n",
              "    </tr>\n",
              "    <tr>\n",
              "      <th>28977</th>\n",
              "      <td>Gintama°</td>\n",
              "      <td>Action, Comedy, Historical, Parody, Samurai, S...</td>\n",
              "      <td>TV</td>\n",
              "      <td>51</td>\n",
              "      <td>9.25</td>\n",
              "      <td>114262</td>\n",
              "    </tr>\n",
              "    <tr>\n",
              "      <th>9253</th>\n",
              "      <td>Steins;Gate</td>\n",
              "      <td>Sci-Fi, Thriller</td>\n",
              "      <td>TV</td>\n",
              "      <td>24</td>\n",
              "      <td>9.17</td>\n",
              "      <td>673572</td>\n",
              "    </tr>\n",
              "    <tr>\n",
              "      <th>9969</th>\n",
              "      <td>Gintama&amp;#039;</td>\n",
              "      <td>Action, Comedy, Historical, Parody, Samurai, S...</td>\n",
              "      <td>TV</td>\n",
              "      <td>51</td>\n",
              "      <td>9.16</td>\n",
              "      <td>151266</td>\n",
              "    </tr>\n",
              "  </tbody>\n",
              "</table>\n",
              "</div>"
            ],
            "text/plain": [
              "                                      name  \\\n",
              "anime_id                                     \n",
              "32281                       Kimi no Na wa.   \n",
              "5114      Fullmetal Alchemist: Brotherhood   \n",
              "28977                             Gintama°   \n",
              "9253                           Steins;Gate   \n",
              "9969                         Gintama&#039;   \n",
              "\n",
              "                                                      genre   type  episodes  \\\n",
              "anime_id                                                                       \n",
              "32281                  Drama, Romance, School, Supernatural  Movie         1   \n",
              "5114      Action, Adventure, Drama, Fantasy, Magic, Mili...     TV        64   \n",
              "28977     Action, Comedy, Historical, Parody, Samurai, S...     TV        51   \n",
              "9253                                       Sci-Fi, Thriller     TV        24   \n",
              "9969      Action, Comedy, Historical, Parody, Samurai, S...     TV        51   \n",
              "\n",
              "          rating  members  \n",
              "anime_id                   \n",
              "32281       9.37   200630  \n",
              "5114        9.26   793665  \n",
              "28977       9.25   114262  \n",
              "9253        9.17   673572  \n",
              "9969        9.16   151266  "
            ]
          },
          "metadata": {
            "tags": []
          },
          "execution_count": 9
        }
      ]
    },
    {
      "cell_type": "markdown",
      "metadata": {
        "id": "fuQ6R6fIvAlt"
      },
      "source": [
        "Para utilizar multiples índices simplemente debemos pasarle una lista con el nombre de las columnas que queremos sean utilizadas como índices"
      ]
    },
    {
      "cell_type": "code",
      "metadata": {
        "colab": {
          "base_uri": "https://localhost:8080/",
          "height": 235
        },
        "id": "fQ7NOx64vAlw",
        "outputId": "308fa777-2249-4949-b354-776e61205c14"
      },
      "source": [
        "first_import = pd.read_csv('gs://diplomado-data-science-uc-python/python/02-Pandas/data/anime.csv',delimiter=';',index_col=['anime_id','type'])\n",
        "first_import.head()"
      ],
      "execution_count": null,
      "outputs": [
        {
          "output_type": "execute_result",
          "data": {
            "text/html": [
              "<div>\n",
              "<style scoped>\n",
              "    .dataframe tbody tr th:only-of-type {\n",
              "        vertical-align: middle;\n",
              "    }\n",
              "\n",
              "    .dataframe tbody tr th {\n",
              "        vertical-align: top;\n",
              "    }\n",
              "\n",
              "    .dataframe thead th {\n",
              "        text-align: right;\n",
              "    }\n",
              "</style>\n",
              "<table border=\"1\" class=\"dataframe\">\n",
              "  <thead>\n",
              "    <tr style=\"text-align: right;\">\n",
              "      <th></th>\n",
              "      <th></th>\n",
              "      <th>name</th>\n",
              "      <th>genre</th>\n",
              "      <th>episodes</th>\n",
              "      <th>rating</th>\n",
              "      <th>members</th>\n",
              "    </tr>\n",
              "    <tr>\n",
              "      <th>anime_id</th>\n",
              "      <th>type</th>\n",
              "      <th></th>\n",
              "      <th></th>\n",
              "      <th></th>\n",
              "      <th></th>\n",
              "      <th></th>\n",
              "    </tr>\n",
              "  </thead>\n",
              "  <tbody>\n",
              "    <tr>\n",
              "      <th>32281</th>\n",
              "      <th>Movie</th>\n",
              "      <td>Kimi no Na wa.</td>\n",
              "      <td>Drama, Romance, School, Supernatural</td>\n",
              "      <td>1</td>\n",
              "      <td>9.37</td>\n",
              "      <td>200630</td>\n",
              "    </tr>\n",
              "    <tr>\n",
              "      <th>5114</th>\n",
              "      <th>TV</th>\n",
              "      <td>Fullmetal Alchemist: Brotherhood</td>\n",
              "      <td>Action, Adventure, Drama, Fantasy, Magic, Mili...</td>\n",
              "      <td>64</td>\n",
              "      <td>9.26</td>\n",
              "      <td>793665</td>\n",
              "    </tr>\n",
              "    <tr>\n",
              "      <th>28977</th>\n",
              "      <th>TV</th>\n",
              "      <td>Gintama°</td>\n",
              "      <td>Action, Comedy, Historical, Parody, Samurai, S...</td>\n",
              "      <td>51</td>\n",
              "      <td>9.25</td>\n",
              "      <td>114262</td>\n",
              "    </tr>\n",
              "    <tr>\n",
              "      <th>9253</th>\n",
              "      <th>TV</th>\n",
              "      <td>Steins;Gate</td>\n",
              "      <td>Sci-Fi, Thriller</td>\n",
              "      <td>24</td>\n",
              "      <td>9.17</td>\n",
              "      <td>673572</td>\n",
              "    </tr>\n",
              "    <tr>\n",
              "      <th>9969</th>\n",
              "      <th>TV</th>\n",
              "      <td>Gintama&amp;#039;</td>\n",
              "      <td>Action, Comedy, Historical, Parody, Samurai, S...</td>\n",
              "      <td>51</td>\n",
              "      <td>9.16</td>\n",
              "      <td>151266</td>\n",
              "    </tr>\n",
              "  </tbody>\n",
              "</table>\n",
              "</div>"
            ],
            "text/plain": [
              "                                            name  \\\n",
              "anime_id type                                      \n",
              "32281    Movie                    Kimi no Na wa.   \n",
              "5114     TV     Fullmetal Alchemist: Brotherhood   \n",
              "28977    TV                             Gintama°   \n",
              "9253     TV                          Steins;Gate   \n",
              "9969     TV                        Gintama&#039;   \n",
              "\n",
              "                                                            genre  episodes  \\\n",
              "anime_id type                                                                 \n",
              "32281    Movie               Drama, Romance, School, Supernatural         1   \n",
              "5114     TV     Action, Adventure, Drama, Fantasy, Magic, Mili...        64   \n",
              "28977    TV     Action, Comedy, Historical, Parody, Samurai, S...        51   \n",
              "9253     TV                                      Sci-Fi, Thriller        24   \n",
              "9969     TV     Action, Comedy, Historical, Parody, Samurai, S...        51   \n",
              "\n",
              "                rating  members  \n",
              "anime_id type                    \n",
              "32281    Movie    9.37   200630  \n",
              "5114     TV       9.26   793665  \n",
              "28977    TV       9.25   114262  \n",
              "9253     TV       9.17   673572  \n",
              "9969     TV       9.16   151266  "
            ]
          },
          "metadata": {
            "tags": []
          },
          "execution_count": 10
        }
      ]
    },
    {
      "cell_type": "markdown",
      "metadata": {
        "id": "nosFyQRVvAl8"
      },
      "source": [
        "Un ejemplo importante de la utilización de índices es cuando contamos con fechas en nuestros datos (series de tiempo), como se muestra a continuación"
      ]
    },
    {
      "cell_type": "code",
      "metadata": {
        "colab": {
          "base_uri": "https://localhost:8080/",
          "height": 235
        },
        "id": "Qa-n61HFvAl-",
        "outputId": "e65db806-6642-4a1b-f096-dd1e27d72888"
      },
      "source": [
        "fechas_index = pd.read_csv('gs://diplomado-data-science-uc-python/python/02-Pandas/data/SPfuture.csv',index_col = 'Date',parse_dates=True)\n",
        "fechas_index.head()"
      ],
      "execution_count": null,
      "outputs": [
        {
          "output_type": "execute_result",
          "data": {
            "text/html": [
              "<div>\n",
              "<style scoped>\n",
              "    .dataframe tbody tr th:only-of-type {\n",
              "        vertical-align: middle;\n",
              "    }\n",
              "\n",
              "    .dataframe tbody tr th {\n",
              "        vertical-align: top;\n",
              "    }\n",
              "\n",
              "    .dataframe thead th {\n",
              "        text-align: right;\n",
              "    }\n",
              "</style>\n",
              "<table border=\"1\" class=\"dataframe\">\n",
              "  <thead>\n",
              "    <tr style=\"text-align: right;\">\n",
              "      <th></th>\n",
              "      <th>Open</th>\n",
              "      <th>High</th>\n",
              "      <th>Low</th>\n",
              "      <th>Close</th>\n",
              "      <th>Adj Close</th>\n",
              "      <th>Volume</th>\n",
              "    </tr>\n",
              "    <tr>\n",
              "      <th>Date</th>\n",
              "      <th></th>\n",
              "      <th></th>\n",
              "      <th></th>\n",
              "      <th></th>\n",
              "      <th></th>\n",
              "      <th></th>\n",
              "    </tr>\n",
              "  </thead>\n",
              "  <tbody>\n",
              "    <tr>\n",
              "      <th>2019-08-11</th>\n",
              "      <td>2918.75</td>\n",
              "      <td>2926.50</td>\n",
              "      <td>2914.50</td>\n",
              "      <td>2916.50</td>\n",
              "      <td>2916.50</td>\n",
              "      <td>902330.0</td>\n",
              "    </tr>\n",
              "    <tr>\n",
              "      <th>2019-08-12</th>\n",
              "      <td>2918.75</td>\n",
              "      <td>2931.00</td>\n",
              "      <td>2872.50</td>\n",
              "      <td>2880.25</td>\n",
              "      <td>2880.25</td>\n",
              "      <td>1710875.0</td>\n",
              "    </tr>\n",
              "    <tr>\n",
              "      <th>2019-08-13</th>\n",
              "      <td>2882.25</td>\n",
              "      <td>2944.25</td>\n",
              "      <td>2866.75</td>\n",
              "      <td>2932.00</td>\n",
              "      <td>2932.00</td>\n",
              "      <td>2184012.0</td>\n",
              "    </tr>\n",
              "    <tr>\n",
              "      <th>2019-08-14</th>\n",
              "      <td>2931.00</td>\n",
              "      <td>2936.50</td>\n",
              "      <td>2835.75</td>\n",
              "      <td>2840.75</td>\n",
              "      <td>2840.75</td>\n",
              "      <td>2786308.0</td>\n",
              "    </tr>\n",
              "    <tr>\n",
              "      <th>2019-08-15</th>\n",
              "      <td>2836.00</td>\n",
              "      <td>2871.75</td>\n",
              "      <td>2817.75</td>\n",
              "      <td>2848.50</td>\n",
              "      <td>2848.50</td>\n",
              "      <td>2495340.0</td>\n",
              "    </tr>\n",
              "  </tbody>\n",
              "</table>\n",
              "</div>"
            ],
            "text/plain": [
              "               Open     High      Low    Close  Adj Close     Volume\n",
              "Date                                                                \n",
              "2019-08-11  2918.75  2926.50  2914.50  2916.50    2916.50   902330.0\n",
              "2019-08-12  2918.75  2931.00  2872.50  2880.25    2880.25  1710875.0\n",
              "2019-08-13  2882.25  2944.25  2866.75  2932.00    2932.00  2184012.0\n",
              "2019-08-14  2931.00  2936.50  2835.75  2840.75    2840.75  2786308.0\n",
              "2019-08-15  2836.00  2871.75  2817.75  2848.50    2848.50  2495340.0"
            ]
          },
          "metadata": {
            "tags": []
          },
          "execution_count": 11
        }
      ]
    },
    {
      "cell_type": "markdown",
      "metadata": {
        "id": "JD4hwNUmvAmG"
      },
      "source": [
        "## Selección de variables y/o observaciones\n",
        "\n",
        "Solo a modo de unificar lenguaje, llamaremos variables a las columnas de un dataframe mientras que observaciones o registros se refiere a las filas del mismo. Cuando tenemos un dataframe, existen distintas formas de acceder a la información que éste contiene y en esta sección revisaremos dos métodos `iloc`y `loc`.\n",
        " - `iloc` es un método que permite seleccionar filas (o columnas) mediante su posición (recibe números enteros)\n",
        " - `loc` también permite seleccionar filas (o columnas) pero basado en índices (recibe etiquetas)\n",
        "\n",
        "Ahora haremos algunas selecciones utilizando nuestro `first_import` dataframe para utilizar dichos métodos."
      ]
    },
    {
      "cell_type": "code",
      "metadata": {
        "colab": {
          "base_uri": "https://localhost:8080/",
          "height": 238
        },
        "id": "2OjnaQ33vAmH",
        "outputId": "9618e297-3dbc-4199-ca28-052217de3021"
      },
      "source": [
        "# seleccionar la variable name\n",
        "# La form mas general\n",
        "first_import.loc[:,'name']\n",
        "# Mas específica\n",
        "first_import['name']\n",
        "# Super específica\n",
        "first_import.name"
      ],
      "execution_count": null,
      "outputs": [
        {
          "output_type": "execute_result",
          "data": {
            "text/plain": [
              "anime_id  type \n",
              "32281     Movie                      Kimi no Na wa.\n",
              "5114      TV       Fullmetal Alchemist: Brotherhood\n",
              "28977     TV                               Gintama°\n",
              "9253      TV                            Steins;Gate\n",
              "9969      TV                          Gintama&#039;\n",
              "                                 ...               \n",
              "9600      OVA                        G-Taste (2010)\n",
              "2592      OVA                                Kimera\n",
              "730       OVA              Houkago no Shokuinshitsu\n",
              "6546      OVA          Pico: My Little Summer Story\n",
              "30663     ONA                        Docchi mo Maid\n",
              "Name: name, Length: 10731, dtype: object"
            ]
          },
          "metadata": {
            "tags": []
          },
          "execution_count": 12
        }
      ]
    },
    {
      "cell_type": "code",
      "metadata": {
        "colab": {
          "base_uri": "https://localhost:8080/",
          "height": 419
        },
        "id": "dXTqCAoVvAmQ",
        "outputId": "916d4bb0-33b5-478f-a0e8-2597425aef90"
      },
      "source": [
        "# seleccionar las variables name y episodes\n",
        "first_import.loc[:,['name','episodes']]\n",
        "\n",
        "#  seleccionar todas menos una\n",
        "first_import.loc[:, first_import.columns != 'name']\n",
        "\n",
        "# Cuando quiero descartar mas de 2 columnas drop es mas facil\n",
        "first_import.drop(['name', 'genre', 'members'], axis='columns')"
      ],
      "execution_count": null,
      "outputs": [
        {
          "output_type": "execute_result",
          "data": {
            "text/html": [
              "<div>\n",
              "<style scoped>\n",
              "    .dataframe tbody tr th:only-of-type {\n",
              "        vertical-align: middle;\n",
              "    }\n",
              "\n",
              "    .dataframe tbody tr th {\n",
              "        vertical-align: top;\n",
              "    }\n",
              "\n",
              "    .dataframe thead th {\n",
              "        text-align: right;\n",
              "    }\n",
              "</style>\n",
              "<table border=\"1\" class=\"dataframe\">\n",
              "  <thead>\n",
              "    <tr style=\"text-align: right;\">\n",
              "      <th></th>\n",
              "      <th></th>\n",
              "      <th>episodes</th>\n",
              "      <th>rating</th>\n",
              "    </tr>\n",
              "    <tr>\n",
              "      <th>anime_id</th>\n",
              "      <th>type</th>\n",
              "      <th></th>\n",
              "      <th></th>\n",
              "    </tr>\n",
              "  </thead>\n",
              "  <tbody>\n",
              "    <tr>\n",
              "      <th>32281</th>\n",
              "      <th>Movie</th>\n",
              "      <td>1</td>\n",
              "      <td>9.37</td>\n",
              "    </tr>\n",
              "    <tr>\n",
              "      <th>5114</th>\n",
              "      <th>TV</th>\n",
              "      <td>64</td>\n",
              "      <td>9.26</td>\n",
              "    </tr>\n",
              "    <tr>\n",
              "      <th>28977</th>\n",
              "      <th>TV</th>\n",
              "      <td>51</td>\n",
              "      <td>9.25</td>\n",
              "    </tr>\n",
              "    <tr>\n",
              "      <th>9253</th>\n",
              "      <th>TV</th>\n",
              "      <td>24</td>\n",
              "      <td>9.17</td>\n",
              "    </tr>\n",
              "    <tr>\n",
              "      <th>9969</th>\n",
              "      <th>TV</th>\n",
              "      <td>51</td>\n",
              "      <td>9.16</td>\n",
              "    </tr>\n",
              "    <tr>\n",
              "      <th>...</th>\n",
              "      <th>...</th>\n",
              "      <td>...</td>\n",
              "      <td>...</td>\n",
              "    </tr>\n",
              "    <tr>\n",
              "      <th>9600</th>\n",
              "      <th>OVA</th>\n",
              "      <td>1</td>\n",
              "      <td>5.49</td>\n",
              "    </tr>\n",
              "    <tr>\n",
              "      <th>2592</th>\n",
              "      <th>OVA</th>\n",
              "      <td>1</td>\n",
              "      <td>5.29</td>\n",
              "    </tr>\n",
              "    <tr>\n",
              "      <th>730</th>\n",
              "      <th>OVA</th>\n",
              "      <td>2</td>\n",
              "      <td>5.23</td>\n",
              "    </tr>\n",
              "    <tr>\n",
              "      <th>6546</th>\n",
              "      <th>OVA</th>\n",
              "      <td>1</td>\n",
              "      <td>5.21</td>\n",
              "    </tr>\n",
              "    <tr>\n",
              "      <th>30663</th>\n",
              "      <th>ONA</th>\n",
              "      <td>1</td>\n",
              "      <td>5.15</td>\n",
              "    </tr>\n",
              "  </tbody>\n",
              "</table>\n",
              "<p>10731 rows × 2 columns</p>\n",
              "</div>"
            ],
            "text/plain": [
              "                episodes  rating\n",
              "anime_id type                   \n",
              "32281    Movie         1    9.37\n",
              "5114     TV           64    9.26\n",
              "28977    TV           51    9.25\n",
              "9253     TV           24    9.17\n",
              "9969     TV           51    9.16\n",
              "...                  ...     ...\n",
              "9600     OVA           1    5.49\n",
              "2592     OVA           1    5.29\n",
              "730      OVA           2    5.23\n",
              "6546     OVA           1    5.21\n",
              "30663    ONA           1    5.15\n",
              "\n",
              "[10731 rows x 2 columns]"
            ]
          },
          "metadata": {
            "tags": []
          },
          "execution_count": 13
        }
      ]
    },
    {
      "cell_type": "code",
      "metadata": {
        "colab": {
          "base_uri": "https://localhost:8080/",
          "height": 173
        },
        "id": "gtt9YI17MkIx",
        "outputId": "7cf3e026-b497-4197-d339-267882c1dff9"
      },
      "source": [
        "# Seleccionar primeros 3 elementos usando loc\n",
        "first_import.loc[[32281, 5114, 28977], :]"
      ],
      "execution_count": null,
      "outputs": [
        {
          "output_type": "execute_result",
          "data": {
            "text/html": [
              "<div>\n",
              "<style scoped>\n",
              "    .dataframe tbody tr th:only-of-type {\n",
              "        vertical-align: middle;\n",
              "    }\n",
              "\n",
              "    .dataframe tbody tr th {\n",
              "        vertical-align: top;\n",
              "    }\n",
              "\n",
              "    .dataframe thead th {\n",
              "        text-align: right;\n",
              "    }\n",
              "</style>\n",
              "<table border=\"1\" class=\"dataframe\">\n",
              "  <thead>\n",
              "    <tr style=\"text-align: right;\">\n",
              "      <th></th>\n",
              "      <th></th>\n",
              "      <th>name</th>\n",
              "      <th>genre</th>\n",
              "      <th>episodes</th>\n",
              "      <th>rating</th>\n",
              "      <th>members</th>\n",
              "    </tr>\n",
              "    <tr>\n",
              "      <th>anime_id</th>\n",
              "      <th>type</th>\n",
              "      <th></th>\n",
              "      <th></th>\n",
              "      <th></th>\n",
              "      <th></th>\n",
              "      <th></th>\n",
              "    </tr>\n",
              "  </thead>\n",
              "  <tbody>\n",
              "    <tr>\n",
              "      <th>32281</th>\n",
              "      <th>Movie</th>\n",
              "      <td>Kimi no Na wa.</td>\n",
              "      <td>Drama, Romance, School, Supernatural</td>\n",
              "      <td>1</td>\n",
              "      <td>9.37</td>\n",
              "      <td>200630</td>\n",
              "    </tr>\n",
              "    <tr>\n",
              "      <th>5114</th>\n",
              "      <th>TV</th>\n",
              "      <td>Fullmetal Alchemist: Brotherhood</td>\n",
              "      <td>Action, Adventure, Drama, Fantasy, Magic, Mili...</td>\n",
              "      <td>64</td>\n",
              "      <td>9.26</td>\n",
              "      <td>793665</td>\n",
              "    </tr>\n",
              "    <tr>\n",
              "      <th>28977</th>\n",
              "      <th>TV</th>\n",
              "      <td>Gintama°</td>\n",
              "      <td>Action, Comedy, Historical, Parody, Samurai, S...</td>\n",
              "      <td>51</td>\n",
              "      <td>9.25</td>\n",
              "      <td>114262</td>\n",
              "    </tr>\n",
              "  </tbody>\n",
              "</table>\n",
              "</div>"
            ],
            "text/plain": [
              "                                            name  \\\n",
              "anime_id type                                      \n",
              "32281    Movie                    Kimi no Na wa.   \n",
              "5114     TV     Fullmetal Alchemist: Brotherhood   \n",
              "28977    TV                             Gintama°   \n",
              "\n",
              "                                                            genre  episodes  \\\n",
              "anime_id type                                                                 \n",
              "32281    Movie               Drama, Romance, School, Supernatural         1   \n",
              "5114     TV     Action, Adventure, Drama, Fantasy, Magic, Mili...        64   \n",
              "28977    TV     Action, Comedy, Historical, Parody, Samurai, S...        51   \n",
              "\n",
              "                rating  members  \n",
              "anime_id type                    \n",
              "32281    Movie    9.37   200630  \n",
              "5114     TV       9.26   793665  \n",
              "28977    TV       9.25   114262  "
            ]
          },
          "metadata": {
            "tags": []
          },
          "execution_count": 14
        }
      ]
    },
    {
      "cell_type": "code",
      "metadata": {
        "colab": {
          "base_uri": "https://localhost:8080/",
          "height": 173
        },
        "id": "Fd4HSMbuM7U4",
        "outputId": "87371084-8b5b-4bdc-97ff-e47774831ae2"
      },
      "source": [
        "# Seleccionar primeros 3 elementos usando iloc\n",
        "first_import.iloc[0:3, :]"
      ],
      "execution_count": null,
      "outputs": [
        {
          "output_type": "execute_result",
          "data": {
            "text/html": [
              "<div>\n",
              "<style scoped>\n",
              "    .dataframe tbody tr th:only-of-type {\n",
              "        vertical-align: middle;\n",
              "    }\n",
              "\n",
              "    .dataframe tbody tr th {\n",
              "        vertical-align: top;\n",
              "    }\n",
              "\n",
              "    .dataframe thead th {\n",
              "        text-align: right;\n",
              "    }\n",
              "</style>\n",
              "<table border=\"1\" class=\"dataframe\">\n",
              "  <thead>\n",
              "    <tr style=\"text-align: right;\">\n",
              "      <th></th>\n",
              "      <th></th>\n",
              "      <th>name</th>\n",
              "      <th>genre</th>\n",
              "      <th>episodes</th>\n",
              "      <th>rating</th>\n",
              "      <th>members</th>\n",
              "    </tr>\n",
              "    <tr>\n",
              "      <th>anime_id</th>\n",
              "      <th>type</th>\n",
              "      <th></th>\n",
              "      <th></th>\n",
              "      <th></th>\n",
              "      <th></th>\n",
              "      <th></th>\n",
              "    </tr>\n",
              "  </thead>\n",
              "  <tbody>\n",
              "    <tr>\n",
              "      <th>32281</th>\n",
              "      <th>Movie</th>\n",
              "      <td>Kimi no Na wa.</td>\n",
              "      <td>Drama, Romance, School, Supernatural</td>\n",
              "      <td>1</td>\n",
              "      <td>9.37</td>\n",
              "      <td>200630</td>\n",
              "    </tr>\n",
              "    <tr>\n",
              "      <th>5114</th>\n",
              "      <th>TV</th>\n",
              "      <td>Fullmetal Alchemist: Brotherhood</td>\n",
              "      <td>Action, Adventure, Drama, Fantasy, Magic, Mili...</td>\n",
              "      <td>64</td>\n",
              "      <td>9.26</td>\n",
              "      <td>793665</td>\n",
              "    </tr>\n",
              "    <tr>\n",
              "      <th>28977</th>\n",
              "      <th>TV</th>\n",
              "      <td>Gintama°</td>\n",
              "      <td>Action, Comedy, Historical, Parody, Samurai, S...</td>\n",
              "      <td>51</td>\n",
              "      <td>9.25</td>\n",
              "      <td>114262</td>\n",
              "    </tr>\n",
              "  </tbody>\n",
              "</table>\n",
              "</div>"
            ],
            "text/plain": [
              "                                            name  \\\n",
              "anime_id type                                      \n",
              "32281    Movie                    Kimi no Na wa.   \n",
              "5114     TV     Fullmetal Alchemist: Brotherhood   \n",
              "28977    TV                             Gintama°   \n",
              "\n",
              "                                                            genre  episodes  \\\n",
              "anime_id type                                                                 \n",
              "32281    Movie               Drama, Romance, School, Supernatural         1   \n",
              "5114     TV     Action, Adventure, Drama, Fantasy, Magic, Mili...        64   \n",
              "28977    TV     Action, Comedy, Historical, Parody, Samurai, S...        51   \n",
              "\n",
              "                rating  members  \n",
              "anime_id type                    \n",
              "32281    Movie    9.37   200630  \n",
              "5114     TV       9.26   793665  \n",
              "28977    TV       9.25   114262  "
            ]
          },
          "metadata": {
            "tags": []
          },
          "execution_count": 15
        }
      ]
    },
    {
      "cell_type": "code",
      "metadata": {
        "colab": {
          "base_uri": "https://localhost:8080/",
          "height": 450
        },
        "id": "3ZxvK1jAvAmW",
        "outputId": "a48d0aec-c915-49c1-c28f-8552ca7f1e8d"
      },
      "source": [
        "# Seleccionar 2 columnas utilizando iloc\n",
        "first_import.iloc[:,[0,2]]"
      ],
      "execution_count": null,
      "outputs": [
        {
          "output_type": "execute_result",
          "data": {
            "text/html": [
              "<div>\n",
              "<style scoped>\n",
              "    .dataframe tbody tr th:only-of-type {\n",
              "        vertical-align: middle;\n",
              "    }\n",
              "\n",
              "    .dataframe tbody tr th {\n",
              "        vertical-align: top;\n",
              "    }\n",
              "\n",
              "    .dataframe thead th {\n",
              "        text-align: right;\n",
              "    }\n",
              "</style>\n",
              "<table border=\"1\" class=\"dataframe\">\n",
              "  <thead>\n",
              "    <tr style=\"text-align: right;\">\n",
              "      <th></th>\n",
              "      <th></th>\n",
              "      <th>name</th>\n",
              "      <th>episodes</th>\n",
              "    </tr>\n",
              "    <tr>\n",
              "      <th>anime_id</th>\n",
              "      <th>type</th>\n",
              "      <th></th>\n",
              "      <th></th>\n",
              "    </tr>\n",
              "  </thead>\n",
              "  <tbody>\n",
              "    <tr>\n",
              "      <th>32281</th>\n",
              "      <th>Movie</th>\n",
              "      <td>Kimi no Na wa.</td>\n",
              "      <td>1</td>\n",
              "    </tr>\n",
              "    <tr>\n",
              "      <th>5114</th>\n",
              "      <th>TV</th>\n",
              "      <td>Fullmetal Alchemist: Brotherhood</td>\n",
              "      <td>64</td>\n",
              "    </tr>\n",
              "    <tr>\n",
              "      <th>28977</th>\n",
              "      <th>TV</th>\n",
              "      <td>Gintama°</td>\n",
              "      <td>51</td>\n",
              "    </tr>\n",
              "    <tr>\n",
              "      <th>9253</th>\n",
              "      <th>TV</th>\n",
              "      <td>Steins;Gate</td>\n",
              "      <td>24</td>\n",
              "    </tr>\n",
              "    <tr>\n",
              "      <th>9969</th>\n",
              "      <th>TV</th>\n",
              "      <td>Gintama&amp;#039;</td>\n",
              "      <td>51</td>\n",
              "    </tr>\n",
              "    <tr>\n",
              "      <th>...</th>\n",
              "      <th>...</th>\n",
              "      <td>...</td>\n",
              "      <td>...</td>\n",
              "    </tr>\n",
              "    <tr>\n",
              "      <th>9600</th>\n",
              "      <th>OVA</th>\n",
              "      <td>G-Taste (2010)</td>\n",
              "      <td>1</td>\n",
              "    </tr>\n",
              "    <tr>\n",
              "      <th>2592</th>\n",
              "      <th>OVA</th>\n",
              "      <td>Kimera</td>\n",
              "      <td>1</td>\n",
              "    </tr>\n",
              "    <tr>\n",
              "      <th>730</th>\n",
              "      <th>OVA</th>\n",
              "      <td>Houkago no Shokuinshitsu</td>\n",
              "      <td>2</td>\n",
              "    </tr>\n",
              "    <tr>\n",
              "      <th>6546</th>\n",
              "      <th>OVA</th>\n",
              "      <td>Pico: My Little Summer Story</td>\n",
              "      <td>1</td>\n",
              "    </tr>\n",
              "    <tr>\n",
              "      <th>30663</th>\n",
              "      <th>ONA</th>\n",
              "      <td>Docchi mo Maid</td>\n",
              "      <td>1</td>\n",
              "    </tr>\n",
              "  </tbody>\n",
              "</table>\n",
              "<p>10731 rows × 2 columns</p>\n",
              "</div>"
            ],
            "text/plain": [
              "                                            name  episodes\n",
              "anime_id type                                             \n",
              "32281    Movie                    Kimi no Na wa.         1\n",
              "5114     TV     Fullmetal Alchemist: Brotherhood        64\n",
              "28977    TV                             Gintama°        51\n",
              "9253     TV                          Steins;Gate        24\n",
              "9969     TV                        Gintama&#039;        51\n",
              "...                                          ...       ...\n",
              "9600     OVA                      G-Taste (2010)         1\n",
              "2592     OVA                              Kimera         1\n",
              "730      OVA            Houkago no Shokuinshitsu         2\n",
              "6546     OVA        Pico: My Little Summer Story         1\n",
              "30663    ONA                      Docchi mo Maid         1\n",
              "\n",
              "[10731 rows x 2 columns]"
            ]
          },
          "metadata": {
            "tags": []
          },
          "execution_count": 16
        }
      ]
    },
    {
      "cell_type": "code",
      "metadata": {
        "id": "2j3Q_5-qvAmb",
        "outputId": "2cc9a7fc-60d0-48bb-ff3c-ea37e18f1d38"
      },
      "source": [
        "# Para las mismas variables, sólo seleccionar las 10 primeras observaciones\n",
        "first_import.iloc[0:10,[0,2]]"
      ],
      "execution_count": null,
      "outputs": [
        {
          "output_type": "execute_result",
          "data": {
            "text/html": [
              "<div>\n",
              "<style scoped>\n",
              "    .dataframe tbody tr th:only-of-type {\n",
              "        vertical-align: middle;\n",
              "    }\n",
              "\n",
              "    .dataframe tbody tr th {\n",
              "        vertical-align: top;\n",
              "    }\n",
              "\n",
              "    .dataframe thead th {\n",
              "        text-align: right;\n",
              "    }\n",
              "</style>\n",
              "<table border=\"1\" class=\"dataframe\">\n",
              "  <thead>\n",
              "    <tr style=\"text-align: right;\">\n",
              "      <th></th>\n",
              "      <th></th>\n",
              "      <th>name</th>\n",
              "      <th>episodes</th>\n",
              "    </tr>\n",
              "    <tr>\n",
              "      <th>anime_id</th>\n",
              "      <th>type</th>\n",
              "      <th></th>\n",
              "      <th></th>\n",
              "    </tr>\n",
              "  </thead>\n",
              "  <tbody>\n",
              "    <tr>\n",
              "      <th>32281</th>\n",
              "      <th>Movie</th>\n",
              "      <td>Kimi no Na wa.</td>\n",
              "      <td>1</td>\n",
              "    </tr>\n",
              "    <tr>\n",
              "      <th>5114</th>\n",
              "      <th>TV</th>\n",
              "      <td>Fullmetal Alchemist: Brotherhood</td>\n",
              "      <td>64</td>\n",
              "    </tr>\n",
              "    <tr>\n",
              "      <th>28977</th>\n",
              "      <th>TV</th>\n",
              "      <td>Gintama°</td>\n",
              "      <td>51</td>\n",
              "    </tr>\n",
              "    <tr>\n",
              "      <th>9253</th>\n",
              "      <th>TV</th>\n",
              "      <td>Steins;Gate</td>\n",
              "      <td>24</td>\n",
              "    </tr>\n",
              "    <tr>\n",
              "      <th>9969</th>\n",
              "      <th>TV</th>\n",
              "      <td>Gintama&amp;#039;</td>\n",
              "      <td>51</td>\n",
              "    </tr>\n",
              "    <tr>\n",
              "      <th>32935</th>\n",
              "      <th>TV</th>\n",
              "      <td>Haikyuu!!: Karasuno Koukou VS Shiratorizawa Ga...</td>\n",
              "      <td>10</td>\n",
              "    </tr>\n",
              "    <tr>\n",
              "      <th>11061</th>\n",
              "      <th>TV</th>\n",
              "      <td>Hunter x Hunter (2011)</td>\n",
              "      <td>148</td>\n",
              "    </tr>\n",
              "    <tr>\n",
              "      <th>820</th>\n",
              "      <th>OVA</th>\n",
              "      <td>Ginga Eiyuu Densetsu</td>\n",
              "      <td>110</td>\n",
              "    </tr>\n",
              "    <tr>\n",
              "      <th>15335</th>\n",
              "      <th>Movie</th>\n",
              "      <td>Gintama Movie: Kanketsu-hen - Yorozuya yo Eien...</td>\n",
              "      <td>1</td>\n",
              "    </tr>\n",
              "    <tr>\n",
              "      <th>15417</th>\n",
              "      <th>TV</th>\n",
              "      <td>Gintama&amp;#039;: Enchousen</td>\n",
              "      <td>13</td>\n",
              "    </tr>\n",
              "  </tbody>\n",
              "</table>\n",
              "</div>"
            ],
            "text/plain": [
              "                                                             name  episodes\n",
              "anime_id type                                                              \n",
              "32281    Movie                                     Kimi no Na wa.         1\n",
              "5114     TV                      Fullmetal Alchemist: Brotherhood        64\n",
              "28977    TV                                              Gintama°        51\n",
              "9253     TV                                           Steins;Gate        24\n",
              "9969     TV                                         Gintama&#039;        51\n",
              "32935    TV     Haikyuu!!: Karasuno Koukou VS Shiratorizawa Ga...        10\n",
              "11061    TV                                Hunter x Hunter (2011)       148\n",
              "820      OVA                                 Ginga Eiyuu Densetsu       110\n",
              "15335    Movie  Gintama Movie: Kanketsu-hen - Yorozuya yo Eien...         1\n",
              "15417    TV                              Gintama&#039;: Enchousen        13"
            ]
          },
          "metadata": {
            "tags": []
          },
          "execution_count": 17
        }
      ]
    },
    {
      "cell_type": "markdown",
      "metadata": {
        "id": "AY0edhpcvAmg"
      },
      "source": [
        "Otra forma de seleccionar variables y/o observaciones es utilizando los nombres de las variables, entregados como lista"
      ]
    },
    {
      "cell_type": "code",
      "metadata": {
        "colab": {
          "base_uri": "https://localhost:8080/",
          "height": 450
        },
        "id": "4Kgv5KocvAmg",
        "outputId": "ec37367f-e2c9-4c93-89bf-095ede343b58"
      },
      "source": [
        "first_import[['name','episodes']]"
      ],
      "execution_count": null,
      "outputs": [
        {
          "output_type": "execute_result",
          "data": {
            "text/html": [
              "<div>\n",
              "<style scoped>\n",
              "    .dataframe tbody tr th:only-of-type {\n",
              "        vertical-align: middle;\n",
              "    }\n",
              "\n",
              "    .dataframe tbody tr th {\n",
              "        vertical-align: top;\n",
              "    }\n",
              "\n",
              "    .dataframe thead th {\n",
              "        text-align: right;\n",
              "    }\n",
              "</style>\n",
              "<table border=\"1\" class=\"dataframe\">\n",
              "  <thead>\n",
              "    <tr style=\"text-align: right;\">\n",
              "      <th></th>\n",
              "      <th></th>\n",
              "      <th>name</th>\n",
              "      <th>episodes</th>\n",
              "    </tr>\n",
              "    <tr>\n",
              "      <th>anime_id</th>\n",
              "      <th>type</th>\n",
              "      <th></th>\n",
              "      <th></th>\n",
              "    </tr>\n",
              "  </thead>\n",
              "  <tbody>\n",
              "    <tr>\n",
              "      <th>32281</th>\n",
              "      <th>Movie</th>\n",
              "      <td>Kimi no Na wa.</td>\n",
              "      <td>1</td>\n",
              "    </tr>\n",
              "    <tr>\n",
              "      <th>5114</th>\n",
              "      <th>TV</th>\n",
              "      <td>Fullmetal Alchemist: Brotherhood</td>\n",
              "      <td>64</td>\n",
              "    </tr>\n",
              "    <tr>\n",
              "      <th>28977</th>\n",
              "      <th>TV</th>\n",
              "      <td>Gintama°</td>\n",
              "      <td>51</td>\n",
              "    </tr>\n",
              "    <tr>\n",
              "      <th>9253</th>\n",
              "      <th>TV</th>\n",
              "      <td>Steins;Gate</td>\n",
              "      <td>24</td>\n",
              "    </tr>\n",
              "    <tr>\n",
              "      <th>9969</th>\n",
              "      <th>TV</th>\n",
              "      <td>Gintama&amp;#039;</td>\n",
              "      <td>51</td>\n",
              "    </tr>\n",
              "    <tr>\n",
              "      <th>...</th>\n",
              "      <th>...</th>\n",
              "      <td>...</td>\n",
              "      <td>...</td>\n",
              "    </tr>\n",
              "    <tr>\n",
              "      <th>9600</th>\n",
              "      <th>OVA</th>\n",
              "      <td>G-Taste (2010)</td>\n",
              "      <td>1</td>\n",
              "    </tr>\n",
              "    <tr>\n",
              "      <th>2592</th>\n",
              "      <th>OVA</th>\n",
              "      <td>Kimera</td>\n",
              "      <td>1</td>\n",
              "    </tr>\n",
              "    <tr>\n",
              "      <th>730</th>\n",
              "      <th>OVA</th>\n",
              "      <td>Houkago no Shokuinshitsu</td>\n",
              "      <td>2</td>\n",
              "    </tr>\n",
              "    <tr>\n",
              "      <th>6546</th>\n",
              "      <th>OVA</th>\n",
              "      <td>Pico: My Little Summer Story</td>\n",
              "      <td>1</td>\n",
              "    </tr>\n",
              "    <tr>\n",
              "      <th>30663</th>\n",
              "      <th>ONA</th>\n",
              "      <td>Docchi mo Maid</td>\n",
              "      <td>1</td>\n",
              "    </tr>\n",
              "  </tbody>\n",
              "</table>\n",
              "<p>10731 rows × 2 columns</p>\n",
              "</div>"
            ],
            "text/plain": [
              "                                            name  episodes\n",
              "anime_id type                                             \n",
              "32281    Movie                    Kimi no Na wa.         1\n",
              "5114     TV     Fullmetal Alchemist: Brotherhood        64\n",
              "28977    TV                             Gintama°        51\n",
              "9253     TV                          Steins;Gate        24\n",
              "9969     TV                        Gintama&#039;        51\n",
              "...                                          ...       ...\n",
              "9600     OVA                      G-Taste (2010)         1\n",
              "2592     OVA                              Kimera         1\n",
              "730      OVA            Houkago no Shokuinshitsu         2\n",
              "6546     OVA        Pico: My Little Summer Story         1\n",
              "30663    ONA                      Docchi mo Maid         1\n",
              "\n",
              "[10731 rows x 2 columns]"
            ]
          },
          "metadata": {
            "tags": []
          },
          "execution_count": 18
        }
      ]
    },
    {
      "cell_type": "code",
      "metadata": {
        "colab": {
          "base_uri": "https://localhost:8080/",
          "height": 390
        },
        "id": "k-Zha63hvAmm",
        "outputId": "7ba80c01-e890-4c47-9d6a-cef5aeb51dcb"
      },
      "source": [
        "# Para acceder a las 10 primeras observaciones de las  2 variables previamente seleccionadas\n",
        "first_import[['name','episodes']][0:10]"
      ],
      "execution_count": null,
      "outputs": [
        {
          "output_type": "execute_result",
          "data": {
            "text/html": [
              "<div>\n",
              "<style scoped>\n",
              "    .dataframe tbody tr th:only-of-type {\n",
              "        vertical-align: middle;\n",
              "    }\n",
              "\n",
              "    .dataframe tbody tr th {\n",
              "        vertical-align: top;\n",
              "    }\n",
              "\n",
              "    .dataframe thead th {\n",
              "        text-align: right;\n",
              "    }\n",
              "</style>\n",
              "<table border=\"1\" class=\"dataframe\">\n",
              "  <thead>\n",
              "    <tr style=\"text-align: right;\">\n",
              "      <th></th>\n",
              "      <th></th>\n",
              "      <th>name</th>\n",
              "      <th>episodes</th>\n",
              "    </tr>\n",
              "    <tr>\n",
              "      <th>anime_id</th>\n",
              "      <th>type</th>\n",
              "      <th></th>\n",
              "      <th></th>\n",
              "    </tr>\n",
              "  </thead>\n",
              "  <tbody>\n",
              "    <tr>\n",
              "      <th>32281</th>\n",
              "      <th>Movie</th>\n",
              "      <td>Kimi no Na wa.</td>\n",
              "      <td>1</td>\n",
              "    </tr>\n",
              "    <tr>\n",
              "      <th>5114</th>\n",
              "      <th>TV</th>\n",
              "      <td>Fullmetal Alchemist: Brotherhood</td>\n",
              "      <td>64</td>\n",
              "    </tr>\n",
              "    <tr>\n",
              "      <th>28977</th>\n",
              "      <th>TV</th>\n",
              "      <td>Gintama°</td>\n",
              "      <td>51</td>\n",
              "    </tr>\n",
              "    <tr>\n",
              "      <th>9253</th>\n",
              "      <th>TV</th>\n",
              "      <td>Steins;Gate</td>\n",
              "      <td>24</td>\n",
              "    </tr>\n",
              "    <tr>\n",
              "      <th>9969</th>\n",
              "      <th>TV</th>\n",
              "      <td>Gintama&amp;#039;</td>\n",
              "      <td>51</td>\n",
              "    </tr>\n",
              "    <tr>\n",
              "      <th>32935</th>\n",
              "      <th>TV</th>\n",
              "      <td>Haikyuu!!: Karasuno Koukou VS Shiratorizawa Ga...</td>\n",
              "      <td>10</td>\n",
              "    </tr>\n",
              "    <tr>\n",
              "      <th>11061</th>\n",
              "      <th>TV</th>\n",
              "      <td>Hunter x Hunter (2011)</td>\n",
              "      <td>148</td>\n",
              "    </tr>\n",
              "    <tr>\n",
              "      <th>820</th>\n",
              "      <th>OVA</th>\n",
              "      <td>Ginga Eiyuu Densetsu</td>\n",
              "      <td>110</td>\n",
              "    </tr>\n",
              "    <tr>\n",
              "      <th>15335</th>\n",
              "      <th>Movie</th>\n",
              "      <td>Gintama Movie: Kanketsu-hen - Yorozuya yo Eien...</td>\n",
              "      <td>1</td>\n",
              "    </tr>\n",
              "    <tr>\n",
              "      <th>15417</th>\n",
              "      <th>TV</th>\n",
              "      <td>Gintama&amp;#039;: Enchousen</td>\n",
              "      <td>13</td>\n",
              "    </tr>\n",
              "  </tbody>\n",
              "</table>\n",
              "</div>"
            ],
            "text/plain": [
              "                                                             name  episodes\n",
              "anime_id type                                                              \n",
              "32281    Movie                                     Kimi no Na wa.         1\n",
              "5114     TV                      Fullmetal Alchemist: Brotherhood        64\n",
              "28977    TV                                              Gintama°        51\n",
              "9253     TV                                           Steins;Gate        24\n",
              "9969     TV                                         Gintama&#039;        51\n",
              "32935    TV     Haikyuu!!: Karasuno Koukou VS Shiratorizawa Ga...        10\n",
              "11061    TV                                Hunter x Hunter (2011)       148\n",
              "820      OVA                                 Ginga Eiyuu Densetsu       110\n",
              "15335    Movie  Gintama Movie: Kanketsu-hen - Yorozuya yo Eien...         1\n",
              "15417    TV                              Gintama&#039;: Enchousen        13"
            ]
          },
          "metadata": {
            "tags": []
          },
          "execution_count": 19
        }
      ]
    },
    {
      "cell_type": "code",
      "metadata": {
        "colab": {
          "base_uri": "https://localhost:8080/",
          "height": 359
        },
        "id": "vZGlC8hgvAmq",
        "outputId": "6de6e40a-d3b2-4c50-98d0-c31cbca60bc0"
      },
      "source": [
        "# En caso que el dataframe no se le haga nada al momento de importar, sus indices por defecto son números:\n",
        "first_import = pd.read_csv('gs://diplomado-data-science-uc-python/python/02-Pandas/data/anime.csv',delimiter=';')\n",
        "first_import.loc[0:9,['name','episodes', 'anime_id']]"
      ],
      "execution_count": null,
      "outputs": [
        {
          "output_type": "execute_result",
          "data": {
            "text/html": [
              "<div>\n",
              "<style scoped>\n",
              "    .dataframe tbody tr th:only-of-type {\n",
              "        vertical-align: middle;\n",
              "    }\n",
              "\n",
              "    .dataframe tbody tr th {\n",
              "        vertical-align: top;\n",
              "    }\n",
              "\n",
              "    .dataframe thead th {\n",
              "        text-align: right;\n",
              "    }\n",
              "</style>\n",
              "<table border=\"1\" class=\"dataframe\">\n",
              "  <thead>\n",
              "    <tr style=\"text-align: right;\">\n",
              "      <th></th>\n",
              "      <th>name</th>\n",
              "      <th>episodes</th>\n",
              "      <th>anime_id</th>\n",
              "    </tr>\n",
              "  </thead>\n",
              "  <tbody>\n",
              "    <tr>\n",
              "      <th>0</th>\n",
              "      <td>Kimi no Na wa.</td>\n",
              "      <td>1</td>\n",
              "      <td>32281</td>\n",
              "    </tr>\n",
              "    <tr>\n",
              "      <th>1</th>\n",
              "      <td>Fullmetal Alchemist: Brotherhood</td>\n",
              "      <td>64</td>\n",
              "      <td>5114</td>\n",
              "    </tr>\n",
              "    <tr>\n",
              "      <th>2</th>\n",
              "      <td>Gintama°</td>\n",
              "      <td>51</td>\n",
              "      <td>28977</td>\n",
              "    </tr>\n",
              "    <tr>\n",
              "      <th>3</th>\n",
              "      <td>Steins;Gate</td>\n",
              "      <td>24</td>\n",
              "      <td>9253</td>\n",
              "    </tr>\n",
              "    <tr>\n",
              "      <th>4</th>\n",
              "      <td>Gintama&amp;#039;</td>\n",
              "      <td>51</td>\n",
              "      <td>9969</td>\n",
              "    </tr>\n",
              "    <tr>\n",
              "      <th>5</th>\n",
              "      <td>Haikyuu!!: Karasuno Koukou VS Shiratorizawa Ga...</td>\n",
              "      <td>10</td>\n",
              "      <td>32935</td>\n",
              "    </tr>\n",
              "    <tr>\n",
              "      <th>6</th>\n",
              "      <td>Hunter x Hunter (2011)</td>\n",
              "      <td>148</td>\n",
              "      <td>11061</td>\n",
              "    </tr>\n",
              "    <tr>\n",
              "      <th>7</th>\n",
              "      <td>Ginga Eiyuu Densetsu</td>\n",
              "      <td>110</td>\n",
              "      <td>820</td>\n",
              "    </tr>\n",
              "    <tr>\n",
              "      <th>8</th>\n",
              "      <td>Gintama Movie: Kanketsu-hen - Yorozuya yo Eien...</td>\n",
              "      <td>1</td>\n",
              "      <td>15335</td>\n",
              "    </tr>\n",
              "    <tr>\n",
              "      <th>9</th>\n",
              "      <td>Gintama&amp;#039;: Enchousen</td>\n",
              "      <td>13</td>\n",
              "      <td>15417</td>\n",
              "    </tr>\n",
              "  </tbody>\n",
              "</table>\n",
              "</div>"
            ],
            "text/plain": [
              "                                                name  episodes  anime_id\n",
              "0                                     Kimi no Na wa.         1     32281\n",
              "1                   Fullmetal Alchemist: Brotherhood        64      5114\n",
              "2                                           Gintama°        51     28977\n",
              "3                                        Steins;Gate        24      9253\n",
              "4                                      Gintama&#039;        51      9969\n",
              "5  Haikyuu!!: Karasuno Koukou VS Shiratorizawa Ga...        10     32935\n",
              "6                             Hunter x Hunter (2011)       148     11061\n",
              "7                               Ginga Eiyuu Densetsu       110       820\n",
              "8  Gintama Movie: Kanketsu-hen - Yorozuya yo Eien...         1     15335\n",
              "9                           Gintama&#039;: Enchousen        13     15417"
            ]
          },
          "metadata": {
            "tags": []
          },
          "execution_count": 20
        }
      ]
    },
    {
      "cell_type": "markdown",
      "metadata": {
        "id": "YY2aHLHDvAmy"
      },
      "source": [
        "Otra forma de seleccionar es utilizando algun criterio, el cual genera una lista de `True`/`False`, seleccionando así aquellas observaciones que cumplan dicho criterio. Por ejemplo si en el dataset que hemos estado utilizando queremos seleccionar aquellos animes que han tenido 15 o menos episodios, tendriamos lo siguiente"
      ]
    },
    {
      "cell_type": "code",
      "metadata": {
        "colab": {
          "base_uri": "https://localhost:8080/",
          "height": 221
        },
        "id": "twsRe-g0vAmy",
        "outputId": "d9f79a69-4e8c-44ad-f2f3-8ac5aecc16d1"
      },
      "source": [
        "criterio = first_import['episodes'] <= 15\n",
        "criterio"
      ],
      "execution_count": null,
      "outputs": [
        {
          "output_type": "execute_result",
          "data": {
            "text/plain": [
              "0         True\n",
              "1        False\n",
              "2        False\n",
              "3        False\n",
              "4        False\n",
              "         ...  \n",
              "10726     True\n",
              "10727     True\n",
              "10728     True\n",
              "10729     True\n",
              "10730     True\n",
              "Name: episodes, Length: 10731, dtype: bool"
            ]
          },
          "metadata": {
            "tags": []
          },
          "execution_count": 21
        }
      ]
    },
    {
      "cell_type": "code",
      "metadata": {
        "colab": {
          "base_uri": "https://localhost:8080/",
          "height": 487
        },
        "id": "IbSFtEDFvAm4",
        "outputId": "f0c3b085-0a11-4728-c6e7-6679f749eb3a"
      },
      "source": [
        "first_import[criterio]"
      ],
      "execution_count": null,
      "outputs": [
        {
          "output_type": "execute_result",
          "data": {
            "text/html": [
              "<div>\n",
              "<style scoped>\n",
              "    .dataframe tbody tr th:only-of-type {\n",
              "        vertical-align: middle;\n",
              "    }\n",
              "\n",
              "    .dataframe tbody tr th {\n",
              "        vertical-align: top;\n",
              "    }\n",
              "\n",
              "    .dataframe thead th {\n",
              "        text-align: right;\n",
              "    }\n",
              "</style>\n",
              "<table border=\"1\" class=\"dataframe\">\n",
              "  <thead>\n",
              "    <tr style=\"text-align: right;\">\n",
              "      <th></th>\n",
              "      <th>anime_id</th>\n",
              "      <th>name</th>\n",
              "      <th>genre</th>\n",
              "      <th>type</th>\n",
              "      <th>episodes</th>\n",
              "      <th>rating</th>\n",
              "      <th>members</th>\n",
              "    </tr>\n",
              "  </thead>\n",
              "  <tbody>\n",
              "    <tr>\n",
              "      <th>0</th>\n",
              "      <td>32281</td>\n",
              "      <td>Kimi no Na wa.</td>\n",
              "      <td>Drama, Romance, School, Supernatural</td>\n",
              "      <td>Movie</td>\n",
              "      <td>1</td>\n",
              "      <td>9.37</td>\n",
              "      <td>200630</td>\n",
              "    </tr>\n",
              "    <tr>\n",
              "      <th>5</th>\n",
              "      <td>32935</td>\n",
              "      <td>Haikyuu!!: Karasuno Koukou VS Shiratorizawa Ga...</td>\n",
              "      <td>Comedy, Drama, School, Shounen, Sports</td>\n",
              "      <td>TV</td>\n",
              "      <td>10</td>\n",
              "      <td>9.15</td>\n",
              "      <td>93351</td>\n",
              "    </tr>\n",
              "    <tr>\n",
              "      <th>8</th>\n",
              "      <td>15335</td>\n",
              "      <td>Gintama Movie: Kanketsu-hen - Yorozuya yo Eien...</td>\n",
              "      <td>Action, Comedy, Historical, Parody, Samurai, S...</td>\n",
              "      <td>Movie</td>\n",
              "      <td>1</td>\n",
              "      <td>9.10</td>\n",
              "      <td>72534</td>\n",
              "    </tr>\n",
              "    <tr>\n",
              "      <th>9</th>\n",
              "      <td>15417</td>\n",
              "      <td>Gintama&amp;#039;: Enchousen</td>\n",
              "      <td>Action, Comedy, Historical, Parody, Samurai, S...</td>\n",
              "      <td>TV</td>\n",
              "      <td>13</td>\n",
              "      <td>9.11</td>\n",
              "      <td>81109</td>\n",
              "    </tr>\n",
              "    <tr>\n",
              "      <th>11</th>\n",
              "      <td>28851</td>\n",
              "      <td>Koe no Katachi</td>\n",
              "      <td>Drama, School, Shounen</td>\n",
              "      <td>Movie</td>\n",
              "      <td>1</td>\n",
              "      <td>9.05</td>\n",
              "      <td>102733</td>\n",
              "    </tr>\n",
              "    <tr>\n",
              "      <th>...</th>\n",
              "      <td>...</td>\n",
              "      <td>...</td>\n",
              "      <td>...</td>\n",
              "      <td>...</td>\n",
              "      <td>...</td>\n",
              "      <td>...</td>\n",
              "      <td>...</td>\n",
              "    </tr>\n",
              "    <tr>\n",
              "      <th>10726</th>\n",
              "      <td>9600</td>\n",
              "      <td>G-Taste (2010)</td>\n",
              "      <td>Ecchi, Yuri</td>\n",
              "      <td>OVA</td>\n",
              "      <td>1</td>\n",
              "      <td>5.49</td>\n",
              "      <td>1445</td>\n",
              "    </tr>\n",
              "    <tr>\n",
              "      <th>10727</th>\n",
              "      <td>2592</td>\n",
              "      <td>Kimera</td>\n",
              "      <td>Action, Horror, Sci-Fi, Supernatural, Vampire,...</td>\n",
              "      <td>OVA</td>\n",
              "      <td>1</td>\n",
              "      <td>5.29</td>\n",
              "      <td>3374</td>\n",
              "    </tr>\n",
              "    <tr>\n",
              "      <th>10728</th>\n",
              "      <td>730</td>\n",
              "      <td>Houkago no Shokuinshitsu</td>\n",
              "      <td>Drama, Romance, Yaoi</td>\n",
              "      <td>OVA</td>\n",
              "      <td>2</td>\n",
              "      <td>5.23</td>\n",
              "      <td>4550</td>\n",
              "    </tr>\n",
              "    <tr>\n",
              "      <th>10729</th>\n",
              "      <td>6546</td>\n",
              "      <td>Pico: My Little Summer Story</td>\n",
              "      <td>Yaoi</td>\n",
              "      <td>OVA</td>\n",
              "      <td>1</td>\n",
              "      <td>5.21</td>\n",
              "      <td>5551</td>\n",
              "    </tr>\n",
              "    <tr>\n",
              "      <th>10730</th>\n",
              "      <td>30663</td>\n",
              "      <td>Docchi mo Maid</td>\n",
              "      <td>Action, Comedy, Ecchi, Yuri</td>\n",
              "      <td>ONA</td>\n",
              "      <td>1</td>\n",
              "      <td>5.15</td>\n",
              "      <td>223</td>\n",
              "    </tr>\n",
              "  </tbody>\n",
              "</table>\n",
              "<p>8553 rows × 7 columns</p>\n",
              "</div>"
            ],
            "text/plain": [
              "       anime_id                                               name  \\\n",
              "0         32281                                     Kimi no Na wa.   \n",
              "5         32935  Haikyuu!!: Karasuno Koukou VS Shiratorizawa Ga...   \n",
              "8         15335  Gintama Movie: Kanketsu-hen - Yorozuya yo Eien...   \n",
              "9         15417                           Gintama&#039;: Enchousen   \n",
              "11        28851                                     Koe no Katachi   \n",
              "...         ...                                                ...   \n",
              "10726      9600                                     G-Taste (2010)   \n",
              "10727      2592                                             Kimera   \n",
              "10728       730                           Houkago no Shokuinshitsu   \n",
              "10729      6546                       Pico: My Little Summer Story   \n",
              "10730     30663                                     Docchi mo Maid   \n",
              "\n",
              "                                                   genre   type  episodes  \\\n",
              "0                   Drama, Romance, School, Supernatural  Movie         1   \n",
              "5                 Comedy, Drama, School, Shounen, Sports     TV        10   \n",
              "8      Action, Comedy, Historical, Parody, Samurai, S...  Movie         1   \n",
              "9      Action, Comedy, Historical, Parody, Samurai, S...     TV        13   \n",
              "11                                Drama, School, Shounen  Movie         1   \n",
              "...                                                  ...    ...       ...   \n",
              "10726                                        Ecchi, Yuri    OVA         1   \n",
              "10727  Action, Horror, Sci-Fi, Supernatural, Vampire,...    OVA         1   \n",
              "10728                               Drama, Romance, Yaoi    OVA         2   \n",
              "10729                                               Yaoi    OVA         1   \n",
              "10730                        Action, Comedy, Ecchi, Yuri    ONA         1   \n",
              "\n",
              "       rating  members  \n",
              "0        9.37   200630  \n",
              "5        9.15    93351  \n",
              "8        9.10    72534  \n",
              "9        9.11    81109  \n",
              "11       9.05   102733  \n",
              "...       ...      ...  \n",
              "10726    5.49     1445  \n",
              "10727    5.29     3374  \n",
              "10728    5.23     4550  \n",
              "10729    5.21     5551  \n",
              "10730    5.15      223  \n",
              "\n",
              "[8553 rows x 7 columns]"
            ]
          },
          "metadata": {
            "tags": []
          },
          "execution_count": 22
        }
      ]
    },
    {
      "cell_type": "code",
      "metadata": {
        "colab": {
          "base_uri": "https://localhost:8080/",
          "height": 34
        },
        "id": "oRg0m1WSOqq1",
        "outputId": "1e3036f4-f937-4f05-a3e8-3f9836df7199"
      },
      "source": [
        "criterio2 = first_import['type'] == 'TV'\n",
        "\n",
        "first_import[criterio & criterio2]['rating'].mean()\n",
        "\n",
        "# Operadores lógicos: &, | , ~, ==, != (y, o, no, igual, distinto)"
      ],
      "execution_count": null,
      "outputs": [
        {
          "output_type": "execute_result",
          "data": {
            "text/plain": [
              "6.908138440860207"
            ]
          },
          "metadata": {
            "tags": []
          },
          "execution_count": 23
        }
      ]
    },
    {
      "cell_type": "markdown",
      "metadata": {
        "id": "84hQbboJEvGq"
      },
      "source": [
        "El comando `query` nos permite escribir querys  para filtrar a gusto, dichas querys deben empezar y terminar con comillas dobles, y si se desean usar comillas en su interior, se deben usar simples:"
      ]
    },
    {
      "cell_type": "code",
      "metadata": {
        "id": "M8g73NoGEvGq",
        "outputId": "18dbce3b-8e01-4dcb-83e1-5eb609ba0288"
      },
      "source": [
        "first_import.query(\"episodes <= 15 & type == 'TV'\")['rating'].mean()"
      ],
      "execution_count": null,
      "outputs": [
        {
          "output_type": "execute_result",
          "data": {
            "text/plain": [
              "6.908138440860207"
            ]
          },
          "metadata": {
            "tags": []
          },
          "execution_count": 24
        }
      ]
    },
    {
      "cell_type": "markdown",
      "metadata": {
        "id": "NfUGM3OZvAm-"
      },
      "source": [
        "Algunos métodos y formas de hacer selecciones u otras operaciones de interés para seleccionar (como ordenar por ejemplo) son las siguientes:"
      ]
    },
    {
      "cell_type": "code",
      "metadata": {
        "colab": {
          "base_uri": "https://localhost:8080/",
          "height": 34
        },
        "id": "0HQbg94WvAm-",
        "outputId": "ff52972a-b5be-4bf5-e9bd-eb428d38cfbf"
      },
      "source": [
        "# Seleccionar valores unicos\n",
        "first_import['type'].unique()"
      ],
      "execution_count": null,
      "outputs": [
        {
          "output_type": "execute_result",
          "data": {
            "text/plain": [
              "array(['Movie', 'TV', 'OVA', 'Special', 'Music', 'ONA'], dtype=object)"
            ]
          },
          "metadata": {
            "tags": []
          },
          "execution_count": 25
        }
      ]
    },
    {
      "cell_type": "code",
      "metadata": {
        "id": "8PopCj5JEvGs",
        "outputId": "fb484088-f0ba-4a83-d9da-c70ced58f2ce"
      },
      "source": [
        "#contar valores unicos\n",
        "first_import['type'].nunique()"
      ],
      "execution_count": null,
      "outputs": [
        {
          "output_type": "execute_result",
          "data": {
            "text/plain": [
              "6"
            ]
          },
          "metadata": {
            "tags": []
          },
          "execution_count": 26
        }
      ]
    },
    {
      "cell_type": "code",
      "metadata": {
        "id": "wRRwOsuoEvGs",
        "outputId": "07cdc360-3d39-40f1-9f97-38dafe439f35"
      },
      "source": [
        "#podemos obtener una tabla con la cantidad de valores:\n",
        "first_import['type'].value_counts()"
      ],
      "execution_count": null,
      "outputs": [
        {
          "output_type": "execute_result",
          "data": {
            "text/plain": [
              "TV         3568\n",
              "Movie      2250\n",
              "OVA        2176\n",
              "Special    1646\n",
              "ONA         604\n",
              "Music       487\n",
              "Name: type, dtype: int64"
            ]
          },
          "metadata": {
            "tags": []
          },
          "execution_count": 27
        }
      ]
    },
    {
      "cell_type": "code",
      "metadata": {
        "colab": {
          "base_uri": "https://localhost:8080/",
          "height": 419
        },
        "id": "sxazHmZYvAnE",
        "outputId": "48209778-b4f7-4feb-e09d-46f257a60962"
      },
      "source": [
        "# Ordenar\n",
        "first_import.sort_values('episodes',ascending = True)"
      ],
      "execution_count": null,
      "outputs": [
        {
          "output_type": "execute_result",
          "data": {
            "text/html": [
              "<div>\n",
              "<style scoped>\n",
              "    .dataframe tbody tr th:only-of-type {\n",
              "        vertical-align: middle;\n",
              "    }\n",
              "\n",
              "    .dataframe tbody tr th {\n",
              "        vertical-align: top;\n",
              "    }\n",
              "\n",
              "    .dataframe thead th {\n",
              "        text-align: right;\n",
              "    }\n",
              "</style>\n",
              "<table border=\"1\" class=\"dataframe\">\n",
              "  <thead>\n",
              "    <tr style=\"text-align: right;\">\n",
              "      <th></th>\n",
              "      <th>anime_id</th>\n",
              "      <th>name</th>\n",
              "      <th>genre</th>\n",
              "      <th>type</th>\n",
              "      <th>episodes</th>\n",
              "      <th>rating</th>\n",
              "      <th>members</th>\n",
              "    </tr>\n",
              "  </thead>\n",
              "  <tbody>\n",
              "    <tr>\n",
              "      <th>0</th>\n",
              "      <td>32281</td>\n",
              "      <td>Kimi no Na wa.</td>\n",
              "      <td>Drama, Romance, School, Supernatural</td>\n",
              "      <td>Movie</td>\n",
              "      <td>1</td>\n",
              "      <td>9.37</td>\n",
              "      <td>200630</td>\n",
              "    </tr>\n",
              "    <tr>\n",
              "      <th>6832</th>\n",
              "      <td>5662</td>\n",
              "      <td>Suteneko Tora-chan</td>\n",
              "      <td>Music</td>\n",
              "      <td>Movie</td>\n",
              "      <td>1</td>\n",
              "      <td>5.88</td>\n",
              "      <td>615</td>\n",
              "    </tr>\n",
              "    <tr>\n",
              "      <th>6831</th>\n",
              "      <td>9667</td>\n",
              "      <td>Super Speed</td>\n",
              "      <td>Music</td>\n",
              "      <td>Music</td>\n",
              "      <td>1</td>\n",
              "      <td>5.88</td>\n",
              "      <td>691</td>\n",
              "    </tr>\n",
              "    <tr>\n",
              "      <th>6828</th>\n",
              "      <td>5492</td>\n",
              "      <td>Platonic Chain: Web</td>\n",
              "      <td>Sci-Fi, Slice of Life</td>\n",
              "      <td>Special</td>\n",
              "      <td>1</td>\n",
              "      <td>5.88</td>\n",
              "      <td>322</td>\n",
              "    </tr>\n",
              "    <tr>\n",
              "      <th>6827</th>\n",
              "      <td>19237</td>\n",
              "      <td>Nimrod</td>\n",
              "      <td>Fantasy, Music</td>\n",
              "      <td>Music</td>\n",
              "      <td>1</td>\n",
              "      <td>5.88</td>\n",
              "      <td>296</td>\n",
              "    </tr>\n",
              "    <tr>\n",
              "      <th>...</th>\n",
              "      <td>...</td>\n",
              "      <td>...</td>\n",
              "      <td>...</td>\n",
              "      <td>...</td>\n",
              "      <td>...</td>\n",
              "      <td>...</td>\n",
              "      <td>...</td>\n",
              "    </tr>\n",
              "    <tr>\n",
              "      <th>6537</th>\n",
              "      <td>8213</td>\n",
              "      <td>Hoka Hoka Kazoku</td>\n",
              "      <td>Comedy</td>\n",
              "      <td>TV</td>\n",
              "      <td>1428</td>\n",
              "      <td>6.05</td>\n",
              "      <td>194</td>\n",
              "    </tr>\n",
              "    <tr>\n",
              "      <th>5332</th>\n",
              "      <td>6277</td>\n",
              "      <td>Manga Nippon Mukashibanashi (1976)</td>\n",
              "      <td>Fantasy, Historical</td>\n",
              "      <td>TV</td>\n",
              "      <td>1471</td>\n",
              "      <td>6.48</td>\n",
              "      <td>406</td>\n",
              "    </tr>\n",
              "    <tr>\n",
              "      <th>9108</th>\n",
              "      <td>23349</td>\n",
              "      <td>Kirin Monoshiri Yakata</td>\n",
              "      <td>Kids</td>\n",
              "      <td>TV</td>\n",
              "      <td>1565</td>\n",
              "      <td>5.56</td>\n",
              "      <td>116</td>\n",
              "    </tr>\n",
              "    <tr>\n",
              "      <th>926</th>\n",
              "      <td>2471</td>\n",
              "      <td>Doraemon (1979)</td>\n",
              "      <td>Adventure, Comedy, Fantasy, Kids, Sci-Fi, Shounen</td>\n",
              "      <td>TV</td>\n",
              "      <td>1787</td>\n",
              "      <td>7.76</td>\n",
              "      <td>14233</td>\n",
              "    </tr>\n",
              "    <tr>\n",
              "      <th>6257</th>\n",
              "      <td>12393</td>\n",
              "      <td>Oyako Club</td>\n",
              "      <td>Comedy, Slice of Life</td>\n",
              "      <td>TV</td>\n",
              "      <td>1818</td>\n",
              "      <td>6.18</td>\n",
              "      <td>160</td>\n",
              "    </tr>\n",
              "  </tbody>\n",
              "</table>\n",
              "<p>10731 rows × 7 columns</p>\n",
              "</div>"
            ],
            "text/plain": [
              "      anime_id                                name  \\\n",
              "0        32281                      Kimi no Na wa.   \n",
              "6832      5662                  Suteneko Tora-chan   \n",
              "6831      9667                         Super Speed   \n",
              "6828      5492                 Platonic Chain: Web   \n",
              "6827     19237                              Nimrod   \n",
              "...        ...                                 ...   \n",
              "6537      8213                    Hoka Hoka Kazoku   \n",
              "5332      6277  Manga Nippon Mukashibanashi (1976)   \n",
              "9108     23349              Kirin Monoshiri Yakata   \n",
              "926       2471                     Doraemon (1979)   \n",
              "6257     12393                          Oyako Club   \n",
              "\n",
              "                                                  genre     type  episodes  \\\n",
              "0                  Drama, Romance, School, Supernatural    Movie         1   \n",
              "6832                                              Music    Movie         1   \n",
              "6831                                              Music    Music         1   \n",
              "6828                              Sci-Fi, Slice of Life  Special         1   \n",
              "6827                                     Fantasy, Music    Music         1   \n",
              "...                                                 ...      ...       ...   \n",
              "6537                                             Comedy       TV      1428   \n",
              "5332                                Fantasy, Historical       TV      1471   \n",
              "9108                                               Kids       TV      1565   \n",
              "926   Adventure, Comedy, Fantasy, Kids, Sci-Fi, Shounen       TV      1787   \n",
              "6257                              Comedy, Slice of Life       TV      1818   \n",
              "\n",
              "      rating  members  \n",
              "0       9.37   200630  \n",
              "6832    5.88      615  \n",
              "6831    5.88      691  \n",
              "6828    5.88      322  \n",
              "6827    5.88      296  \n",
              "...      ...      ...  \n",
              "6537    6.05      194  \n",
              "5332    6.48      406  \n",
              "9108    5.56      116  \n",
              "926     7.76    14233  \n",
              "6257    6.18      160  \n",
              "\n",
              "[10731 rows x 7 columns]"
            ]
          },
          "metadata": {
            "tags": []
          },
          "execution_count": 28
        }
      ]
    },
    {
      "cell_type": "code",
      "metadata": {
        "colab": {
          "base_uri": "https://localhost:8080/",
          "height": 436
        },
        "id": "GhyFA5QHvAnK",
        "outputId": "896327a9-696c-4b13-9f3d-e437f59b3d97"
      },
      "source": [
        "# Seleccion por valor de variable\n",
        "first_import[first_import['type'] == 'Movie']"
      ],
      "execution_count": null,
      "outputs": [
        {
          "output_type": "execute_result",
          "data": {
            "text/html": [
              "<div>\n",
              "<style scoped>\n",
              "    .dataframe tbody tr th:only-of-type {\n",
              "        vertical-align: middle;\n",
              "    }\n",
              "\n",
              "    .dataframe tbody tr th {\n",
              "        vertical-align: top;\n",
              "    }\n",
              "\n",
              "    .dataframe thead th {\n",
              "        text-align: right;\n",
              "    }\n",
              "</style>\n",
              "<table border=\"1\" class=\"dataframe\">\n",
              "  <thead>\n",
              "    <tr style=\"text-align: right;\">\n",
              "      <th></th>\n",
              "      <th>anime_id</th>\n",
              "      <th>name</th>\n",
              "      <th>genre</th>\n",
              "      <th>type</th>\n",
              "      <th>episodes</th>\n",
              "      <th>rating</th>\n",
              "      <th>members</th>\n",
              "    </tr>\n",
              "  </thead>\n",
              "  <tbody>\n",
              "    <tr>\n",
              "      <th>0</th>\n",
              "      <td>32281</td>\n",
              "      <td>Kimi no Na wa.</td>\n",
              "      <td>Drama, Romance, School, Supernatural</td>\n",
              "      <td>Movie</td>\n",
              "      <td>1</td>\n",
              "      <td>9.37</td>\n",
              "      <td>200630</td>\n",
              "    </tr>\n",
              "    <tr>\n",
              "      <th>8</th>\n",
              "      <td>15335</td>\n",
              "      <td>Gintama Movie: Kanketsu-hen - Yorozuya yo Eien...</td>\n",
              "      <td>Action, Comedy, Historical, Parody, Samurai, S...</td>\n",
              "      <td>Movie</td>\n",
              "      <td>1</td>\n",
              "      <td>9.10</td>\n",
              "      <td>72534</td>\n",
              "    </tr>\n",
              "    <tr>\n",
              "      <th>11</th>\n",
              "      <td>28851</td>\n",
              "      <td>Koe no Katachi</td>\n",
              "      <td>Drama, School, Shounen</td>\n",
              "      <td>Movie</td>\n",
              "      <td>1</td>\n",
              "      <td>9.05</td>\n",
              "      <td>102733</td>\n",
              "    </tr>\n",
              "    <tr>\n",
              "      <th>15</th>\n",
              "      <td>199</td>\n",
              "      <td>Sen to Chihiro no Kamikakushi</td>\n",
              "      <td>Adventure, Drama, Supernatural</td>\n",
              "      <td>Movie</td>\n",
              "      <td>1</td>\n",
              "      <td>8.93</td>\n",
              "      <td>466254</td>\n",
              "    </tr>\n",
              "    <tr>\n",
              "      <th>18</th>\n",
              "      <td>12355</td>\n",
              "      <td>Ookami Kodomo no Ame to Yuki</td>\n",
              "      <td>Fantasy, Slice of Life</td>\n",
              "      <td>Movie</td>\n",
              "      <td>1</td>\n",
              "      <td>8.84</td>\n",
              "      <td>226193</td>\n",
              "    </tr>\n",
              "    <tr>\n",
              "      <th>...</th>\n",
              "      <td>...</td>\n",
              "      <td>...</td>\n",
              "      <td>...</td>\n",
              "      <td>...</td>\n",
              "      <td>...</td>\n",
              "      <td>...</td>\n",
              "      <td>...</td>\n",
              "    </tr>\n",
              "    <tr>\n",
              "      <th>10665</th>\n",
              "      <td>30211</td>\n",
              "      <td>Zenchuu Maite</td>\n",
              "      <td>Dementia</td>\n",
              "      <td>Movie</td>\n",
              "      <td>1</td>\n",
              "      <td>4.27</td>\n",
              "      <td>73</td>\n",
              "    </tr>\n",
              "    <tr>\n",
              "      <th>10667</th>\n",
              "      <td>4790</td>\n",
              "      <td>Zeno: Kagirinaki Ai ni</td>\n",
              "      <td>Drama, Historical</td>\n",
              "      <td>Movie</td>\n",
              "      <td>1</td>\n",
              "      <td>6.76</td>\n",
              "      <td>207</td>\n",
              "    </tr>\n",
              "    <tr>\n",
              "      <th>10679</th>\n",
              "      <td>11093</td>\n",
              "      <td>Ziggy: Soreyuke! R&amp;amp;R Band</td>\n",
              "      <td>Adventure, Music, Mystery</td>\n",
              "      <td>Movie</td>\n",
              "      <td>1</td>\n",
              "      <td>6.45</td>\n",
              "      <td>123</td>\n",
              "    </tr>\n",
              "    <tr>\n",
              "      <th>10688</th>\n",
              "      <td>11097</td>\n",
              "      <td>Zou no Inai Doubutsuen</td>\n",
              "      <td>Drama</td>\n",
              "      <td>Movie</td>\n",
              "      <td>1</td>\n",
              "      <td>6.07</td>\n",
              "      <td>85</td>\n",
              "    </tr>\n",
              "    <tr>\n",
              "      <th>10689</th>\n",
              "      <td>11095</td>\n",
              "      <td>Zouressha ga Yatte Kita</td>\n",
              "      <td>Adventure</td>\n",
              "      <td>Movie</td>\n",
              "      <td>1</td>\n",
              "      <td>6.06</td>\n",
              "      <td>78</td>\n",
              "    </tr>\n",
              "  </tbody>\n",
              "</table>\n",
              "<p>2250 rows × 7 columns</p>\n",
              "</div>"
            ],
            "text/plain": [
              "       anime_id                                               name  \\\n",
              "0         32281                                     Kimi no Na wa.   \n",
              "8         15335  Gintama Movie: Kanketsu-hen - Yorozuya yo Eien...   \n",
              "11        28851                                     Koe no Katachi   \n",
              "15          199                      Sen to Chihiro no Kamikakushi   \n",
              "18        12355                       Ookami Kodomo no Ame to Yuki   \n",
              "...         ...                                                ...   \n",
              "10665     30211                                      Zenchuu Maite   \n",
              "10667      4790                             Zeno: Kagirinaki Ai ni   \n",
              "10679     11093                      Ziggy: Soreyuke! R&amp;R Band   \n",
              "10688     11097                             Zou no Inai Doubutsuen   \n",
              "10689     11095                            Zouressha ga Yatte Kita   \n",
              "\n",
              "                                                   genre   type  episodes  \\\n",
              "0                   Drama, Romance, School, Supernatural  Movie         1   \n",
              "8      Action, Comedy, Historical, Parody, Samurai, S...  Movie         1   \n",
              "11                                Drama, School, Shounen  Movie         1   \n",
              "15                        Adventure, Drama, Supernatural  Movie         1   \n",
              "18                                Fantasy, Slice of Life  Movie         1   \n",
              "...                                                  ...    ...       ...   \n",
              "10665                                           Dementia  Movie         1   \n",
              "10667                                  Drama, Historical  Movie         1   \n",
              "10679                          Adventure, Music, Mystery  Movie         1   \n",
              "10688                                              Drama  Movie         1   \n",
              "10689                                          Adventure  Movie         1   \n",
              "\n",
              "       rating  members  \n",
              "0        9.37   200630  \n",
              "8        9.10    72534  \n",
              "11       9.05   102733  \n",
              "15       8.93   466254  \n",
              "18       8.84   226193  \n",
              "...       ...      ...  \n",
              "10665    4.27       73  \n",
              "10667    6.76      207  \n",
              "10679    6.45      123  \n",
              "10688    6.07       85  \n",
              "10689    6.06       78  \n",
              "\n",
              "[2250 rows x 7 columns]"
            ]
          },
          "metadata": {
            "tags": []
          },
          "execution_count": 29
        }
      ]
    },
    {
      "cell_type": "markdown",
      "metadata": {
        "id": "hMe_stpjvAnR"
      },
      "source": [
        "## Operaciones en dataframes\n",
        "\n",
        "Aquí miraremos algúnas operaciones básicas que se pueden realizar a sus columnas o creación nuevas!"
      ]
    },
    {
      "cell_type": "code",
      "metadata": {
        "id": "NGv3THPGEvGt",
        "outputId": "8c91a1dc-2c17-402f-9e9a-74ec2f1cd8d6"
      },
      "source": [
        "first_import.head(1)"
      ],
      "execution_count": null,
      "outputs": [
        {
          "output_type": "execute_result",
          "data": {
            "text/html": [
              "<div>\n",
              "<style scoped>\n",
              "    .dataframe tbody tr th:only-of-type {\n",
              "        vertical-align: middle;\n",
              "    }\n",
              "\n",
              "    .dataframe tbody tr th {\n",
              "        vertical-align: top;\n",
              "    }\n",
              "\n",
              "    .dataframe thead th {\n",
              "        text-align: right;\n",
              "    }\n",
              "</style>\n",
              "<table border=\"1\" class=\"dataframe\">\n",
              "  <thead>\n",
              "    <tr style=\"text-align: right;\">\n",
              "      <th></th>\n",
              "      <th>anime_id</th>\n",
              "      <th>name</th>\n",
              "      <th>genre</th>\n",
              "      <th>type</th>\n",
              "      <th>episodes</th>\n",
              "      <th>rating</th>\n",
              "      <th>members</th>\n",
              "    </tr>\n",
              "  </thead>\n",
              "  <tbody>\n",
              "    <tr>\n",
              "      <th>0</th>\n",
              "      <td>32281</td>\n",
              "      <td>Kimi no Na wa.</td>\n",
              "      <td>Drama, Romance, School, Supernatural</td>\n",
              "      <td>Movie</td>\n",
              "      <td>1</td>\n",
              "      <td>9.37</td>\n",
              "      <td>200630</td>\n",
              "    </tr>\n",
              "  </tbody>\n",
              "</table>\n",
              "</div>"
            ],
            "text/plain": [
              "   anime_id            name                                 genre   type  \\\n",
              "0     32281  Kimi no Na wa.  Drama, Romance, School, Supernatural  Movie   \n",
              "\n",
              "   episodes  rating  members  \n",
              "0         1    9.37   200630  "
            ]
          },
          "metadata": {
            "tags": []
          },
          "execution_count": 30
        }
      ]
    },
    {
      "cell_type": "code",
      "metadata": {
        "colab": {
          "base_uri": "https://localhost:8080/",
          "height": 204
        },
        "id": "jmD9rs2AvAnS",
        "outputId": "cac8ece3-c8b7-4762-d718-19deac1151e9"
      },
      "source": [
        "# Transformación de columnas\n",
        "first_import['rating10'] = first_import['rating']*10\n",
        "first_import.head(1)"
      ],
      "execution_count": null,
      "outputs": [
        {
          "output_type": "execute_result",
          "data": {
            "text/html": [
              "<div>\n",
              "<style scoped>\n",
              "    .dataframe tbody tr th:only-of-type {\n",
              "        vertical-align: middle;\n",
              "    }\n",
              "\n",
              "    .dataframe tbody tr th {\n",
              "        vertical-align: top;\n",
              "    }\n",
              "\n",
              "    .dataframe thead th {\n",
              "        text-align: right;\n",
              "    }\n",
              "</style>\n",
              "<table border=\"1\" class=\"dataframe\">\n",
              "  <thead>\n",
              "    <tr style=\"text-align: right;\">\n",
              "      <th></th>\n",
              "      <th>anime_id</th>\n",
              "      <th>name</th>\n",
              "      <th>genre</th>\n",
              "      <th>type</th>\n",
              "      <th>episodes</th>\n",
              "      <th>rating</th>\n",
              "      <th>members</th>\n",
              "      <th>rating10</th>\n",
              "    </tr>\n",
              "  </thead>\n",
              "  <tbody>\n",
              "    <tr>\n",
              "      <th>0</th>\n",
              "      <td>32281</td>\n",
              "      <td>Kimi no Na wa.</td>\n",
              "      <td>Drama, Romance, School, Supernatural</td>\n",
              "      <td>Movie</td>\n",
              "      <td>1</td>\n",
              "      <td>9.37</td>\n",
              "      <td>200630</td>\n",
              "      <td>93.7</td>\n",
              "    </tr>\n",
              "  </tbody>\n",
              "</table>\n",
              "</div>"
            ],
            "text/plain": [
              "   anime_id            name                                 genre   type  \\\n",
              "0     32281  Kimi no Na wa.  Drama, Romance, School, Supernatural  Movie   \n",
              "\n",
              "   episodes  rating  members  rating10  \n",
              "0         1    9.37   200630      93.7  "
            ]
          },
          "metadata": {
            "tags": []
          },
          "execution_count": 31
        }
      ]
    },
    {
      "cell_type": "code",
      "metadata": {
        "colab": {
          "base_uri": "https://localhost:8080/",
          "height": 419
        },
        "id": "975tM975vAnW",
        "outputId": "e6870cf3-da8b-465c-f22b-d5a1bc5798d0"
      },
      "source": [
        "# Crear variable\n",
        "first_import['ratio'] = first_import['episodes'] / first_import['episodes'].max()\n",
        "first_import.head(1)"
      ],
      "execution_count": null,
      "outputs": [
        {
          "output_type": "execute_result",
          "data": {
            "text/html": [
              "<div>\n",
              "<style scoped>\n",
              "    .dataframe tbody tr th:only-of-type {\n",
              "        vertical-align: middle;\n",
              "    }\n",
              "\n",
              "    .dataframe tbody tr th {\n",
              "        vertical-align: top;\n",
              "    }\n",
              "\n",
              "    .dataframe thead th {\n",
              "        text-align: right;\n",
              "    }\n",
              "</style>\n",
              "<table border=\"1\" class=\"dataframe\">\n",
              "  <thead>\n",
              "    <tr style=\"text-align: right;\">\n",
              "      <th></th>\n",
              "      <th>anime_id</th>\n",
              "      <th>name</th>\n",
              "      <th>genre</th>\n",
              "      <th>type</th>\n",
              "      <th>episodes</th>\n",
              "      <th>rating</th>\n",
              "      <th>members</th>\n",
              "      <th>rating10</th>\n",
              "      <th>ratio</th>\n",
              "    </tr>\n",
              "  </thead>\n",
              "  <tbody>\n",
              "    <tr>\n",
              "      <th>0</th>\n",
              "      <td>32281</td>\n",
              "      <td>Kimi no Na wa.</td>\n",
              "      <td>Drama, Romance, School, Supernatural</td>\n",
              "      <td>Movie</td>\n",
              "      <td>1</td>\n",
              "      <td>9.37</td>\n",
              "      <td>200630</td>\n",
              "      <td>93.7</td>\n",
              "      <td>0.00055</td>\n",
              "    </tr>\n",
              "  </tbody>\n",
              "</table>\n",
              "</div>"
            ],
            "text/plain": [
              "   anime_id            name                                 genre   type  \\\n",
              "0     32281  Kimi no Na wa.  Drama, Romance, School, Supernatural  Movie   \n",
              "\n",
              "   episodes  rating  members  rating10    ratio  \n",
              "0         1    9.37   200630      93.7  0.00055  "
            ]
          },
          "metadata": {
            "tags": []
          },
          "execution_count": 32
        }
      ]
    },
    {
      "cell_type": "code",
      "metadata": {
        "id": "MSFCeVhMVCS2"
      },
      "source": [
        "# Convertir tipo de dato de una columna\n",
        "first_import['rating_str'] = first_import['rating10'].astype(str)"
      ],
      "execution_count": null,
      "outputs": []
    },
    {
      "cell_type": "code",
      "metadata": {
        "id": "70waNTbGEvGv",
        "outputId": "483e92ce-3f1d-4aeb-899a-d2797e0edf98"
      },
      "source": [
        "first_import.info()"
      ],
      "execution_count": null,
      "outputs": [
        {
          "output_type": "stream",
          "text": [
            "<class 'pandas.core.frame.DataFrame'>\n",
            "RangeIndex: 10731 entries, 0 to 10730\n",
            "Data columns (total 10 columns):\n",
            " #   Column      Non-Null Count  Dtype  \n",
            "---  ------      --------------  -----  \n",
            " 0   anime_id    10731 non-null  int64  \n",
            " 1   name        10731 non-null  object \n",
            " 2   genre       10731 non-null  object \n",
            " 3   type        10731 non-null  object \n",
            " 4   episodes    10731 non-null  int64  \n",
            " 5   rating      10731 non-null  float64\n",
            " 6   members     10731 non-null  int64  \n",
            " 7   rating10    10731 non-null  float64\n",
            " 8   ratio       10731 non-null  float64\n",
            " 9   rating_str  10731 non-null  object \n",
            "dtypes: float64(3), int64(3), object(4)\n",
            "memory usage: 838.5+ KB\n"
          ],
          "name": "stdout"
        }
      ]
    },
    {
      "cell_type": "markdown",
      "metadata": {
        "id": "CORl13S6vAnb"
      },
      "source": [
        "## Principales métodos en dataframes\n",
        "\n",
        "En esta sección mostraremos algunos métodos de los objetos dataframes que serán de utilidad al momento de adquirir un nuevo set de datos, manipularlos y llevarlos a una forma que nos sea útil para cuando queramos modelar."
      ]
    },
    {
      "cell_type": "code",
      "metadata": {
        "colab": {
          "base_uri": "https://localhost:8080/",
          "height": 297
        },
        "id": "otXM29G-vAnb",
        "outputId": "67ad9912-cad8-4851-e577-75008157e184"
      },
      "source": [
        "# Estadísticas descriptivas\n",
        "import numpy as np\n",
        "first_import.describe(include = np.number)"
      ],
      "execution_count": null,
      "outputs": [
        {
          "output_type": "execute_result",
          "data": {
            "text/html": [
              "<div>\n",
              "<style scoped>\n",
              "    .dataframe tbody tr th:only-of-type {\n",
              "        vertical-align: middle;\n",
              "    }\n",
              "\n",
              "    .dataframe tbody tr th {\n",
              "        vertical-align: top;\n",
              "    }\n",
              "\n",
              "    .dataframe thead th {\n",
              "        text-align: right;\n",
              "    }\n",
              "</style>\n",
              "<table border=\"1\" class=\"dataframe\">\n",
              "  <thead>\n",
              "    <tr style=\"text-align: right;\">\n",
              "      <th></th>\n",
              "      <th>anime_id</th>\n",
              "      <th>episodes</th>\n",
              "      <th>rating</th>\n",
              "      <th>members</th>\n",
              "      <th>rating10</th>\n",
              "      <th>ratio</th>\n",
              "    </tr>\n",
              "  </thead>\n",
              "  <tbody>\n",
              "    <tr>\n",
              "      <th>count</th>\n",
              "      <td>10731.000000</td>\n",
              "      <td>10731.000000</td>\n",
              "      <td>10731.000000</td>\n",
              "      <td>1.073100e+04</td>\n",
              "      <td>10731.000000</td>\n",
              "      <td>10731.000000</td>\n",
              "    </tr>\n",
              "    <tr>\n",
              "      <th>mean</th>\n",
              "      <td>13843.734973</td>\n",
              "      <td>13.544311</td>\n",
              "      <td>6.517701</td>\n",
              "      <td>2.013059e+04</td>\n",
              "      <td>65.177011</td>\n",
              "      <td>0.007450</td>\n",
              "    </tr>\n",
              "    <tr>\n",
              "      <th>std</th>\n",
              "      <td>11244.204389</td>\n",
              "      <td>49.325582</td>\n",
              "      <td>1.040336</td>\n",
              "      <td>5.788347e+04</td>\n",
              "      <td>10.403355</td>\n",
              "      <td>0.027132</td>\n",
              "    </tr>\n",
              "    <tr>\n",
              "      <th>min</th>\n",
              "      <td>1.000000</td>\n",
              "      <td>1.000000</td>\n",
              "      <td>1.670000</td>\n",
              "      <td>1.200000e+01</td>\n",
              "      <td>16.700000</td>\n",
              "      <td>0.000550</td>\n",
              "    </tr>\n",
              "    <tr>\n",
              "      <th>25%</th>\n",
              "      <td>3326.500000</td>\n",
              "      <td>1.000000</td>\n",
              "      <td>5.920000</td>\n",
              "      <td>1.950000e+02</td>\n",
              "      <td>59.200000</td>\n",
              "      <td>0.000550</td>\n",
              "    </tr>\n",
              "    <tr>\n",
              "      <th>50%</th>\n",
              "      <td>10298.000000</td>\n",
              "      <td>2.000000</td>\n",
              "      <td>6.630000</td>\n",
              "      <td>1.501000e+03</td>\n",
              "      <td>66.300000</td>\n",
              "      <td>0.001100</td>\n",
              "    </tr>\n",
              "    <tr>\n",
              "      <th>75%</th>\n",
              "      <td>23956.000000</td>\n",
              "      <td>13.000000</td>\n",
              "      <td>7.250000</td>\n",
              "      <td>1.215450e+04</td>\n",
              "      <td>72.500000</td>\n",
              "      <td>0.007151</td>\n",
              "    </tr>\n",
              "    <tr>\n",
              "      <th>max</th>\n",
              "      <td>34519.000000</td>\n",
              "      <td>1818.000000</td>\n",
              "      <td>10.000000</td>\n",
              "      <td>1.013917e+06</td>\n",
              "      <td>100.000000</td>\n",
              "      <td>1.000000</td>\n",
              "    </tr>\n",
              "  </tbody>\n",
              "</table>\n",
              "</div>"
            ],
            "text/plain": [
              "           anime_id      episodes        rating       members      rating10  \\\n",
              "count  10731.000000  10731.000000  10731.000000  1.073100e+04  10731.000000   \n",
              "mean   13843.734973     13.544311      6.517701  2.013059e+04     65.177011   \n",
              "std    11244.204389     49.325582      1.040336  5.788347e+04     10.403355   \n",
              "min        1.000000      1.000000      1.670000  1.200000e+01     16.700000   \n",
              "25%     3326.500000      1.000000      5.920000  1.950000e+02     59.200000   \n",
              "50%    10298.000000      2.000000      6.630000  1.501000e+03     66.300000   \n",
              "75%    23956.000000     13.000000      7.250000  1.215450e+04     72.500000   \n",
              "max    34519.000000   1818.000000     10.000000  1.013917e+06    100.000000   \n",
              "\n",
              "              ratio  \n",
              "count  10731.000000  \n",
              "mean       0.007450  \n",
              "std        0.027132  \n",
              "min        0.000550  \n",
              "25%        0.000550  \n",
              "50%        0.001100  \n",
              "75%        0.007151  \n",
              "max        1.000000  "
            ]
          },
          "metadata": {
            "tags": []
          },
          "execution_count": 35
        }
      ]
    },
    {
      "cell_type": "code",
      "metadata": {
        "colab": {
          "base_uri": "https://localhost:8080/",
          "height": 85
        },
        "id": "oLqqY3ecvAnf",
        "outputId": "698171d0-396d-4226-855a-ce8bd32eb40d"
      },
      "source": [
        "# métodos específicos dentro de los descriptivos\n",
        "print(first_import['rating'].mean())\n",
        "print(first_import['rating'].std())\n",
        "print(first_import['rating'].min())\n",
        "print(first_import['rating'].quantile(q = 0.25))"
      ],
      "execution_count": null,
      "outputs": [
        {
          "output_type": "stream",
          "text": [
            "6.517701053023942\n",
            "1.0403355427315095\n",
            "1.67\n",
            "5.92\n"
          ],
          "name": "stdout"
        }
      ]
    },
    {
      "cell_type": "code",
      "metadata": {
        "colab": {
          "base_uri": "https://localhost:8080/",
          "height": 221
        },
        "id": "OBWfuCdCvAnj",
        "outputId": "7958d21f-8f89-4c9f-872c-06f7869b22a7"
      },
      "source": [
        "# Método apply\n",
        "def multiplica_10(value):\n",
        "    res = value * 10\n",
        "    return res\n",
        "\n",
        "first_import['rating'].apply(multiplica_10)"
      ],
      "execution_count": null,
      "outputs": [
        {
          "output_type": "execute_result",
          "data": {
            "text/plain": [
              "0        93.7\n",
              "1        92.6\n",
              "2        92.5\n",
              "3        91.7\n",
              "4        91.6\n",
              "         ... \n",
              "10726    54.9\n",
              "10727    52.9\n",
              "10728    52.3\n",
              "10729    52.1\n",
              "10730    51.5\n",
              "Name: rating, Length: 10731, dtype: float64"
            ]
          },
          "metadata": {
            "tags": []
          },
          "execution_count": 37
        }
      ]
    },
    {
      "cell_type": "code",
      "metadata": {
        "id": "7rEqNgveEvGx",
        "outputId": "8c05a5cc-253b-4da0-94dc-fb905e048046"
      },
      "source": [
        "# o a través de map:\n",
        "list(map(lambda x: x*10,first_import['rating']))[0:4]"
      ],
      "execution_count": null,
      "outputs": [
        {
          "output_type": "execute_result",
          "data": {
            "text/plain": [
              "[93.69999999999999, 92.6, 92.5, 91.7]"
            ]
          },
          "metadata": {
            "tags": []
          },
          "execution_count": 38
        }
      ]
    },
    {
      "cell_type": "code",
      "metadata": {
        "id": "ZChilV8dvAnm"
      },
      "source": [
        "# podemos aplicar multiples apply\n",
        "def multiplica_10(value):\n",
        "    res = value * 10\n",
        "    return res\n",
        "\n",
        "def porcentaje(value):\n",
        "    res = str(value) + ' %'\n",
        "    return res\n",
        "\n",
        "def multiplica_N(value, N):\n",
        "    return value * N\n",
        "\n",
        "def multiplica_rating_episodes(row):\n",
        "    return row['rating'] * row['episodes']"
      ],
      "execution_count": null,
      "outputs": []
    },
    {
      "cell_type": "code",
      "metadata": {
        "id": "ArrG3KqPEvGy",
        "outputId": "0dd82d15-bdd0-41cf-b787-dccc205ebc14"
      },
      "source": [
        "# Apply con parametros extra\n",
        "first_import['rating'].apply(multiplica_N, N=100)"
      ],
      "execution_count": null,
      "outputs": [
        {
          "output_type": "execute_result",
          "data": {
            "text/plain": [
              "0        937.0\n",
              "1        926.0\n",
              "2        925.0\n",
              "3        917.0\n",
              "4        916.0\n",
              "         ...  \n",
              "10726    549.0\n",
              "10727    529.0\n",
              "10728    523.0\n",
              "10729    521.0\n",
              "10730    515.0\n",
              "Name: rating, Length: 10731, dtype: float64"
            ]
          },
          "metadata": {
            "tags": []
          },
          "execution_count": 40
        }
      ]
    },
    {
      "cell_type": "code",
      "metadata": {
        "id": "bEPqZZXWEvGy",
        "outputId": "703d696b-d576-47fb-fca7-82ce1c5c2fe0"
      },
      "source": [
        "# Apply encadenados\n",
        "first_import['rating'].apply(multiplica_10).apply(porcentaje)"
      ],
      "execution_count": null,
      "outputs": [
        {
          "output_type": "execute_result",
          "data": {
            "text/plain": [
              "0         93.69999999999999 %\n",
              "1                      92.6 %\n",
              "2                      92.5 %\n",
              "3                      91.7 %\n",
              "4                      91.6 %\n",
              "                 ...         \n",
              "10726    54.900000000000006 %\n",
              "10727                  52.9 %\n",
              "10728    52.300000000000004 %\n",
              "10729                  52.1 %\n",
              "10730                  51.5 %\n",
              "Name: rating, Length: 10731, dtype: object"
            ]
          },
          "metadata": {
            "tags": []
          },
          "execution_count": 41
        }
      ]
    },
    {
      "cell_type": "code",
      "metadata": {
        "colab": {
          "base_uri": "https://localhost:8080/",
          "height": 221
        },
        "id": "qmAh-d0-YbRL",
        "outputId": "5516d40f-d60c-4692-a8c1-867f3114ee76"
      },
      "source": [
        "# Lo mismo pero vectorizado\n",
        "(first_import['rating'] * 10).astype(str) + ' %'"
      ],
      "execution_count": null,
      "outputs": [
        {
          "output_type": "execute_result",
          "data": {
            "text/plain": [
              "0         93.69999999999999 %\n",
              "1                      92.6 %\n",
              "2                      92.5 %\n",
              "3                      91.7 %\n",
              "4                      91.6 %\n",
              "                 ...         \n",
              "10726    54.900000000000006 %\n",
              "10727                  52.9 %\n",
              "10728    52.300000000000004 %\n",
              "10729                  52.1 %\n",
              "10730                  51.5 %\n",
              "Name: rating, Length: 10731, dtype: object"
            ]
          },
          "metadata": {
            "tags": []
          },
          "execution_count": 42
        }
      ]
    },
    {
      "cell_type": "code",
      "metadata": {
        "id": "407Yu4hEEvGz",
        "outputId": "13e6c137-a081-4b6e-ae9e-17f302a60126"
      },
      "source": [
        "# Apply sobre mas de una columna\n",
        "first_import.apply(multiplica_rating_episodes, axis='columns')"
      ],
      "execution_count": null,
      "outputs": [
        {
          "output_type": "execute_result",
          "data": {
            "text/plain": [
              "0          9.37\n",
              "1        592.64\n",
              "2        471.75\n",
              "3        220.08\n",
              "4        467.16\n",
              "          ...  \n",
              "10726      5.49\n",
              "10727      5.29\n",
              "10728     10.46\n",
              "10729      5.21\n",
              "10730      5.15\n",
              "Length: 10731, dtype: float64"
            ]
          },
          "metadata": {
            "tags": []
          },
          "execution_count": 43
        }
      ]
    },
    {
      "cell_type": "markdown",
      "metadata": {
        "id": "QvS-CUJdEvGz"
      },
      "source": [
        "### Tratamiento de duplicados y casos perdidos"
      ]
    },
    {
      "cell_type": "code",
      "metadata": {
        "colab": {
          "base_uri": "https://localhost:8080/",
          "height": 267
        },
        "id": "JEVs4HjnvAnq",
        "outputId": "0abaab19-03bb-48ca-b815-3bcda1516476"
      },
      "source": [
        "# Duplicados\n",
        "df = pd.DataFrame({\n",
        "        'brand': ['Yum Yum', 'Yum Yum', 'Indomie', 'Indomie', 'Indomie'],\n",
        "        'style': ['cup', 'cup', 'cup', 'pack', 'pack'],\n",
        "        'rating': [4, 4, 3.5, 15, 5]})\n",
        "\n",
        "display(df)\n",
        "\n",
        "df[~df.duplicated()]"
      ],
      "execution_count": null,
      "outputs": [
        {
          "output_type": "display_data",
          "data": {
            "text/html": [
              "<div>\n",
              "<style scoped>\n",
              "    .dataframe tbody tr th:only-of-type {\n",
              "        vertical-align: middle;\n",
              "    }\n",
              "\n",
              "    .dataframe tbody tr th {\n",
              "        vertical-align: top;\n",
              "    }\n",
              "\n",
              "    .dataframe thead th {\n",
              "        text-align: right;\n",
              "    }\n",
              "</style>\n",
              "<table border=\"1\" class=\"dataframe\">\n",
              "  <thead>\n",
              "    <tr style=\"text-align: right;\">\n",
              "      <th></th>\n",
              "      <th>brand</th>\n",
              "      <th>style</th>\n",
              "      <th>rating</th>\n",
              "    </tr>\n",
              "  </thead>\n",
              "  <tbody>\n",
              "    <tr>\n",
              "      <th>0</th>\n",
              "      <td>Yum Yum</td>\n",
              "      <td>cup</td>\n",
              "      <td>4.0</td>\n",
              "    </tr>\n",
              "    <tr>\n",
              "      <th>1</th>\n",
              "      <td>Yum Yum</td>\n",
              "      <td>cup</td>\n",
              "      <td>4.0</td>\n",
              "    </tr>\n",
              "    <tr>\n",
              "      <th>2</th>\n",
              "      <td>Indomie</td>\n",
              "      <td>cup</td>\n",
              "      <td>3.5</td>\n",
              "    </tr>\n",
              "    <tr>\n",
              "      <th>3</th>\n",
              "      <td>Indomie</td>\n",
              "      <td>pack</td>\n",
              "      <td>15.0</td>\n",
              "    </tr>\n",
              "    <tr>\n",
              "      <th>4</th>\n",
              "      <td>Indomie</td>\n",
              "      <td>pack</td>\n",
              "      <td>5.0</td>\n",
              "    </tr>\n",
              "  </tbody>\n",
              "</table>\n",
              "</div>"
            ],
            "text/plain": [
              "     brand style  rating\n",
              "0  Yum Yum   cup     4.0\n",
              "1  Yum Yum   cup     4.0\n",
              "2  Indomie   cup     3.5\n",
              "3  Indomie  pack    15.0\n",
              "4  Indomie  pack     5.0"
            ]
          },
          "metadata": {
            "tags": []
          }
        },
        {
          "output_type": "execute_result",
          "data": {
            "text/html": [
              "<div>\n",
              "<style scoped>\n",
              "    .dataframe tbody tr th:only-of-type {\n",
              "        vertical-align: middle;\n",
              "    }\n",
              "\n",
              "    .dataframe tbody tr th {\n",
              "        vertical-align: top;\n",
              "    }\n",
              "\n",
              "    .dataframe thead th {\n",
              "        text-align: right;\n",
              "    }\n",
              "</style>\n",
              "<table border=\"1\" class=\"dataframe\">\n",
              "  <thead>\n",
              "    <tr style=\"text-align: right;\">\n",
              "      <th></th>\n",
              "      <th>brand</th>\n",
              "      <th>style</th>\n",
              "      <th>rating</th>\n",
              "    </tr>\n",
              "  </thead>\n",
              "  <tbody>\n",
              "    <tr>\n",
              "      <th>0</th>\n",
              "      <td>Yum Yum</td>\n",
              "      <td>cup</td>\n",
              "      <td>4.0</td>\n",
              "    </tr>\n",
              "    <tr>\n",
              "      <th>2</th>\n",
              "      <td>Indomie</td>\n",
              "      <td>cup</td>\n",
              "      <td>3.5</td>\n",
              "    </tr>\n",
              "    <tr>\n",
              "      <th>3</th>\n",
              "      <td>Indomie</td>\n",
              "      <td>pack</td>\n",
              "      <td>15.0</td>\n",
              "    </tr>\n",
              "    <tr>\n",
              "      <th>4</th>\n",
              "      <td>Indomie</td>\n",
              "      <td>pack</td>\n",
              "      <td>5.0</td>\n",
              "    </tr>\n",
              "  </tbody>\n",
              "</table>\n",
              "</div>"
            ],
            "text/plain": [
              "     brand style  rating\n",
              "0  Yum Yum   cup     4.0\n",
              "2  Indomie   cup     3.5\n",
              "3  Indomie  pack    15.0\n",
              "4  Indomie  pack     5.0"
            ]
          },
          "metadata": {
            "tags": []
          },
          "execution_count": 44
        }
      ]
    },
    {
      "cell_type": "code",
      "metadata": {
        "colab": {
          "base_uri": "https://localhost:8080/",
          "height": 173
        },
        "id": "EE1DfPJMcvRc",
        "outputId": "017ffa13-9034-49d0-e1ae-6eecb657fcc9"
      },
      "source": [
        "df.sort_values('rating').drop_duplicates()"
      ],
      "execution_count": null,
      "outputs": [
        {
          "output_type": "execute_result",
          "data": {
            "text/html": [
              "<div>\n",
              "<style scoped>\n",
              "    .dataframe tbody tr th:only-of-type {\n",
              "        vertical-align: middle;\n",
              "    }\n",
              "\n",
              "    .dataframe tbody tr th {\n",
              "        vertical-align: top;\n",
              "    }\n",
              "\n",
              "    .dataframe thead th {\n",
              "        text-align: right;\n",
              "    }\n",
              "</style>\n",
              "<table border=\"1\" class=\"dataframe\">\n",
              "  <thead>\n",
              "    <tr style=\"text-align: right;\">\n",
              "      <th></th>\n",
              "      <th>brand</th>\n",
              "      <th>style</th>\n",
              "      <th>rating</th>\n",
              "    </tr>\n",
              "  </thead>\n",
              "  <tbody>\n",
              "    <tr>\n",
              "      <th>2</th>\n",
              "      <td>Indomie</td>\n",
              "      <td>cup</td>\n",
              "      <td>3.5</td>\n",
              "    </tr>\n",
              "    <tr>\n",
              "      <th>0</th>\n",
              "      <td>Yum Yum</td>\n",
              "      <td>cup</td>\n",
              "      <td>4.0</td>\n",
              "    </tr>\n",
              "    <tr>\n",
              "      <th>4</th>\n",
              "      <td>Indomie</td>\n",
              "      <td>pack</td>\n",
              "      <td>5.0</td>\n",
              "    </tr>\n",
              "    <tr>\n",
              "      <th>3</th>\n",
              "      <td>Indomie</td>\n",
              "      <td>pack</td>\n",
              "      <td>15.0</td>\n",
              "    </tr>\n",
              "  </tbody>\n",
              "</table>\n",
              "</div>"
            ],
            "text/plain": [
              "     brand style  rating\n",
              "2  Indomie   cup     3.5\n",
              "0  Yum Yum   cup     4.0\n",
              "4  Indomie  pack     5.0\n",
              "3  Indomie  pack    15.0"
            ]
          },
          "metadata": {
            "tags": []
          },
          "execution_count": 45
        }
      ]
    },
    {
      "cell_type": "code",
      "metadata": {
        "colab": {
          "base_uri": "https://localhost:8080/",
          "height": 111
        },
        "id": "Ia9Lf9Y2vAnw",
        "outputId": "db59f999-6f04-4011-f4d8-489a235f2ead"
      },
      "source": [
        "df = df.drop_duplicates(subset='style')\n",
        "df"
      ],
      "execution_count": null,
      "outputs": [
        {
          "output_type": "execute_result",
          "data": {
            "text/html": [
              "<div>\n",
              "<style scoped>\n",
              "    .dataframe tbody tr th:only-of-type {\n",
              "        vertical-align: middle;\n",
              "    }\n",
              "\n",
              "    .dataframe tbody tr th {\n",
              "        vertical-align: top;\n",
              "    }\n",
              "\n",
              "    .dataframe thead th {\n",
              "        text-align: right;\n",
              "    }\n",
              "</style>\n",
              "<table border=\"1\" class=\"dataframe\">\n",
              "  <thead>\n",
              "    <tr style=\"text-align: right;\">\n",
              "      <th></th>\n",
              "      <th>brand</th>\n",
              "      <th>style</th>\n",
              "      <th>rating</th>\n",
              "    </tr>\n",
              "  </thead>\n",
              "  <tbody>\n",
              "    <tr>\n",
              "      <th>0</th>\n",
              "      <td>Yum Yum</td>\n",
              "      <td>cup</td>\n",
              "      <td>4.0</td>\n",
              "    </tr>\n",
              "    <tr>\n",
              "      <th>3</th>\n",
              "      <td>Indomie</td>\n",
              "      <td>pack</td>\n",
              "      <td>15.0</td>\n",
              "    </tr>\n",
              "  </tbody>\n",
              "</table>\n",
              "</div>"
            ],
            "text/plain": [
              "     brand style  rating\n",
              "0  Yum Yum   cup     4.0\n",
              "3  Indomie  pack    15.0"
            ]
          },
          "metadata": {
            "tags": []
          },
          "execution_count": 46
        }
      ]
    },
    {
      "cell_type": "code",
      "metadata": {
        "colab": {
          "base_uri": "https://localhost:8080/",
          "height": 255
        },
        "id": "Ubo9SWQrvAn4",
        "outputId": "35ee81cc-6c77-41cf-b301-d233a8f70d2b"
      },
      "source": [
        "# Tratamiento de NAs\n",
        "#importemos un set de animes que viene con valores perdidos:\n",
        "anime_na = pd.read_csv('gs://diplomado-data-science-uc-python/python/02-Pandas/data/animeNA.csv',delimiter=';')\n",
        "anime_na.info()"
      ],
      "execution_count": null,
      "outputs": [
        {
          "output_type": "stream",
          "text": [
            "<class 'pandas.core.frame.DataFrame'>\n",
            "RangeIndex: 11153 entries, 0 to 11152\n",
            "Data columns (total 7 columns):\n",
            " #   Column    Non-Null Count  Dtype  \n",
            "---  ------    --------------  -----  \n",
            " 0   anime_id  11153 non-null  int64  \n",
            " 1   me        11152 non-null  object \n",
            " 2   genre     11091 non-null  object \n",
            " 3   type      11128 non-null  object \n",
            " 4   episodes  11153 non-null  object \n",
            " 5   rating    10931 non-null  float64\n",
            " 6   members   11153 non-null  int64  \n",
            "dtypes: float64(1), int64(2), object(4)\n",
            "memory usage: 610.1+ KB\n"
          ],
          "name": "stdout"
        }
      ]
    },
    {
      "cell_type": "code",
      "metadata": {
        "colab": {
          "base_uri": "https://localhost:8080/",
          "height": 419
        },
        "id": "aaH6yp6odtyZ",
        "outputId": "bfa62cdd-1160-4fa3-bcb2-3210323ff159"
      },
      "source": [
        "anime_na.tail(5)"
      ],
      "execution_count": null,
      "outputs": [
        {
          "output_type": "execute_result",
          "data": {
            "text/html": [
              "<div>\n",
              "<style scoped>\n",
              "    .dataframe tbody tr th:only-of-type {\n",
              "        vertical-align: middle;\n",
              "    }\n",
              "\n",
              "    .dataframe tbody tr th {\n",
              "        vertical-align: top;\n",
              "    }\n",
              "\n",
              "    .dataframe thead th {\n",
              "        text-align: right;\n",
              "    }\n",
              "</style>\n",
              "<table border=\"1\" class=\"dataframe\">\n",
              "  <thead>\n",
              "    <tr style=\"text-align: right;\">\n",
              "      <th></th>\n",
              "      <th>anime_id</th>\n",
              "      <th>me</th>\n",
              "      <th>genre</th>\n",
              "      <th>type</th>\n",
              "      <th>episodes</th>\n",
              "      <th>rating</th>\n",
              "      <th>members</th>\n",
              "    </tr>\n",
              "  </thead>\n",
              "  <tbody>\n",
              "    <tr>\n",
              "      <th>11148</th>\n",
              "      <td>730</td>\n",
              "      <td>Houkago no Shokuinshitsu</td>\n",
              "      <td>Drama, Romance, Yaoi</td>\n",
              "      <td>OVA</td>\n",
              "      <td>2</td>\n",
              "      <td>5.23</td>\n",
              "      <td>4550</td>\n",
              "    </tr>\n",
              "    <tr>\n",
              "      <th>11149</th>\n",
              "      <td>6546</td>\n",
              "      <td>Pico: My Little Summer Story</td>\n",
              "      <td>Yaoi</td>\n",
              "      <td>OVA</td>\n",
              "      <td>1</td>\n",
              "      <td>5.21</td>\n",
              "      <td>5551</td>\n",
              "    </tr>\n",
              "    <tr>\n",
              "      <th>11150</th>\n",
              "      <td>30663</td>\n",
              "      <td>Docchi mo Maid</td>\n",
              "      <td>Action, Comedy, Ecchi, Yuri</td>\n",
              "      <td>O</td>\n",
              "      <td>1</td>\n",
              "      <td>5.15</td>\n",
              "      <td>223</td>\n",
              "    </tr>\n",
              "    <tr>\n",
              "      <th>11151</th>\n",
              "      <td>34382</td>\n",
              "      <td>Citrus</td>\n",
              "      <td>Drama, Romance, School, Yuri</td>\n",
              "      <td>NaN</td>\n",
              "      <td>Unknown</td>\n",
              "      <td>NaN</td>\n",
              "      <td>2459</td>\n",
              "    </tr>\n",
              "    <tr>\n",
              "      <th>11152</th>\n",
              "      <td>33654</td>\n",
              "      <td>Hitorijime My Hero</td>\n",
              "      <td>Yaoi</td>\n",
              "      <td>NaN</td>\n",
              "      <td>Unknown</td>\n",
              "      <td>NaN</td>\n",
              "      <td>1574</td>\n",
              "    </tr>\n",
              "  </tbody>\n",
              "</table>\n",
              "</div>"
            ],
            "text/plain": [
              "       anime_id                            me                         genre  \\\n",
              "11148       730      Houkago no Shokuinshitsu          Drama, Romance, Yaoi   \n",
              "11149      6546  Pico: My Little Summer Story                          Yaoi   \n",
              "11150     30663                Docchi mo Maid   Action, Comedy, Ecchi, Yuri   \n",
              "11151     34382                        Citrus  Drama, Romance, School, Yuri   \n",
              "11152     33654            Hitorijime My Hero                          Yaoi   \n",
              "\n",
              "      type episodes  rating  members  \n",
              "11148  OVA        2    5.23     4550  \n",
              "11149  OVA        1    5.21     5551  \n",
              "11150    O        1    5.15      223  \n",
              "11151  NaN  Unknown     NaN     2459  \n",
              "11152  NaN  Unknown     NaN     1574  "
            ]
          },
          "metadata": {
            "tags": []
          },
          "execution_count": 48
        }
      ]
    },
    {
      "cell_type": "code",
      "metadata": {
        "colab": {
          "base_uri": "https://localhost:8080/",
          "height": 419
        },
        "id": "LVRiwZXgvAn9",
        "outputId": "b3586a29-37fc-461f-f536-684db26b602d"
      },
      "source": [
        "anime_na.isna()"
      ],
      "execution_count": null,
      "outputs": [
        {
          "output_type": "execute_result",
          "data": {
            "text/html": [
              "<div>\n",
              "<style scoped>\n",
              "    .dataframe tbody tr th:only-of-type {\n",
              "        vertical-align: middle;\n",
              "    }\n",
              "\n",
              "    .dataframe tbody tr th {\n",
              "        vertical-align: top;\n",
              "    }\n",
              "\n",
              "    .dataframe thead th {\n",
              "        text-align: right;\n",
              "    }\n",
              "</style>\n",
              "<table border=\"1\" class=\"dataframe\">\n",
              "  <thead>\n",
              "    <tr style=\"text-align: right;\">\n",
              "      <th></th>\n",
              "      <th>anime_id</th>\n",
              "      <th>me</th>\n",
              "      <th>genre</th>\n",
              "      <th>type</th>\n",
              "      <th>episodes</th>\n",
              "      <th>rating</th>\n",
              "      <th>members</th>\n",
              "    </tr>\n",
              "  </thead>\n",
              "  <tbody>\n",
              "    <tr>\n",
              "      <th>0</th>\n",
              "      <td>False</td>\n",
              "      <td>False</td>\n",
              "      <td>False</td>\n",
              "      <td>False</td>\n",
              "      <td>False</td>\n",
              "      <td>False</td>\n",
              "      <td>False</td>\n",
              "    </tr>\n",
              "    <tr>\n",
              "      <th>1</th>\n",
              "      <td>False</td>\n",
              "      <td>False</td>\n",
              "      <td>False</td>\n",
              "      <td>False</td>\n",
              "      <td>False</td>\n",
              "      <td>False</td>\n",
              "      <td>False</td>\n",
              "    </tr>\n",
              "    <tr>\n",
              "      <th>2</th>\n",
              "      <td>False</td>\n",
              "      <td>False</td>\n",
              "      <td>False</td>\n",
              "      <td>False</td>\n",
              "      <td>False</td>\n",
              "      <td>False</td>\n",
              "      <td>False</td>\n",
              "    </tr>\n",
              "    <tr>\n",
              "      <th>3</th>\n",
              "      <td>False</td>\n",
              "      <td>False</td>\n",
              "      <td>False</td>\n",
              "      <td>False</td>\n",
              "      <td>False</td>\n",
              "      <td>False</td>\n",
              "      <td>False</td>\n",
              "    </tr>\n",
              "    <tr>\n",
              "      <th>4</th>\n",
              "      <td>False</td>\n",
              "      <td>False</td>\n",
              "      <td>False</td>\n",
              "      <td>False</td>\n",
              "      <td>False</td>\n",
              "      <td>False</td>\n",
              "      <td>False</td>\n",
              "    </tr>\n",
              "    <tr>\n",
              "      <th>...</th>\n",
              "      <td>...</td>\n",
              "      <td>...</td>\n",
              "      <td>...</td>\n",
              "      <td>...</td>\n",
              "      <td>...</td>\n",
              "      <td>...</td>\n",
              "      <td>...</td>\n",
              "    </tr>\n",
              "    <tr>\n",
              "      <th>11148</th>\n",
              "      <td>False</td>\n",
              "      <td>False</td>\n",
              "      <td>False</td>\n",
              "      <td>False</td>\n",
              "      <td>False</td>\n",
              "      <td>False</td>\n",
              "      <td>False</td>\n",
              "    </tr>\n",
              "    <tr>\n",
              "      <th>11149</th>\n",
              "      <td>False</td>\n",
              "      <td>False</td>\n",
              "      <td>False</td>\n",
              "      <td>False</td>\n",
              "      <td>False</td>\n",
              "      <td>False</td>\n",
              "      <td>False</td>\n",
              "    </tr>\n",
              "    <tr>\n",
              "      <th>11150</th>\n",
              "      <td>False</td>\n",
              "      <td>False</td>\n",
              "      <td>False</td>\n",
              "      <td>False</td>\n",
              "      <td>False</td>\n",
              "      <td>False</td>\n",
              "      <td>False</td>\n",
              "    </tr>\n",
              "    <tr>\n",
              "      <th>11151</th>\n",
              "      <td>False</td>\n",
              "      <td>False</td>\n",
              "      <td>False</td>\n",
              "      <td>True</td>\n",
              "      <td>False</td>\n",
              "      <td>True</td>\n",
              "      <td>False</td>\n",
              "    </tr>\n",
              "    <tr>\n",
              "      <th>11152</th>\n",
              "      <td>False</td>\n",
              "      <td>False</td>\n",
              "      <td>False</td>\n",
              "      <td>True</td>\n",
              "      <td>False</td>\n",
              "      <td>True</td>\n",
              "      <td>False</td>\n",
              "    </tr>\n",
              "  </tbody>\n",
              "</table>\n",
              "<p>11153 rows × 7 columns</p>\n",
              "</div>"
            ],
            "text/plain": [
              "       anime_id     me  genre   type  episodes  rating  members\n",
              "0         False  False  False  False     False   False    False\n",
              "1         False  False  False  False     False   False    False\n",
              "2         False  False  False  False     False   False    False\n",
              "3         False  False  False  False     False   False    False\n",
              "4         False  False  False  False     False   False    False\n",
              "...         ...    ...    ...    ...       ...     ...      ...\n",
              "11148     False  False  False  False     False   False    False\n",
              "11149     False  False  False  False     False   False    False\n",
              "11150     False  False  False  False     False   False    False\n",
              "11151     False  False  False   True     False    True    False\n",
              "11152     False  False  False   True     False    True    False\n",
              "\n",
              "[11153 rows x 7 columns]"
            ]
          },
          "metadata": {
            "tags": []
          },
          "execution_count": 49
        }
      ]
    },
    {
      "cell_type": "code",
      "metadata": {
        "id": "aL-UL2PrEvG2",
        "outputId": "b0437ba5-620e-490e-ba77-ab7f11151ea4"
      },
      "source": [
        "#veamos visualmente los na's\n",
        "import missingno as msngo\n",
        "msngo.matrix(anime_na);"
      ],
      "execution_count": null,
      "outputs": [
        {
          "output_type": "display_data",
          "data": {
            "image/png": "[encoded data removed]",
            "text/plain": [
              "<Figure size 1800x720 with 2 Axes>"
            ]
          },
          "metadata": {
            "tags": [],
            "needs_background": "light"
          }
        }
      ]
    },
    {
      "cell_type": "code",
      "metadata": {
        "colab": {
          "base_uri": "https://localhost:8080/",
          "height": 255
        },
        "id": "AO0evjlfvAoB",
        "outputId": "33c359f9-1468-4575-ced6-c981015ac9c8"
      },
      "source": [
        "#si queremos eliminar toda fila que tenga al menos un NA en alguna de sus columnas:\n",
        "anime_na = anime_na.dropna()\n",
        "anime_na.info()"
      ],
      "execution_count": null,
      "outputs": [
        {
          "output_type": "stream",
          "text": [
            "<class 'pandas.core.frame.DataFrame'>\n",
            "Int64Index: 10883 entries, 0 to 11150\n",
            "Data columns (total 7 columns):\n",
            " #   Column    Non-Null Count  Dtype  \n",
            "---  ------    --------------  -----  \n",
            " 0   anime_id  10883 non-null  int64  \n",
            " 1   me        10883 non-null  object \n",
            " 2   genre     10883 non-null  object \n",
            " 3   type      10883 non-null  object \n",
            " 4   episodes  10883 non-null  object \n",
            " 5   rating    10883 non-null  float64\n",
            " 6   members   10883 non-null  int64  \n",
            "dtypes: float64(1), int64(2), object(4)\n",
            "memory usage: 680.2+ KB\n"
          ],
          "name": "stdout"
        }
      ]
    },
    {
      "cell_type": "code",
      "metadata": {
        "colab": {
          "base_uri": "https://localhost:8080/",
          "height": 255
        },
        "id": "EMm1f7bOvAoE",
        "outputId": "38dc0387-5256-4f44-c21a-d141a1afcf14"
      },
      "source": [
        "# Cambio de tipo de variable\n",
        "anime_na['episodes'][anime_na['episodes'] == 'Unknown'] = None # np.nan\n",
        "anime_na.info()"
      ],
      "execution_count": null,
      "outputs": [
        {
          "output_type": "stream",
          "text": [
            "<class 'pandas.core.frame.DataFrame'>\n",
            "Int64Index: 10883 entries, 0 to 11150\n",
            "Data columns (total 7 columns):\n",
            " #   Column    Non-Null Count  Dtype  \n",
            "---  ------    --------------  -----  \n",
            " 0   anime_id  10883 non-null  int64  \n",
            " 1   me        10883 non-null  object \n",
            " 2   genre     10883 non-null  object \n",
            " 3   type      10883 non-null  object \n",
            " 4   episodes  10730 non-null  object \n",
            " 5   rating    10883 non-null  float64\n",
            " 6   members   10883 non-null  int64  \n",
            "dtypes: float64(1), int64(2), object(4)\n",
            "memory usage: 680.2+ KB\n"
          ],
          "name": "stdout"
        }
      ]
    },
    {
      "cell_type": "code",
      "metadata": {
        "colab": {
          "base_uri": "https://localhost:8080/",
          "height": 255
        },
        "id": "y4KwXJURvAoH",
        "outputId": "c9890a03-e236-4859-80f3-4d6b79db7c0b"
      },
      "source": [
        "anime_na = anime_na.dropna()\n",
        "anime_na.info()\n",
        "anime_na['episodes'] = anime_na['episodes'].astype('int')"
      ],
      "execution_count": null,
      "outputs": [
        {
          "output_type": "stream",
          "text": [
            "<class 'pandas.core.frame.DataFrame'>\n",
            "Int64Index: 10730 entries, 0 to 11150\n",
            "Data columns (total 7 columns):\n",
            " #   Column    Non-Null Count  Dtype  \n",
            "---  ------    --------------  -----  \n",
            " 0   anime_id  10730 non-null  int64  \n",
            " 1   me        10730 non-null  object \n",
            " 2   genre     10730 non-null  object \n",
            " 3   type      10730 non-null  object \n",
            " 4   episodes  10730 non-null  object \n",
            " 5   rating    10730 non-null  float64\n",
            " 6   members   10730 non-null  int64  \n",
            "dtypes: float64(1), int64(2), object(4)\n",
            "memory usage: 670.6+ KB\n"
          ],
          "name": "stdout"
        }
      ]
    },
    {
      "cell_type": "markdown",
      "metadata": {
        "id": "1jVSfs9RvAoQ"
      },
      "source": [
        "## Group by, funciones de agregación y merge\n",
        "\n",
        "En esta sección revisaremos como utilizar y combinar las funciones de agrupamiento y agregación en pandas. Estas funciones--haciendo el análogo con `R`--son equivalentes a group_by y summarise de `dplyr`.\n",
        "Además también revisaremos el método de merge con el que podremos realizar join entre dos datasets."
      ]
    },
    {
      "cell_type": "code",
      "metadata": {
        "colab": {
          "base_uri": "https://localhost:8080/",
          "height": 204
        },
        "id": "idZwK8PMvAoQ",
        "outputId": "c07a6178-ddea-4844-8114-596db4414176"
      },
      "source": [
        "anime_na.head(5)"
      ],
      "execution_count": null,
      "outputs": [
        {
          "output_type": "execute_result",
          "data": {
            "text/html": [
              "<div>\n",
              "<style scoped>\n",
              "    .dataframe tbody tr th:only-of-type {\n",
              "        vertical-align: middle;\n",
              "    }\n",
              "\n",
              "    .dataframe tbody tr th {\n",
              "        vertical-align: top;\n",
              "    }\n",
              "\n",
              "    .dataframe thead th {\n",
              "        text-align: right;\n",
              "    }\n",
              "</style>\n",
              "<table border=\"1\" class=\"dataframe\">\n",
              "  <thead>\n",
              "    <tr style=\"text-align: right;\">\n",
              "      <th></th>\n",
              "      <th>anime_id</th>\n",
              "      <th>me</th>\n",
              "      <th>genre</th>\n",
              "      <th>type</th>\n",
              "      <th>episodes</th>\n",
              "      <th>rating</th>\n",
              "      <th>members</th>\n",
              "    </tr>\n",
              "  </thead>\n",
              "  <tbody>\n",
              "    <tr>\n",
              "      <th>0</th>\n",
              "      <td>32281</td>\n",
              "      <td>Kimi no  wa.</td>\n",
              "      <td>Drama, Romance, School, Supertural</td>\n",
              "      <td>Movie</td>\n",
              "      <td>1</td>\n",
              "      <td>9.37</td>\n",
              "      <td>200630</td>\n",
              "    </tr>\n",
              "    <tr>\n",
              "      <th>1</th>\n",
              "      <td>5114</td>\n",
              "      <td>Fullmetal Alchemist: Brotherhood</td>\n",
              "      <td>Action, Adventure, Drama, Fantasy, Magic, Mili...</td>\n",
              "      <td>TV</td>\n",
              "      <td>64</td>\n",
              "      <td>9.26</td>\n",
              "      <td>793665</td>\n",
              "    </tr>\n",
              "    <tr>\n",
              "      <th>2</th>\n",
              "      <td>28977</td>\n",
              "      <td>Gintama°</td>\n",
              "      <td>Action, Comedy, Historical, Parody, Samurai, S...</td>\n",
              "      <td>TV</td>\n",
              "      <td>51</td>\n",
              "      <td>9.25</td>\n",
              "      <td>114262</td>\n",
              "    </tr>\n",
              "    <tr>\n",
              "      <th>3</th>\n",
              "      <td>9253</td>\n",
              "      <td>Steins;Gate</td>\n",
              "      <td>Sci-Fi, Thriller</td>\n",
              "      <td>TV</td>\n",
              "      <td>24</td>\n",
              "      <td>9.17</td>\n",
              "      <td>673572</td>\n",
              "    </tr>\n",
              "    <tr>\n",
              "      <th>4</th>\n",
              "      <td>9969</td>\n",
              "      <td>Gintama&amp;#039;</td>\n",
              "      <td>Action, Comedy, Historical, Parody, Samurai, S...</td>\n",
              "      <td>TV</td>\n",
              "      <td>51</td>\n",
              "      <td>9.16</td>\n",
              "      <td>151266</td>\n",
              "    </tr>\n",
              "  </tbody>\n",
              "</table>\n",
              "</div>"
            ],
            "text/plain": [
              "   anime_id                                me  \\\n",
              "0     32281                      Kimi no  wa.   \n",
              "1      5114  Fullmetal Alchemist: Brotherhood   \n",
              "2     28977                          Gintama°   \n",
              "3      9253                       Steins;Gate   \n",
              "4      9969                     Gintama&#039;   \n",
              "\n",
              "                                               genre   type  episodes  rating  \\\n",
              "0                 Drama, Romance, School, Supertural  Movie         1    9.37   \n",
              "1  Action, Adventure, Drama, Fantasy, Magic, Mili...     TV        64    9.26   \n",
              "2  Action, Comedy, Historical, Parody, Samurai, S...     TV        51    9.25   \n",
              "3                                   Sci-Fi, Thriller     TV        24    9.17   \n",
              "4  Action, Comedy, Historical, Parody, Samurai, S...     TV        51    9.16   \n",
              "\n",
              "   members  \n",
              "0   200630  \n",
              "1   793665  \n",
              "2   114262  \n",
              "3   673572  \n",
              "4   151266  "
            ]
          },
          "metadata": {
            "tags": []
          },
          "execution_count": 54
        }
      ]
    },
    {
      "cell_type": "markdown",
      "metadata": {
        "id": "4C38s2t0vAoT"
      },
      "source": [
        "Lo primero antes de generar agregaciones es crear un objeto agrupado, utilizando el método `groupby`. Para ejemplificar utilizaremos el mismo dataset que hemos esta usando y agruparemos por tipo (columna llamada type) de programa"
      ]
    },
    {
      "cell_type": "code",
      "metadata": {
        "colab": {
          "base_uri": "https://localhost:8080/",
          "height": 34
        },
        "id": "WCGbt8dyvAoU",
        "outputId": "a014bafc-59f0-4706-c042-509b3bf8ec3b"
      },
      "source": [
        "data_agrupada = anime_na.groupby('type')\n",
        "data_agrupada"
      ],
      "execution_count": null,
      "outputs": [
        {
          "output_type": "execute_result",
          "data": {
            "text/plain": [
              "<pandas.core.groupby.generic.DataFrameGroupBy object at 0x0000024A3849EAF0>"
            ]
          },
          "metadata": {
            "tags": []
          },
          "execution_count": 55
        }
      ]
    },
    {
      "cell_type": "markdown",
      "metadata": {
        "id": "ZZM2efE7EvG5"
      },
      "source": [
        "Notemos que la data está agrupada en la memoria pero no se ha solicitado ningun calculo de agregación con este grupo, por lo tanto no es posible visualizar nada"
      ]
    },
    {
      "cell_type": "markdown",
      "metadata": {
        "id": "3J0DokRlvAoZ"
      },
      "source": [
        "sobre el objeto anterior podemos acceder a los datos para un cierto nivel de agregación, utilizando los índices"
      ]
    },
    {
      "cell_type": "markdown",
      "metadata": {
        "id": "12C3-J0VvAoe"
      },
      "source": [
        "Una vez que tenemos los datos agrupados podemos realizar agregaciones a cada uno de los grupos que se formaron cuando aplicamos el método `groupby`, mediante el método `agg` al cual debemos pasarle una lista con las funciones que se desea agregar así como también si queremos agregar por índices o columnas (por default, es por índices).\n",
        "\n",
        "Para ejemplificar haremos algunas agregaciones sobre el dataset anterior"
      ]
    },
    {
      "cell_type": "code",
      "metadata": {
        "id": "GQfvixr2EvG6",
        "outputId": "9ca4ac74-38af-4747-8b02-d56ffd7c453d"
      },
      "source": [
        "data_agrupada.agg('count')"
      ],
      "execution_count": null,
      "outputs": [
        {
          "output_type": "execute_result",
          "data": {
            "text/html": [
              "<div>\n",
              "<style scoped>\n",
              "    .dataframe tbody tr th:only-of-type {\n",
              "        vertical-align: middle;\n",
              "    }\n",
              "\n",
              "    .dataframe tbody tr th {\n",
              "        vertical-align: top;\n",
              "    }\n",
              "\n",
              "    .dataframe thead th {\n",
              "        text-align: right;\n",
              "    }\n",
              "</style>\n",
              "<table border=\"1\" class=\"dataframe\">\n",
              "  <thead>\n",
              "    <tr style=\"text-align: right;\">\n",
              "      <th></th>\n",
              "      <th>anime_id</th>\n",
              "      <th>me</th>\n",
              "      <th>genre</th>\n",
              "      <th>episodes</th>\n",
              "      <th>rating</th>\n",
              "      <th>members</th>\n",
              "    </tr>\n",
              "    <tr>\n",
              "      <th>type</th>\n",
              "      <th></th>\n",
              "      <th></th>\n",
              "      <th></th>\n",
              "      <th></th>\n",
              "      <th></th>\n",
              "      <th></th>\n",
              "    </tr>\n",
              "  </thead>\n",
              "  <tbody>\n",
              "    <tr>\n",
              "      <th>Movie</th>\n",
              "      <td>2250</td>\n",
              "      <td>2250</td>\n",
              "      <td>2250</td>\n",
              "      <td>2250</td>\n",
              "      <td>2250</td>\n",
              "      <td>2250</td>\n",
              "    </tr>\n",
              "    <tr>\n",
              "      <th>Music</th>\n",
              "      <td>487</td>\n",
              "      <td>487</td>\n",
              "      <td>487</td>\n",
              "      <td>487</td>\n",
              "      <td>487</td>\n",
              "      <td>487</td>\n",
              "    </tr>\n",
              "    <tr>\n",
              "      <th>O</th>\n",
              "      <td>604</td>\n",
              "      <td>604</td>\n",
              "      <td>604</td>\n",
              "      <td>604</td>\n",
              "      <td>604</td>\n",
              "      <td>604</td>\n",
              "    </tr>\n",
              "    <tr>\n",
              "      <th>OVA</th>\n",
              "      <td>2176</td>\n",
              "      <td>2176</td>\n",
              "      <td>2176</td>\n",
              "      <td>2176</td>\n",
              "      <td>2176</td>\n",
              "      <td>2176</td>\n",
              "    </tr>\n",
              "    <tr>\n",
              "      <th>Special</th>\n",
              "      <td>1646</td>\n",
              "      <td>1646</td>\n",
              "      <td>1646</td>\n",
              "      <td>1646</td>\n",
              "      <td>1646</td>\n",
              "      <td>1646</td>\n",
              "    </tr>\n",
              "    <tr>\n",
              "      <th>TV</th>\n",
              "      <td>3567</td>\n",
              "      <td>3567</td>\n",
              "      <td>3567</td>\n",
              "      <td>3567</td>\n",
              "      <td>3567</td>\n",
              "      <td>3567</td>\n",
              "    </tr>\n",
              "  </tbody>\n",
              "</table>\n",
              "</div>"
            ],
            "text/plain": [
              "         anime_id    me  genre  episodes  rating  members\n",
              "type                                                     \n",
              "Movie        2250  2250   2250      2250    2250     2250\n",
              "Music         487   487    487       487     487      487\n",
              "O             604   604    604       604     604      604\n",
              "OVA          2176  2176   2176      2176    2176     2176\n",
              "Special      1646  1646   1646      1646    1646     1646\n",
              "TV           3567  3567   3567      3567    3567     3567"
            ]
          },
          "metadata": {
            "tags": []
          },
          "execution_count": 56
        }
      ]
    },
    {
      "cell_type": "markdown",
      "metadata": {
        "id": "nWRpVifnEvG6"
      },
      "source": [
        "Ahora que solicitamos un método de agregación (en este caso contar registros), si nos muestra algún resultado. Podemos solicitar más de un tipo de método a la vez:"
      ]
    },
    {
      "cell_type": "code",
      "metadata": {
        "colab": {
          "base_uri": "https://localhost:8080/",
          "height": 297
        },
        "id": "DHWhae7XvAoi",
        "outputId": "9e4ee8b0-70ee-49c9-b450-3a4b180012df"
      },
      "source": [
        "# Promedio y desviación estándar del rating\n",
        "anime_na.groupby('type').agg(['mean','std'])"
      ],
      "execution_count": null,
      "outputs": [
        {
          "output_type": "execute_result",
          "data": {
            "text/html": [
              "<div>\n",
              "<style scoped>\n",
              "    .dataframe tbody tr th:only-of-type {\n",
              "        vertical-align: middle;\n",
              "    }\n",
              "\n",
              "    .dataframe tbody tr th {\n",
              "        vertical-align: top;\n",
              "    }\n",
              "\n",
              "    .dataframe thead tr th {\n",
              "        text-align: left;\n",
              "    }\n",
              "\n",
              "    .dataframe thead tr:last-of-type th {\n",
              "        text-align: right;\n",
              "    }\n",
              "</style>\n",
              "<table border=\"1\" class=\"dataframe\">\n",
              "  <thead>\n",
              "    <tr>\n",
              "      <th></th>\n",
              "      <th colspan=\"2\" halign=\"left\">anime_id</th>\n",
              "      <th colspan=\"2\" halign=\"left\">episodes</th>\n",
              "      <th colspan=\"2\" halign=\"left\">rating</th>\n",
              "      <th colspan=\"2\" halign=\"left\">members</th>\n",
              "    </tr>\n",
              "    <tr>\n",
              "      <th></th>\n",
              "      <th>mean</th>\n",
              "      <th>std</th>\n",
              "      <th>mean</th>\n",
              "      <th>std</th>\n",
              "      <th>mean</th>\n",
              "      <th>std</th>\n",
              "      <th>mean</th>\n",
              "      <th>std</th>\n",
              "    </tr>\n",
              "    <tr>\n",
              "      <th>type</th>\n",
              "      <th></th>\n",
              "      <th></th>\n",
              "      <th></th>\n",
              "      <th></th>\n",
              "      <th></th>\n",
              "      <th></th>\n",
              "      <th></th>\n",
              "      <th></th>\n",
              "    </tr>\n",
              "  </thead>\n",
              "  <tbody>\n",
              "    <tr>\n",
              "      <th>Movie</th>\n",
              "      <td>14284.603111</td>\n",
              "      <td>10903.690040</td>\n",
              "      <td>1.099556</td>\n",
              "      <td>2.179138</td>\n",
              "      <td>6.337387</td>\n",
              "      <td>1.204693</td>\n",
              "      <td>10599.660444</td>\n",
              "      <td>31444.464974</td>\n",
              "    </tr>\n",
              "    <tr>\n",
              "      <th>Music</th>\n",
              "      <td>22423.652977</td>\n",
              "      <td>10215.398341</td>\n",
              "      <td>1.131417</td>\n",
              "      <td>1.293852</td>\n",
              "      <td>5.588665</td>\n",
              "      <td>0.959398</td>\n",
              "      <td>1314.455852</td>\n",
              "      <td>4552.445070</td>\n",
              "    </tr>\n",
              "    <tr>\n",
              "      <th>O</th>\n",
              "      <td>22656.246689</td>\n",
              "      <td>10363.622071</td>\n",
              "      <td>6.912252</td>\n",
              "      <td>11.453153</td>\n",
              "      <td>5.639801</td>\n",
              "      <td>1.127262</td>\n",
              "      <td>4455.402318</td>\n",
              "      <td>12897.328851</td>\n",
              "    </tr>\n",
              "    <tr>\n",
              "      <th>OVA</th>\n",
              "      <td>11832.946691</td>\n",
              "      <td>10600.886701</td>\n",
              "      <td>2.539062</td>\n",
              "      <td>3.746734</td>\n",
              "      <td>6.472399</td>\n",
              "      <td>0.912209</td>\n",
              "      <td>7708.577206</td>\n",
              "      <td>18124.607781</td>\n",
              "    </tr>\n",
              "    <tr>\n",
              "      <th>Special</th>\n",
              "      <td>16583.253949</td>\n",
              "      <td>10822.753475</td>\n",
              "      <td>2.582625</td>\n",
              "      <td>3.723764</td>\n",
              "      <td>6.528469</td>\n",
              "      <td>0.887297</td>\n",
              "      <td>7780.909478</td>\n",
              "      <td>15665.544512</td>\n",
              "    </tr>\n",
              "    <tr>\n",
              "      <th>TV</th>\n",
              "      <td>10868.142977</td>\n",
              "      <td>10598.310002</td>\n",
              "      <td>35.974488</td>\n",
              "      <td>80.754953</td>\n",
              "      <td>6.929033</td>\n",
              "      <td>0.830447</td>\n",
              "      <td>44592.785254</td>\n",
              "      <td>90522.042970</td>\n",
              "    </tr>\n",
              "  </tbody>\n",
              "</table>\n",
              "</div>"
            ],
            "text/plain": [
              "             anime_id                 episodes               rating            \\\n",
              "                 mean           std       mean        std      mean       std   \n",
              "type                                                                            \n",
              "Movie    14284.603111  10903.690040   1.099556   2.179138  6.337387  1.204693   \n",
              "Music    22423.652977  10215.398341   1.131417   1.293852  5.588665  0.959398   \n",
              "O        22656.246689  10363.622071   6.912252  11.453153  5.639801  1.127262   \n",
              "OVA      11832.946691  10600.886701   2.539062   3.746734  6.472399  0.912209   \n",
              "Special  16583.253949  10822.753475   2.582625   3.723764  6.528469  0.887297   \n",
              "TV       10868.142977  10598.310002  35.974488  80.754953  6.929033  0.830447   \n",
              "\n",
              "              members                \n",
              "                 mean           std  \n",
              "type                                 \n",
              "Movie    10599.660444  31444.464974  \n",
              "Music     1314.455852   4552.445070  \n",
              "O         4455.402318  12897.328851  \n",
              "OVA       7708.577206  18124.607781  \n",
              "Special   7780.909478  15665.544512  \n",
              "TV       44592.785254  90522.042970  "
            ]
          },
          "metadata": {
            "tags": []
          },
          "execution_count": 57
        }
      ]
    },
    {
      "cell_type": "markdown",
      "metadata": {
        "id": "buvCcBt_EvG7"
      },
      "source": [
        "Se cree que un animé es extenso si tiene al menos 15 episodios, creemos dicha variable:"
      ]
    },
    {
      "cell_type": "code",
      "metadata": {
        "colab": {
          "base_uri": "https://localhost:8080/",
          "height": 204
        },
        "id": "iy2S5EtJvAon",
        "outputId": "1b57c5c9-ffa6-4907-b3b8-5c40a518247c"
      },
      "source": [
        "# Creamos una nueva variable de popularidad\n",
        "def extension(value):\n",
        "    if value <= 15:\n",
        "        res = 'No extenso'\n",
        "    else:\n",
        "        res = 'extenso'\n",
        "    return res\n",
        "\n",
        "anime_na['duracion'] = anime_na['episodes'].apply(extension)\n",
        "anime_na.head()\n",
        "\n",
        "#Lo mismo lo podríamos haber hecho con np.where()"
      ],
      "execution_count": null,
      "outputs": [
        {
          "output_type": "execute_result",
          "data": {
            "text/html": [
              "<div>\n",
              "<style scoped>\n",
              "    .dataframe tbody tr th:only-of-type {\n",
              "        vertical-align: middle;\n",
              "    }\n",
              "\n",
              "    .dataframe tbody tr th {\n",
              "        vertical-align: top;\n",
              "    }\n",
              "\n",
              "    .dataframe thead th {\n",
              "        text-align: right;\n",
              "    }\n",
              "</style>\n",
              "<table border=\"1\" class=\"dataframe\">\n",
              "  <thead>\n",
              "    <tr style=\"text-align: right;\">\n",
              "      <th></th>\n",
              "      <th>anime_id</th>\n",
              "      <th>me</th>\n",
              "      <th>genre</th>\n",
              "      <th>type</th>\n",
              "      <th>episodes</th>\n",
              "      <th>rating</th>\n",
              "      <th>members</th>\n",
              "      <th>duracion</th>\n",
              "    </tr>\n",
              "  </thead>\n",
              "  <tbody>\n",
              "    <tr>\n",
              "      <th>0</th>\n",
              "      <td>32281</td>\n",
              "      <td>Kimi no  wa.</td>\n",
              "      <td>Drama, Romance, School, Supertural</td>\n",
              "      <td>Movie</td>\n",
              "      <td>1</td>\n",
              "      <td>9.37</td>\n",
              "      <td>200630</td>\n",
              "      <td>No extenso</td>\n",
              "    </tr>\n",
              "    <tr>\n",
              "      <th>1</th>\n",
              "      <td>5114</td>\n",
              "      <td>Fullmetal Alchemist: Brotherhood</td>\n",
              "      <td>Action, Adventure, Drama, Fantasy, Magic, Mili...</td>\n",
              "      <td>TV</td>\n",
              "      <td>64</td>\n",
              "      <td>9.26</td>\n",
              "      <td>793665</td>\n",
              "      <td>extenso</td>\n",
              "    </tr>\n",
              "    <tr>\n",
              "      <th>2</th>\n",
              "      <td>28977</td>\n",
              "      <td>Gintama°</td>\n",
              "      <td>Action, Comedy, Historical, Parody, Samurai, S...</td>\n",
              "      <td>TV</td>\n",
              "      <td>51</td>\n",
              "      <td>9.25</td>\n",
              "      <td>114262</td>\n",
              "      <td>extenso</td>\n",
              "    </tr>\n",
              "    <tr>\n",
              "      <th>3</th>\n",
              "      <td>9253</td>\n",
              "      <td>Steins;Gate</td>\n",
              "      <td>Sci-Fi, Thriller</td>\n",
              "      <td>TV</td>\n",
              "      <td>24</td>\n",
              "      <td>9.17</td>\n",
              "      <td>673572</td>\n",
              "      <td>extenso</td>\n",
              "    </tr>\n",
              "    <tr>\n",
              "      <th>4</th>\n",
              "      <td>9969</td>\n",
              "      <td>Gintama&amp;#039;</td>\n",
              "      <td>Action, Comedy, Historical, Parody, Samurai, S...</td>\n",
              "      <td>TV</td>\n",
              "      <td>51</td>\n",
              "      <td>9.16</td>\n",
              "      <td>151266</td>\n",
              "      <td>extenso</td>\n",
              "    </tr>\n",
              "  </tbody>\n",
              "</table>\n",
              "</div>"
            ],
            "text/plain": [
              "   anime_id                                me  \\\n",
              "0     32281                      Kimi no  wa.   \n",
              "1      5114  Fullmetal Alchemist: Brotherhood   \n",
              "2     28977                          Gintama°   \n",
              "3      9253                       Steins;Gate   \n",
              "4      9969                     Gintama&#039;   \n",
              "\n",
              "                                               genre   type  episodes  rating  \\\n",
              "0                 Drama, Romance, School, Supertural  Movie         1    9.37   \n",
              "1  Action, Adventure, Drama, Fantasy, Magic, Mili...     TV        64    9.26   \n",
              "2  Action, Comedy, Historical, Parody, Samurai, S...     TV        51    9.25   \n",
              "3                                   Sci-Fi, Thriller     TV        24    9.17   \n",
              "4  Action, Comedy, Historical, Parody, Samurai, S...     TV        51    9.16   \n",
              "\n",
              "   members    duracion  \n",
              "0   200630  No extenso  \n",
              "1   793665     extenso  \n",
              "2   114262     extenso  \n",
              "3   673572     extenso  \n",
              "4   151266     extenso  "
            ]
          },
          "metadata": {
            "tags": []
          },
          "execution_count": 58
        }
      ]
    },
    {
      "cell_type": "code",
      "metadata": {
        "id": "infzl-6RidGs"
      },
      "source": [
        "#Veamos la información del primer cuantil\n",
        "def Q1(data):\n",
        "    return np.percentile(data, 25)"
      ],
      "execution_count": null,
      "outputs": []
    },
    {
      "cell_type": "code",
      "metadata": {
        "colab": {
          "base_uri": "https://localhost:8080/",
          "height": 483
        },
        "id": "dkKuRoBkvAop",
        "outputId": "63d9fdb3-ea7c-4df9-c334-93087f02ea7f"
      },
      "source": [
        "# Ahora agruparemos por tipo y popularidad\n",
        "anime_na.groupby(['type','duracion']).agg(['mean','min','max','count', Q1])[['rating','episodes']]"
      ],
      "execution_count": null,
      "outputs": [
        {
          "output_type": "execute_result",
          "data": {
            "text/html": [
              "<div>\n",
              "<style scoped>\n",
              "    .dataframe tbody tr th:only-of-type {\n",
              "        vertical-align: middle;\n",
              "    }\n",
              "\n",
              "    .dataframe tbody tr th {\n",
              "        vertical-align: top;\n",
              "    }\n",
              "\n",
              "    .dataframe thead tr th {\n",
              "        text-align: left;\n",
              "    }\n",
              "\n",
              "    .dataframe thead tr:last-of-type th {\n",
              "        text-align: right;\n",
              "    }\n",
              "</style>\n",
              "<table border=\"1\" class=\"dataframe\">\n",
              "  <thead>\n",
              "    <tr>\n",
              "      <th></th>\n",
              "      <th></th>\n",
              "      <th colspan=\"5\" halign=\"left\">rating</th>\n",
              "      <th colspan=\"5\" halign=\"left\">episodes</th>\n",
              "    </tr>\n",
              "    <tr>\n",
              "      <th></th>\n",
              "      <th></th>\n",
              "      <th>mean</th>\n",
              "      <th>min</th>\n",
              "      <th>max</th>\n",
              "      <th>count</th>\n",
              "      <th>Q1</th>\n",
              "      <th>mean</th>\n",
              "      <th>min</th>\n",
              "      <th>max</th>\n",
              "      <th>count</th>\n",
              "      <th>Q1</th>\n",
              "    </tr>\n",
              "    <tr>\n",
              "      <th>type</th>\n",
              "      <th>duracion</th>\n",
              "      <th></th>\n",
              "      <th></th>\n",
              "      <th></th>\n",
              "      <th></th>\n",
              "      <th></th>\n",
              "      <th></th>\n",
              "      <th></th>\n",
              "      <th></th>\n",
              "      <th></th>\n",
              "      <th></th>\n",
              "    </tr>\n",
              "  </thead>\n",
              "  <tbody>\n",
              "    <tr>\n",
              "      <th rowspan=\"2\" valign=\"top\">Movie</th>\n",
              "      <th>No extenso</th>\n",
              "      <td>6.337092</td>\n",
              "      <td>2.49</td>\n",
              "      <td>10.00</td>\n",
              "      <td>2249</td>\n",
              "      <td>5.4500</td>\n",
              "      <td>1.055580</td>\n",
              "      <td>1</td>\n",
              "      <td>14</td>\n",
              "      <td>2249</td>\n",
              "      <td>1.0</td>\n",
              "    </tr>\n",
              "    <tr>\n",
              "      <th>extenso</th>\n",
              "      <td>7.000000</td>\n",
              "      <td>7.00</td>\n",
              "      <td>7.00</td>\n",
              "      <td>1</td>\n",
              "      <td>7.0000</td>\n",
              "      <td>100.000000</td>\n",
              "      <td>100</td>\n",
              "      <td>100</td>\n",
              "      <td>1</td>\n",
              "      <td>100.0</td>\n",
              "    </tr>\n",
              "    <tr>\n",
              "      <th rowspan=\"2\" valign=\"top\">Music</th>\n",
              "      <th>No extenso</th>\n",
              "      <td>5.584444</td>\n",
              "      <td>3.28</td>\n",
              "      <td>8.38</td>\n",
              "      <td>486</td>\n",
              "      <td>5.0100</td>\n",
              "      <td>1.084362</td>\n",
              "      <td>1</td>\n",
              "      <td>14</td>\n",
              "      <td>486</td>\n",
              "      <td>1.0</td>\n",
              "    </tr>\n",
              "    <tr>\n",
              "      <th>extenso</th>\n",
              "      <td>7.640000</td>\n",
              "      <td>7.64</td>\n",
              "      <td>7.64</td>\n",
              "      <td>1</td>\n",
              "      <td>7.6400</td>\n",
              "      <td>24.000000</td>\n",
              "      <td>24</td>\n",
              "      <td>24</td>\n",
              "      <td>1</td>\n",
              "      <td>24.0</td>\n",
              "    </tr>\n",
              "    <tr>\n",
              "      <th rowspan=\"2\" valign=\"top\">O</th>\n",
              "      <th>No extenso</th>\n",
              "      <td>5.528564</td>\n",
              "      <td>2.67</td>\n",
              "      <td>8.26</td>\n",
              "      <td>543</td>\n",
              "      <td>4.7900</td>\n",
              "      <td>3.856354</td>\n",
              "      <td>1</td>\n",
              "      <td>15</td>\n",
              "      <td>543</td>\n",
              "      <td>1.0</td>\n",
              "    </tr>\n",
              "    <tr>\n",
              "      <th>extenso</th>\n",
              "      <td>6.630000</td>\n",
              "      <td>3.98</td>\n",
              "      <td>8.00</td>\n",
              "      <td>61</td>\n",
              "      <td>6.2100</td>\n",
              "      <td>34.114754</td>\n",
              "      <td>16</td>\n",
              "      <td>84</td>\n",
              "      <td>61</td>\n",
              "      <td>24.0</td>\n",
              "    </tr>\n",
              "    <tr>\n",
              "      <th rowspan=\"2\" valign=\"top\">OVA</th>\n",
              "      <th>No extenso</th>\n",
              "      <td>6.468287</td>\n",
              "      <td>2.00</td>\n",
              "      <td>9.25</td>\n",
              "      <td>2160</td>\n",
              "      <td>5.9000</td>\n",
              "      <td>2.349074</td>\n",
              "      <td>1</td>\n",
              "      <td>15</td>\n",
              "      <td>2160</td>\n",
              "      <td>1.0</td>\n",
              "    </tr>\n",
              "    <tr>\n",
              "      <th>extenso</th>\n",
              "      <td>7.027500</td>\n",
              "      <td>4.67</td>\n",
              "      <td>9.11</td>\n",
              "      <td>16</td>\n",
              "      <td>5.9225</td>\n",
              "      <td>28.187500</td>\n",
              "      <td>16</td>\n",
              "      <td>110</td>\n",
              "      <td>16</td>\n",
              "      <td>18.0</td>\n",
              "    </tr>\n",
              "    <tr>\n",
              "      <th rowspan=\"2\" valign=\"top\">Special</th>\n",
              "      <th>No extenso</th>\n",
              "      <td>6.525329</td>\n",
              "      <td>1.67</td>\n",
              "      <td>8.66</td>\n",
              "      <td>1627</td>\n",
              "      <td>6.0900</td>\n",
              "      <td>2.307929</td>\n",
              "      <td>1</td>\n",
              "      <td>15</td>\n",
              "      <td>1627</td>\n",
              "      <td>1.0</td>\n",
              "    </tr>\n",
              "    <tr>\n",
              "      <th>extenso</th>\n",
              "      <td>6.797368</td>\n",
              "      <td>4.38</td>\n",
              "      <td>7.71</td>\n",
              "      <td>19</td>\n",
              "      <td>6.7050</td>\n",
              "      <td>26.105263</td>\n",
              "      <td>16</td>\n",
              "      <td>51</td>\n",
              "      <td>19</td>\n",
              "      <td>17.5</td>\n",
              "    </tr>\n",
              "    <tr>\n",
              "      <th rowspan=\"2\" valign=\"top\">TV</th>\n",
              "      <th>No extenso</th>\n",
              "      <td>6.908138</td>\n",
              "      <td>3.00</td>\n",
              "      <td>9.15</td>\n",
              "      <td>1488</td>\n",
              "      <td>6.4275</td>\n",
              "      <td>11.911290</td>\n",
              "      <td>2</td>\n",
              "      <td>15</td>\n",
              "      <td>1488</td>\n",
              "      <td>12.0</td>\n",
              "    </tr>\n",
              "    <tr>\n",
              "      <th>extenso</th>\n",
              "      <td>6.943987</td>\n",
              "      <td>3.00</td>\n",
              "      <td>9.26</td>\n",
              "      <td>2079</td>\n",
              "      <td>6.4900</td>\n",
              "      <td>53.197210</td>\n",
              "      <td>16</td>\n",
              "      <td>1818</td>\n",
              "      <td>2079</td>\n",
              "      <td>26.0</td>\n",
              "    </tr>\n",
              "  </tbody>\n",
              "</table>\n",
              "</div>"
            ],
            "text/plain": [
              "                      rating                               episodes       \\\n",
              "                        mean   min    max count      Q1        mean  min   \n",
              "type    duracion                                                           \n",
              "Movie   No extenso  6.337092  2.49  10.00  2249  5.4500    1.055580    1   \n",
              "        extenso     7.000000  7.00   7.00     1  7.0000  100.000000  100   \n",
              "Music   No extenso  5.584444  3.28   8.38   486  5.0100    1.084362    1   \n",
              "        extenso     7.640000  7.64   7.64     1  7.6400   24.000000   24   \n",
              "O       No extenso  5.528564  2.67   8.26   543  4.7900    3.856354    1   \n",
              "        extenso     6.630000  3.98   8.00    61  6.2100   34.114754   16   \n",
              "OVA     No extenso  6.468287  2.00   9.25  2160  5.9000    2.349074    1   \n",
              "        extenso     7.027500  4.67   9.11    16  5.9225   28.187500   16   \n",
              "Special No extenso  6.525329  1.67   8.66  1627  6.0900    2.307929    1   \n",
              "        extenso     6.797368  4.38   7.71    19  6.7050   26.105263   16   \n",
              "TV      No extenso  6.908138  3.00   9.15  1488  6.4275   11.911290    2   \n",
              "        extenso     6.943987  3.00   9.26  2079  6.4900   53.197210   16   \n",
              "\n",
              "                                       \n",
              "                     max count     Q1  \n",
              "type    duracion                       \n",
              "Movie   No extenso    14  2249    1.0  \n",
              "        extenso      100     1  100.0  \n",
              "Music   No extenso    14   486    1.0  \n",
              "        extenso       24     1   24.0  \n",
              "O       No extenso    15   543    1.0  \n",
              "        extenso       84    61   24.0  \n",
              "OVA     No extenso    15  2160    1.0  \n",
              "        extenso      110    16   18.0  \n",
              "Special No extenso    15  1627    1.0  \n",
              "        extenso       51    19   17.5  \n",
              "TV      No extenso    15  1488   12.0  \n",
              "        extenso     1818  2079   26.0  "
            ]
          },
          "metadata": {
            "tags": []
          },
          "execution_count": 60
        }
      ]
    },
    {
      "cell_type": "markdown",
      "metadata": {
        "id": "z2KUvop-vAox"
      },
      "source": [
        "Con lo anterior tenemos alguna idea de como se utiliza el `groupby` y `agg` en `python`. Ahora veremos un ejemplo de la utilización del la función `merge` que se utiliza para unir las variables en dos dataframes que tienen ciertas variables en común (key), para así poder consolidar todas las variables en un solo dataset"
      ]
    },
    {
      "cell_type": "code",
      "metadata": {
        "colab": {
          "base_uri": "https://localhost:8080/",
          "height": 329
        },
        "id": "ls4G6lFPvAoz",
        "outputId": "331b7b28-09a8-467b-97e4-4b1ca20c5732"
      },
      "source": [
        "df1 = pd.DataFrame({'Nombre': ['Juan', 'Jorge', 'Lisa', 'Susana'],\n",
        "                    'Profesion': ['Contador', 'Ingeniero', 'Ingeniero', 'Psicologo']})\n",
        "df2 = pd.DataFrame({'Nombre': ['Lisa', 'Juan', 'Jorge', 'Susana'],\n",
        "                    'Contratacion': [2004, 2008, 2012, 2014]})\n",
        "display(df1)\n",
        "display(df2)"
      ],
      "execution_count": null,
      "outputs": [
        {
          "output_type": "display_data",
          "data": {
            "text/html": [
              "<div>\n",
              "<style scoped>\n",
              "    .dataframe tbody tr th:only-of-type {\n",
              "        vertical-align: middle;\n",
              "    }\n",
              "\n",
              "    .dataframe tbody tr th {\n",
              "        vertical-align: top;\n",
              "    }\n",
              "\n",
              "    .dataframe thead th {\n",
              "        text-align: right;\n",
              "    }\n",
              "</style>\n",
              "<table border=\"1\" class=\"dataframe\">\n",
              "  <thead>\n",
              "    <tr style=\"text-align: right;\">\n",
              "      <th></th>\n",
              "      <th>Nombre</th>\n",
              "      <th>Profesion</th>\n",
              "    </tr>\n",
              "  </thead>\n",
              "  <tbody>\n",
              "    <tr>\n",
              "      <th>0</th>\n",
              "      <td>Juan</td>\n",
              "      <td>Contador</td>\n",
              "    </tr>\n",
              "    <tr>\n",
              "      <th>1</th>\n",
              "      <td>Jorge</td>\n",
              "      <td>Ingeniero</td>\n",
              "    </tr>\n",
              "    <tr>\n",
              "      <th>2</th>\n",
              "      <td>Lisa</td>\n",
              "      <td>Ingeniero</td>\n",
              "    </tr>\n",
              "    <tr>\n",
              "      <th>3</th>\n",
              "      <td>Susana</td>\n",
              "      <td>Psicologo</td>\n",
              "    </tr>\n",
              "  </tbody>\n",
              "</table>\n",
              "</div>"
            ],
            "text/plain": [
              "   Nombre  Profesion\n",
              "0    Juan   Contador\n",
              "1   Jorge  Ingeniero\n",
              "2    Lisa  Ingeniero\n",
              "3  Susana  Psicologo"
            ]
          },
          "metadata": {
            "tags": []
          }
        },
        {
          "output_type": "display_data",
          "data": {
            "text/html": [
              "<div>\n",
              "<style scoped>\n",
              "    .dataframe tbody tr th:only-of-type {\n",
              "        vertical-align: middle;\n",
              "    }\n",
              "\n",
              "    .dataframe tbody tr th {\n",
              "        vertical-align: top;\n",
              "    }\n",
              "\n",
              "    .dataframe thead th {\n",
              "        text-align: right;\n",
              "    }\n",
              "</style>\n",
              "<table border=\"1\" class=\"dataframe\">\n",
              "  <thead>\n",
              "    <tr style=\"text-align: right;\">\n",
              "      <th></th>\n",
              "      <th>Nombre</th>\n",
              "      <th>Contratacion</th>\n",
              "    </tr>\n",
              "  </thead>\n",
              "  <tbody>\n",
              "    <tr>\n",
              "      <th>0</th>\n",
              "      <td>Lisa</td>\n",
              "      <td>2004</td>\n",
              "    </tr>\n",
              "    <tr>\n",
              "      <th>1</th>\n",
              "      <td>Juan</td>\n",
              "      <td>2008</td>\n",
              "    </tr>\n",
              "    <tr>\n",
              "      <th>2</th>\n",
              "      <td>Jorge</td>\n",
              "      <td>2012</td>\n",
              "    </tr>\n",
              "    <tr>\n",
              "      <th>3</th>\n",
              "      <td>Susana</td>\n",
              "      <td>2014</td>\n",
              "    </tr>\n",
              "  </tbody>\n",
              "</table>\n",
              "</div>"
            ],
            "text/plain": [
              "   Nombre  Contratacion\n",
              "0    Lisa          2004\n",
              "1    Juan          2008\n",
              "2   Jorge          2012\n",
              "3  Susana          2014"
            ]
          },
          "metadata": {
            "tags": []
          }
        }
      ]
    },
    {
      "cell_type": "code",
      "metadata": {
        "colab": {
          "base_uri": "https://localhost:8080/",
          "height": 173
        },
        "id": "sE4jUI1IvAo9",
        "outputId": "b87f75f9-04fb-4e6e-bf18-7ac7a34d4882"
      },
      "source": [
        "df3 = pd.merge(df1,df2) #se puede usar el parametro 'on' para especificar la(s) variable(s) del join\n",
        "display(df3)"
      ],
      "execution_count": null,
      "outputs": [
        {
          "output_type": "display_data",
          "data": {
            "text/html": [
              "<div>\n",
              "<style scoped>\n",
              "    .dataframe tbody tr th:only-of-type {\n",
              "        vertical-align: middle;\n",
              "    }\n",
              "\n",
              "    .dataframe tbody tr th {\n",
              "        vertical-align: top;\n",
              "    }\n",
              "\n",
              "    .dataframe thead th {\n",
              "        text-align: right;\n",
              "    }\n",
              "</style>\n",
              "<table border=\"1\" class=\"dataframe\">\n",
              "  <thead>\n",
              "    <tr style=\"text-align: right;\">\n",
              "      <th></th>\n",
              "      <th>Nombre</th>\n",
              "      <th>Profesion</th>\n",
              "      <th>Contratacion</th>\n",
              "    </tr>\n",
              "  </thead>\n",
              "  <tbody>\n",
              "    <tr>\n",
              "      <th>0</th>\n",
              "      <td>Juan</td>\n",
              "      <td>Contador</td>\n",
              "      <td>2008</td>\n",
              "    </tr>\n",
              "    <tr>\n",
              "      <th>1</th>\n",
              "      <td>Jorge</td>\n",
              "      <td>Ingeniero</td>\n",
              "      <td>2012</td>\n",
              "    </tr>\n",
              "    <tr>\n",
              "      <th>2</th>\n",
              "      <td>Lisa</td>\n",
              "      <td>Ingeniero</td>\n",
              "      <td>2004</td>\n",
              "    </tr>\n",
              "    <tr>\n",
              "      <th>3</th>\n",
              "      <td>Susana</td>\n",
              "      <td>Psicologo</td>\n",
              "      <td>2014</td>\n",
              "    </tr>\n",
              "  </tbody>\n",
              "</table>\n",
              "</div>"
            ],
            "text/plain": [
              "   Nombre  Profesion  Contratacion\n",
              "0    Juan   Contador          2008\n",
              "1   Jorge  Ingeniero          2012\n",
              "2    Lisa  Ingeniero          2004\n",
              "3  Susana  Psicologo          2014"
            ]
          },
          "metadata": {
            "tags": []
          }
        }
      ]
    },
    {
      "cell_type": "code",
      "metadata": {
        "colab": {
          "base_uri": "https://localhost:8080/",
          "height": 329
        },
        "id": "ThD-uMTkvApF",
        "outputId": "b7b96035-2330-44aa-ae5b-51841cb10ca8"
      },
      "source": [
        "#En caso que la columna mediante la que haremos el join no tiene el mismo nombre, tendremos lo siguiente\n",
        "df2 = pd.DataFrame({'Empleado': ['Lisa', 'Juan', 'Jorge', 'Susana'],\n",
        "                    'Contratacion': [2004, 2008, 2012, 2014]})\n",
        "display(df2)\n",
        "df3 = pd.merge(df1,df2, left_on='Nombre',right_on='Empleado')#.drop('Empleado', axis = 1)\n",
        "display(df3)"
      ],
      "execution_count": null,
      "outputs": [
        {
          "output_type": "display_data",
          "data": {
            "text/html": [
              "<div>\n",
              "<style scoped>\n",
              "    .dataframe tbody tr th:only-of-type {\n",
              "        vertical-align: middle;\n",
              "    }\n",
              "\n",
              "    .dataframe tbody tr th {\n",
              "        vertical-align: top;\n",
              "    }\n",
              "\n",
              "    .dataframe thead th {\n",
              "        text-align: right;\n",
              "    }\n",
              "</style>\n",
              "<table border=\"1\" class=\"dataframe\">\n",
              "  <thead>\n",
              "    <tr style=\"text-align: right;\">\n",
              "      <th></th>\n",
              "      <th>Empleado</th>\n",
              "      <th>Contratacion</th>\n",
              "    </tr>\n",
              "  </thead>\n",
              "  <tbody>\n",
              "    <tr>\n",
              "      <th>0</th>\n",
              "      <td>Lisa</td>\n",
              "      <td>2004</td>\n",
              "    </tr>\n",
              "    <tr>\n",
              "      <th>1</th>\n",
              "      <td>Juan</td>\n",
              "      <td>2008</td>\n",
              "    </tr>\n",
              "    <tr>\n",
              "      <th>2</th>\n",
              "      <td>Jorge</td>\n",
              "      <td>2012</td>\n",
              "    </tr>\n",
              "    <tr>\n",
              "      <th>3</th>\n",
              "      <td>Susana</td>\n",
              "      <td>2014</td>\n",
              "    </tr>\n",
              "  </tbody>\n",
              "</table>\n",
              "</div>"
            ],
            "text/plain": [
              "  Empleado  Contratacion\n",
              "0     Lisa          2004\n",
              "1     Juan          2008\n",
              "2    Jorge          2012\n",
              "3   Susana          2014"
            ]
          },
          "metadata": {
            "tags": []
          }
        },
        {
          "output_type": "display_data",
          "data": {
            "text/html": [
              "<div>\n",
              "<style scoped>\n",
              "    .dataframe tbody tr th:only-of-type {\n",
              "        vertical-align: middle;\n",
              "    }\n",
              "\n",
              "    .dataframe tbody tr th {\n",
              "        vertical-align: top;\n",
              "    }\n",
              "\n",
              "    .dataframe thead th {\n",
              "        text-align: right;\n",
              "    }\n",
              "</style>\n",
              "<table border=\"1\" class=\"dataframe\">\n",
              "  <thead>\n",
              "    <tr style=\"text-align: right;\">\n",
              "      <th></th>\n",
              "      <th>Nombre</th>\n",
              "      <th>Profesion</th>\n",
              "      <th>Empleado</th>\n",
              "      <th>Contratacion</th>\n",
              "    </tr>\n",
              "  </thead>\n",
              "  <tbody>\n",
              "    <tr>\n",
              "      <th>0</th>\n",
              "      <td>Juan</td>\n",
              "      <td>Contador</td>\n",
              "      <td>Juan</td>\n",
              "      <td>2008</td>\n",
              "    </tr>\n",
              "    <tr>\n",
              "      <th>1</th>\n",
              "      <td>Jorge</td>\n",
              "      <td>Ingeniero</td>\n",
              "      <td>Jorge</td>\n",
              "      <td>2012</td>\n",
              "    </tr>\n",
              "    <tr>\n",
              "      <th>2</th>\n",
              "      <td>Lisa</td>\n",
              "      <td>Ingeniero</td>\n",
              "      <td>Lisa</td>\n",
              "      <td>2004</td>\n",
              "    </tr>\n",
              "    <tr>\n",
              "      <th>3</th>\n",
              "      <td>Susana</td>\n",
              "      <td>Psicologo</td>\n",
              "      <td>Susana</td>\n",
              "      <td>2014</td>\n",
              "    </tr>\n",
              "  </tbody>\n",
              "</table>\n",
              "</div>"
            ],
            "text/plain": [
              "   Nombre  Profesion Empleado  Contratacion\n",
              "0    Juan   Contador     Juan          2008\n",
              "1   Jorge  Ingeniero    Jorge          2012\n",
              "2    Lisa  Ingeniero     Lisa          2004\n",
              "3  Susana  Psicologo   Susana          2014"
            ]
          },
          "metadata": {
            "tags": []
          }
        }
      ]
    },
    {
      "cell_type": "markdown",
      "metadata": {
        "id": "JU_jWpGJvApI"
      },
      "source": [
        "Los merge también se pueden realizar utilizando índices en vez de columnas!\n",
        "\n",
        "En el caso anterior, las personas mencionadas en ambos dataset son las mismas por lo que el match es obvio. En caso que no se de lo anterior, debemos escoger el tipo de join de deseamos hacer: left, right, inner u outer"
      ]
    },
    {
      "cell_type": "code",
      "metadata": {
        "colab": {
          "base_uri": "https://localhost:8080/",
          "height": 329
        },
        "id": "90mGdl7BvApI",
        "outputId": "37cb1a86-8c40-4cb9-a4b1-cd9dbd337fa7"
      },
      "source": [
        "df1 = pd.DataFrame({'Nombre': ['Federico', 'Jorge', 'Lisa', 'Susana'],\n",
        "                    'Profesion': ['Contador', 'Ingeniero', 'Ingeniero', 'Psicologo']})\n",
        "df2 = pd.DataFrame({'Nombre': ['Lisa', 'Pedro', 'Jorge', 'Susana'],\n",
        "                    'Contratacion': [2004, 2008, 2012, 2014]})\n",
        "print('df1')\n",
        "display(df1)\n",
        "print('df2')\n",
        "display(df2)"
      ],
      "execution_count": null,
      "outputs": [
        {
          "output_type": "stream",
          "text": [
            "df1\n"
          ],
          "name": "stdout"
        },
        {
          "output_type": "display_data",
          "data": {
            "text/html": [
              "<div>\n",
              "<style scoped>\n",
              "    .dataframe tbody tr th:only-of-type {\n",
              "        vertical-align: middle;\n",
              "    }\n",
              "\n",
              "    .dataframe tbody tr th {\n",
              "        vertical-align: top;\n",
              "    }\n",
              "\n",
              "    .dataframe thead th {\n",
              "        text-align: right;\n",
              "    }\n",
              "</style>\n",
              "<table border=\"1\" class=\"dataframe\">\n",
              "  <thead>\n",
              "    <tr style=\"text-align: right;\">\n",
              "      <th></th>\n",
              "      <th>Nombre</th>\n",
              "      <th>Profesion</th>\n",
              "    </tr>\n",
              "  </thead>\n",
              "  <tbody>\n",
              "    <tr>\n",
              "      <th>0</th>\n",
              "      <td>Federico</td>\n",
              "      <td>Contador</td>\n",
              "    </tr>\n",
              "    <tr>\n",
              "      <th>1</th>\n",
              "      <td>Jorge</td>\n",
              "      <td>Ingeniero</td>\n",
              "    </tr>\n",
              "    <tr>\n",
              "      <th>2</th>\n",
              "      <td>Lisa</td>\n",
              "      <td>Ingeniero</td>\n",
              "    </tr>\n",
              "    <tr>\n",
              "      <th>3</th>\n",
              "      <td>Susana</td>\n",
              "      <td>Psicologo</td>\n",
              "    </tr>\n",
              "  </tbody>\n",
              "</table>\n",
              "</div>"
            ],
            "text/plain": [
              "     Nombre  Profesion\n",
              "0  Federico   Contador\n",
              "1     Jorge  Ingeniero\n",
              "2      Lisa  Ingeniero\n",
              "3    Susana  Psicologo"
            ]
          },
          "metadata": {
            "tags": []
          }
        },
        {
          "output_type": "stream",
          "text": [
            "df2\n"
          ],
          "name": "stdout"
        },
        {
          "output_type": "display_data",
          "data": {
            "text/html": [
              "<div>\n",
              "<style scoped>\n",
              "    .dataframe tbody tr th:only-of-type {\n",
              "        vertical-align: middle;\n",
              "    }\n",
              "\n",
              "    .dataframe tbody tr th {\n",
              "        vertical-align: top;\n",
              "    }\n",
              "\n",
              "    .dataframe thead th {\n",
              "        text-align: right;\n",
              "    }\n",
              "</style>\n",
              "<table border=\"1\" class=\"dataframe\">\n",
              "  <thead>\n",
              "    <tr style=\"text-align: right;\">\n",
              "      <th></th>\n",
              "      <th>Nombre</th>\n",
              "      <th>Contratacion</th>\n",
              "    </tr>\n",
              "  </thead>\n",
              "  <tbody>\n",
              "    <tr>\n",
              "      <th>0</th>\n",
              "      <td>Lisa</td>\n",
              "      <td>2004</td>\n",
              "    </tr>\n",
              "    <tr>\n",
              "      <th>1</th>\n",
              "      <td>Pedro</td>\n",
              "      <td>2008</td>\n",
              "    </tr>\n",
              "    <tr>\n",
              "      <th>2</th>\n",
              "      <td>Jorge</td>\n",
              "      <td>2012</td>\n",
              "    </tr>\n",
              "    <tr>\n",
              "      <th>3</th>\n",
              "      <td>Susana</td>\n",
              "      <td>2014</td>\n",
              "    </tr>\n",
              "  </tbody>\n",
              "</table>\n",
              "</div>"
            ],
            "text/plain": [
              "   Nombre  Contratacion\n",
              "0    Lisa          2004\n",
              "1   Pedro          2008\n",
              "2   Jorge          2012\n",
              "3  Susana          2014"
            ]
          },
          "metadata": {
            "tags": []
          }
        }
      ]
    },
    {
      "cell_type": "code",
      "metadata": {
        "colab": {
          "base_uri": "https://localhost:8080/",
          "height": 142
        },
        "id": "OQYR8_MWvApb",
        "outputId": "69f34a39-917a-4989-db98-64573e846de3"
      },
      "source": [
        "pd.merge(df1,df2)\n",
        "# por defecto realiza un inner join"
      ],
      "execution_count": null,
      "outputs": [
        {
          "output_type": "execute_result",
          "data": {
            "text/html": [
              "<div>\n",
              "<style scoped>\n",
              "    .dataframe tbody tr th:only-of-type {\n",
              "        vertical-align: middle;\n",
              "    }\n",
              "\n",
              "    .dataframe tbody tr th {\n",
              "        vertical-align: top;\n",
              "    }\n",
              "\n",
              "    .dataframe thead th {\n",
              "        text-align: right;\n",
              "    }\n",
              "</style>\n",
              "<table border=\"1\" class=\"dataframe\">\n",
              "  <thead>\n",
              "    <tr style=\"text-align: right;\">\n",
              "      <th></th>\n",
              "      <th>Nombre</th>\n",
              "      <th>Profesion</th>\n",
              "      <th>Contratacion</th>\n",
              "    </tr>\n",
              "  </thead>\n",
              "  <tbody>\n",
              "    <tr>\n",
              "      <th>0</th>\n",
              "      <td>Jorge</td>\n",
              "      <td>Ingeniero</td>\n",
              "      <td>2012</td>\n",
              "    </tr>\n",
              "    <tr>\n",
              "      <th>1</th>\n",
              "      <td>Lisa</td>\n",
              "      <td>Ingeniero</td>\n",
              "      <td>2004</td>\n",
              "    </tr>\n",
              "    <tr>\n",
              "      <th>2</th>\n",
              "      <td>Susana</td>\n",
              "      <td>Psicologo</td>\n",
              "      <td>2014</td>\n",
              "    </tr>\n",
              "  </tbody>\n",
              "</table>\n",
              "</div>"
            ],
            "text/plain": [
              "   Nombre  Profesion  Contratacion\n",
              "0   Jorge  Ingeniero          2012\n",
              "1    Lisa  Ingeniero          2004\n",
              "2  Susana  Psicologo          2014"
            ]
          },
          "metadata": {
            "tags": []
          },
          "execution_count": 65
        }
      ]
    },
    {
      "cell_type": "code",
      "metadata": {
        "colab": {
          "base_uri": "https://localhost:8080/",
          "height": 516
        },
        "id": "5l2q59BFvApf",
        "outputId": "e3887875-1da7-47bf-fc8b-f6fb52190c93"
      },
      "source": [
        "df3 = pd.merge(df1,df2,how = 'left')\n",
        "df4 = pd.merge(df1,df2,how = 'right')\n",
        "df5 = pd.merge(df1,df2,how = 'outer')\n",
        "\n",
        "display(df3)\n",
        "display(df4)\n",
        "display(df5)"
      ],
      "execution_count": null,
      "outputs": [
        {
          "output_type": "display_data",
          "data": {
            "text/html": [
              "<div>\n",
              "<style scoped>\n",
              "    .dataframe tbody tr th:only-of-type {\n",
              "        vertical-align: middle;\n",
              "    }\n",
              "\n",
              "    .dataframe tbody tr th {\n",
              "        vertical-align: top;\n",
              "    }\n",
              "\n",
              "    .dataframe thead th {\n",
              "        text-align: right;\n",
              "    }\n",
              "</style>\n",
              "<table border=\"1\" class=\"dataframe\">\n",
              "  <thead>\n",
              "    <tr style=\"text-align: right;\">\n",
              "      <th></th>\n",
              "      <th>Nombre</th>\n",
              "      <th>Profesion</th>\n",
              "      <th>Contratacion</th>\n",
              "    </tr>\n",
              "  </thead>\n",
              "  <tbody>\n",
              "    <tr>\n",
              "      <th>0</th>\n",
              "      <td>Federico</td>\n",
              "      <td>Contador</td>\n",
              "      <td>NaN</td>\n",
              "    </tr>\n",
              "    <tr>\n",
              "      <th>1</th>\n",
              "      <td>Jorge</td>\n",
              "      <td>Ingeniero</td>\n",
              "      <td>2012.0</td>\n",
              "    </tr>\n",
              "    <tr>\n",
              "      <th>2</th>\n",
              "      <td>Lisa</td>\n",
              "      <td>Ingeniero</td>\n",
              "      <td>2004.0</td>\n",
              "    </tr>\n",
              "    <tr>\n",
              "      <th>3</th>\n",
              "      <td>Susana</td>\n",
              "      <td>Psicologo</td>\n",
              "      <td>2014.0</td>\n",
              "    </tr>\n",
              "  </tbody>\n",
              "</table>\n",
              "</div>"
            ],
            "text/plain": [
              "     Nombre  Profesion  Contratacion\n",
              "0  Federico   Contador           NaN\n",
              "1     Jorge  Ingeniero        2012.0\n",
              "2      Lisa  Ingeniero        2004.0\n",
              "3    Susana  Psicologo        2014.0"
            ]
          },
          "metadata": {
            "tags": []
          }
        },
        {
          "output_type": "display_data",
          "data": {
            "text/html": [
              "<div>\n",
              "<style scoped>\n",
              "    .dataframe tbody tr th:only-of-type {\n",
              "        vertical-align: middle;\n",
              "    }\n",
              "\n",
              "    .dataframe tbody tr th {\n",
              "        vertical-align: top;\n",
              "    }\n",
              "\n",
              "    .dataframe thead th {\n",
              "        text-align: right;\n",
              "    }\n",
              "</style>\n",
              "<table border=\"1\" class=\"dataframe\">\n",
              "  <thead>\n",
              "    <tr style=\"text-align: right;\">\n",
              "      <th></th>\n",
              "      <th>Nombre</th>\n",
              "      <th>Profesion</th>\n",
              "      <th>Contratacion</th>\n",
              "    </tr>\n",
              "  </thead>\n",
              "  <tbody>\n",
              "    <tr>\n",
              "      <th>0</th>\n",
              "      <td>Jorge</td>\n",
              "      <td>Ingeniero</td>\n",
              "      <td>2012</td>\n",
              "    </tr>\n",
              "    <tr>\n",
              "      <th>1</th>\n",
              "      <td>Lisa</td>\n",
              "      <td>Ingeniero</td>\n",
              "      <td>2004</td>\n",
              "    </tr>\n",
              "    <tr>\n",
              "      <th>2</th>\n",
              "      <td>Susana</td>\n",
              "      <td>Psicologo</td>\n",
              "      <td>2014</td>\n",
              "    </tr>\n",
              "    <tr>\n",
              "      <th>3</th>\n",
              "      <td>Pedro</td>\n",
              "      <td>NaN</td>\n",
              "      <td>2008</td>\n",
              "    </tr>\n",
              "  </tbody>\n",
              "</table>\n",
              "</div>"
            ],
            "text/plain": [
              "   Nombre  Profesion  Contratacion\n",
              "0   Jorge  Ingeniero          2012\n",
              "1    Lisa  Ingeniero          2004\n",
              "2  Susana  Psicologo          2014\n",
              "3   Pedro        NaN          2008"
            ]
          },
          "metadata": {
            "tags": []
          }
        },
        {
          "output_type": "display_data",
          "data": {
            "text/html": [
              "<div>\n",
              "<style scoped>\n",
              "    .dataframe tbody tr th:only-of-type {\n",
              "        vertical-align: middle;\n",
              "    }\n",
              "\n",
              "    .dataframe tbody tr th {\n",
              "        vertical-align: top;\n",
              "    }\n",
              "\n",
              "    .dataframe thead th {\n",
              "        text-align: right;\n",
              "    }\n",
              "</style>\n",
              "<table border=\"1\" class=\"dataframe\">\n",
              "  <thead>\n",
              "    <tr style=\"text-align: right;\">\n",
              "      <th></th>\n",
              "      <th>Nombre</th>\n",
              "      <th>Profesion</th>\n",
              "      <th>Contratacion</th>\n",
              "    </tr>\n",
              "  </thead>\n",
              "  <tbody>\n",
              "    <tr>\n",
              "      <th>0</th>\n",
              "      <td>Federico</td>\n",
              "      <td>Contador</td>\n",
              "      <td>NaN</td>\n",
              "    </tr>\n",
              "    <tr>\n",
              "      <th>1</th>\n",
              "      <td>Jorge</td>\n",
              "      <td>Ingeniero</td>\n",
              "      <td>2012.0</td>\n",
              "    </tr>\n",
              "    <tr>\n",
              "      <th>2</th>\n",
              "      <td>Lisa</td>\n",
              "      <td>Ingeniero</td>\n",
              "      <td>2004.0</td>\n",
              "    </tr>\n",
              "    <tr>\n",
              "      <th>3</th>\n",
              "      <td>Susana</td>\n",
              "      <td>Psicologo</td>\n",
              "      <td>2014.0</td>\n",
              "    </tr>\n",
              "    <tr>\n",
              "      <th>4</th>\n",
              "      <td>Pedro</td>\n",
              "      <td>NaN</td>\n",
              "      <td>2008.0</td>\n",
              "    </tr>\n",
              "  </tbody>\n",
              "</table>\n",
              "</div>"
            ],
            "text/plain": [
              "     Nombre  Profesion  Contratacion\n",
              "0  Federico   Contador           NaN\n",
              "1     Jorge  Ingeniero        2012.0\n",
              "2      Lisa  Ingeniero        2004.0\n",
              "3    Susana  Psicologo        2014.0\n",
              "4     Pedro        NaN        2008.0"
            ]
          },
          "metadata": {
            "tags": []
          }
        }
      ]
    },
    {
      "cell_type": "code",
      "metadata": {
        "colab": {
          "base_uri": "https://localhost:8080/",
          "height": 609
        },
        "id": "oKmAw_7ovApi",
        "outputId": "f0fc5a74-f672-4556-a375-cb047d03e3c7"
      },
      "source": [
        "# Al hacer join podemos encontrar columnas con el mismo nombre en ambos dataframe\n",
        "temp_max = pd.DataFrame({'Ciudad': ['Santiago', 'Talca', 'Concepcion', 'Arica'],\n",
        "                    'Temperatura': [20,16,15,26],\n",
        "                    'x': [1, 2, 3, 4]})\n",
        "temp_min = pd.DataFrame({'Ciudad': ['Santiago', 'Talca', 'Concepcion', 'Arica'],\n",
        "                    'Temperatura': [12, 8, 2, 20],\n",
        "                    'y': [2, 3, 4, 5]})\n",
        "display(temp_max)\n",
        "display(temp_min)\n",
        "temp = pd.merge(temp_max,temp_min, on = 'Ciudad')\n",
        "display(temp)"
      ],
      "execution_count": null,
      "outputs": [
        {
          "output_type": "display_data",
          "data": {
            "text/html": [
              "<div>\n",
              "<style scoped>\n",
              "    .dataframe tbody tr th:only-of-type {\n",
              "        vertical-align: middle;\n",
              "    }\n",
              "\n",
              "    .dataframe tbody tr th {\n",
              "        vertical-align: top;\n",
              "    }\n",
              "\n",
              "    .dataframe thead th {\n",
              "        text-align: right;\n",
              "    }\n",
              "</style>\n",
              "<table border=\"1\" class=\"dataframe\">\n",
              "  <thead>\n",
              "    <tr style=\"text-align: right;\">\n",
              "      <th></th>\n",
              "      <th>Ciudad</th>\n",
              "      <th>Temperatura</th>\n",
              "      <th>x</th>\n",
              "    </tr>\n",
              "  </thead>\n",
              "  <tbody>\n",
              "    <tr>\n",
              "      <th>0</th>\n",
              "      <td>Santiago</td>\n",
              "      <td>20</td>\n",
              "      <td>1</td>\n",
              "    </tr>\n",
              "    <tr>\n",
              "      <th>1</th>\n",
              "      <td>Talca</td>\n",
              "      <td>16</td>\n",
              "      <td>2</td>\n",
              "    </tr>\n",
              "    <tr>\n",
              "      <th>2</th>\n",
              "      <td>Concepcion</td>\n",
              "      <td>15</td>\n",
              "      <td>3</td>\n",
              "    </tr>\n",
              "    <tr>\n",
              "      <th>3</th>\n",
              "      <td>Arica</td>\n",
              "      <td>26</td>\n",
              "      <td>4</td>\n",
              "    </tr>\n",
              "  </tbody>\n",
              "</table>\n",
              "</div>"
            ],
            "text/plain": [
              "       Ciudad  Temperatura  x\n",
              "0    Santiago           20  1\n",
              "1       Talca           16  2\n",
              "2  Concepcion           15  3\n",
              "3       Arica           26  4"
            ]
          },
          "metadata": {
            "tags": []
          }
        },
        {
          "output_type": "display_data",
          "data": {
            "text/html": [
              "<div>\n",
              "<style scoped>\n",
              "    .dataframe tbody tr th:only-of-type {\n",
              "        vertical-align: middle;\n",
              "    }\n",
              "\n",
              "    .dataframe tbody tr th {\n",
              "        vertical-align: top;\n",
              "    }\n",
              "\n",
              "    .dataframe thead th {\n",
              "        text-align: right;\n",
              "    }\n",
              "</style>\n",
              "<table border=\"1\" class=\"dataframe\">\n",
              "  <thead>\n",
              "    <tr style=\"text-align: right;\">\n",
              "      <th></th>\n",
              "      <th>Ciudad</th>\n",
              "      <th>Temperatura</th>\n",
              "      <th>y</th>\n",
              "    </tr>\n",
              "  </thead>\n",
              "  <tbody>\n",
              "    <tr>\n",
              "      <th>0</th>\n",
              "      <td>Santiago</td>\n",
              "      <td>12</td>\n",
              "      <td>2</td>\n",
              "    </tr>\n",
              "    <tr>\n",
              "      <th>1</th>\n",
              "      <td>Talca</td>\n",
              "      <td>8</td>\n",
              "      <td>3</td>\n",
              "    </tr>\n",
              "    <tr>\n",
              "      <th>2</th>\n",
              "      <td>Concepcion</td>\n",
              "      <td>2</td>\n",
              "      <td>4</td>\n",
              "    </tr>\n",
              "    <tr>\n",
              "      <th>3</th>\n",
              "      <td>Arica</td>\n",
              "      <td>20</td>\n",
              "      <td>5</td>\n",
              "    </tr>\n",
              "  </tbody>\n",
              "</table>\n",
              "</div>"
            ],
            "text/plain": [
              "       Ciudad  Temperatura  y\n",
              "0    Santiago           12  2\n",
              "1       Talca            8  3\n",
              "2  Concepcion            2  4\n",
              "3       Arica           20  5"
            ]
          },
          "metadata": {
            "tags": []
          }
        },
        {
          "output_type": "display_data",
          "data": {
            "text/html": [
              "<div>\n",
              "<style scoped>\n",
              "    .dataframe tbody tr th:only-of-type {\n",
              "        vertical-align: middle;\n",
              "    }\n",
              "\n",
              "    .dataframe tbody tr th {\n",
              "        vertical-align: top;\n",
              "    }\n",
              "\n",
              "    .dataframe thead th {\n",
              "        text-align: right;\n",
              "    }\n",
              "</style>\n",
              "<table border=\"1\" class=\"dataframe\">\n",
              "  <thead>\n",
              "    <tr style=\"text-align: right;\">\n",
              "      <th></th>\n",
              "      <th>Ciudad</th>\n",
              "      <th>Temperatura_x</th>\n",
              "      <th>x</th>\n",
              "      <th>Temperatura_y</th>\n",
              "      <th>y</th>\n",
              "    </tr>\n",
              "  </thead>\n",
              "  <tbody>\n",
              "    <tr>\n",
              "      <th>0</th>\n",
              "      <td>Santiago</td>\n",
              "      <td>20</td>\n",
              "      <td>1</td>\n",
              "      <td>12</td>\n",
              "      <td>2</td>\n",
              "    </tr>\n",
              "    <tr>\n",
              "      <th>1</th>\n",
              "      <td>Talca</td>\n",
              "      <td>16</td>\n",
              "      <td>2</td>\n",
              "      <td>8</td>\n",
              "      <td>3</td>\n",
              "    </tr>\n",
              "    <tr>\n",
              "      <th>2</th>\n",
              "      <td>Concepcion</td>\n",
              "      <td>15</td>\n",
              "      <td>3</td>\n",
              "      <td>2</td>\n",
              "      <td>4</td>\n",
              "    </tr>\n",
              "    <tr>\n",
              "      <th>3</th>\n",
              "      <td>Arica</td>\n",
              "      <td>26</td>\n",
              "      <td>4</td>\n",
              "      <td>20</td>\n",
              "      <td>5</td>\n",
              "    </tr>\n",
              "  </tbody>\n",
              "</table>\n",
              "</div>"
            ],
            "text/plain": [
              "       Ciudad  Temperatura_x  x  Temperatura_y  y\n",
              "0    Santiago             20  1             12  2\n",
              "1       Talca             16  2              8  3\n",
              "2  Concepcion             15  3              2  4\n",
              "3       Arica             26  4             20  5"
            ]
          },
          "metadata": {
            "tags": []
          }
        }
      ]
    },
    {
      "cell_type": "code",
      "metadata": {
        "colab": {
          "base_uri": "https://localhost:8080/",
          "height": 173
        },
        "id": "Sua_0Y2qvApm",
        "outputId": "f5fbedc9-4aa5-40ef-cbb9-e7873e482f35"
      },
      "source": [
        "temp = pd.merge(temp_max,temp_min,on = 'Ciudad', suffixes=['_maxima','_minima'])\n",
        "display(temp)"
      ],
      "execution_count": null,
      "outputs": [
        {
          "output_type": "display_data",
          "data": {
            "text/html": [
              "<div>\n",
              "<style scoped>\n",
              "    .dataframe tbody tr th:only-of-type {\n",
              "        vertical-align: middle;\n",
              "    }\n",
              "\n",
              "    .dataframe tbody tr th {\n",
              "        vertical-align: top;\n",
              "    }\n",
              "\n",
              "    .dataframe thead th {\n",
              "        text-align: right;\n",
              "    }\n",
              "</style>\n",
              "<table border=\"1\" class=\"dataframe\">\n",
              "  <thead>\n",
              "    <tr style=\"text-align: right;\">\n",
              "      <th></th>\n",
              "      <th>Ciudad</th>\n",
              "      <th>Temperatura_maxima</th>\n",
              "      <th>x</th>\n",
              "      <th>Temperatura_minima</th>\n",
              "      <th>y</th>\n",
              "    </tr>\n",
              "  </thead>\n",
              "  <tbody>\n",
              "    <tr>\n",
              "      <th>0</th>\n",
              "      <td>Santiago</td>\n",
              "      <td>20</td>\n",
              "      <td>1</td>\n",
              "      <td>12</td>\n",
              "      <td>2</td>\n",
              "    </tr>\n",
              "    <tr>\n",
              "      <th>1</th>\n",
              "      <td>Talca</td>\n",
              "      <td>16</td>\n",
              "      <td>2</td>\n",
              "      <td>8</td>\n",
              "      <td>3</td>\n",
              "    </tr>\n",
              "    <tr>\n",
              "      <th>2</th>\n",
              "      <td>Concepcion</td>\n",
              "      <td>15</td>\n",
              "      <td>3</td>\n",
              "      <td>2</td>\n",
              "      <td>4</td>\n",
              "    </tr>\n",
              "    <tr>\n",
              "      <th>3</th>\n",
              "      <td>Arica</td>\n",
              "      <td>26</td>\n",
              "      <td>4</td>\n",
              "      <td>20</td>\n",
              "      <td>5</td>\n",
              "    </tr>\n",
              "  </tbody>\n",
              "</table>\n",
              "</div>"
            ],
            "text/plain": [
              "       Ciudad  Temperatura_maxima  x  Temperatura_minima  y\n",
              "0    Santiago                  20  1                  12  2\n",
              "1       Talca                  16  2                   8  3\n",
              "2  Concepcion                  15  3                   2  4\n",
              "3       Arica                  26  4                  20  5"
            ]
          },
          "metadata": {
            "tags": []
          }
        }
      ]
    },
    {
      "cell_type": "markdown",
      "metadata": {
        "id": "CjbhqfMgEvHA"
      },
      "source": [
        "Pandas también tiene el comando join, que funciona por defecto como un left join en base a indices"
      ]
    },
    {
      "cell_type": "code",
      "metadata": {
        "id": "my7-K0gyEvHA",
        "outputId": "c948c287-225f-47ff-ec64-0f44a314cae1"
      },
      "source": [
        "display(temp_max)\n",
        "display(temp_min)\n",
        "display(temp_max.join(temp_min, lsuffix='Ciudad', rsuffix='Ciudad'))"
      ],
      "execution_count": null,
      "outputs": [
        {
          "output_type": "display_data",
          "data": {
            "text/html": [
              "<div>\n",
              "<style scoped>\n",
              "    .dataframe tbody tr th:only-of-type {\n",
              "        vertical-align: middle;\n",
              "    }\n",
              "\n",
              "    .dataframe tbody tr th {\n",
              "        vertical-align: top;\n",
              "    }\n",
              "\n",
              "    .dataframe thead th {\n",
              "        text-align: right;\n",
              "    }\n",
              "</style>\n",
              "<table border=\"1\" class=\"dataframe\">\n",
              "  <thead>\n",
              "    <tr style=\"text-align: right;\">\n",
              "      <th></th>\n",
              "      <th>Ciudad</th>\n",
              "      <th>Temperatura</th>\n",
              "      <th>x</th>\n",
              "    </tr>\n",
              "  </thead>\n",
              "  <tbody>\n",
              "    <tr>\n",
              "      <th>0</th>\n",
              "      <td>Santiago</td>\n",
              "      <td>20</td>\n",
              "      <td>1</td>\n",
              "    </tr>\n",
              "    <tr>\n",
              "      <th>1</th>\n",
              "      <td>Talca</td>\n",
              "      <td>16</td>\n",
              "      <td>2</td>\n",
              "    </tr>\n",
              "    <tr>\n",
              "      <th>2</th>\n",
              "      <td>Concepcion</td>\n",
              "      <td>15</td>\n",
              "      <td>3</td>\n",
              "    </tr>\n",
              "    <tr>\n",
              "      <th>3</th>\n",
              "      <td>Arica</td>\n",
              "      <td>26</td>\n",
              "      <td>4</td>\n",
              "    </tr>\n",
              "  </tbody>\n",
              "</table>\n",
              "</div>"
            ],
            "text/plain": [
              "       Ciudad  Temperatura  x\n",
              "0    Santiago           20  1\n",
              "1       Talca           16  2\n",
              "2  Concepcion           15  3\n",
              "3       Arica           26  4"
            ]
          },
          "metadata": {
            "tags": []
          }
        },
        {
          "output_type": "display_data",
          "data": {
            "text/html": [
              "<div>\n",
              "<style scoped>\n",
              "    .dataframe tbody tr th:only-of-type {\n",
              "        vertical-align: middle;\n",
              "    }\n",
              "\n",
              "    .dataframe tbody tr th {\n",
              "        vertical-align: top;\n",
              "    }\n",
              "\n",
              "    .dataframe thead th {\n",
              "        text-align: right;\n",
              "    }\n",
              "</style>\n",
              "<table border=\"1\" class=\"dataframe\">\n",
              "  <thead>\n",
              "    <tr style=\"text-align: right;\">\n",
              "      <th></th>\n",
              "      <th>Ciudad</th>\n",
              "      <th>Temperatura</th>\n",
              "      <th>y</th>\n",
              "    </tr>\n",
              "  </thead>\n",
              "  <tbody>\n",
              "    <tr>\n",
              "      <th>0</th>\n",
              "      <td>Santiago</td>\n",
              "      <td>12</td>\n",
              "      <td>2</td>\n",
              "    </tr>\n",
              "    <tr>\n",
              "      <th>1</th>\n",
              "      <td>Talca</td>\n",
              "      <td>8</td>\n",
              "      <td>3</td>\n",
              "    </tr>\n",
              "    <tr>\n",
              "      <th>2</th>\n",
              "      <td>Concepcion</td>\n",
              "      <td>2</td>\n",
              "      <td>4</td>\n",
              "    </tr>\n",
              "    <tr>\n",
              "      <th>3</th>\n",
              "      <td>Arica</td>\n",
              "      <td>20</td>\n",
              "      <td>5</td>\n",
              "    </tr>\n",
              "  </tbody>\n",
              "</table>\n",
              "</div>"
            ],
            "text/plain": [
              "       Ciudad  Temperatura  y\n",
              "0    Santiago           12  2\n",
              "1       Talca            8  3\n",
              "2  Concepcion            2  4\n",
              "3       Arica           20  5"
            ]
          },
          "metadata": {
            "tags": []
          }
        },
        {
          "output_type": "display_data",
          "data": {
            "text/html": [
              "<div>\n",
              "<style scoped>\n",
              "    .dataframe tbody tr th:only-of-type {\n",
              "        vertical-align: middle;\n",
              "    }\n",
              "\n",
              "    .dataframe tbody tr th {\n",
              "        vertical-align: top;\n",
              "    }\n",
              "\n",
              "    .dataframe thead th {\n",
              "        text-align: right;\n",
              "    }\n",
              "</style>\n",
              "<table border=\"1\" class=\"dataframe\">\n",
              "  <thead>\n",
              "    <tr style=\"text-align: right;\">\n",
              "      <th></th>\n",
              "      <th>CiudadCiudad</th>\n",
              "      <th>TemperaturaCiudad</th>\n",
              "      <th>x</th>\n",
              "      <th>CiudadCiudad</th>\n",
              "      <th>TemperaturaCiudad</th>\n",
              "      <th>y</th>\n",
              "    </tr>\n",
              "  </thead>\n",
              "  <tbody>\n",
              "    <tr>\n",
              "      <th>0</th>\n",
              "      <td>Santiago</td>\n",
              "      <td>20</td>\n",
              "      <td>1</td>\n",
              "      <td>Santiago</td>\n",
              "      <td>12</td>\n",
              "      <td>2</td>\n",
              "    </tr>\n",
              "    <tr>\n",
              "      <th>1</th>\n",
              "      <td>Talca</td>\n",
              "      <td>16</td>\n",
              "      <td>2</td>\n",
              "      <td>Talca</td>\n",
              "      <td>8</td>\n",
              "      <td>3</td>\n",
              "    </tr>\n",
              "    <tr>\n",
              "      <th>2</th>\n",
              "      <td>Concepcion</td>\n",
              "      <td>15</td>\n",
              "      <td>3</td>\n",
              "      <td>Concepcion</td>\n",
              "      <td>2</td>\n",
              "      <td>4</td>\n",
              "    </tr>\n",
              "    <tr>\n",
              "      <th>3</th>\n",
              "      <td>Arica</td>\n",
              "      <td>26</td>\n",
              "      <td>4</td>\n",
              "      <td>Arica</td>\n",
              "      <td>20</td>\n",
              "      <td>5</td>\n",
              "    </tr>\n",
              "  </tbody>\n",
              "</table>\n",
              "</div>"
            ],
            "text/plain": [
              "  CiudadCiudad  TemperaturaCiudad  x CiudadCiudad  TemperaturaCiudad  y\n",
              "0     Santiago                 20  1     Santiago                 12  2\n",
              "1        Talca                 16  2        Talca                  8  3\n",
              "2   Concepcion                 15  3   Concepcion                  2  4\n",
              "3        Arica                 26  4        Arica                 20  5"
            ]
          },
          "metadata": {
            "tags": []
          }
        }
      ]
    },
    {
      "cell_type": "markdown",
      "metadata": {
        "id": "Df7qeIWjEvHA"
      },
      "source": [
        "Finalmente el comando concat ayuda concatenar columnas entre Data frames, también por índice:"
      ]
    },
    {
      "cell_type": "code",
      "metadata": {
        "id": "K9UgV33EEvHB",
        "outputId": "541a3e6f-fe1a-4a9f-ecb4-829159a495b6"
      },
      "source": [
        "display(temp_max)\n",
        "display(temp_min)\n",
        "display(pd.concat([temp_max,temp_min], axis=1))"
      ],
      "execution_count": null,
      "outputs": [
        {
          "output_type": "display_data",
          "data": {
            "text/html": [
              "<div>\n",
              "<style scoped>\n",
              "    .dataframe tbody tr th:only-of-type {\n",
              "        vertical-align: middle;\n",
              "    }\n",
              "\n",
              "    .dataframe tbody tr th {\n",
              "        vertical-align: top;\n",
              "    }\n",
              "\n",
              "    .dataframe thead th {\n",
              "        text-align: right;\n",
              "    }\n",
              "</style>\n",
              "<table border=\"1\" class=\"dataframe\">\n",
              "  <thead>\n",
              "    <tr style=\"text-align: right;\">\n",
              "      <th></th>\n",
              "      <th>Ciudad</th>\n",
              "      <th>Temperatura</th>\n",
              "      <th>x</th>\n",
              "    </tr>\n",
              "  </thead>\n",
              "  <tbody>\n",
              "    <tr>\n",
              "      <th>0</th>\n",
              "      <td>Santiago</td>\n",
              "      <td>20</td>\n",
              "      <td>1</td>\n",
              "    </tr>\n",
              "    <tr>\n",
              "      <th>1</th>\n",
              "      <td>Talca</td>\n",
              "      <td>16</td>\n",
              "      <td>2</td>\n",
              "    </tr>\n",
              "    <tr>\n",
              "      <th>2</th>\n",
              "      <td>Concepcion</td>\n",
              "      <td>15</td>\n",
              "      <td>3</td>\n",
              "    </tr>\n",
              "    <tr>\n",
              "      <th>3</th>\n",
              "      <td>Arica</td>\n",
              "      <td>26</td>\n",
              "      <td>4</td>\n",
              "    </tr>\n",
              "  </tbody>\n",
              "</table>\n",
              "</div>"
            ],
            "text/plain": [
              "       Ciudad  Temperatura  x\n",
              "0    Santiago           20  1\n",
              "1       Talca           16  2\n",
              "2  Concepcion           15  3\n",
              "3       Arica           26  4"
            ]
          },
          "metadata": {
            "tags": []
          }
        },
        {
          "output_type": "display_data",
          "data": {
            "text/html": [
              "<div>\n",
              "<style scoped>\n",
              "    .dataframe tbody tr th:only-of-type {\n",
              "        vertical-align: middle;\n",
              "    }\n",
              "\n",
              "    .dataframe tbody tr th {\n",
              "        vertical-align: top;\n",
              "    }\n",
              "\n",
              "    .dataframe thead th {\n",
              "        text-align: right;\n",
              "    }\n",
              "</style>\n",
              "<table border=\"1\" class=\"dataframe\">\n",
              "  <thead>\n",
              "    <tr style=\"text-align: right;\">\n",
              "      <th></th>\n",
              "      <th>Ciudad</th>\n",
              "      <th>Temperatura</th>\n",
              "      <th>y</th>\n",
              "    </tr>\n",
              "  </thead>\n",
              "  <tbody>\n",
              "    <tr>\n",
              "      <th>0</th>\n",
              "      <td>Santiago</td>\n",
              "      <td>12</td>\n",
              "      <td>2</td>\n",
              "    </tr>\n",
              "    <tr>\n",
              "      <th>1</th>\n",
              "      <td>Talca</td>\n",
              "      <td>8</td>\n",
              "      <td>3</td>\n",
              "    </tr>\n",
              "    <tr>\n",
              "      <th>2</th>\n",
              "      <td>Concepcion</td>\n",
              "      <td>2</td>\n",
              "      <td>4</td>\n",
              "    </tr>\n",
              "    <tr>\n",
              "      <th>3</th>\n",
              "      <td>Arica</td>\n",
              "      <td>20</td>\n",
              "      <td>5</td>\n",
              "    </tr>\n",
              "  </tbody>\n",
              "</table>\n",
              "</div>"
            ],
            "text/plain": [
              "       Ciudad  Temperatura  y\n",
              "0    Santiago           12  2\n",
              "1       Talca            8  3\n",
              "2  Concepcion            2  4\n",
              "3       Arica           20  5"
            ]
          },
          "metadata": {
            "tags": []
          }
        },
        {
          "output_type": "display_data",
          "data": {
            "text/html": [
              "<div>\n",
              "<style scoped>\n",
              "    .dataframe tbody tr th:only-of-type {\n",
              "        vertical-align: middle;\n",
              "    }\n",
              "\n",
              "    .dataframe tbody tr th {\n",
              "        vertical-align: top;\n",
              "    }\n",
              "\n",
              "    .dataframe thead th {\n",
              "        text-align: right;\n",
              "    }\n",
              "</style>\n",
              "<table border=\"1\" class=\"dataframe\">\n",
              "  <thead>\n",
              "    <tr style=\"text-align: right;\">\n",
              "      <th></th>\n",
              "      <th>Ciudad</th>\n",
              "      <th>Temperatura</th>\n",
              "      <th>x</th>\n",
              "      <th>Ciudad</th>\n",
              "      <th>Temperatura</th>\n",
              "      <th>y</th>\n",
              "    </tr>\n",
              "  </thead>\n",
              "  <tbody>\n",
              "    <tr>\n",
              "      <th>0</th>\n",
              "      <td>Santiago</td>\n",
              "      <td>20</td>\n",
              "      <td>1</td>\n",
              "      <td>Santiago</td>\n",
              "      <td>12</td>\n",
              "      <td>2</td>\n",
              "    </tr>\n",
              "    <tr>\n",
              "      <th>1</th>\n",
              "      <td>Talca</td>\n",
              "      <td>16</td>\n",
              "      <td>2</td>\n",
              "      <td>Talca</td>\n",
              "      <td>8</td>\n",
              "      <td>3</td>\n",
              "    </tr>\n",
              "    <tr>\n",
              "      <th>2</th>\n",
              "      <td>Concepcion</td>\n",
              "      <td>15</td>\n",
              "      <td>3</td>\n",
              "      <td>Concepcion</td>\n",
              "      <td>2</td>\n",
              "      <td>4</td>\n",
              "    </tr>\n",
              "    <tr>\n",
              "      <th>3</th>\n",
              "      <td>Arica</td>\n",
              "      <td>26</td>\n",
              "      <td>4</td>\n",
              "      <td>Arica</td>\n",
              "      <td>20</td>\n",
              "      <td>5</td>\n",
              "    </tr>\n",
              "  </tbody>\n",
              "</table>\n",
              "</div>"
            ],
            "text/plain": [
              "       Ciudad  Temperatura  x      Ciudad  Temperatura  y\n",
              "0    Santiago           20  1    Santiago           12  2\n",
              "1       Talca           16  2       Talca            8  3\n",
              "2  Concepcion           15  3  Concepcion            2  4\n",
              "3       Arica           26  4       Arica           20  5"
            ]
          },
          "metadata": {
            "tags": []
          }
        }
      ]
    },
    {
      "cell_type": "markdown",
      "metadata": {
        "id": "2NacuBau0VLA"
      },
      "source": [
        "# Ejercicios\n",
        "\n",
        "En la carpeta data encontrará 3 archivos csv con los siguientes nombres:\n",
        "\n",
        "```\n",
        "gs://diplomado-data-science-uc-python/python/02-Pandas/data/state-abbrevs.csv\n",
        "gs://diplomado-data-science-uc-python/python/02-Pandas/data/state-area.csv\n",
        "gs://diplomado-data-science-uc-python/python/02-Pandas/data/state-population.csv\n",
        "```\n",
        "\n",
        " - state-population.csv\n",
        " - state-area.csv\n",
        " - state-abbrevs.csv\n",
        " \n",
        "Con estos archivos realice los siguientes ejercicios:\n",
        " - 1) Cargue los tres datasets utilizando la función `read_csv` de pandas\n",
        " - 2) Revise los datos cargados y realice las modificaciones necesarias para empezar a trabajar\n",
        " - 3) Elimine las columnas que no aportan información\n",
        " - 4) Agrupe por state/region y ages, para luego agregar usando promedio, minimo, máximo y contar\n",
        " - 5) Forme un nuevo dataset llamado df que tenga la información de los 3 sets importados. Use las llaves necesarias.\n",
        " - 6) Calcule la población por area para cada estado. Para esto agrupe por state/region y calcule el promedio de la población. Guarde dicha información en un data frame con las columnas 'state' y 'pop/area' (hint: puede extraer los valores de un objeto groupby, finalizando su sentencia con .values, o extraer sus etiquetas con .index)\n",
        " - 7) Finalmente, cree un dataframe que posea: El estado, el área, la población, la población por área y como índice  la abreviación del nombre del estado.\n",
        " \n",
        " ## Próxima clase\n",
        "Haremos gráficos! "
      ]
    }
  ]
}