{
  "nbformat": 4,
  "nbformat_minor": 0,
  "metadata": {
    "colab": {
      "name": "Clase 4 Flujos de ML.ipynb",
      "provenance": [],
      "collapsed_sections": [],
      "include_colab_link": true
    },
    "kernelspec": {
      "display_name": "Python 3",
      "language": "python",
      "name": "python3"
    },
    "language_info": {
      "codemirror_mode": {
        "name": "ipython",
        "version": 3
      },
      "file_extension": ".py",
      "mimetype": "text/x-python",
      "name": "python",
      "nbconvert_exporter": "python",
      "pygments_lexer": "ipython3",
      "version": "3.8.3"
    }
  },
  "cells": [
    {
      "cell_type": "markdown",
      "metadata": {
        "id": "view-in-github",
        "colab_type": "text"
      },
      "source": [
        "<a href=\"https://colab.research.google.com/github/Vngel0/Python_UC/blob/main/Clase_4_Flujos_de_ML.ipynb\" target=\"_parent\"><img src=\"https://colab.research.google.com/assets/colab-badge.svg\" alt=\"Open In Colab\"/></a>"
      ]
    },
    {
      "cell_type": "markdown",
      "metadata": {
        "id": "kJUHN78B1SFj"
      },
      "source": [
        "# Conceptos de Machine Learning\n",
        "\n",
        "Las próximas semanas estudiaremos distintas técnicas de Machine Learning. Esta clase, estudiaremos una serie de técnicas que son transversales para todos los procesos de creación y evaluación de un **modelo**"
      ]
    },
    {
      "cell_type": "code",
      "metadata": {
        "id": "B5M6Xgjt6Lxb"
      },
      "source": [
        "import pandas as pd\n",
        "import numpy as np\n",
        "\n",
        "from matplotlib import pyplot as plt\n",
        "import seaborn as sns\n",
        "\n",
        "#Evitar avisos de deprecación entre otros.\n",
        "import warnings\n",
        "warnings.filterwarnings(\"ignore\")\n",
        "\n",
        "plt.style.use('ggplot')"
      ],
      "execution_count": 1,
      "outputs": []
    },
    {
      "cell_type": "markdown",
      "metadata": {
        "id": "FjP7kwDBWG4n"
      },
      "source": [
        "## Set de entrenamiento y prueba\n",
        "\n",
        "Los algoritmos de machine learning se caracterizan por procesar un conjunto de datos, extraer patrones de ellos y luego extrapolar esos patrones a situaciones a las que no ha sido expuesto en el pasado. Para evaluar la efectividad de este proceso necesitamos simular esas dos etapas: entrenamiento y validación.\n",
        "- En la etapa de entrenamiento usamos la mayoría de los datos (comunmente entre un 70%-90%) para definir el preprocesamiento necesario (imputar, escalar, features sintéticas, etc) y entrenar.\n",
        "- En la etapa de validación usamos sobre la fracción restante de los datos los procedimientos de preprocesamiento definidos en la etapa anterior (de manera **ciega**). Luego realizamos las predicciones y comparamos los resultados obtenidos con el valor real.\n",
        "\n",
        "`sklearn` Será una librería tan usada como `Pandas`, puesto que muchas herramientas de modelación se encuentran en ella. Utilizaremos una función específica para lo anteriormente expuesto llamada `train_test_split` que realizará una separación aleatoria en una fracción especificada."
      ]
    },
    {
      "cell_type": "code",
      "metadata": {
        "colab": {
          "base_uri": "https://localhost:8080/",
          "height": 741
        },
        "id": "AA2nj8jT6IIk",
        "outputId": "7435f470-935e-4784-a688-b12780434707"
      },
      "source": [
        "df = pd.DataFrame(data=np.random.rand(10, 4), columns=list('ABCD'))\n",
        "display(df)\n",
        "from sklearn.model_selection import train_test_split\n",
        "\n",
        "df_train, df_test = train_test_split(df, test_size=0.3)\n",
        "display(df_train)\n",
        "display(df_test)"
      ],
      "execution_count": 2,
      "outputs": [
        {
          "output_type": "display_data",
          "data": {
            "text/html": [
              "<div>\n",
              "<style scoped>\n",
              "    .dataframe tbody tr th:only-of-type {\n",
              "        vertical-align: middle;\n",
              "    }\n",
              "\n",
              "    .dataframe tbody tr th {\n",
              "        vertical-align: top;\n",
              "    }\n",
              "\n",
              "    .dataframe thead th {\n",
              "        text-align: right;\n",
              "    }\n",
              "</style>\n",
              "<table border=\"1\" class=\"dataframe\">\n",
              "  <thead>\n",
              "    <tr style=\"text-align: right;\">\n",
              "      <th></th>\n",
              "      <th>A</th>\n",
              "      <th>B</th>\n",
              "      <th>C</th>\n",
              "      <th>D</th>\n",
              "    </tr>\n",
              "  </thead>\n",
              "  <tbody>\n",
              "    <tr>\n",
              "      <th>0</th>\n",
              "      <td>0.980677</td>\n",
              "      <td>0.303035</td>\n",
              "      <td>0.705003</td>\n",
              "      <td>0.025000</td>\n",
              "    </tr>\n",
              "    <tr>\n",
              "      <th>1</th>\n",
              "      <td>0.506153</td>\n",
              "      <td>0.533971</td>\n",
              "      <td>0.180610</td>\n",
              "      <td>0.044239</td>\n",
              "    </tr>\n",
              "    <tr>\n",
              "      <th>2</th>\n",
              "      <td>0.469149</td>\n",
              "      <td>0.971366</td>\n",
              "      <td>0.415836</td>\n",
              "      <td>0.645984</td>\n",
              "    </tr>\n",
              "    <tr>\n",
              "      <th>3</th>\n",
              "      <td>0.964103</td>\n",
              "      <td>0.685921</td>\n",
              "      <td>0.390341</td>\n",
              "      <td>0.315865</td>\n",
              "    </tr>\n",
              "    <tr>\n",
              "      <th>4</th>\n",
              "      <td>0.296932</td>\n",
              "      <td>0.145074</td>\n",
              "      <td>0.127898</td>\n",
              "      <td>0.498731</td>\n",
              "    </tr>\n",
              "    <tr>\n",
              "      <th>5</th>\n",
              "      <td>0.743674</td>\n",
              "      <td>0.388961</td>\n",
              "      <td>0.920327</td>\n",
              "      <td>0.899360</td>\n",
              "    </tr>\n",
              "    <tr>\n",
              "      <th>6</th>\n",
              "      <td>0.531974</td>\n",
              "      <td>0.431977</td>\n",
              "      <td>0.114315</td>\n",
              "      <td>0.153044</td>\n",
              "    </tr>\n",
              "    <tr>\n",
              "      <th>7</th>\n",
              "      <td>0.102548</td>\n",
              "      <td>0.217619</td>\n",
              "      <td>0.827890</td>\n",
              "      <td>0.624341</td>\n",
              "    </tr>\n",
              "    <tr>\n",
              "      <th>8</th>\n",
              "      <td>0.829811</td>\n",
              "      <td>0.134830</td>\n",
              "      <td>0.101846</td>\n",
              "      <td>0.047341</td>\n",
              "    </tr>\n",
              "    <tr>\n",
              "      <th>9</th>\n",
              "      <td>0.432115</td>\n",
              "      <td>0.997722</td>\n",
              "      <td>0.009019</td>\n",
              "      <td>0.467548</td>\n",
              "    </tr>\n",
              "  </tbody>\n",
              "</table>\n",
              "</div>"
            ],
            "text/plain": [
              "          A         B         C         D\n",
              "0  0.980677  0.303035  0.705003  0.025000\n",
              "1  0.506153  0.533971  0.180610  0.044239\n",
              "2  0.469149  0.971366  0.415836  0.645984\n",
              "3  0.964103  0.685921  0.390341  0.315865\n",
              "4  0.296932  0.145074  0.127898  0.498731\n",
              "5  0.743674  0.388961  0.920327  0.899360\n",
              "6  0.531974  0.431977  0.114315  0.153044\n",
              "7  0.102548  0.217619  0.827890  0.624341\n",
              "8  0.829811  0.134830  0.101846  0.047341\n",
              "9  0.432115  0.997722  0.009019  0.467548"
            ]
          },
          "metadata": {}
        },
        {
          "output_type": "display_data",
          "data": {
            "text/html": [
              "<div>\n",
              "<style scoped>\n",
              "    .dataframe tbody tr th:only-of-type {\n",
              "        vertical-align: middle;\n",
              "    }\n",
              "\n",
              "    .dataframe tbody tr th {\n",
              "        vertical-align: top;\n",
              "    }\n",
              "\n",
              "    .dataframe thead th {\n",
              "        text-align: right;\n",
              "    }\n",
              "</style>\n",
              "<table border=\"1\" class=\"dataframe\">\n",
              "  <thead>\n",
              "    <tr style=\"text-align: right;\">\n",
              "      <th></th>\n",
              "      <th>A</th>\n",
              "      <th>B</th>\n",
              "      <th>C</th>\n",
              "      <th>D</th>\n",
              "    </tr>\n",
              "  </thead>\n",
              "  <tbody>\n",
              "    <tr>\n",
              "      <th>8</th>\n",
              "      <td>0.829811</td>\n",
              "      <td>0.134830</td>\n",
              "      <td>0.101846</td>\n",
              "      <td>0.047341</td>\n",
              "    </tr>\n",
              "    <tr>\n",
              "      <th>2</th>\n",
              "      <td>0.469149</td>\n",
              "      <td>0.971366</td>\n",
              "      <td>0.415836</td>\n",
              "      <td>0.645984</td>\n",
              "    </tr>\n",
              "    <tr>\n",
              "      <th>5</th>\n",
              "      <td>0.743674</td>\n",
              "      <td>0.388961</td>\n",
              "      <td>0.920327</td>\n",
              "      <td>0.899360</td>\n",
              "    </tr>\n",
              "    <tr>\n",
              "      <th>0</th>\n",
              "      <td>0.980677</td>\n",
              "      <td>0.303035</td>\n",
              "      <td>0.705003</td>\n",
              "      <td>0.025000</td>\n",
              "    </tr>\n",
              "    <tr>\n",
              "      <th>1</th>\n",
              "      <td>0.506153</td>\n",
              "      <td>0.533971</td>\n",
              "      <td>0.180610</td>\n",
              "      <td>0.044239</td>\n",
              "    </tr>\n",
              "    <tr>\n",
              "      <th>6</th>\n",
              "      <td>0.531974</td>\n",
              "      <td>0.431977</td>\n",
              "      <td>0.114315</td>\n",
              "      <td>0.153044</td>\n",
              "    </tr>\n",
              "    <tr>\n",
              "      <th>4</th>\n",
              "      <td>0.296932</td>\n",
              "      <td>0.145074</td>\n",
              "      <td>0.127898</td>\n",
              "      <td>0.498731</td>\n",
              "    </tr>\n",
              "  </tbody>\n",
              "</table>\n",
              "</div>"
            ],
            "text/plain": [
              "          A         B         C         D\n",
              "8  0.829811  0.134830  0.101846  0.047341\n",
              "2  0.469149  0.971366  0.415836  0.645984\n",
              "5  0.743674  0.388961  0.920327  0.899360\n",
              "0  0.980677  0.303035  0.705003  0.025000\n",
              "1  0.506153  0.533971  0.180610  0.044239\n",
              "6  0.531974  0.431977  0.114315  0.153044\n",
              "4  0.296932  0.145074  0.127898  0.498731"
            ]
          },
          "metadata": {}
        },
        {
          "output_type": "display_data",
          "data": {
            "text/html": [
              "<div>\n",
              "<style scoped>\n",
              "    .dataframe tbody tr th:only-of-type {\n",
              "        vertical-align: middle;\n",
              "    }\n",
              "\n",
              "    .dataframe tbody tr th {\n",
              "        vertical-align: top;\n",
              "    }\n",
              "\n",
              "    .dataframe thead th {\n",
              "        text-align: right;\n",
              "    }\n",
              "</style>\n",
              "<table border=\"1\" class=\"dataframe\">\n",
              "  <thead>\n",
              "    <tr style=\"text-align: right;\">\n",
              "      <th></th>\n",
              "      <th>A</th>\n",
              "      <th>B</th>\n",
              "      <th>C</th>\n",
              "      <th>D</th>\n",
              "    </tr>\n",
              "  </thead>\n",
              "  <tbody>\n",
              "    <tr>\n",
              "      <th>3</th>\n",
              "      <td>0.964103</td>\n",
              "      <td>0.685921</td>\n",
              "      <td>0.390341</td>\n",
              "      <td>0.315865</td>\n",
              "    </tr>\n",
              "    <tr>\n",
              "      <th>7</th>\n",
              "      <td>0.102548</td>\n",
              "      <td>0.217619</td>\n",
              "      <td>0.827890</td>\n",
              "      <td>0.624341</td>\n",
              "    </tr>\n",
              "    <tr>\n",
              "      <th>9</th>\n",
              "      <td>0.432115</td>\n",
              "      <td>0.997722</td>\n",
              "      <td>0.009019</td>\n",
              "      <td>0.467548</td>\n",
              "    </tr>\n",
              "  </tbody>\n",
              "</table>\n",
              "</div>"
            ],
            "text/plain": [
              "          A         B         C         D\n",
              "3  0.964103  0.685921  0.390341  0.315865\n",
              "7  0.102548  0.217619  0.827890  0.624341\n",
              "9  0.432115  0.997722  0.009019  0.467548"
            ]
          },
          "metadata": {}
        }
      ]
    },
    {
      "cell_type": "markdown",
      "metadata": {
        "id": "yK7F_c8V6E70"
      },
      "source": [
        "\n",
        "### Time based\n",
        "Cuando los datos tienen una componente temporal, también existe la opción de separar los datos de acuerdo a una fecha de corte. Lo importante es asegurarse que los datos que dejemos en el set de prueba sean suficientes para validar."
      ]
    },
    {
      "cell_type": "code",
      "metadata": {
        "colab": {
          "base_uri": "https://localhost:8080/",
          "height": 741
        },
        "id": "cqq2WbTw7asv",
        "outputId": "16f76da7-b4bd-4937-a3db-e4122f10e4cc"
      },
      "source": [
        "df.index = pd.date_range('2020-08-01', periods=10)\n",
        "display(df)\n",
        "\n",
        "df_train = df[df.index <= '2020-08-06']\n",
        "df_test = df[df.index > '2020-08-06']\n",
        "\n",
        "display(df_train)\n",
        "display(df_test)"
      ],
      "execution_count": 3,
      "outputs": [
        {
          "output_type": "display_data",
          "data": {
            "text/html": [
              "<div>\n",
              "<style scoped>\n",
              "    .dataframe tbody tr th:only-of-type {\n",
              "        vertical-align: middle;\n",
              "    }\n",
              "\n",
              "    .dataframe tbody tr th {\n",
              "        vertical-align: top;\n",
              "    }\n",
              "\n",
              "    .dataframe thead th {\n",
              "        text-align: right;\n",
              "    }\n",
              "</style>\n",
              "<table border=\"1\" class=\"dataframe\">\n",
              "  <thead>\n",
              "    <tr style=\"text-align: right;\">\n",
              "      <th></th>\n",
              "      <th>A</th>\n",
              "      <th>B</th>\n",
              "      <th>C</th>\n",
              "      <th>D</th>\n",
              "    </tr>\n",
              "  </thead>\n",
              "  <tbody>\n",
              "    <tr>\n",
              "      <th>2020-08-01</th>\n",
              "      <td>0.980677</td>\n",
              "      <td>0.303035</td>\n",
              "      <td>0.705003</td>\n",
              "      <td>0.025000</td>\n",
              "    </tr>\n",
              "    <tr>\n",
              "      <th>2020-08-02</th>\n",
              "      <td>0.506153</td>\n",
              "      <td>0.533971</td>\n",
              "      <td>0.180610</td>\n",
              "      <td>0.044239</td>\n",
              "    </tr>\n",
              "    <tr>\n",
              "      <th>2020-08-03</th>\n",
              "      <td>0.469149</td>\n",
              "      <td>0.971366</td>\n",
              "      <td>0.415836</td>\n",
              "      <td>0.645984</td>\n",
              "    </tr>\n",
              "    <tr>\n",
              "      <th>2020-08-04</th>\n",
              "      <td>0.964103</td>\n",
              "      <td>0.685921</td>\n",
              "      <td>0.390341</td>\n",
              "      <td>0.315865</td>\n",
              "    </tr>\n",
              "    <tr>\n",
              "      <th>2020-08-05</th>\n",
              "      <td>0.296932</td>\n",
              "      <td>0.145074</td>\n",
              "      <td>0.127898</td>\n",
              "      <td>0.498731</td>\n",
              "    </tr>\n",
              "    <tr>\n",
              "      <th>2020-08-06</th>\n",
              "      <td>0.743674</td>\n",
              "      <td>0.388961</td>\n",
              "      <td>0.920327</td>\n",
              "      <td>0.899360</td>\n",
              "    </tr>\n",
              "    <tr>\n",
              "      <th>2020-08-07</th>\n",
              "      <td>0.531974</td>\n",
              "      <td>0.431977</td>\n",
              "      <td>0.114315</td>\n",
              "      <td>0.153044</td>\n",
              "    </tr>\n",
              "    <tr>\n",
              "      <th>2020-08-08</th>\n",
              "      <td>0.102548</td>\n",
              "      <td>0.217619</td>\n",
              "      <td>0.827890</td>\n",
              "      <td>0.624341</td>\n",
              "    </tr>\n",
              "    <tr>\n",
              "      <th>2020-08-09</th>\n",
              "      <td>0.829811</td>\n",
              "      <td>0.134830</td>\n",
              "      <td>0.101846</td>\n",
              "      <td>0.047341</td>\n",
              "    </tr>\n",
              "    <tr>\n",
              "      <th>2020-08-10</th>\n",
              "      <td>0.432115</td>\n",
              "      <td>0.997722</td>\n",
              "      <td>0.009019</td>\n",
              "      <td>0.467548</td>\n",
              "    </tr>\n",
              "  </tbody>\n",
              "</table>\n",
              "</div>"
            ],
            "text/plain": [
              "                   A         B         C         D\n",
              "2020-08-01  0.980677  0.303035  0.705003  0.025000\n",
              "2020-08-02  0.506153  0.533971  0.180610  0.044239\n",
              "2020-08-03  0.469149  0.971366  0.415836  0.645984\n",
              "2020-08-04  0.964103  0.685921  0.390341  0.315865\n",
              "2020-08-05  0.296932  0.145074  0.127898  0.498731\n",
              "2020-08-06  0.743674  0.388961  0.920327  0.899360\n",
              "2020-08-07  0.531974  0.431977  0.114315  0.153044\n",
              "2020-08-08  0.102548  0.217619  0.827890  0.624341\n",
              "2020-08-09  0.829811  0.134830  0.101846  0.047341\n",
              "2020-08-10  0.432115  0.997722  0.009019  0.467548"
            ]
          },
          "metadata": {}
        },
        {
          "output_type": "display_data",
          "data": {
            "text/html": [
              "<div>\n",
              "<style scoped>\n",
              "    .dataframe tbody tr th:only-of-type {\n",
              "        vertical-align: middle;\n",
              "    }\n",
              "\n",
              "    .dataframe tbody tr th {\n",
              "        vertical-align: top;\n",
              "    }\n",
              "\n",
              "    .dataframe thead th {\n",
              "        text-align: right;\n",
              "    }\n",
              "</style>\n",
              "<table border=\"1\" class=\"dataframe\">\n",
              "  <thead>\n",
              "    <tr style=\"text-align: right;\">\n",
              "      <th></th>\n",
              "      <th>A</th>\n",
              "      <th>B</th>\n",
              "      <th>C</th>\n",
              "      <th>D</th>\n",
              "    </tr>\n",
              "  </thead>\n",
              "  <tbody>\n",
              "    <tr>\n",
              "      <th>2020-08-01</th>\n",
              "      <td>0.980677</td>\n",
              "      <td>0.303035</td>\n",
              "      <td>0.705003</td>\n",
              "      <td>0.025000</td>\n",
              "    </tr>\n",
              "    <tr>\n",
              "      <th>2020-08-02</th>\n",
              "      <td>0.506153</td>\n",
              "      <td>0.533971</td>\n",
              "      <td>0.180610</td>\n",
              "      <td>0.044239</td>\n",
              "    </tr>\n",
              "    <tr>\n",
              "      <th>2020-08-03</th>\n",
              "      <td>0.469149</td>\n",
              "      <td>0.971366</td>\n",
              "      <td>0.415836</td>\n",
              "      <td>0.645984</td>\n",
              "    </tr>\n",
              "    <tr>\n",
              "      <th>2020-08-04</th>\n",
              "      <td>0.964103</td>\n",
              "      <td>0.685921</td>\n",
              "      <td>0.390341</td>\n",
              "      <td>0.315865</td>\n",
              "    </tr>\n",
              "    <tr>\n",
              "      <th>2020-08-05</th>\n",
              "      <td>0.296932</td>\n",
              "      <td>0.145074</td>\n",
              "      <td>0.127898</td>\n",
              "      <td>0.498731</td>\n",
              "    </tr>\n",
              "    <tr>\n",
              "      <th>2020-08-06</th>\n",
              "      <td>0.743674</td>\n",
              "      <td>0.388961</td>\n",
              "      <td>0.920327</td>\n",
              "      <td>0.899360</td>\n",
              "    </tr>\n",
              "  </tbody>\n",
              "</table>\n",
              "</div>"
            ],
            "text/plain": [
              "                   A         B         C         D\n",
              "2020-08-01  0.980677  0.303035  0.705003  0.025000\n",
              "2020-08-02  0.506153  0.533971  0.180610  0.044239\n",
              "2020-08-03  0.469149  0.971366  0.415836  0.645984\n",
              "2020-08-04  0.964103  0.685921  0.390341  0.315865\n",
              "2020-08-05  0.296932  0.145074  0.127898  0.498731\n",
              "2020-08-06  0.743674  0.388961  0.920327  0.899360"
            ]
          },
          "metadata": {}
        },
        {
          "output_type": "display_data",
          "data": {
            "text/html": [
              "<div>\n",
              "<style scoped>\n",
              "    .dataframe tbody tr th:only-of-type {\n",
              "        vertical-align: middle;\n",
              "    }\n",
              "\n",
              "    .dataframe tbody tr th {\n",
              "        vertical-align: top;\n",
              "    }\n",
              "\n",
              "    .dataframe thead th {\n",
              "        text-align: right;\n",
              "    }\n",
              "</style>\n",
              "<table border=\"1\" class=\"dataframe\">\n",
              "  <thead>\n",
              "    <tr style=\"text-align: right;\">\n",
              "      <th></th>\n",
              "      <th>A</th>\n",
              "      <th>B</th>\n",
              "      <th>C</th>\n",
              "      <th>D</th>\n",
              "    </tr>\n",
              "  </thead>\n",
              "  <tbody>\n",
              "    <tr>\n",
              "      <th>2020-08-07</th>\n",
              "      <td>0.531974</td>\n",
              "      <td>0.431977</td>\n",
              "      <td>0.114315</td>\n",
              "      <td>0.153044</td>\n",
              "    </tr>\n",
              "    <tr>\n",
              "      <th>2020-08-08</th>\n",
              "      <td>0.102548</td>\n",
              "      <td>0.217619</td>\n",
              "      <td>0.827890</td>\n",
              "      <td>0.624341</td>\n",
              "    </tr>\n",
              "    <tr>\n",
              "      <th>2020-08-09</th>\n",
              "      <td>0.829811</td>\n",
              "      <td>0.134830</td>\n",
              "      <td>0.101846</td>\n",
              "      <td>0.047341</td>\n",
              "    </tr>\n",
              "    <tr>\n",
              "      <th>2020-08-10</th>\n",
              "      <td>0.432115</td>\n",
              "      <td>0.997722</td>\n",
              "      <td>0.009019</td>\n",
              "      <td>0.467548</td>\n",
              "    </tr>\n",
              "  </tbody>\n",
              "</table>\n",
              "</div>"
            ],
            "text/plain": [
              "                   A         B         C         D\n",
              "2020-08-07  0.531974  0.431977  0.114315  0.153044\n",
              "2020-08-08  0.102548  0.217619  0.827890  0.624341\n",
              "2020-08-09  0.829811  0.134830  0.101846  0.047341\n",
              "2020-08-10  0.432115  0.997722  0.009019  0.467548"
            ]
          },
          "metadata": {}
        }
      ]
    },
    {
      "cell_type": "markdown",
      "metadata": {
        "id": "ELSq1IRL6ABS"
      },
      "source": [
        "\n",
        "\n",
        "## Feature engineering\n",
        "\n",
        "Los datos, tal y como son recolectados, rara vez están en un una forma efectiva para el aprendizaje del modelo. Además del proceso de limpieza normal de una base de datos, existe una serie de transformaciones que mejoran el performance de las predicciones.\n",
        "\n",
        "### Scaling\n",
        "\n",
        "Muchos algoritmos de Machine Learning se benefician de que las features de entrada tengan valores de tamaño similar y que dichos valores no sean extremos. Dos transformaciones comunes son:\n",
        "- Normalización: consiste en llevar todos los valores de una columna al rango [0, 1]. Para esto se aplica la transformación\n",
        "\n",
        "$$\n",
        "x = \\frac{x - x_{min}}{x_{max} - x_{min}}\n",
        "$$\n",
        "\n",
        "- Estandarización: consiste en transformar los datos de manera que estén centrados y relativamente concentrados en cero. Hacemos esto forzando que su media sea 0 y varianza 1 usando la siguiente transformación:\n",
        "$$\n",
        "x = \\frac{x - \\mu}{\\sigma}\n",
        "$$\n",
        "En `scikit-learn` usamos\n",
        "\n"
      ]
    },
    {
      "cell_type": "code",
      "metadata": {
        "colab": {
          "base_uri": "https://localhost:8080/",
          "height": 235
        },
        "id": "jylMTfC_8td4",
        "outputId": "0645e852-49f7-4f9d-ece7-f3c9ee077390"
      },
      "source": [
        "fig, ax = plt.subplots(ncols=3, figsize=(15,4))\n",
        "\n",
        "# Datos originales\n",
        "x = np.random.gamma(shape=2, scale=10, size=(1000, 1))\n",
        "sns.histplot(x, ax=ax[0],kde=True)\n",
        "ax[0].set_title('Data Original')\n",
        "\n",
        "# Datos transformados\n",
        "\n",
        "from sklearn.preprocessing import MinMaxScaler\n",
        "x_norm = MinMaxScaler().fit_transform(x)\n",
        "sns.histplot(x_norm, ax=ax[1],kde=True)\n",
        "ax[1].set_title('Data Normalizada')\n",
        "\n",
        "from sklearn.preprocessing import StandardScaler\n",
        "x_stand = StandardScaler().fit_transform(x)\n",
        "sns.histplot(x_stand, ax=ax[2],kde=True)\n",
        "ax[2].set_title('Data Estandarizada');"
      ],
      "execution_count": null,
      "outputs": [
        {
          "output_type": "display_data",
          "data": {
            "image/png": "[encoded data removed]",
            "text/plain": [
              "<Figure size 1080x288 with 3 Axes>"
            ]
          },
          "metadata": {
            "tags": []
          }
        }
      ]
    },
    {
      "cell_type": "markdown",
      "metadata": {
        "id": "hz6UJtKm__oT"
      },
      "source": [
        "\n",
        "\n",
        "### One hot encoding o variables dummy\n",
        "Los algoritmos de Machine Learning, en la práctica, son operaciones matemáticas y como tales operan sobre números. Qué pasa cuando tenemos una variable como `ciudad` en el conjunto de datos? Tenemos que encontrar una estrategia para representar dichos *conceptos* como números. En general, esas estrategias se llaman embeddings y cumplen un rol extremadamente importante en aplicaciones de Procesamiento de Lenguaje Natural. En nuestro caso, usaremos la alternativa mas sencilla, llamada One-Hot Encoding o variables dummy. Consiste en representar una variable con N categorías como N vectores, cuyas coordenadas son todas cero salvo una, que identifica a qué categoría pertenece.\n",
        "\n"
      ]
    },
    {
      "cell_type": "code",
      "metadata": {
        "colab": {
          "base_uri": "https://localhost:8080/",
          "height": 701
        },
        "id": "Qjzh8uqhFN45",
        "outputId": "d92a71d2-610e-4b19-beb8-b4465a3b6cd1"
      },
      "source": [
        "ciudades = pd.DataFrame(np.random.choice(['Santiago', 'Coquimbo', 'Temuco'], size=10), columns=['Ciudad'])\n",
        "display(ciudades)\n",
        "\n",
        "from sklearn.preprocessing import OneHotEncoder\n",
        "\n",
        "ohe = OneHotEncoder(sparse=False)\n",
        "pd.DataFrame(ohe.fit_transform(ciudades), columns=ohe.get_feature_names())"
      ],
      "execution_count": null,
      "outputs": [
        {
          "output_type": "display_data",
          "data": {
            "text/html": [
              "<div>\n",
              "<style scoped>\n",
              "    .dataframe tbody tr th:only-of-type {\n",
              "        vertical-align: middle;\n",
              "    }\n",
              "\n",
              "    .dataframe tbody tr th {\n",
              "        vertical-align: top;\n",
              "    }\n",
              "\n",
              "    .dataframe thead th {\n",
              "        text-align: right;\n",
              "    }\n",
              "</style>\n",
              "<table border=\"1\" class=\"dataframe\">\n",
              "  <thead>\n",
              "    <tr style=\"text-align: right;\">\n",
              "      <th></th>\n",
              "      <th>Ciudad</th>\n",
              "    </tr>\n",
              "  </thead>\n",
              "  <tbody>\n",
              "    <tr>\n",
              "      <th>0</th>\n",
              "      <td>Santiago</td>\n",
              "    </tr>\n",
              "    <tr>\n",
              "      <th>1</th>\n",
              "      <td>Coquimbo</td>\n",
              "    </tr>\n",
              "    <tr>\n",
              "      <th>2</th>\n",
              "      <td>Coquimbo</td>\n",
              "    </tr>\n",
              "    <tr>\n",
              "      <th>3</th>\n",
              "      <td>Santiago</td>\n",
              "    </tr>\n",
              "    <tr>\n",
              "      <th>4</th>\n",
              "      <td>Coquimbo</td>\n",
              "    </tr>\n",
              "    <tr>\n",
              "      <th>5</th>\n",
              "      <td>Coquimbo</td>\n",
              "    </tr>\n",
              "    <tr>\n",
              "      <th>6</th>\n",
              "      <td>Coquimbo</td>\n",
              "    </tr>\n",
              "    <tr>\n",
              "      <th>7</th>\n",
              "      <td>Santiago</td>\n",
              "    </tr>\n",
              "    <tr>\n",
              "      <th>8</th>\n",
              "      <td>Temuco</td>\n",
              "    </tr>\n",
              "    <tr>\n",
              "      <th>9</th>\n",
              "      <td>Santiago</td>\n",
              "    </tr>\n",
              "  </tbody>\n",
              "</table>\n",
              "</div>"
            ],
            "text/plain": [
              "     Ciudad\n",
              "0  Santiago\n",
              "1  Coquimbo\n",
              "2  Coquimbo\n",
              "3  Santiago\n",
              "4  Coquimbo\n",
              "5  Coquimbo\n",
              "6  Coquimbo\n",
              "7  Santiago\n",
              "8    Temuco\n",
              "9  Santiago"
            ]
          },
          "metadata": {
            "tags": []
          }
        },
        {
          "output_type": "execute_result",
          "data": {
            "text/html": [
              "<div>\n",
              "<style scoped>\n",
              "    .dataframe tbody tr th:only-of-type {\n",
              "        vertical-align: middle;\n",
              "    }\n",
              "\n",
              "    .dataframe tbody tr th {\n",
              "        vertical-align: top;\n",
              "    }\n",
              "\n",
              "    .dataframe thead th {\n",
              "        text-align: right;\n",
              "    }\n",
              "</style>\n",
              "<table border=\"1\" class=\"dataframe\">\n",
              "  <thead>\n",
              "    <tr style=\"text-align: right;\">\n",
              "      <th></th>\n",
              "      <th>x0_Coquimbo</th>\n",
              "      <th>x0_Santiago</th>\n",
              "      <th>x0_Temuco</th>\n",
              "    </tr>\n",
              "  </thead>\n",
              "  <tbody>\n",
              "    <tr>\n",
              "      <th>0</th>\n",
              "      <td>0.0</td>\n",
              "      <td>1.0</td>\n",
              "      <td>0.0</td>\n",
              "    </tr>\n",
              "    <tr>\n",
              "      <th>1</th>\n",
              "      <td>1.0</td>\n",
              "      <td>0.0</td>\n",
              "      <td>0.0</td>\n",
              "    </tr>\n",
              "    <tr>\n",
              "      <th>2</th>\n",
              "      <td>1.0</td>\n",
              "      <td>0.0</td>\n",
              "      <td>0.0</td>\n",
              "    </tr>\n",
              "    <tr>\n",
              "      <th>3</th>\n",
              "      <td>0.0</td>\n",
              "      <td>1.0</td>\n",
              "      <td>0.0</td>\n",
              "    </tr>\n",
              "    <tr>\n",
              "      <th>4</th>\n",
              "      <td>1.0</td>\n",
              "      <td>0.0</td>\n",
              "      <td>0.0</td>\n",
              "    </tr>\n",
              "    <tr>\n",
              "      <th>5</th>\n",
              "      <td>1.0</td>\n",
              "      <td>0.0</td>\n",
              "      <td>0.0</td>\n",
              "    </tr>\n",
              "    <tr>\n",
              "      <th>6</th>\n",
              "      <td>1.0</td>\n",
              "      <td>0.0</td>\n",
              "      <td>0.0</td>\n",
              "    </tr>\n",
              "    <tr>\n",
              "      <th>7</th>\n",
              "      <td>0.0</td>\n",
              "      <td>1.0</td>\n",
              "      <td>0.0</td>\n",
              "    </tr>\n",
              "    <tr>\n",
              "      <th>8</th>\n",
              "      <td>0.0</td>\n",
              "      <td>0.0</td>\n",
              "      <td>1.0</td>\n",
              "    </tr>\n",
              "    <tr>\n",
              "      <th>9</th>\n",
              "      <td>0.0</td>\n",
              "      <td>1.0</td>\n",
              "      <td>0.0</td>\n",
              "    </tr>\n",
              "  </tbody>\n",
              "</table>\n",
              "</div>"
            ],
            "text/plain": [
              "   x0_Coquimbo  x0_Santiago  x0_Temuco\n",
              "0          0.0          1.0        0.0\n",
              "1          1.0          0.0        0.0\n",
              "2          1.0          0.0        0.0\n",
              "3          0.0          1.0        0.0\n",
              "4          1.0          0.0        0.0\n",
              "5          1.0          0.0        0.0\n",
              "6          1.0          0.0        0.0\n",
              "7          0.0          1.0        0.0\n",
              "8          0.0          0.0        1.0\n",
              "9          0.0          1.0        0.0"
            ]
          },
          "metadata": {
            "tags": []
          },
          "execution_count": 5
        }
      ]
    },
    {
      "cell_type": "markdown",
      "metadata": {
        "id": "KG1oREReFMQq"
      },
      "source": [
        "\n",
        "\n",
        "## Entrenamiento, predicción y validación\n",
        "Un flujo de trabajo normal para un proyecto de machine learning tiene muchas etapas, por ejemplo ingesta y limpieza de datos, feature engineering, optimización de hiperparámetros, serving, monitoreo y reentrenamiento. Sin embargo en el corazón de este proceso está el **entrenamiento**, **validación** y **predicción**\n",
        "\n",
        "### Entrenamiento\n",
        "En esta etapa usamos un conjunto de datos para que el modelo aprenda los patrones necesarios para completar la tarea. Dependiendo si estamos trabajando con un problema supervisado o no, le entregamos al modelo un conjunto de features y la target segun corresponda. Normalmente en todos los frameworks de Machine Learning esto se logra mediante el método `fit`.\n",
        "\n",
        "Con la ayuda del comando `make_classification`, generemos una data de prueba para visualizar el flujo de trabajo, entrenaremos un modelo de regresión logística (ya visto en clases anteriores) y lo validaremos. Esta función permite generar un problema aleatorio de n clases, a diferencia de `train_test_split` el cual divide data existente, y es el que utilizariamos con data real:\n"
      ]
    },
    {
      "cell_type": "code",
      "metadata": {
        "colab": {
          "base_uri": "https://localhost:8080/",
          "height": 351
        },
        "id": "niLSeu6lHBii",
        "outputId": "367de41d-d651-4c72-dfb4-64931781447e"
      },
      "source": [
        "#Creemos datos de prueba\n",
        "from sklearn.datasets import make_classification\n",
        "\n",
        "X, y = make_classification(\n",
        "    n_samples=1000,\n",
        "    n_features=2,\n",
        "    n_informative=2, \n",
        "    n_redundant=0, \n",
        "    class_sep=1.5, \n",
        "    n_clusters_per_class=1,\n",
        "    random_state=13,)\n",
        "\n",
        "print('Variables independientes:\\n')\n",
        "display(X[0:5])\n",
        "print('\\nVariable dependiente:\\n')\n",
        "display(y[0:5])\n",
        "sns.scatterplot(x=X[:, 0], y=X[:, 1], hue=y);"
      ],
      "execution_count": null,
      "outputs": [
        {
          "output_type": "stream",
          "text": [
            "Variables independientes:\n",
            "\n"
          ],
          "name": "stdout"
        },
        {
          "output_type": "display_data",
          "data": {
            "text/plain": [
              "array([[-1.85572313,  1.43221634],\n",
              "       [-1.94896628,  1.12828913],\n",
              "       [-0.75934867, -0.29265799],\n",
              "       [ 1.3152719 ,  0.29490409],\n",
              "       [ 1.93019668,  1.84216989]])"
            ]
          },
          "metadata": {
            "tags": []
          }
        },
        {
          "output_type": "stream",
          "text": [
            "\n",
            "Variable dependiente:\n",
            "\n"
          ],
          "name": "stdout"
        },
        {
          "output_type": "display_data",
          "data": {
            "text/plain": [
              "array([0, 0, 0, 1, 1])"
            ]
          },
          "metadata": {
            "tags": []
          }
        },
        {
          "output_type": "display_data",
          "data": {
            "image/png": "[encoded data removed]",
            "text/plain": [
              "<Figure size 432x288 with 1 Axes>"
            ]
          },
          "metadata": {
            "tags": []
          }
        }
      ]
    },
    {
      "cell_type": "code",
      "metadata": {
        "id": "_ff-YiLUcy9T"
      },
      "source": [
        "# Este es el proceso de dividir la muestra, en este caso el tamaño del set de testeo es 20%\n",
        "X_train, X_test, y_train, y_test = train_test_split(X, y, test_size=0.2)"
      ],
      "execution_count": null,
      "outputs": []
    },
    {
      "cell_type": "code",
      "metadata": {
        "id": "lF4mv_tacy9T"
      },
      "source": [
        "# Importamos la libreria del modelo y lo inicializamos\n",
        "from sklearn.linear_model import LogisticRegression\n",
        "model = LogisticRegression()"
      ],
      "execution_count": null,
      "outputs": []
    },
    {
      "cell_type": "code",
      "metadata": {
        "id": "uLGamJKRcy9U",
        "outputId": "4dfbbaa8-0eca-4329-99dd-c9f2f8d664cc"
      },
      "source": [
        "# Ajustamos el modelo con los datos de entrenamiento\n",
        "model.fit(X_train, y_train)"
      ],
      "execution_count": null,
      "outputs": [
        {
          "output_type": "execute_result",
          "data": {
            "text/plain": [
              "LogisticRegression()"
            ]
          },
          "metadata": {
            "tags": []
          },
          "execution_count": 9
        }
      ]
    },
    {
      "cell_type": "markdown",
      "metadata": {
        "id": "dPX1apTWG_hO"
      },
      "source": [
        "\n",
        "\n",
        "Felicitaciones! ya tienen su primer modelo de machine learning entrenado\n",
        "## Validación\n",
        "Una vez entrenado el modelo, necesitamos medir qué tan bien esta haciendo su trabajo, para esto se utiliza una serie de métricas que veremos durante la clase. Para este primer modelo de ejemplo, utilizaremos de la librería `sklearn` el método `score` que calcula el `accuracy` (precisión) de la predicción.\n",
        "\n"
      ]
    },
    {
      "cell_type": "code",
      "metadata": {
        "colab": {
          "base_uri": "https://localhost:8080/",
          "height": 34
        },
        "id": "6x9XUS3iMAE_",
        "outputId": "f9413975-248f-43e9-aef6-c6cc4a86a230"
      },
      "source": [
        "model.score(X_test, y_test)"
      ],
      "execution_count": null,
      "outputs": [
        {
          "output_type": "execute_result",
          "data": {
            "text/plain": [
              "0.94"
            ]
          },
          "metadata": {
            "tags": []
          },
          "execution_count": 10
        }
      ]
    },
    {
      "cell_type": "markdown",
      "metadata": {
        "id": "eNLtD2EqL-5S"
      },
      "source": [
        "\n",
        "\n",
        "## Predicción\n",
        "Una vez finalizado el modelo, usamos el método `predict` para obtener las predicciones correspondientes sobre data nueva. \n"
      ]
    },
    {
      "cell_type": "code",
      "metadata": {
        "id": "G0OOBe1DMHpk"
      },
      "source": [
        "X_pred = X_test\n",
        "y_pred = model.predict(X_pred)\n",
        "\n",
        "predicciones = pd.DataFrame({'x1': X_pred[:, 0], 'x2': X_pred[:, 1], 'y_pred': y_pred, 'y_test': y_test})"
      ],
      "execution_count": null,
      "outputs": []
    },
    {
      "cell_type": "code",
      "metadata": {
        "id": "MAxP4EuCcy9V",
        "outputId": "a8576097-7ef2-4fbe-b091-5db49993495a"
      },
      "source": [
        "predicciones.head(10)"
      ],
      "execution_count": null,
      "outputs": [
        {
          "output_type": "execute_result",
          "data": {
            "text/html": [
              "<div>\n",
              "<style scoped>\n",
              "    .dataframe tbody tr th:only-of-type {\n",
              "        vertical-align: middle;\n",
              "    }\n",
              "\n",
              "    .dataframe tbody tr th {\n",
              "        vertical-align: top;\n",
              "    }\n",
              "\n",
              "    .dataframe thead th {\n",
              "        text-align: right;\n",
              "    }\n",
              "</style>\n",
              "<table border=\"1\" class=\"dataframe\">\n",
              "  <thead>\n",
              "    <tr style=\"text-align: right;\">\n",
              "      <th></th>\n",
              "      <th>x1</th>\n",
              "      <th>x2</th>\n",
              "      <th>y_pred</th>\n",
              "      <th>y_test</th>\n",
              "    </tr>\n",
              "  </thead>\n",
              "  <tbody>\n",
              "    <tr>\n",
              "      <th>0</th>\n",
              "      <td>0.861951</td>\n",
              "      <td>0.634037</td>\n",
              "      <td>1</td>\n",
              "      <td>1</td>\n",
              "    </tr>\n",
              "    <tr>\n",
              "      <th>1</th>\n",
              "      <td>1.609847</td>\n",
              "      <td>2.181406</td>\n",
              "      <td>1</td>\n",
              "      <td>1</td>\n",
              "    </tr>\n",
              "    <tr>\n",
              "      <th>2</th>\n",
              "      <td>-0.443245</td>\n",
              "      <td>2.944940</td>\n",
              "      <td>0</td>\n",
              "      <td>0</td>\n",
              "    </tr>\n",
              "    <tr>\n",
              "      <th>3</th>\n",
              "      <td>-3.162675</td>\n",
              "      <td>1.243581</td>\n",
              "      <td>0</td>\n",
              "      <td>0</td>\n",
              "    </tr>\n",
              "    <tr>\n",
              "      <th>4</th>\n",
              "      <td>2.090505</td>\n",
              "      <td>1.920859</td>\n",
              "      <td>1</td>\n",
              "      <td>1</td>\n",
              "    </tr>\n",
              "    <tr>\n",
              "      <th>5</th>\n",
              "      <td>1.794879</td>\n",
              "      <td>0.577163</td>\n",
              "      <td>1</td>\n",
              "      <td>1</td>\n",
              "    </tr>\n",
              "    <tr>\n",
              "      <th>6</th>\n",
              "      <td>-2.427654</td>\n",
              "      <td>1.207703</td>\n",
              "      <td>0</td>\n",
              "      <td>0</td>\n",
              "    </tr>\n",
              "    <tr>\n",
              "      <th>7</th>\n",
              "      <td>-0.488137</td>\n",
              "      <td>1.525926</td>\n",
              "      <td>0</td>\n",
              "      <td>0</td>\n",
              "    </tr>\n",
              "    <tr>\n",
              "      <th>8</th>\n",
              "      <td>2.164269</td>\n",
              "      <td>2.749402</td>\n",
              "      <td>1</td>\n",
              "      <td>1</td>\n",
              "    </tr>\n",
              "    <tr>\n",
              "      <th>9</th>\n",
              "      <td>-2.900078</td>\n",
              "      <td>1.608689</td>\n",
              "      <td>0</td>\n",
              "      <td>0</td>\n",
              "    </tr>\n",
              "  </tbody>\n",
              "</table>\n",
              "</div>"
            ],
            "text/plain": [
              "         x1        x2  y_pred  y_test\n",
              "0  0.861951  0.634037       1       1\n",
              "1  1.609847  2.181406       1       1\n",
              "2 -0.443245  2.944940       0       0\n",
              "3 -3.162675  1.243581       0       0\n",
              "4  2.090505  1.920859       1       1\n",
              "5  1.794879  0.577163       1       1\n",
              "6 -2.427654  1.207703       0       0\n",
              "7 -0.488137  1.525926       0       0\n",
              "8  2.164269  2.749402       1       1\n",
              "9 -2.900078  1.608689       0       0"
            ]
          },
          "metadata": {
            "tags": []
          },
          "execution_count": 12
        }
      ]
    },
    {
      "cell_type": "code",
      "metadata": {
        "id": "MvUCQwKDcy9V",
        "outputId": "92112196-4a5b-4bb8-b1eb-36b213a2ff0b"
      },
      "source": [
        "fig, ax = plt.subplots(ncols=2, figsize=(10,4))\n",
        "\n",
        "plt.subplot(1, 2, 1)\n",
        "sns.scatterplot(x=predicciones.x1, y=predicciones.x2, hue=predicciones.y_pred)\n",
        "plt.title('Datos predichos');\n",
        "\n",
        "plt.subplot(1, 2, 2)\n",
        "sns.scatterplot(x=predicciones.x1, y=predicciones.x2, hue=predicciones.y_test)\n",
        "plt.title('Datos reales');"
      ],
      "execution_count": null,
      "outputs": [
        {
          "output_type": "display_data",
          "data": {
            "image/png": "[encoded data removed]",
            "text/plain": [
              "<Figure size 720x288 with 2 Axes>"
            ]
          },
          "metadata": {
            "tags": []
          }
        }
      ]
    },
    {
      "cell_type": "markdown",
      "metadata": {
        "id": "rPlzqCiPcy9V"
      },
      "source": [
        "# Métricas de desempeño"
      ]
    },
    {
      "cell_type": "markdown",
      "metadata": {
        "id": "IG9tZyMScy9V"
      },
      "source": [
        "Como vimos anteriormente, podemos comparar lo que nuestro modelo ha predicho vs lo que nuestro modelo debió predecir. Para comparar estos resultados existen distintos tipos de métricas y estas dependen de si nuestra variable a predecir es continua (para un modelo como una regresión lineal) o discreta (como una regresión logística)"
      ]
    },
    {
      "cell_type": "markdown",
      "metadata": {
        "id": "GJYRRQcSMGxp"
      },
      "source": [
        "### Matriz de confusión\n",
        "En el caso de algoritmos de clasificación binaria, podemos construir la llamada matriz de confusión, esta cuantifica las siguientes cantidades para las predicciones sobre el set de prueba\n",
        "- Verdaderos Positivos: Predicciones positivas correctas\n",
        "- Verdaderos Negativas: Predicciones negativas correctas\n",
        "- Falsos Positivos: Predicciones positivas incorrectas\n",
        "- Falsos Negativos: Predicciones negativas incorrectas\n",
        "Podemos crear un gráfico de la matriz de confusión como sigue:\n",
        "\n"
      ]
    },
    {
      "cell_type": "code",
      "metadata": {
        "colab": {
          "base_uri": "https://localhost:8080/",
          "height": 282
        },
        "id": "slCspk5KM2Pq",
        "outputId": "1d15f599-5997-41c3-cf46-8d3208b62da9"
      },
      "source": [
        "from sklearn.metrics import confusion_matrix\n",
        "from sklearn.metrics import ConfusionMatrixDisplay\n",
        "\n",
        "y_pred = model.predict(X_test)\n",
        "cm = confusion_matrix(y_test, y_pred)\n",
        "\n",
        "cm_display = ConfusionMatrixDisplay(cm, display_labels=[0, 1])\n",
        "cm_display.plot(cmap='Blues');\n",
        "plt.grid(None);"
      ],
      "execution_count": null,
      "outputs": [
        {
          "output_type": "display_data",
          "data": {
            "image/png": "[encoded data removed]",
            "text/plain": [
              "<Figure size 432x288 with 2 Axes>"
            ]
          },
          "metadata": {
            "tags": []
          }
        }
      ]
    },
    {
      "cell_type": "code",
      "metadata": {
        "id": "ty3zthcncy9W",
        "outputId": "d4f66b1f-42b1-47f5-9174-51e147d2d151"
      },
      "source": [
        "# Podemos obtener la misma matriz para una visualización rapida sin fines de presentación con pd.crosstab\n",
        "m1_conf_pd = pd.crosstab(y_test, y_pred)\n",
        "m1_conf_pd"
      ],
      "execution_count": null,
      "outputs": [
        {
          "output_type": "execute_result",
          "data": {
            "text/html": [
              "<div>\n",
              "<style scoped>\n",
              "    .dataframe tbody tr th:only-of-type {\n",
              "        vertical-align: middle;\n",
              "    }\n",
              "\n",
              "    .dataframe tbody tr th {\n",
              "        vertical-align: top;\n",
              "    }\n",
              "\n",
              "    .dataframe thead th {\n",
              "        text-align: right;\n",
              "    }\n",
              "</style>\n",
              "<table border=\"1\" class=\"dataframe\">\n",
              "  <thead>\n",
              "    <tr style=\"text-align: right;\">\n",
              "      <th>col_0</th>\n",
              "      <th>0</th>\n",
              "      <th>1</th>\n",
              "    </tr>\n",
              "    <tr>\n",
              "      <th>row_0</th>\n",
              "      <th></th>\n",
              "      <th></th>\n",
              "    </tr>\n",
              "  </thead>\n",
              "  <tbody>\n",
              "    <tr>\n",
              "      <th>0</th>\n",
              "      <td>101</td>\n",
              "      <td>6</td>\n",
              "    </tr>\n",
              "    <tr>\n",
              "      <th>1</th>\n",
              "      <td>6</td>\n",
              "      <td>87</td>\n",
              "    </tr>\n",
              "  </tbody>\n",
              "</table>\n",
              "</div>"
            ],
            "text/plain": [
              "col_0    0   1\n",
              "row_0         \n",
              "0      101   6\n",
              "1        6  87"
            ]
          },
          "metadata": {
            "tags": []
          },
          "execution_count": 15
        }
      ]
    },
    {
      "cell_type": "markdown",
      "metadata": {
        "id": "uzvXDs7Kcy9W"
      },
      "source": [
        "De la tabla anterior, podemos encontrar distintos cálculos usados como métricas de desemepeño:\n",
        "\n",
        "     * Accuracy (Exactitud)\n",
        "\n",
        "La Accuracy es el numero de registros correctamente predichos sobre el numero total de datos. Formalmente es\n",
        "\n",
        "$$\\frac{\\text{Verdadero Positivo + Verdadero Negativo}}{\\text{Verdadero Positivo + Verdadero Negativo + Falso Positivo + Falso Negativo }}$$\n",
        "\n",
        "Esto en Python lo podemos calcular rápidamente con `accuracy_score` de la libreria `sklearn.metrics`"
      ]
    },
    {
      "cell_type": "code",
      "metadata": {
        "id": "pqikGgfFcy9W",
        "outputId": "6f4e5ef0-d503-49fb-f5f8-84bf50ece22c"
      },
      "source": [
        "from sklearn.metrics import accuracy_score\n",
        "accuracy_score(y_test, y_pred)\n",
        "\n",
        "#Notemos que es justo el score que sacamos antes!"
      ],
      "execution_count": null,
      "outputs": [
        {
          "output_type": "execute_result",
          "data": {
            "text/plain": [
              "0.94"
            ]
          },
          "metadata": {
            "tags": []
          },
          "execution_count": 16
        }
      ]
    },
    {
      "cell_type": "markdown",
      "metadata": {
        "id": "kI1DtEqycy9X"
      },
      "source": [
        "Otros cálculos de desempeño son\n",
        "\n",
        "     * Precision (precisión)\n",
        "     \n",
        "Mide la fracción de predicciones correctas entre las etiquetas positivas.  \n",
        "\n",
        "$$\\frac{\\text{Verdadero Positivo}}{\\text{Verdadero Positivo + Falso Positivo}}$$\n",
        "\n",
        "     * Recall (sensibilidad)\n",
        "     \n",
        "Mide la fracción de verdaderos positivos predichos por el modelo\n",
        "\n",
        "$$\\frac{\\text{Verdadero Positivo}}{\\text{Verdadero Positivo + Falso Negativo }}$$"
      ]
    },
    {
      "cell_type": "code",
      "metadata": {
        "id": "bz27UTbqcy9X",
        "outputId": "c10cb4f3-fc17-431f-9cc5-9e3716d5ce80"
      },
      "source": [
        "from sklearn.metrics import precision_score, recall_score\n",
        "m1_prec = precision_score(y_test, y_pred)\n",
        "m1_rec = recall_score(y_test, y_pred)\n",
        "print(\"Precision: \", m1_prec, \"\\nRecall: \", m1_rec)"
      ],
      "execution_count": null,
      "outputs": [
        {
          "output_type": "stream",
          "text": [
            "Precision:  0.9354838709677419 \n",
            "Recall:  0.9354838709677419\n"
          ],
          "name": "stdout"
        }
      ]
    },
    {
      "cell_type": "markdown",
      "metadata": {
        "id": "xZRsZX6lcy9X"
      },
      "source": [
        "Existe un trueque entre Precision y Recall, en la medida que ambos puntajes se pueden promediar para obtener una medida ponderada de ambos fenómenos. Esta medida se conoce como F1, y representa la media armónica entre Precision y Recall. Se prefiere la media armónica dado que penaliza de mayor manera los valores bajos\n",
        "\n",
        "$$F1 = \\frac{\\text{2 x Precision x Recall}}{\\text{Precision + Recall}}$$"
      ]
    },
    {
      "cell_type": "markdown",
      "metadata": {
        "id": "6pSUyhbbcy9X"
      },
      "source": [
        "Resulta que en el módulo metrics de sklearn presenta el método\n",
        "classification_report que reporta las medidas de precisión, recall y f1 para cada\n",
        "categoría en el modelo estimado"
      ]
    },
    {
      "cell_type": "code",
      "metadata": {
        "id": "4Zs_AZ_fcy9X",
        "outputId": "feae8825-2533-4a67-d3ab-23bb775d091b"
      },
      "source": [
        "from sklearn.metrics import classification_report\n",
        "print(classification_report(y_test, y_pred))"
      ],
      "execution_count": null,
      "outputs": [
        {
          "output_type": "stream",
          "text": [
            "              precision    recall  f1-score   support\n",
            "\n",
            "           0       0.94      0.94      0.94       107\n",
            "           1       0.94      0.94      0.94        93\n",
            "\n",
            "    accuracy                           0.94       200\n",
            "   macro avg       0.94      0.94      0.94       200\n",
            "weighted avg       0.94      0.94      0.94       200\n",
            "\n"
          ],
          "name": "stdout"
        }
      ]
    },
    {
      "cell_type": "markdown",
      "metadata": {
        "id": "u73Q0nnwcy9Y"
      },
      "source": [
        "# Receiving Operating Characteristics (Curva ROC)"
      ]
    },
    {
      "cell_type": "markdown",
      "metadata": {
        "id": "MWyJ4tEGcy9Y"
      },
      "source": [
        "Con Precision, Recall y F1 logramos caracterizar las tasas de predicción exitosa del modelo, sin embargo un buen modelo de clasificación también debe considerar cuál es el rango de errores en el\n",
        "modelo con el que se trabaja. Para ello utilizamos la curva ROC, que evalúa la relación entre ambos errores condicional en todo el rango del\n",
        "clasificador.\n"
      ]
    },
    {
      "cell_type": "markdown",
      "metadata": {
        "id": "5hdrMjGUcy9Y"
      },
      "source": [
        "El gráfico tienen las siguientes convenciones:\n",
        "1. En el eje Y va la tasa de falsos positivos, aquella que resume las falsas alarmas en\n",
        "nuestro modelo clasificador.\n",
        "2. En el eje X va la tasa de verdaderos positivos, aquella que resume las observaciones\n",
        "correctamente clasificadas por nuestro modelo.\n",
        "3. La línea bisectriz representa el benchmark predictivo del modelo: esto es lo que\n",
        "esperamos si es que un clasificador asigna etiquetas de forma aleatoria, sin mayor\n",
        "información ingresada por el sistema.\n",
        "\n",
        "Para generar un gráfico de curva ROC con sklearn, utilizamos el método roc_curve dentro\n",
        "del módulo metrics. El método devuelve tres objetos: Un array con la tasa de falsos\n",
        "positivos, un array con la tasa de verdaderos positivos y un array con los umbrales de\n",
        "decisión entre 0 y 1."
      ]
    },
    {
      "cell_type": "code",
      "metadata": {
        "id": "N-HwvZ7Ccy9Y",
        "outputId": "5e933541-3787-4219-a067-58348f1011b6"
      },
      "source": [
        "model.predict_proba(X_test)[0:5, 1]"
      ],
      "execution_count": null,
      "outputs": [
        {
          "output_type": "execute_result",
          "data": {
            "text/plain": [
              "array([8.86377377e-01, 9.63606690e-01, 4.75895064e-02, 5.97471611e-05,\n",
              "       9.91776069e-01])"
            ]
          },
          "metadata": {
            "tags": []
          },
          "execution_count": 19
        }
      ]
    },
    {
      "cell_type": "code",
      "metadata": {
        "id": "QQPdJFoocy9Y"
      },
      "source": [
        "from sklearn.metrics import roc_curve\n",
        "# reseteamamos los valores predichos de nuestro modelo para obtener la probabilidad entre 0 y 1.\n",
        "y_pred = model.predict_proba(X_test)[:, 1]\n",
        "# generamos los objetos de roc_cruve\n",
        "false_positive, true_positive, threshold = roc_curve(y_test, y_pred)"
      ],
      "execution_count": null,
      "outputs": []
    },
    {
      "cell_type": "code",
      "metadata": {
        "id": "ED-TYj-wcy9Y",
        "outputId": "48f4c29c-8b62-4ca2-be8d-0df9edb94d9b"
      },
      "source": [
        "# Plot ROC curve\n",
        "plt.title('Curva ROC')\n",
        "plt.plot(false_positive, true_positive, lw=1)\n",
        "plt.plot([0, 1], ls=\"--\", lw=1)\n",
        "plt.plot([0, 0], [1, 0] , c='limegreen', lw=3), plt.plot([1, 1] ,\n",
        "c='limegreen', lw=3)\n",
        "plt.ylabel('Verdaderos Positivos')\n",
        "plt.xlabel('Falsos Positivos');"
      ],
      "execution_count": null,
      "outputs": [
        {
          "output_type": "display_data",
          "data": {
            "image/png": "[encoded data removed]",
            "text/plain": [
              "<Figure size 432x288 with 1 Axes>"
            ]
          },
          "metadata": {
            "tags": []
          }
        }
      ]
    },
    {
      "cell_type": "markdown",
      "metadata": {
        "id": "dHM4V7Qacy9Z"
      },
      "source": [
        "Verán que es muy común (en especial en banca y consultoras) revisar el Area bajo la curva del modelo, que es un número que rápidamente nos indicará la calidad de este. Para esto lo calculamos de la siguiente manera:"
      ]
    },
    {
      "cell_type": "code",
      "metadata": {
        "id": "gG8jgCe4cy9Z",
        "outputId": "c06a113f-9a8b-454d-dfb3-8ca45a6c1b54"
      },
      "source": [
        "from sklearn.metrics import roc_auc_score\n",
        "roc_auc_score(y_test, y_pred)"
      ],
      "execution_count": null,
      "outputs": [
        {
          "output_type": "execute_result",
          "data": {
            "text/plain": [
              "0.9876394332227916"
            ]
          },
          "metadata": {
            "tags": []
          },
          "execution_count": 22
        }
      ]
    },
    {
      "cell_type": "markdown",
      "metadata": {
        "id": "qkhbMrxkboix"
      },
      "source": [
        "# Diagnosticando un modelo\n",
        "\n",
        "A continuación veremos algunos conceptos para entender el diagnostico que estamos calculando."
      ]
    },
    {
      "cell_type": "markdown",
      "metadata": {
        "id": "ZTQpWCiqpUmm"
      },
      "source": [
        "## Underfitting y Overfitting\n",
        "\n",
        "Un modelo es exitoso cuando es capaz de igualar la complejidad del problema que está representando. Cuando proponemos un modelo muy sencillo para un problema muy complicado, no importa con cuantos datos alimentemos el modelo, nunca logrará ajustarse. Este escenario es conocido como **underfitting** y ocurre cuando nuestro modelo no es tan complejo como nuestro problema. El caso contrario, conocido como **overfitting** ocurre cuando nuestro modelo es mas complejo que nuestro problema. Esto permite que el modelo aprenda incluso el ruido presente en los datos y por lo tanto no pueda generalizar bien. En esta sección mostraremos como variar los hiperparámetros de un modelo para llevarlo desde underfitting hasta overfitting, pasando por el equilibrio ideal. \n",
        "\n",
        "## Cross Validation\n",
        "Recordemos que entrenar y evaluar el modelo con el mismo conjunto de datos es un error metodológico, ya que nos arriesgamos a que el modelo **memorice** en vez de **aprender**. Atacamos este problema eligiendo un set de entrenamiento y uno de prueba.\n",
        "\n",
        "Otro problema similar ocurre cuando buscamos el mejor conjunto de **hiperparámetros**. En términos simples, estos son valores que poseen los modelos que podemos cambiar, para obtener distintos resultados bajo los mismos modelos y la misma data. En las clases siguientes veremos algunos hiperparámetros para cada modelo.\n",
        "\n",
        "La estrategia mas común para encontrar los mejores valores de un hiperparámetro es entrenar una serie de modelos, para distintos valores de hiperparámetros y elegir el que tiene mejores métricas. \n",
        "\n",
        "El problema surge cuando repetimos este proceso para el mismo set de entrenamiento y prueba. Existe el riesgo que terminemos eligiendo el mejor conjunto de hiperparámetros para una división específica de los datos. \n",
        "\n",
        "La solución a este problema se denomina **validación cruzada** y consiste en repetir el proceso de entrenamiento, para un mismo conjunto de hiperparámetros y distintas divisiones de entrenamiento y prueba. Cada entrenamiento produce una serie de métricas que podemos analizar como una muestra.\n",
        "\n",
        "A continuación ejemplificaremos lo anterior con unos datos artificiales y un modelo de regresión lineal polinomial."
      ]
    },
    {
      "cell_type": "code",
      "metadata": {
        "colab": {
          "base_uri": "https://localhost:8080/",
          "height": 265
        },
        "id": "UjYulH92OmOi",
        "outputId": "8f147ece-89f0-463c-f7ae-ada850d6e8bb"
      },
      "source": [
        "import numpy as np\n",
        "from matplotlib import pyplot as plt\n",
        "import seaborn as sns\n",
        "plt.style.use('ggplot')\n",
        "\n",
        "np.random.seed(1)\n",
        "\n",
        "X = np.sort(np.random.rand(30)) * 10\n",
        "y = np.cos(X) + np.random.normal(0, 0.1, size=30)\n",
        "\n",
        "sns.scatterplot(X, y);"
      ],
      "execution_count": null,
      "outputs": [
        {
          "output_type": "display_data",
          "data": {
            "image/png": "[encoded data removed]",
            "text/plain": [
              "<Figure size 432x288 with 1 Axes>"
            ]
          },
          "metadata": {
            "tags": []
          }
        }
      ]
    },
    {
      "cell_type": "markdown",
      "metadata": {
        "id": "xAAgiGS3Phj-"
      },
      "source": [
        "Usaremos como modelo una regresión lineal en conjunto con una técnica de feature engineering llamada **Polynomial Features**, que consiste en crear potencias de las variables originales. El grado de este polinomio es un hiperparámetro del modelo y ciertos valores produciran distintos resultados. Primero veamos solo el resultado con una regresión lineal.\n",
        "\n",
        "Para poder visualizar la regresión, debemos pasar nuestro array X a formato columna con `[:, np.newaxis]`:"
      ]
    },
    {
      "cell_type": "code",
      "metadata": {
        "id": "kZ0xNKC7cy9a",
        "outputId": "47e2eea2-b892-4464-c17a-9fc1f4084183"
      },
      "source": [
        "X"
      ],
      "execution_count": null,
      "outputs": [
        {
          "output_type": "execute_result",
          "data": {
            "text/plain": [
              "array([1.14374817e-03, 2.73875932e-01, 3.90547832e-01, 8.50442114e-01,\n",
              "       9.23385948e-01, 1.40386939e+00, 1.46755891e+00, 1.69830420e+00,\n",
              "       1.86260211e+00, 1.98101489e+00, 2.04452250e+00, 3.02332573e+00,\n",
              "       3.13424178e+00, 3.45560727e+00, 3.96767474e+00, 4.17022005e+00,\n",
              "       4.17304802e+00, 4.19194514e+00, 5.38816734e+00, 5.58689828e+00,\n",
              "       6.70467510e+00, 6.85219500e+00, 6.92322616e+00, 7.20324493e+00,\n",
              "       8.00744569e+00, 8.76389152e+00, 8.78117436e+00, 8.78142503e+00,\n",
              "       8.94606664e+00, 9.68261576e+00])"
            ]
          },
          "metadata": {
            "tags": []
          },
          "execution_count": 24
        }
      ]
    },
    {
      "cell_type": "code",
      "metadata": {
        "id": "hJXGk77Ncy9a",
        "outputId": "58b41f14-f982-493e-d603-256b9ebbe29a"
      },
      "source": [
        "X[:, np.newaxis]"
      ],
      "execution_count": null,
      "outputs": [
        {
          "output_type": "execute_result",
          "data": {
            "text/plain": [
              "array([[1.14374817e-03],\n",
              "       [2.73875932e-01],\n",
              "       [3.90547832e-01],\n",
              "       [8.50442114e-01],\n",
              "       [9.23385948e-01],\n",
              "       [1.40386939e+00],\n",
              "       [1.46755891e+00],\n",
              "       [1.69830420e+00],\n",
              "       [1.86260211e+00],\n",
              "       [1.98101489e+00],\n",
              "       [2.04452250e+00],\n",
              "       [3.02332573e+00],\n",
              "       [3.13424178e+00],\n",
              "       [3.45560727e+00],\n",
              "       [3.96767474e+00],\n",
              "       [4.17022005e+00],\n",
              "       [4.17304802e+00],\n",
              "       [4.19194514e+00],\n",
              "       [5.38816734e+00],\n",
              "       [5.58689828e+00],\n",
              "       [6.70467510e+00],\n",
              "       [6.85219500e+00],\n",
              "       [6.92322616e+00],\n",
              "       [7.20324493e+00],\n",
              "       [8.00744569e+00],\n",
              "       [8.76389152e+00],\n",
              "       [8.78117436e+00],\n",
              "       [8.78142503e+00],\n",
              "       [8.94606664e+00],\n",
              "       [9.68261576e+00]])"
            ]
          },
          "metadata": {
            "tags": []
          },
          "execution_count": 25
        }
      ]
    },
    {
      "cell_type": "code",
      "metadata": {
        "id": "URq1ct8qcy9a",
        "outputId": "a2405f78-9f70-4f0c-98d0-edd686ce944c"
      },
      "source": [
        "from sklearn.linear_model import LinearRegression\n",
        "\n",
        "model = LinearRegression()\n",
        "model.fit(X[:, np.newaxis], y) # es lo explicado anteriormente\n",
        "y_pred = model.predict(X[:, np.newaxis])\n",
        "\n",
        "plt.scatter(X[:, np.newaxis],y)\n",
        "plt.plot(X, y_pred, color='blue')\n",
        "plt.show()"
      ],
      "execution_count": null,
      "outputs": [
        {
          "output_type": "display_data",
          "data": {
            "image/png": "[encoded data removed]",
            "text/plain": [
              "<Figure size 432x288 with 1 Axes>"
            ]
          },
          "metadata": {
            "tags": []
          }
        }
      ]
    },
    {
      "cell_type": "markdown",
      "metadata": {
        "id": "iAaZ4_QZcy9a"
      },
      "source": [
        "Claramente la linea no es el mejor modelo, por lo que se aprecia un Under Fitting. Si calculamos sus medidas de error:"
      ]
    },
    {
      "cell_type": "code",
      "metadata": {
        "id": "OAKjA2bhcy9a",
        "outputId": "bc74cd97-f080-43e6-cbb4-bac24e749da9"
      },
      "source": [
        "from sklearn.metrics import mean_squared_error, r2_score\n",
        "\n",
        "mse = mean_squared_error(y, y_pred)\n",
        "rmse = np.sqrt(mse)\n",
        "r2 =  r2_score(y, y_pred)\n",
        "\n",
        "print('MSE: ', mse)\n",
        "print('RMSE',rmse)\n",
        "print('R^2: ',r2)"
      ],
      "execution_count": null,
      "outputs": [
        {
          "output_type": "stream",
          "text": [
            "MSE:  0.4762947801516085\n",
            "RMSE 0.6901411306041747\n",
            "R^2:  0.10084284311225056\n"
          ],
          "name": "stdout"
        }
      ]
    },
    {
      "cell_type": "markdown",
      "metadata": {
        "id": "mLhmRxHbcy9a"
      },
      "source": [
        "Polynomial Features nos permite recalcular nuestra información de manera polinomial. Es decir podemos aumentar la complejidad de nuestro modelo de $$Y = \\theta_0 + \\theta_1x$$ a $$Y = \\theta_0 + \\theta_1x + \\theta_2x^2 $$ "
      ]
    },
    {
      "cell_type": "code",
      "metadata": {
        "id": "aeEJnOeKcy9b",
        "outputId": "fac1154a-d99c-419b-92ad-de76e81f1e33"
      },
      "source": [
        "from sklearn.preprocessing import PolynomialFeatures\n",
        "\n",
        "polynomial_features= PolynomialFeatures(degree=2)\n",
        "x_poly = polynomial_features.fit_transform(X[:, np.newaxis])\n",
        "x_poly"
      ],
      "execution_count": null,
      "outputs": [
        {
          "output_type": "execute_result",
          "data": {
            "text/plain": [
              "array([[1.00000000e+00, 1.14374817e-03, 1.30815988e-06],\n",
              "       [1.00000000e+00, 2.73875932e-01, 7.50080261e-02],\n",
              "       [1.00000000e+00, 3.90547832e-01, 1.52527609e-01],\n",
              "       [1.00000000e+00, 8.50442114e-01, 7.23251789e-01],\n",
              "       [1.00000000e+00, 9.23385948e-01, 8.52641608e-01],\n",
              "       [1.00000000e+00, 1.40386939e+00, 1.97084925e+00],\n",
              "       [1.00000000e+00, 1.46755891e+00, 2.15372915e+00],\n",
              "       [1.00000000e+00, 1.69830420e+00, 2.88423714e+00],\n",
              "       [1.00000000e+00, 1.86260211e+00, 3.46928663e+00],\n",
              "       [1.00000000e+00, 1.98101489e+00, 3.92442000e+00],\n",
              "       [1.00000000e+00, 2.04452250e+00, 4.18007224e+00],\n",
              "       [1.00000000e+00, 3.02332573e+00, 9.14049845e+00],\n",
              "       [1.00000000e+00, 3.13424178e+00, 9.82347155e+00],\n",
              "       [1.00000000e+00, 3.45560727e+00, 1.19412216e+01],\n",
              "       [1.00000000e+00, 3.96767474e+00, 1.57424429e+01],\n",
              "       [1.00000000e+00, 4.17022005e+00, 1.73907352e+01],\n",
              "       [1.00000000e+00, 4.17304802e+00, 1.74143298e+01],\n",
              "       [1.00000000e+00, 4.19194514e+00, 1.75724041e+01],\n",
              "       [1.00000000e+00, 5.38816734e+00, 2.90323473e+01],\n",
              "       [1.00000000e+00, 5.58689828e+00, 3.12134324e+01],\n",
              "       [1.00000000e+00, 6.70467510e+00, 4.49526682e+01],\n",
              "       [1.00000000e+00, 6.85219500e+00, 4.69525764e+01],\n",
              "       [1.00000000e+00, 6.92322616e+00, 4.79310604e+01],\n",
              "       [1.00000000e+00, 7.20324493e+00, 5.18867376e+01],\n",
              "       [1.00000000e+00, 8.00744569e+00, 6.41191864e+01],\n",
              "       [1.00000000e+00, 8.76389152e+00, 7.68057946e+01],\n",
              "       [1.00000000e+00, 8.78117436e+00, 7.71090232e+01],\n",
              "       [1.00000000e+00, 8.78142503e+00, 7.71134256e+01],\n",
              "       [1.00000000e+00, 8.94606664e+00, 8.00321082e+01],\n",
              "       [1.00000000e+00, 9.68261576e+00, 9.37530479e+01]])"
            ]
          },
          "metadata": {
            "tags": []
          },
          "execution_count": 28
        }
      ]
    },
    {
      "cell_type": "markdown",
      "metadata": {
        "id": "e12haoR-cy9b"
      },
      "source": [
        "Observemos que la primera columna solo son 1's, la segunda es el valor que teniamos y la tercera es igual a la segunda columna pero en grado 2"
      ]
    },
    {
      "cell_type": "code",
      "metadata": {
        "id": "d3aKFJn2cy9b",
        "outputId": "91391066-817e-4aca-e65d-6fc695ca1a70"
      },
      "source": [
        "model = LinearRegression()\n",
        "model.fit(x_poly, y)\n",
        "y_poly_pred = model.predict(x_poly)\n",
        "\n",
        "mse = mean_squared_error(y, y_poly_pred)\n",
        "rmse = np.sqrt(mse)\n",
        "r2 =  r2_score(y, y_poly_pred)\n",
        "\n",
        "print('MSE: ', mse)\n",
        "print('RMSE',rmse)\n",
        "print('R^2: ',r2)"
      ],
      "execution_count": null,
      "outputs": [
        {
          "output_type": "stream",
          "text": [
            "MSE:  0.470164061224474\n",
            "RMSE 0.6856851035456976\n",
            "R^2:  0.1124165156149084\n"
          ],
          "name": "stdout"
        }
      ]
    },
    {
      "cell_type": "code",
      "metadata": {
        "id": "V7QaRtRFcy9b",
        "outputId": "92f27c1d-c855-4e60-cba3-631a71bc0796"
      },
      "source": [
        "sns.scatterplot(X, y);\n",
        "sns.lineplot(X,y_poly_pred,color='blue');"
      ],
      "execution_count": null,
      "outputs": [
        {
          "output_type": "display_data",
          "data": {
            "image/png": "[encoded data removed]",
            "text/plain": [
              "<Figure size 432x288 with 1 Axes>"
            ]
          },
          "metadata": {
            "tags": []
          }
        }
      ]
    },
    {
      "cell_type": "markdown",
      "metadata": {
        "id": "XjuNUyItcy9b"
      },
      "source": [
        "Si bien el modelo posee mejores métricas, aun no es el mejor grado del polinomio que podemos asignar, por lo que para estos casos se utilizaremos la técnica de  **Validación cruzada** con el comando `cross_val_score`.\n",
        "\n",
        "Esta nos permitirá ir probando distintos grados de polinomio y recibe una métrica de error para ir comparando, entregando como resultado el mejor modelo dada la métrica mencionada.\n",
        "\n",
        "Adicional a esto introduciremos el concepto de **Pipeline**: Como hemos visto, tenemos que transformar la data cada vez que queramos probar un modelo. Si deseamos probar un grado 1, no hacemos transformación, luego para probar el modelo con grado 2, transformamos la data original como lo acabamos de hacer, pero para probar un nuevo grado, por ejemplo 3, es necesario volver a transformar la data original y volver a ajustar el modelo. Cuando se requiere hacer un ajuste a la data y aplicar un modelo muchas veces, el comando **pipeline** nos permite hacer esto de manera consecutiva y rápida.\n",
        "\n",
        "En resumen: un pipeline es una serie de transfomaciones de `sklearn` y un modelo final. Una vez creado, el pipeline se entrena y usa para predecir como una unidad.\n",
        "\n",
        "Primero veremos en acción `pipeline` y luego buscaremos el punto óptimo de nuestro polinomio con una `validación cruzada`"
      ]
    },
    {
      "cell_type": "code",
      "metadata": {
        "id": "SlJj1wi7cy9b"
      },
      "source": [
        "from sklearn.pipeline import make_pipeline"
      ],
      "execution_count": null,
      "outputs": []
    },
    {
      "cell_type": "code",
      "metadata": {
        "id": "pCZNzzNqcy9b",
        "outputId": "61e6c5a1-5b6b-4497-f628-dc530b81a8fd"
      },
      "source": [
        "degrees = [1, 2, 3]\n",
        "fig, ax = plt.subplots(ncols=3, figsize=(14, 4))\n",
        "x = np.linspace(1, 9)\n",
        "\n",
        "for i, degree in enumerate(degrees):\n",
        "    pipeline = make_pipeline(PolynomialFeatures(degree=degree), LinearRegression())\n",
        "    pipeline.fit(X[:, np.newaxis], y)\n",
        "    sns.scatterplot(X, y, ax=ax[i])\n",
        "    sns.lineplot(x, pipeline.predict(x[:, np.newaxis]), ax=ax[i], color = \"blue\")"
      ],
      "execution_count": null,
      "outputs": [
        {
          "output_type": "display_data",
          "data": {
            "image/png": "[encoded data removed]",
            "text/plain": [
              "<Figure size 1008x288 with 3 Axes>"
            ]
          },
          "metadata": {
            "tags": []
          }
        }
      ]
    },
    {
      "cell_type": "markdown",
      "metadata": {
        "id": "xo-GaGk8cy9c"
      },
      "source": [
        "¡Perfecto!. Ahora en vez de evaluar visualmente nuestro modelo, y cometer el error de validar con el mismo set de entrenamiento,  calcularemos la métrica de error cuadrático medio para cada modelo, las compararemos todas y veremos cual es el mejor grado. Es decir, realizaremos la **validación cruzada**. \n",
        "\n",
        "Existen distintas técnicas de CV, pero por simplicidad utilizaremos solamente **K-Fold**, que es la estrategia por defecto. Consiste en dividir el dataset en $K$ subgrupos. En cada iteración, utiliza un subgrupo para probar y los restantes $K-1$ para entrenar."
      ]
    },
    {
      "cell_type": "code",
      "metadata": {
        "id": "-_3bTU-wcy9c"
      },
      "source": [
        "from sklearn.model_selection import cross_val_score\n",
        "\n",
        "for degree in range(1, 10): #se probaran los grados del 1 al 10\n",
        "    pipeline = make_pipeline(PolynomialFeatures(degree=degree), LinearRegression()) #aplica la transformación\n",
        "    scores = cross_val_score(pipeline, X[:, np.newaxis], y, cv=10, scoring='neg_mean_squared_error') #data transformada a CV"
      ],
      "execution_count": null,
      "outputs": []
    },
    {
      "cell_type": "code",
      "metadata": {
        "id": "_vzxJiahcy9c",
        "outputId": "480cb5fc-99a3-4a92-92a4-a7fb2d06d67e"
      },
      "source": [
        "scores"
      ],
      "execution_count": null,
      "outputs": [
        {
          "output_type": "execute_result",
          "data": {
            "text/plain": [
              "array([-8.19931717e-01, -1.31732109e-02, -5.48930662e-03, -1.56861952e-02,\n",
              "       -7.21097083e-03, -1.61048245e-03, -1.27504293e-02, -3.37384410e-02,\n",
              "       -7.61306552e-02, -7.02582561e+00])"
            ]
          },
          "metadata": {
            "tags": []
          },
          "execution_count": 34
        }
      ]
    },
    {
      "cell_type": "code",
      "metadata": {
        "id": "gIEqU1-Scy9c",
        "outputId": "8c188c1e-4618-4dd8-84e5-a1ec61803b06"
      },
      "source": [
        "print(\"El grado con menor error es: \",np.argmax(scores))\n",
        "print(\"Con un error promedio de: \",-np.max(scores))"
      ],
      "execution_count": null,
      "outputs": [
        {
          "output_type": "stream",
          "text": [
            "El grado con menor error es:  5\n",
            "Con un error promedio de:  0.0016104824529223824\n"
          ],
          "name": "stdout"
        }
      ]
    },
    {
      "cell_type": "markdown",
      "metadata": {
        "id": "8jUuIEtjsndQ"
      },
      "source": [
        "Podemos ver como evoluciona el comportamiento del modelo a medida que variamos un hiperparámetro usando un gráfico de validación"
      ]
    },
    {
      "cell_type": "code",
      "metadata": {
        "colab": {
          "base_uri": "https://localhost:8080/",
          "height": 299
        },
        "id": "l29kveBnU6mB",
        "outputId": "0c8042d5-b6ee-4f4b-bbd8-1514d65a23e4"
      },
      "source": [
        "means = []\n",
        "stds = []\n",
        "x = np.arange(1, 10)\n",
        "\n",
        "for degree in range(1, 10):\n",
        "    pipeline = make_pipeline(PolynomialFeatures(degree=degree), LinearRegression())\n",
        "    scores = cross_val_score(pipeline, X[:, np.newaxis], y, cv=10, scoring='neg_mean_squared_error')\n",
        "    means.append(-scores.mean())\n",
        "    stds.append(scores.std())\n",
        "\n",
        "means = np.array(means)\n",
        "stds = np.array(stds)\n",
        "plot = sns.lineplot(x, means)\n",
        "plot.fill_between(x,means-stds, means+stds, alpha=0.3)\n",
        "plot.set_xlabel('Polynomial Degree')\n",
        "plot.set_ylabel('Error')\n",
        "plot.set_title('Validation plot');"
      ],
      "execution_count": null,
      "outputs": [
        {
          "output_type": "display_data",
          "data": {
            "image/png": "[encoded data removed]",
            "text/plain": [
              "<Figure size 432x288 with 1 Axes>"
            ]
          },
          "metadata": {
            "tags": []
          }
        }
      ]
    },
    {
      "cell_type": "markdown",
      "metadata": {
        "id": "SH46aGSN5GKO"
      },
      "source": [
        "Otra forma de identificar estos problemas es comprarar el comportamiento del modelo en el set de entrenamiento vs prueba, recordando que:\n",
        "\n",
        "- **Underfitting** se caracteriza por que ambas métricas no alcanzan un valor deseable\n",
        "- **Overfitting** se caracteriza por presentar un gap entre el score de entrenamiento y prueba. El score de entrenamiento es bueno mientras que el de prueba se estanca o empeora\n",
        "- **Ideal** Ambas métricas convergen a un valor deseable"
      ]
    },
    {
      "cell_type": "code",
      "metadata": {
        "colab": {
          "base_uri": "https://localhost:8080/",
          "height": 282
        },
        "id": "m1gtFHaibzoC",
        "outputId": "8861a0ce-bee3-4893-d028-2e1ae4a47b12"
      },
      "source": [
        "from sklearn.model_selection import train_test_split\n",
        "from sklearn.metrics import mean_squared_error\n",
        "\n",
        "train_errors = []\n",
        "test_errors = []\n",
        "x = np.arange(1, 12)\n",
        "\n",
        "X_train, X_test, y_train, y_test = train_test_split(X[:, np.newaxis], y, test_size=0.2, random_state=2)\n",
        "\n",
        "for degree in range(1, 12):\n",
        "    pipeline = make_pipeline(PolynomialFeatures(degree=degree), LinearRegression())\n",
        "    pipeline.fit(X_train, y_train)\n",
        "    train_error = mean_squared_error(pipeline.predict(X_train), y_train)\n",
        "    test_error = mean_squared_error(pipeline.predict(X_test), y_test)\n",
        "    train_errors.append(train_error)\n",
        "    test_errors.append(test_error)\n",
        "\n",
        "train_errors = np.array(train_errors)\n",
        "test_errors = np.array(test_errors)\n",
        "plot = sns.lineplot(x, train_errors, label='Training Error')\n",
        "plot = sns.lineplot(x, test_errors, label='Testing Error')\n",
        "plot.set_xlabel('Polynomial Degree');"
      ],
      "execution_count": null,
      "outputs": [
        {
          "output_type": "display_data",
          "data": {
            "image/png": "[encoded data removed]",
            "text/plain": [
              "<Figure size 432x288 with 1 Axes>"
            ]
          },
          "metadata": {
            "tags": []
          }
        }
      ]
    },
    {
      "cell_type": "markdown",
      "metadata": {
        "id": "IDkteB5Ucy9d"
      },
      "source": [
        "Lo mejor es un grado 7 u 8 para este problema utilizando test-train-split, sin embargo creiamos que era un grado 5 con CV. Si volvemos a graficar lo de más arriba pero con estos grados, observamos lo siguiente:"
      ]
    },
    {
      "cell_type": "code",
      "metadata": {
        "id": "1b4wCTFecy9d",
        "outputId": "533d28a2-6d12-406c-d4d7-f7c6b2ea08f7"
      },
      "source": [
        "degrees = [5, 7]\n",
        "fig, ax = plt.subplots(ncols=2, figsize=(14, 4))\n",
        "x = np.linspace(0, 10)\n",
        "\n",
        "for i, degree in enumerate(degrees):\n",
        "    pipeline = make_pipeline(PolynomialFeatures(degree=degree), LinearRegression())\n",
        "    pipeline.fit(X[:, np.newaxis], y)\n",
        "    sns.scatterplot(X, y, ax=ax[i])\n",
        "    sns.lineplot(x, pipeline.predict(x[:, np.newaxis]), ax=ax[i], color = \"blue\")"
      ],
      "execution_count": null,
      "outputs": [
        {
          "output_type": "display_data",
          "data": {
            "image/png": "[encoded data removed]",
            "text/plain": [
              "<Figure size 1008x288 with 2 Axes>"
            ]
          },
          "metadata": {
            "tags": []
          }
        }
      ]
    },
    {
      "cell_type": "markdown",
      "metadata": {
        "id": "KwmG7_rZcy9d"
      },
      "source": [
        "¿Cuál hiperparámetro creen que es el mejor?"
      ]
    },
    {
      "cell_type": "markdown",
      "metadata": {
        "id": "8i7YJRhfcy9e"
      },
      "source": [
        "# Ejercicios"
      ]
    },
    {
      "cell_type": "markdown",
      "metadata": {
        "id": "X_kDDAapcy9e"
      },
      "source": [
        "La base de datos Credit contiene datos de clientes de un banco e información sobre su situación financiera. Las variables son las siguientes:\n",
        "    \n",
        "    \n",
        "- Income : Ingreso anual disponible en miles de dólares.\n",
        "- Limit : Límite del crédito.\n",
        "- Rating : Ranking del crédito.\n",
        "- Cards : Cantidad de tarjetas de credito.\n",
        "- Age : Edad del usuario.\n",
        "- Education : Años de educación del usuario.\n",
        "- Gender : ¿Hombre o mujer?\n",
        "- Student : ¿Es estudiante?\n",
        "- Married : ¿Está casado?\n",
        "- Balance : Promedio de deuda en tarjeta de crédito de usuario."
      ]
    },
    {
      "cell_type": "markdown",
      "metadata": {
        "id": "KutJrirgcy9e"
      },
      "source": [
        "- a)  Cargue los datos con la función read_csv de pandas. Utilice la función head para visualizar los datos cargados. ¿Existe alguna columna que no necesitemos? Elimínela de ser necesario, utilizando la función drop('nombre columna a eliminar', axis=1).\n",
        "    \n",
        "-  b) Determine qué variables de la  base de datos corresponden a categorías.\n",
        "\n",
        "Realice la codificación en variables dummies para cada una de ellas siguiendo los siguientes pasos:  \n",
        "\n",
        "        -b.1) Defina en un objeto llamado df_num todas las variables numéricas de la base de datos.\n",
        "    \n",
        "        -b.2) Recodifique todas las variables categóricas. Para recodificar una variable categórica con dos categorías puede utilizar la función de pandas get_dummies(prefix=\"prefijo de las columnas\", drop_first=True) , drop_first elimina la primera columna.\n",
        "    \n",
        "        -b.3) Junte el objeto df.num con las columnas de las variables categóricas recodificadas utilizando la función de pandas concat([objeto1, objeto2, ...], axis=1), de modo que en un objeto df_new se encuentren todas las variables.\n",
        "    \n",
        "- c) Defina en un objeto X las variables predictoras y en un objeto Y la variable respuesta Balance, obtenga un split de los datos, con un porcentaje de datos de entrenamiento del 75%.\n",
        "    \n",
        "- d) Entrene un modelo de regresión lineal con los datos de entrenamiento, luego obtenga, para el set de validación, el MSE, RMSE y R2. ¿Cuáles de estas métricas nos sirven para evaluar la bondad de ajuste del modelo mismo?\n",
        "    \n",
        "-    e) Otra manera de implementar una regresión lineal en Python es utilizando la librería statsmodels, esta forma es mucho más similar a R:  \n",
        "\n",
        "```\n",
        "import statsmodels.api as sm\n",
        "\n",
        "import statsmodels.formula.api as smf\n",
        "\n",
        "smf.ols('y  ~ x1 + x2', data = pd.concat([y_train,X_train], axis=1)).fit()\n",
        "```\n",
        "Entrene el modelo de esa manera, y obtenga un `summary()`"
      ]
    }
  ]
}