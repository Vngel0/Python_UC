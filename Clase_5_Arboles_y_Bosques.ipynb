{
  "nbformat": 4,
  "nbformat_minor": 0,
  "metadata": {
    "kernelspec": {
      "display_name": "Python 3",
      "language": "python",
      "name": "python3"
    },
    "language_info": {
      "codemirror_mode": {
        "name": "ipython",
        "version": 3
      },
      "file_extension": ".py",
      "mimetype": "text/x-python",
      "name": "python",
      "nbconvert_exporter": "python",
      "pygments_lexer": "ipython3",
      "version": "3.8.3"
    },
    "colab": {
      "name": "Clase 5 Arboles y Bosques.ipynb",
      "provenance": [],
      "include_colab_link": true
    }
  },
  "cells": [
    {
      "cell_type": "markdown",
      "metadata": {
        "id": "view-in-github",
        "colab_type": "text"
      },
      "source": [
        "<a href=\"https://colab.research.google.com/github/Vngel0/Python_UC/blob/main/Clase_5_Arboles_y_Bosques.ipynb\" target=\"_parent\"><img src=\"https://colab.research.google.com/assets/colab-badge.svg\" alt=\"Open In Colab\"/></a>"
      ]
    },
    {
      "cell_type": "markdown",
      "metadata": {
        "id": "5UCxclUNV30h"
      },
      "source": [
        "# Árboles de decisión\n",
        "\n",
        "Los árboles de decisión son algoritmos versátiles y potentes. \n",
        "- Se pueden utilizar para problemas de clasificación, regresión u otros\n",
        "- No requiere escalar las variables de ingreso\n",
        "- Alta interpretabilidad\n",
        "- Forman la base del algoritmo Random Forest que veremos hoy\n",
        "\n",
        "Realizaremos los dos tipos de árboles conocidos como `DecisionTreeRegressor` y `DecisionTreeClassifier`."
      ]
    },
    {
      "cell_type": "code",
      "metadata": {
        "id": "sRtcomFQfdLY"
      },
      "source": [
        "#librerias base\n",
        "import numpy as np\n",
        "import pandas as pd\n",
        "import matplotlib.pyplot as plt\n",
        "import seaborn as sns\n",
        "\n",
        "#librerias de modelacion y metricas\n",
        "from sklearn.model_selection import GridSearchCV #haremos grillas de hiperparametros con validacion cruzada\n",
        "from sklearn.tree import DecisionTreeRegressor # tree REGRESOR\n",
        "from sklearn.tree import DecisionTreeClassifier, plot_tree# tree CLASSIFIER\n",
        "from sklearn.model_selection import train_test_split, cross_val_score #modelacion y evaluacion de CV\n",
        "from sklearn.metrics import mean_squared_error, median_absolute_error,r2_score #metricas de evaluacion\n",
        "\n",
        "#librerias \n",
        "import warnings\n",
        "warnings.filterwarnings(\"ignore\")"
      ],
      "execution_count": 1,
      "outputs": []
    },
    {
      "cell_type": "markdown",
      "metadata": {
        "id": "EcWSz_AQfdLZ"
      },
      "source": [
        "Trabajaremos con un set de datos sobre los precios de inmuebles en la ciudad de Ames, Iowa. La base se compone de 2930 registros y contiene un gran número de atributos. Nuestro objetivo es generar un modelo que prediga de forma adecuada los precios de inmuebles, medidos con la variable `Sale_Price` (variable numérica)."
      ]
    },
    {
      "cell_type": "code",
      "metadata": {
        "id": "aV2s49TyfdLa"
      },
      "source": [
        "df = pd.read_csv(\"https://storage.googleapis.com/diplomado-data-science-uc-python/python/06-Arboles-Bosques/data/ames_housing.csv\", \n",
        "                 index_col=0)"
      ],
      "execution_count": 3,
      "outputs": []
    },
    {
      "cell_type": "code",
      "metadata": {
        "id": "O_DcyLd9fdLa",
        "outputId": "fdca0244-63cc-4398-f5ac-c24ccb0c16fd",
        "colab": {
          "base_uri": "https://localhost:8080/",
          "height": 161
        }
      },
      "source": [
        "df.head(2)"
      ],
      "execution_count": 4,
      "outputs": [
        {
          "output_type": "execute_result",
          "data": {
            "text/html": [
              "<div>\n",
              "<style scoped>\n",
              "    .dataframe tbody tr th:only-of-type {\n",
              "        vertical-align: middle;\n",
              "    }\n",
              "\n",
              "    .dataframe tbody tr th {\n",
              "        vertical-align: top;\n",
              "    }\n",
              "\n",
              "    .dataframe thead th {\n",
              "        text-align: right;\n",
              "    }\n",
              "</style>\n",
              "<table border=\"1\" class=\"dataframe\">\n",
              "  <thead>\n",
              "    <tr style=\"text-align: right;\">\n",
              "      <th></th>\n",
              "      <th>MS_SubClass</th>\n",
              "      <th>MS_Zoning</th>\n",
              "      <th>Lot_Frontage</th>\n",
              "      <th>Lot_Area</th>\n",
              "      <th>Street</th>\n",
              "      <th>Alley</th>\n",
              "      <th>Lot_Shape</th>\n",
              "      <th>Land_Contour</th>\n",
              "      <th>Utilities</th>\n",
              "      <th>Lot_Config</th>\n",
              "      <th>Land_Slope</th>\n",
              "      <th>Neighborhood</th>\n",
              "      <th>Condition_1</th>\n",
              "      <th>Condition_2</th>\n",
              "      <th>Bldg_Type</th>\n",
              "      <th>House_Style</th>\n",
              "      <th>Overall_Qual</th>\n",
              "      <th>Overall_Cond</th>\n",
              "      <th>Year_Built</th>\n",
              "      <th>Year_Remod_Add</th>\n",
              "      <th>Roof_Style</th>\n",
              "      <th>Roof_Matl</th>\n",
              "      <th>Exterior_1st</th>\n",
              "      <th>Exterior_2nd</th>\n",
              "      <th>Mas_Vnr_Type</th>\n",
              "      <th>Mas_Vnr_Area</th>\n",
              "      <th>Exter_Qual</th>\n",
              "      <th>Exter_Cond</th>\n",
              "      <th>Foundation</th>\n",
              "      <th>Bsmt_Qual</th>\n",
              "      <th>Bsmt_Cond</th>\n",
              "      <th>Bsmt_Exposure</th>\n",
              "      <th>BsmtFin_Type_1</th>\n",
              "      <th>BsmtFin_SF_1</th>\n",
              "      <th>BsmtFin_Type_2</th>\n",
              "      <th>BsmtFin_SF_2</th>\n",
              "      <th>Bsmt_Unf_SF</th>\n",
              "      <th>Total_Bsmt_SF</th>\n",
              "      <th>Heating</th>\n",
              "      <th>Heating_QC</th>\n",
              "      <th>...</th>\n",
              "      <th>Electrical</th>\n",
              "      <th>First_Flr_SF</th>\n",
              "      <th>Second_Flr_SF</th>\n",
              "      <th>Low_Qual_Fin_SF</th>\n",
              "      <th>Gr_Liv_Area</th>\n",
              "      <th>Bsmt_Full_Bath</th>\n",
              "      <th>Bsmt_Half_Bath</th>\n",
              "      <th>Full_Bath</th>\n",
              "      <th>Half_Bath</th>\n",
              "      <th>Bedroom_AbvGr</th>\n",
              "      <th>Kitchen_AbvGr</th>\n",
              "      <th>Kitchen_Qual</th>\n",
              "      <th>TotRms_AbvGrd</th>\n",
              "      <th>Functional</th>\n",
              "      <th>Fireplaces</th>\n",
              "      <th>Fireplace_Qu</th>\n",
              "      <th>Garage_Type</th>\n",
              "      <th>Garage_Finish</th>\n",
              "      <th>Garage_Cars</th>\n",
              "      <th>Garage_Area</th>\n",
              "      <th>Garage_Qual</th>\n",
              "      <th>Garage_Cond</th>\n",
              "      <th>Paved_Drive</th>\n",
              "      <th>Wood_Deck_SF</th>\n",
              "      <th>Open_Porch_SF</th>\n",
              "      <th>Enclosed_Porch</th>\n",
              "      <th>Three_season_porch</th>\n",
              "      <th>Screen_Porch</th>\n",
              "      <th>Pool_Area</th>\n",
              "      <th>Pool_QC</th>\n",
              "      <th>Fence</th>\n",
              "      <th>Misc_Feature</th>\n",
              "      <th>Misc_Val</th>\n",
              "      <th>Mo_Sold</th>\n",
              "      <th>Year_Sold</th>\n",
              "      <th>Sale_Type</th>\n",
              "      <th>Sale_Condition</th>\n",
              "      <th>Sale_Price</th>\n",
              "      <th>Longitude</th>\n",
              "      <th>Latitude</th>\n",
              "    </tr>\n",
              "  </thead>\n",
              "  <tbody>\n",
              "    <tr>\n",
              "      <th>1</th>\n",
              "      <td>One_Story_1946_and_Newer_All_Styles</td>\n",
              "      <td>Residential_Low_Density</td>\n",
              "      <td>141</td>\n",
              "      <td>31770</td>\n",
              "      <td>Pave</td>\n",
              "      <td>No_Alley_Access</td>\n",
              "      <td>Slightly_Irregular</td>\n",
              "      <td>Lvl</td>\n",
              "      <td>AllPub</td>\n",
              "      <td>Corner</td>\n",
              "      <td>Gtl</td>\n",
              "      <td>North_Ames</td>\n",
              "      <td>Norm</td>\n",
              "      <td>Norm</td>\n",
              "      <td>OneFam</td>\n",
              "      <td>One_Story</td>\n",
              "      <td>Above_Average</td>\n",
              "      <td>Average</td>\n",
              "      <td>1960</td>\n",
              "      <td>1960</td>\n",
              "      <td>Hip</td>\n",
              "      <td>CompShg</td>\n",
              "      <td>BrkFace</td>\n",
              "      <td>Plywood</td>\n",
              "      <td>Stone</td>\n",
              "      <td>112</td>\n",
              "      <td>Typical</td>\n",
              "      <td>Typical</td>\n",
              "      <td>CBlock</td>\n",
              "      <td>Typical</td>\n",
              "      <td>Good</td>\n",
              "      <td>Gd</td>\n",
              "      <td>BLQ</td>\n",
              "      <td>2</td>\n",
              "      <td>Unf</td>\n",
              "      <td>0</td>\n",
              "      <td>441</td>\n",
              "      <td>1080</td>\n",
              "      <td>GasA</td>\n",
              "      <td>Fair</td>\n",
              "      <td>...</td>\n",
              "      <td>SBrkr</td>\n",
              "      <td>1656</td>\n",
              "      <td>0</td>\n",
              "      <td>0</td>\n",
              "      <td>1656</td>\n",
              "      <td>1</td>\n",
              "      <td>0</td>\n",
              "      <td>1</td>\n",
              "      <td>0</td>\n",
              "      <td>3</td>\n",
              "      <td>1</td>\n",
              "      <td>Typical</td>\n",
              "      <td>7</td>\n",
              "      <td>Typ</td>\n",
              "      <td>2</td>\n",
              "      <td>Good</td>\n",
              "      <td>Attchd</td>\n",
              "      <td>Fin</td>\n",
              "      <td>2</td>\n",
              "      <td>528</td>\n",
              "      <td>Typical</td>\n",
              "      <td>Typical</td>\n",
              "      <td>Partial_Pavement</td>\n",
              "      <td>210</td>\n",
              "      <td>62</td>\n",
              "      <td>0</td>\n",
              "      <td>0</td>\n",
              "      <td>0</td>\n",
              "      <td>0</td>\n",
              "      <td>No_Pool</td>\n",
              "      <td>No_Fence</td>\n",
              "      <td>None</td>\n",
              "      <td>0</td>\n",
              "      <td>5</td>\n",
              "      <td>2010</td>\n",
              "      <td>WD</td>\n",
              "      <td>Normal</td>\n",
              "      <td>215000</td>\n",
              "      <td>-93.619754</td>\n",
              "      <td>42.054035</td>\n",
              "    </tr>\n",
              "    <tr>\n",
              "      <th>2</th>\n",
              "      <td>One_Story_1946_and_Newer_All_Styles</td>\n",
              "      <td>Residential_High_Density</td>\n",
              "      <td>80</td>\n",
              "      <td>11622</td>\n",
              "      <td>Pave</td>\n",
              "      <td>No_Alley_Access</td>\n",
              "      <td>Regular</td>\n",
              "      <td>Lvl</td>\n",
              "      <td>AllPub</td>\n",
              "      <td>Inside</td>\n",
              "      <td>Gtl</td>\n",
              "      <td>North_Ames</td>\n",
              "      <td>Feedr</td>\n",
              "      <td>Norm</td>\n",
              "      <td>OneFam</td>\n",
              "      <td>One_Story</td>\n",
              "      <td>Average</td>\n",
              "      <td>Above_Average</td>\n",
              "      <td>1961</td>\n",
              "      <td>1961</td>\n",
              "      <td>Gable</td>\n",
              "      <td>CompShg</td>\n",
              "      <td>VinylSd</td>\n",
              "      <td>VinylSd</td>\n",
              "      <td>None</td>\n",
              "      <td>0</td>\n",
              "      <td>Typical</td>\n",
              "      <td>Typical</td>\n",
              "      <td>CBlock</td>\n",
              "      <td>Typical</td>\n",
              "      <td>Typical</td>\n",
              "      <td>No</td>\n",
              "      <td>Rec</td>\n",
              "      <td>6</td>\n",
              "      <td>LwQ</td>\n",
              "      <td>144</td>\n",
              "      <td>270</td>\n",
              "      <td>882</td>\n",
              "      <td>GasA</td>\n",
              "      <td>Typical</td>\n",
              "      <td>...</td>\n",
              "      <td>SBrkr</td>\n",
              "      <td>896</td>\n",
              "      <td>0</td>\n",
              "      <td>0</td>\n",
              "      <td>896</td>\n",
              "      <td>0</td>\n",
              "      <td>0</td>\n",
              "      <td>1</td>\n",
              "      <td>0</td>\n",
              "      <td>2</td>\n",
              "      <td>1</td>\n",
              "      <td>Typical</td>\n",
              "      <td>5</td>\n",
              "      <td>Typ</td>\n",
              "      <td>0</td>\n",
              "      <td>No_Fireplace</td>\n",
              "      <td>Attchd</td>\n",
              "      <td>Unf</td>\n",
              "      <td>1</td>\n",
              "      <td>730</td>\n",
              "      <td>Typical</td>\n",
              "      <td>Typical</td>\n",
              "      <td>Paved</td>\n",
              "      <td>140</td>\n",
              "      <td>0</td>\n",
              "      <td>0</td>\n",
              "      <td>0</td>\n",
              "      <td>120</td>\n",
              "      <td>0</td>\n",
              "      <td>No_Pool</td>\n",
              "      <td>Minimum_Privacy</td>\n",
              "      <td>None</td>\n",
              "      <td>0</td>\n",
              "      <td>6</td>\n",
              "      <td>2010</td>\n",
              "      <td>WD</td>\n",
              "      <td>Normal</td>\n",
              "      <td>105000</td>\n",
              "      <td>-93.619756</td>\n",
              "      <td>42.053014</td>\n",
              "    </tr>\n",
              "  </tbody>\n",
              "</table>\n",
              "<p>2 rows × 81 columns</p>\n",
              "</div>"
            ],
            "text/plain": [
              "                           MS_SubClass  ...   Latitude\n",
              "1  One_Story_1946_and_Newer_All_Styles  ...  42.054035\n",
              "2  One_Story_1946_and_Newer_All_Styles  ...  42.053014\n",
              "\n",
              "[2 rows x 81 columns]"
            ]
          },
          "metadata": {},
          "execution_count": 4
        }
      ]
    },
    {
      "cell_type": "markdown",
      "metadata": {
        "id": "lvd_4mzTfdLd"
      },
      "source": [
        "Luego realizaremos nuestro `Features Engineering`. Recordemos que debemos pasar nuestras variables categóricas a números y lo haremos con la técnica de one hot encoding que vimos la semana pasada. En estos casos recodificaremos con `k-1` atributos para cada variable, puesto que al recategorizar la ausencia de una variable se entiende como \"variable de referencia\", y por ello eliminaremos una de las categorias. Eliminar la categoría con mayor cantidad suele darle más estabilidad al modelo de machine learning (puede optimizar la convergencia). Sin embargo, para efectos prácticos eliminaremos simplemente la primera categoría.\n",
        "\n",
        "Nota: No olvidemos que al crear una recategorización de la variable, debemos eliminar la variable original para evitar la multicolonealidad."
      ]
    },
    {
      "cell_type": "code",
      "metadata": {
        "id": "J83QoGb-fdLe"
      },
      "source": [
        "a=[]\n",
        "for i,j in enumerate(df):\n",
        "    if df[j].dtype=='object':\n",
        "        a.append(j)\n",
        "df2 = pd.get_dummies(df, columns=a, prefix=a,drop_first=True)"
      ],
      "execution_count": 5,
      "outputs": []
    },
    {
      "cell_type": "code",
      "metadata": {
        "id": "6LUZPEnQfdLe",
        "outputId": "da0682e5-8d22-4b77-b281-4f75040c7b59"
      },
      "source": [
        "df2.head(2)"
      ],
      "execution_count": null,
      "outputs": [
        {
          "data": {
            "text/html": [
              "<div>\n",
              "<style scoped>\n",
              "    .dataframe tbody tr th:only-of-type {\n",
              "        vertical-align: middle;\n",
              "    }\n",
              "\n",
              "    .dataframe tbody tr th {\n",
              "        vertical-align: top;\n",
              "    }\n",
              "\n",
              "    .dataframe thead th {\n",
              "        text-align: right;\n",
              "    }\n",
              "</style>\n",
              "<table border=\"1\" class=\"dataframe\">\n",
              "  <thead>\n",
              "    <tr style=\"text-align: right;\">\n",
              "      <th></th>\n",
              "      <th>Lot_Frontage</th>\n",
              "      <th>Lot_Area</th>\n",
              "      <th>Year_Built</th>\n",
              "      <th>Year_Remod_Add</th>\n",
              "      <th>Mas_Vnr_Area</th>\n",
              "      <th>BsmtFin_SF_1</th>\n",
              "      <th>BsmtFin_SF_2</th>\n",
              "      <th>Bsmt_Unf_SF</th>\n",
              "      <th>Total_Bsmt_SF</th>\n",
              "      <th>First_Flr_SF</th>\n",
              "      <th>...</th>\n",
              "      <th>Sale_Type_ConLw</th>\n",
              "      <th>Sale_Type_New</th>\n",
              "      <th>Sale_Type_Oth</th>\n",
              "      <th>Sale_Type_VWD</th>\n",
              "      <th>Sale_Type_WD</th>\n",
              "      <th>Sale_Condition_AdjLand</th>\n",
              "      <th>Sale_Condition_Alloca</th>\n",
              "      <th>Sale_Condition_Family</th>\n",
              "      <th>Sale_Condition_Normal</th>\n",
              "      <th>Sale_Condition_Partial</th>\n",
              "    </tr>\n",
              "  </thead>\n",
              "  <tbody>\n",
              "    <tr>\n",
              "      <th>0</th>\n",
              "      <td>141</td>\n",
              "      <td>31770</td>\n",
              "      <td>1960</td>\n",
              "      <td>1960</td>\n",
              "      <td>112</td>\n",
              "      <td>2</td>\n",
              "      <td>0</td>\n",
              "      <td>441</td>\n",
              "      <td>1080</td>\n",
              "      <td>1656</td>\n",
              "      <td>...</td>\n",
              "      <td>0</td>\n",
              "      <td>0</td>\n",
              "      <td>0</td>\n",
              "      <td>0</td>\n",
              "      <td>1</td>\n",
              "      <td>0</td>\n",
              "      <td>0</td>\n",
              "      <td>0</td>\n",
              "      <td>1</td>\n",
              "      <td>0</td>\n",
              "    </tr>\n",
              "    <tr>\n",
              "      <th>1</th>\n",
              "      <td>80</td>\n",
              "      <td>11622</td>\n",
              "      <td>1961</td>\n",
              "      <td>1961</td>\n",
              "      <td>0</td>\n",
              "      <td>6</td>\n",
              "      <td>144</td>\n",
              "      <td>270</td>\n",
              "      <td>882</td>\n",
              "      <td>896</td>\n",
              "      <td>...</td>\n",
              "      <td>0</td>\n",
              "      <td>0</td>\n",
              "      <td>0</td>\n",
              "      <td>0</td>\n",
              "      <td>1</td>\n",
              "      <td>0</td>\n",
              "      <td>0</td>\n",
              "      <td>0</td>\n",
              "      <td>1</td>\n",
              "      <td>0</td>\n",
              "    </tr>\n",
              "  </tbody>\n",
              "</table>\n",
              "<p>2 rows × 307 columns</p>\n",
              "</div>"
            ],
            "text/plain": [
              "   Lot_Frontage  Lot_Area  Year_Built  Year_Remod_Add  Mas_Vnr_Area  \\\n",
              "0           141     31770        1960            1960           112   \n",
              "1            80     11622        1961            1961             0   \n",
              "\n",
              "   BsmtFin_SF_1  BsmtFin_SF_2  Bsmt_Unf_SF  Total_Bsmt_SF  First_Flr_SF  ...  \\\n",
              "0             2             0          441           1080          1656  ...   \n",
              "1             6           144          270            882           896  ...   \n",
              "\n",
              "   Sale_Type_ConLw  Sale_Type_New  Sale_Type_Oth  Sale_Type_VWD  \\\n",
              "0                0              0              0              0   \n",
              "1                0              0              0              0   \n",
              "\n",
              "   Sale_Type_WD   Sale_Condition_AdjLand  Sale_Condition_Alloca  \\\n",
              "0              1                       0                      0   \n",
              "1              1                       0                      0   \n",
              "\n",
              "   Sale_Condition_Family  Sale_Condition_Normal  Sale_Condition_Partial  \n",
              "0                      0                      1                       0  \n",
              "1                      0                      1                       0  \n",
              "\n",
              "[2 rows x 307 columns]"
            ]
          },
          "execution_count": 5,
          "metadata": {},
          "output_type": "execute_result"
        }
      ]
    },
    {
      "cell_type": "markdown",
      "metadata": {
        "id": "uAnN26twfdLg"
      },
      "source": [
        "observemos que la primera cateogria (columna) ahora es MS_SubClass_ concatenado a las categorias de dicha variable:"
      ]
    },
    {
      "cell_type": "code",
      "metadata": {
        "id": "xtfoIdUJfdLg",
        "outputId": "12bf2a40-cdc0-40e0-c13c-4b386a2a7217",
        "colab": {
          "base_uri": "https://localhost:8080/"
        }
      },
      "source": [
        "df.MS_SubClass.value_counts()"
      ],
      "execution_count": 6,
      "outputs": [
        {
          "output_type": "execute_result",
          "data": {
            "text/plain": [
              "One_Story_1946_and_Newer_All_Styles          1079\n",
              "Two_Story_1946_and_Newer                      575\n",
              "One_and_Half_Story_Finished_All_Ages          287\n",
              "One_Story_PUD_1946_and_Newer                  192\n",
              "One_Story_1945_and_Older                      139\n",
              "Two_Story_PUD_1946_and_Newer                  129\n",
              "Two_Story_1945_and_Older                      128\n",
              "Split_or_Multilevel                           118\n",
              "Duplex_All_Styles_and_Ages                    109\n",
              "Two_Family_conversion_All_Styles_and_Ages      61\n",
              "Split_Foyer                                    48\n",
              "Two_and_Half_Story_All_Ages                    23\n",
              "One_and_Half_Story_Unfinished_All_Ages         18\n",
              "PUD_Multilevel_Split_Level_Foyer               17\n",
              "One_Story_with_Finished_Attic_All_Ages          6\n",
              "One_and_Half_Story_PUD_All_Ages                 1\n",
              "Name: MS_SubClass, dtype: int64"
            ]
          },
          "metadata": {},
          "execution_count": 6
        }
      ]
    },
    {
      "cell_type": "code",
      "metadata": {
        "id": "PP-FoplLfdLh",
        "outputId": "324bb1d6-8883-4dea-f644-2c77a8a7648e",
        "colab": {
          "base_uri": "https://localhost:8080/"
        }
      },
      "source": [
        "df2.MS_SubClass_One_Story_1946_and_Newer_All_Styles"
      ],
      "execution_count": 7,
      "outputs": [
        {
          "output_type": "execute_result",
          "data": {
            "text/plain": [
              "1       1\n",
              "2       1\n",
              "3       1\n",
              "4       1\n",
              "5       0\n",
              "       ..\n",
              "2926    0\n",
              "2927    1\n",
              "2928    0\n",
              "2929    1\n",
              "2930    0\n",
              "Name: MS_SubClass_One_Story_1946_and_Newer_All_Styles, Length: 2930, dtype: uint8"
            ]
          },
          "metadata": {},
          "execution_count": 7
        }
      ]
    },
    {
      "cell_type": "markdown",
      "metadata": {
        "id": "TYj6tW2gfdLm"
      },
      "source": [
        "y la variable, `df2.MS_SubClass_Duplex_All_Styles_and_Ages` no existe pues por abecedario es la primera por lo tanto se le hizo el drop"
      ]
    },
    {
      "cell_type": "markdown",
      "metadata": {
        "id": "kwkuW3GwfdLm"
      },
      "source": [
        "Luego calcularemos nuestro modelo de regresión y veremos sus métricas"
      ]
    },
    {
      "cell_type": "code",
      "metadata": {
        "id": "v8P6FvWofdLn"
      },
      "source": [
        "X_train, X_test, y_train, y_test = train_test_split(df2.drop('Sale_Price',axis=1),\n",
        "                                                    df2['Sale_Price'],test_size= .33 ,random_state= 65 )"
      ],
      "execution_count": 8,
      "outputs": []
    },
    {
      "cell_type": "code",
      "metadata": {
        "id": "IPol9AR6fdLn"
      },
      "source": [
        "dec_tree = DecisionTreeRegressor().fit(X_train, y_train)"
      ],
      "execution_count": 9,
      "outputs": []
    },
    {
      "cell_type": "code",
      "metadata": {
        "id": "oYtCu7vpfdLo",
        "outputId": "5cfe30cf-0d3d-435a-f36a-7f6676e312ba",
        "colab": {
          "base_uri": "https://localhost:8080/"
        }
      },
      "source": [
        "print( \"Test MSE:\" , mean_squared_error(y_test,dec_tree.predict(X_test)).round( 5 ))\n",
        "print( \"Test MAE:\" , median_absolute_error(y_test,dec_tree.predict(X_test)).round( 5 ))\n",
        "print( \"Test R2:\" , r2_score(y_test, dec_tree.predict(X_test)).round( 5 ))"
      ],
      "execution_count": 10,
      "outputs": [
        {
          "output_type": "stream",
          "text": [
            "Test MSE: 1558587890.7394\n",
            "Test MAE: 16800.0\n",
            "Test R2: 0.76641\n"
          ],
          "name": "stdout"
        }
      ]
    },
    {
      "cell_type": "markdown",
      "metadata": {
        "id": "LZcfNLZ0fdLo"
      },
      "source": [
        "Si bien nuestras métricas son aceptables, no estamos tomando en cuenta un elemento muy importante: el *principio de parsimonia*. Lo que se busca es obtener la mayor cantidad de información posible, con la menor cantidad de atributos posibles. Este \"tira y afloja\" se puede optimizar viendo que variables son las que realmente aportan información al modelo, y cuales no. Para eso calcularemos la `importancia relativa` de cada uno de nuestros atributos, y rescataremos los que más aportan información. Esto lo realizaremos con la función `.feature_importances_` de un modelo \"fiteado\":"
      ]
    },
    {
      "cell_type": "code",
      "metadata": {
        "id": "oV1W3GiZfdLp"
      },
      "source": [
        "importancia = dec_tree.feature_importances_ #nos da el valor proporcional de la importancia de cada columna\n",
        "importancia_orden = np.argsort(importancia)[::-1] #nos permite obtener el indice al que pertenece cada feature\n",
        "nombres = [df2.drop('Sale_Price',axis=1).columns[i] for i in importancia_orden] #rescatamos el nombre de las features \n",
        "                                                                                #ordenadas por importancia"
      ],
      "execution_count": 11,
      "outputs": []
    },
    {
      "cell_type": "code",
      "metadata": {
        "id": "miq-QPtcfdLp",
        "outputId": "13af889b-2536-40f6-cf5e-c7c96fbaf1cd",
        "colab": {
          "base_uri": "https://localhost:8080/",
          "height": 363
        }
      },
      "source": [
        "aux = pd.DataFrame({'importancia':importancia[importancia_orden], 'atributo':nombres})\n",
        "aux.head(10)"
      ],
      "execution_count": 12,
      "outputs": [
        {
          "output_type": "execute_result",
          "data": {
            "text/html": [
              "<div>\n",
              "<style scoped>\n",
              "    .dataframe tbody tr th:only-of-type {\n",
              "        vertical-align: middle;\n",
              "    }\n",
              "\n",
              "    .dataframe tbody tr th {\n",
              "        vertical-align: top;\n",
              "    }\n",
              "\n",
              "    .dataframe thead th {\n",
              "        text-align: right;\n",
              "    }\n",
              "</style>\n",
              "<table border=\"1\" class=\"dataframe\">\n",
              "  <thead>\n",
              "    <tr style=\"text-align: right;\">\n",
              "      <th></th>\n",
              "      <th>importancia</th>\n",
              "      <th>atributo</th>\n",
              "    </tr>\n",
              "  </thead>\n",
              "  <tbody>\n",
              "    <tr>\n",
              "      <th>0</th>\n",
              "      <td>0.360478</td>\n",
              "      <td>Garage_Cars</td>\n",
              "    </tr>\n",
              "    <tr>\n",
              "      <th>1</th>\n",
              "      <td>0.202857</td>\n",
              "      <td>Gr_Liv_Area</td>\n",
              "    </tr>\n",
              "    <tr>\n",
              "      <th>2</th>\n",
              "      <td>0.074713</td>\n",
              "      <td>Year_Built</td>\n",
              "    </tr>\n",
              "    <tr>\n",
              "      <th>3</th>\n",
              "      <td>0.056326</td>\n",
              "      <td>First_Flr_SF</td>\n",
              "    </tr>\n",
              "    <tr>\n",
              "      <th>4</th>\n",
              "      <td>0.048835</td>\n",
              "      <td>Exter_Qual_Typical</td>\n",
              "    </tr>\n",
              "    <tr>\n",
              "      <th>5</th>\n",
              "      <td>0.044582</td>\n",
              "      <td>Total_Bsmt_SF</td>\n",
              "    </tr>\n",
              "    <tr>\n",
              "      <th>6</th>\n",
              "      <td>0.025490</td>\n",
              "      <td>Second_Flr_SF</td>\n",
              "    </tr>\n",
              "    <tr>\n",
              "      <th>7</th>\n",
              "      <td>0.020966</td>\n",
              "      <td>Lot_Area</td>\n",
              "    </tr>\n",
              "    <tr>\n",
              "      <th>8</th>\n",
              "      <td>0.016171</td>\n",
              "      <td>Bsmt_Qual_Good</td>\n",
              "    </tr>\n",
              "    <tr>\n",
              "      <th>9</th>\n",
              "      <td>0.012703</td>\n",
              "      <td>Longitude</td>\n",
              "    </tr>\n",
              "  </tbody>\n",
              "</table>\n",
              "</div>"
            ],
            "text/plain": [
              "   importancia            atributo\n",
              "0     0.360478         Garage_Cars\n",
              "1     0.202857         Gr_Liv_Area\n",
              "2     0.074713          Year_Built\n",
              "3     0.056326        First_Flr_SF\n",
              "4     0.048835  Exter_Qual_Typical\n",
              "5     0.044582       Total_Bsmt_SF\n",
              "6     0.025490       Second_Flr_SF\n",
              "7     0.020966            Lot_Area\n",
              "8     0.016171      Bsmt_Qual_Good\n",
              "9     0.012703           Longitude"
            ]
          },
          "metadata": {},
          "execution_count": 12
        }
      ]
    },
    {
      "cell_type": "code",
      "metadata": {
        "id": "yq0iW3G5fdLq",
        "outputId": "7c4d63fe-0f9a-4618-9312-d12e4b868207",
        "colab": {
          "base_uri": "https://localhost:8080/"
        }
      },
      "source": [
        "sum(aux.importancia[0:10])\n",
        "#notemos que con las primeras 10 variables ya tenemos una alta variabilidad explicada por el modelo\n",
        "#lo cual evidencia que no necesitamos los 307 atributos"
      ],
      "execution_count": 13,
      "outputs": [
        {
          "output_type": "execute_result",
          "data": {
            "text/plain": [
              "0.863122109477038"
            ]
          },
          "metadata": {},
          "execution_count": 13
        }
      ]
    },
    {
      "cell_type": "code",
      "metadata": {
        "id": "s8M9wZJ5fdLr"
      },
      "source": [
        "top10= [df2.drop('Sale_Price',axis=1).columns[i] for i in  np.argsort(dec_tree.feature_importances_)[::-1]][0:10]"
      ],
      "execution_count": 14,
      "outputs": []
    },
    {
      "cell_type": "code",
      "metadata": {
        "id": "3VHuIYppfdLr"
      },
      "source": [
        "top10.append('Sale_Price') #le agregamos nuestro vector objetivo"
      ],
      "execution_count": 15,
      "outputs": []
    },
    {
      "cell_type": "code",
      "metadata": {
        "id": "8Y7nJ9vlfdLr"
      },
      "source": [
        "# generamos un nuevo df que usaremos para entrenar\n",
        "df_top10 = df2.filter(top10)"
      ],
      "execution_count": 16,
      "outputs": []
    },
    {
      "cell_type": "code",
      "metadata": {
        "id": "DkeRrreCfdLr",
        "outputId": "1ffd7c0f-a37d-4994-f3e4-e2ed976ed345",
        "colab": {
          "base_uri": "https://localhost:8080/",
          "height": 132
        }
      },
      "source": [
        "df_top10.head(2)"
      ],
      "execution_count": 17,
      "outputs": [
        {
          "output_type": "execute_result",
          "data": {
            "text/html": [
              "<div>\n",
              "<style scoped>\n",
              "    .dataframe tbody tr th:only-of-type {\n",
              "        vertical-align: middle;\n",
              "    }\n",
              "\n",
              "    .dataframe tbody tr th {\n",
              "        vertical-align: top;\n",
              "    }\n",
              "\n",
              "    .dataframe thead th {\n",
              "        text-align: right;\n",
              "    }\n",
              "</style>\n",
              "<table border=\"1\" class=\"dataframe\">\n",
              "  <thead>\n",
              "    <tr style=\"text-align: right;\">\n",
              "      <th></th>\n",
              "      <th>Garage_Cars</th>\n",
              "      <th>Gr_Liv_Area</th>\n",
              "      <th>Year_Built</th>\n",
              "      <th>First_Flr_SF</th>\n",
              "      <th>Exter_Qual_Typical</th>\n",
              "      <th>Total_Bsmt_SF</th>\n",
              "      <th>Second_Flr_SF</th>\n",
              "      <th>Lot_Area</th>\n",
              "      <th>Bsmt_Qual_Good</th>\n",
              "      <th>Longitude</th>\n",
              "      <th>Sale_Price</th>\n",
              "    </tr>\n",
              "  </thead>\n",
              "  <tbody>\n",
              "    <tr>\n",
              "      <th>1</th>\n",
              "      <td>2</td>\n",
              "      <td>1656</td>\n",
              "      <td>1960</td>\n",
              "      <td>1656</td>\n",
              "      <td>1</td>\n",
              "      <td>1080</td>\n",
              "      <td>0</td>\n",
              "      <td>31770</td>\n",
              "      <td>0</td>\n",
              "      <td>-93.619754</td>\n",
              "      <td>215000</td>\n",
              "    </tr>\n",
              "    <tr>\n",
              "      <th>2</th>\n",
              "      <td>1</td>\n",
              "      <td>896</td>\n",
              "      <td>1961</td>\n",
              "      <td>896</td>\n",
              "      <td>1</td>\n",
              "      <td>882</td>\n",
              "      <td>0</td>\n",
              "      <td>11622</td>\n",
              "      <td>0</td>\n",
              "      <td>-93.619756</td>\n",
              "      <td>105000</td>\n",
              "    </tr>\n",
              "  </tbody>\n",
              "</table>\n",
              "</div>"
            ],
            "text/plain": [
              "   Garage_Cars  Gr_Liv_Area  Year_Built  ...  Bsmt_Qual_Good  Longitude  Sale_Price\n",
              "1            2         1656        1960  ...               0 -93.619754      215000\n",
              "2            1          896        1961  ...               0 -93.619756      105000\n",
              "\n",
              "[2 rows x 11 columns]"
            ]
          },
          "metadata": {},
          "execution_count": 17
        }
      ]
    },
    {
      "cell_type": "markdown",
      "metadata": {
        "id": "trf8jUrqfdLr"
      },
      "source": [
        "Ahora es un buen momento para volver a entrenar, pero realizaremos validación cruzada para una búsqueda de hiperparámetros óptimos. Para esto le entregamos posibles valores de hiperparametros como diccionario e iteramos el proceso"
      ]
    },
    {
      "cell_type": "code",
      "metadata": {
        "id": "L-B53tJ8fdLs"
      },
      "source": [
        "X_train, X_test, y_train, y_test = train_test_split(df_top10.drop('Sale_Price',axis=1),\n",
        "                                                    df_top10['Sale_Price'],test_size= .33 ,random_state= 60 )"
      ],
      "execution_count": null,
      "outputs": []
    },
    {
      "cell_type": "code",
      "metadata": {
        "id": "sbkx_nOafdLs",
        "outputId": "713e508e-281d-4233-bc8b-990e60ae74fd"
      },
      "source": [
        "%time\n",
        "dec_tree_grid_cv = GridSearchCV(DecisionTreeRegressor(),\n",
        "# evaluamos los siguientes escenarios\n",
        "{\n",
        "# con una profundidad de ramas hasta 32\n",
        "'max_depth' : np.linspace( 1 , 32 , 32 ),\n",
        "\n",
        "# evaluando todos los atributos en la matriz\n",
        "'max_features' : list(range( 1 ,X_train.shape[ 1 ]))},\n",
        "# Con 5 validaciones cruzadas\n",
        "cv= 5 ,\n",
        "# Ocupando todos los núcleos del computador\n",
        "n_jobs= -1 ).fit(X_train, y_train)"
      ],
      "execution_count": null,
      "outputs": [
        {
          "name": "stdout",
          "output_type": "stream",
          "text": [
            "Wall time: 0 ns\n"
          ]
        }
      ]
    },
    {
      "cell_type": "code",
      "metadata": {
        "id": "Q7bPsb4nfdLs",
        "outputId": "08d3d5fc-a02e-4556-94c5-82a7f68b4e76"
      },
      "source": [
        "print( \"Test MSE:\" , mean_squared_error(y_test,dec_tree_grid_cv.predict(X_test)).round( 5 ))\n",
        "print( \"Test MAE:\" , median_absolute_error(y_test,dec_tree_grid_cv.predict(X_test)).round( 5 ))\n",
        "print( \"Test R2:\" , r2_score(y_test, dec_tree_grid_cv.predict(X_test)).round( 5 ))"
      ],
      "execution_count": null,
      "outputs": [
        {
          "name": "stdout",
          "output_type": "stream",
          "text": [
            "Test MSE: 1858605278.51428\n",
            "Test MAE: 20338.71028\n",
            "Test R2: 0.7211\n"
          ]
        }
      ]
    },
    {
      "cell_type": "markdown",
      "metadata": {
        "id": "cVtxlg60fdLt"
      },
      "source": [
        "Como podemos observar, las métricas son levemente peores, pero a costa de reducir 297 atributos, pues pasámos de 307 variables a 10.\n",
        "\n",
        "También es posible saber cuales fueron los hiperparámetros leccionados con `modelo.best_params_`"
      ]
    },
    {
      "cell_type": "code",
      "metadata": {
        "id": "TPXVGB4vfdLt",
        "outputId": "0f114932-6437-4641-975b-6bdfcb65a675"
      },
      "source": [
        "dec_tree_grid_cv.best_params_"
      ],
      "execution_count": null,
      "outputs": [
        {
          "data": {
            "text/plain": [
              "{'max_depth': 5.0, 'max_features': 8}"
            ]
          },
          "execution_count": 21,
          "metadata": {},
          "output_type": "execute_result"
        }
      ]
    },
    {
      "cell_type": "markdown",
      "metadata": {
        "id": "72-7RIe2fdLu"
      },
      "source": [
        "Nota: a pesar de que le dimos 10 atributos al modelo, solo fueron necesarias 8.\n",
        "\n",
        "A continuación veremos un `DecisionTreeClassifier`, cuya idea es la misma, pero ahora nos enfocaremos en un vector objetivo de clasificación. Para simplicidad utilizaremos los datos de prueba clásicos llamados *iris*. Este es un set con 4 atributos numericas y una quinta columna de categorías 1, 2 y 3 (las cuales son 'setosa', 'versicolor' y 'virginica')"
      ]
    },
    {
      "cell_type": "code",
      "metadata": {
        "id": "36PPS0DNfdLu",
        "outputId": "5eca4e2d-bcb9-4614-98e0-4d964e909fd3",
        "colab": {
          "base_uri": "https://localhost:8080/"
        }
      },
      "source": [
        "from sklearn.datasets import load_iris\n",
        "X, y = load_iris(return_X_y=True)\n",
        "X = X[:, 2:] #solo nos quedaremos con 2 de las 4 columnas para hacerlo aún más simple, (la info del petalo)\n",
        "\n",
        "\n",
        "y"
      ],
      "execution_count": 18,
      "outputs": [
        {
          "output_type": "execute_result",
          "data": {
            "text/plain": [
              "array([0, 0, 0, 0, 0, 0, 0, 0, 0, 0, 0, 0, 0, 0, 0, 0, 0, 0, 0, 0, 0, 0,\n",
              "       0, 0, 0, 0, 0, 0, 0, 0, 0, 0, 0, 0, 0, 0, 0, 0, 0, 0, 0, 0, 0, 0,\n",
              "       0, 0, 0, 0, 0, 0, 1, 1, 1, 1, 1, 1, 1, 1, 1, 1, 1, 1, 1, 1, 1, 1,\n",
              "       1, 1, 1, 1, 1, 1, 1, 1, 1, 1, 1, 1, 1, 1, 1, 1, 1, 1, 1, 1, 1, 1,\n",
              "       1, 1, 1, 1, 1, 1, 1, 1, 1, 1, 1, 1, 2, 2, 2, 2, 2, 2, 2, 2, 2, 2,\n",
              "       2, 2, 2, 2, 2, 2, 2, 2, 2, 2, 2, 2, 2, 2, 2, 2, 2, 2, 2, 2, 2, 2,\n",
              "       2, 2, 2, 2, 2, 2, 2, 2, 2, 2, 2, 2, 2, 2, 2, 2, 2, 2])"
            ]
          },
          "metadata": {},
          "execution_count": 18
        }
      ]
    },
    {
      "cell_type": "code",
      "metadata": {
        "id": "Qa860UrXfdLu",
        "outputId": "50e978c6-5a0e-4e51-dc57-d8dd6ebf49ca",
        "colab": {
          "base_uri": "https://localhost:8080/",
          "height": 683
        }
      },
      "source": [
        "model = DecisionTreeClassifier().fit(X, y)\n",
        "\n",
        "fig, ax = plt.subplots(figsize=(12, 12))\n",
        "plot_tree(model, \n",
        "          filled=True, \n",
        "          feature_names=['Petal lenght', 'Petal width'], \n",
        "          class_names=['setosa', 'versicolor', 'virginica']);"
      ],
      "execution_count": 19,
      "outputs": [
        {
          "output_type": "display_data",
          "data": {
            "image/png": "[encoded data removed]",
            "text/plain": [
              "<Figure size 864x864 with 1 Axes>"
            ]
          },
          "metadata": {
            "needs_background": "light"
          }
        }
      ]
    },
    {
      "cell_type": "markdown",
      "metadata": {
        "id": "JT7qMu_1cJQs"
      },
      "source": [
        "Como vimos anteriormente, podemos controlar el proceso de construcción de este arbol usando diferentes parámetros. \n",
        "- `max_depth`: Máximo numero de divisiones consecutivas que se pueden realizar\n",
        "- `min_samples_split`: Número mínimo de samples en un nodo antes de dividirlo\n",
        "- `min_samples_leaf`: Numero mínimo de samples en una nodo terminal\n",
        "- `max_leaf_nodes`: Número máximo de nodos terminales.\n",
        "\n",
        "Consideremos cómo afecta la estructura del arbol cada uno de estos parámetros y ayudemonos visualmente del gráfico"
      ]
    },
    {
      "cell_type": "code",
      "metadata": {
        "colab": {
          "base_uri": "https://localhost:8080/",
          "height": 575
        },
        "id": "BgMRtf0zCXwr",
        "outputId": "be0887d1-526a-48ca-98c2-86df4030d9f5"
      },
      "source": [
        "model = DecisionTreeClassifier(max_depth=2).fit(X, y)\n",
        "\n",
        "fig, ax = plt.subplots(figsize=(10, 10))\n",
        "plot_tree(model, \n",
        "          filled=True, \n",
        "          feature_names=['Petal lenght', 'Petal width'], \n",
        "          class_names=['setosa', 'versicolor', 'virginica']);"
      ],
      "execution_count": 20,
      "outputs": [
        {
          "output_type": "display_data",
          "data": {
            "image/png": "[encoded data removed]",
            "text/plain": [
              "<Figure size 720x720 with 1 Axes>"
            ]
          },
          "metadata": {
            "needs_background": "light"
          }
        }
      ]
    },
    {
      "cell_type": "markdown",
      "metadata": {
        "id": "JtbxatOxE2nx"
      },
      "source": [
        "## Predecir probabilidades\n",
        "\n",
        "Supongamos que tenemos una flor cuyos pétalos tienen largo 3 cm y ancho 1 cm. Usando el modelo entrenado podemos predecir el tipo de flor que es usando"
      ]
    },
    {
      "cell_type": "code",
      "metadata": {
        "colab": {
          "base_uri": "https://localhost:8080/"
        },
        "id": "u75m36ovoSto",
        "outputId": "3ff46f4f-de8e-4e43-df43-40d669a2b08a"
      },
      "source": [
        "model.predict([[3, 1]])"
      ],
      "execution_count": 21,
      "outputs": [
        {
          "output_type": "execute_result",
          "data": {
            "text/plain": [
              "array([1])"
            ]
          },
          "metadata": {},
          "execution_count": 21
        }
      ]
    },
    {
      "cell_type": "markdown",
      "metadata": {
        "id": "uK_nDnfYfdLw"
      },
      "source": [
        "Pertenece a la clase 1, que es virgínica"
      ]
    },
    {
      "cell_type": "markdown",
      "metadata": {
        "id": "OLs_I_qDfdLy"
      },
      "source": [
        "Ahora que tenemos un entendimiento de los árboles, abordaremos el concepto de **Bagging**\n",
        "\n",
        "Este método consiste en generar replicas del dataset de entrenamiento mediante la técnica de bootstrap, de esta forma podremos entrenar nuestro modelo con distintos dataset tomando como predicciones en ellos ya sea un método de votación (en el caso de clasificación) o un promedio (en caso de regresión) entre todos.\n",
        "\n",
        "La formulación de este método permite claramente generarlo para cualquier modelo, pero el modelo donde más popular se ha hecho este método es utilizandolo sobre árboles de decisión, los que se conocen como Random Forest.\n",
        "\n",
        "Comencemos haciendo bagging (BaggingRegressor) de la libreria ` sklearn.ensemble` con el el set de datos sobre los precios de inmuebles en California, pero resumido, en el archivo  `cadata.csv`"
      ]
    },
    {
      "cell_type": "code",
      "metadata": {
        "id": "WSfNhvjpfdLy",
        "outputId": "7ef5905d-94ad-4e2d-d080-f995c0d41827",
        "colab": {
          "base_uri": "https://localhost:8080/",
          "height": 206
        }
      },
      "source": [
        "df = pd.read_csv('https://storage.googleapis.com/diplomado-data-science-uc-python/python/06-Arboles-Bosques/data/cadata.csv', \n",
        "                 header = 1).drop(columns='1') #.reset_index(drop=True)\n",
        "df.head(5)"
      ],
      "execution_count": 34,
      "outputs": [
        {
          "output_type": "execute_result",
          "data": {
            "text/html": [
              "<div>\n",
              "<style scoped>\n",
              "    .dataframe tbody tr th:only-of-type {\n",
              "        vertical-align: middle;\n",
              "    }\n",
              "\n",
              "    .dataframe tbody tr th {\n",
              "        vertical-align: top;\n",
              "    }\n",
              "\n",
              "    .dataframe thead th {\n",
              "        text-align: right;\n",
              "    }\n",
              "</style>\n",
              "<table border=\"1\" class=\"dataframe\">\n",
              "  <thead>\n",
              "    <tr style=\"text-align: right;\">\n",
              "      <th></th>\n",
              "      <th>MedianHouseValue</th>\n",
              "      <th>MedianIncome</th>\n",
              "      <th>MedianHouseAge</th>\n",
              "      <th>TotalRooms</th>\n",
              "      <th>TotalBedrooms</th>\n",
              "      <th>Population</th>\n",
              "      <th>Households</th>\n",
              "      <th>Latitude</th>\n",
              "      <th>Longitude</th>\n",
              "    </tr>\n",
              "  </thead>\n",
              "  <tbody>\n",
              "    <tr>\n",
              "      <th>0</th>\n",
              "      <td>452600.0</td>\n",
              "      <td>8.3252</td>\n",
              "      <td>41.0</td>\n",
              "      <td>880.0</td>\n",
              "      <td>129.0</td>\n",
              "      <td>322.0</td>\n",
              "      <td>126.0</td>\n",
              "      <td>37.88</td>\n",
              "      <td>-122.23</td>\n",
              "    </tr>\n",
              "    <tr>\n",
              "      <th>1</th>\n",
              "      <td>358500.0</td>\n",
              "      <td>8.3014</td>\n",
              "      <td>21.0</td>\n",
              "      <td>7099.0</td>\n",
              "      <td>1106.0</td>\n",
              "      <td>2401.0</td>\n",
              "      <td>1138.0</td>\n",
              "      <td>37.86</td>\n",
              "      <td>-122.22</td>\n",
              "    </tr>\n",
              "    <tr>\n",
              "      <th>2</th>\n",
              "      <td>352100.0</td>\n",
              "      <td>7.2574</td>\n",
              "      <td>52.0</td>\n",
              "      <td>1467.0</td>\n",
              "      <td>190.0</td>\n",
              "      <td>496.0</td>\n",
              "      <td>177.0</td>\n",
              "      <td>37.85</td>\n",
              "      <td>-122.24</td>\n",
              "    </tr>\n",
              "    <tr>\n",
              "      <th>3</th>\n",
              "      <td>341300.0</td>\n",
              "      <td>5.6431</td>\n",
              "      <td>52.0</td>\n",
              "      <td>1274.0</td>\n",
              "      <td>235.0</td>\n",
              "      <td>558.0</td>\n",
              "      <td>219.0</td>\n",
              "      <td>37.85</td>\n",
              "      <td>-122.25</td>\n",
              "    </tr>\n",
              "    <tr>\n",
              "      <th>4</th>\n",
              "      <td>342200.0</td>\n",
              "      <td>3.8462</td>\n",
              "      <td>52.0</td>\n",
              "      <td>1627.0</td>\n",
              "      <td>280.0</td>\n",
              "      <td>565.0</td>\n",
              "      <td>259.0</td>\n",
              "      <td>37.85</td>\n",
              "      <td>-122.25</td>\n",
              "    </tr>\n",
              "  </tbody>\n",
              "</table>\n",
              "</div>"
            ],
            "text/plain": [
              "   MedianHouseValue  MedianIncome  ...  Latitude  Longitude\n",
              "0          452600.0        8.3252  ...     37.88    -122.23\n",
              "1          358500.0        8.3014  ...     37.86    -122.22\n",
              "2          352100.0        7.2574  ...     37.85    -122.24\n",
              "3          341300.0        5.6431  ...     37.85    -122.25\n",
              "4          342200.0        3.8462  ...     37.85    -122.25\n",
              "\n",
              "[5 rows x 9 columns]"
            ]
          },
          "metadata": {},
          "execution_count": 34
        }
      ]
    },
    {
      "cell_type": "markdown",
      "metadata": {
        "id": "iEkK-z0LfdL0"
      },
      "source": [
        "Haremos unas transformaciones logarítmicas para darle estabilidad a los resultados y crearemos nuestros sets de entrenamiento"
      ]
    },
    {
      "cell_type": "code",
      "metadata": {
        "id": "PMIhjS7c2Nwz",
        "outputId": "e003776b-bc80-4654-e423-9b796d6e07a5",
        "colab": {
          "base_uri": "https://localhost:8080/",
          "height": 284
        }
      },
      "source": [
        "df[\"MedianHouseValue\"].hist()"
      ],
      "execution_count": 29,
      "outputs": [
        {
          "output_type": "execute_result",
          "data": {
            "text/plain": [
              "<matplotlib.axes._subplots.AxesSubplot at 0x7f423d299250>"
            ]
          },
          "metadata": {},
          "execution_count": 29
        },
        {
          "output_type": "display_data",
          "data": {
            "image/png": "[encoded data removed]",
            "text/plain": [
              "<Figure size 432x288 with 1 Axes>"
            ]
          },
          "metadata": {
            "needs_background": "light"
          }
        }
      ]
    },
    {
      "cell_type": "code",
      "metadata": {
        "id": "XDJj4caEfdL1"
      },
      "source": [
        "import numpy as np\n",
        "#procesamiento variables numéricas MedianIncome MedianHouseValue\n",
        "df['log_MedianIncome'] = np.log(df['MedianIncome'])\n",
        "df['log_MedianHouseValue'] = np.log(df['MedianHouseValue'])\n",
        "df = df.drop(columns=['MedianHouseValue', 'MedianIncome'])"
      ],
      "execution_count": 35,
      "outputs": []
    },
    {
      "cell_type": "code",
      "metadata": {
        "id": "0Ihq9Sl0fdL1"
      },
      "source": [
        "X_train, X_test, y_train, y_test = train_test_split(df.loc[:,'MedianHouseAge':'log_MedianIncome'],\n",
        "                                                    df['log_MedianHouseValue'],\n",
        "                                                    test_size=.3,\n",
        "                                                    random_state=2021)"
      ],
      "execution_count": 36,
      "outputs": []
    },
    {
      "cell_type": "code",
      "metadata": {
        "id": "1L6XdAy-fdL2"
      },
      "source": [
        "from sklearn.ensemble import BaggingRegressor\n",
        "bagging_model = BaggingRegressor(random_state=2021).fit(X_train,y_train)"
      ],
      "execution_count": 37,
      "outputs": []
    },
    {
      "cell_type": "markdown",
      "metadata": {
        "id": "Cq1jkfp-fdL2"
      },
      "source": [
        "Por defecto *BaggingRegressor* generará 10 modelos. Podemos examinar cada uno de estos 10 modelos si lo deseamos:"
      ]
    },
    {
      "cell_type": "code",
      "metadata": {
        "id": "kfTSg725fdL3",
        "outputId": "873eee59-273a-4eaa-ce43-d60683855cc6",
        "colab": {
          "base_uri": "https://localhost:8080/"
        }
      },
      "source": [
        "for i in bagging_model.estimators_:\n",
        "    print(\"Modelo: \",type(i), \"Criterio: \",i.criterion, \"Semilla: \",i.random_state)\n"
      ],
      "execution_count": 38,
      "outputs": [
        {
          "output_type": "stream",
          "text": [
            "Modelo:  <class 'sklearn.tree._classes.DecisionTreeRegressor'> Criterio:  mse Semilla:  86662149\n",
            "Modelo:  <class 'sklearn.tree._classes.DecisionTreeRegressor'> Criterio:  mse Semilla:  1868703353\n",
            "Modelo:  <class 'sklearn.tree._classes.DecisionTreeRegressor'> Criterio:  mse Semilla:  1405477361\n",
            "Modelo:  <class 'sklearn.tree._classes.DecisionTreeRegressor'> Criterio:  mse Semilla:  1013395746\n",
            "Modelo:  <class 'sklearn.tree._classes.DecisionTreeRegressor'> Criterio:  mse Semilla:  1677377330\n",
            "Modelo:  <class 'sklearn.tree._classes.DecisionTreeRegressor'> Criterio:  mse Semilla:  749423013\n",
            "Modelo:  <class 'sklearn.tree._classes.DecisionTreeRegressor'> Criterio:  mse Semilla:  676891875\n",
            "Modelo:  <class 'sklearn.tree._classes.DecisionTreeRegressor'> Criterio:  mse Semilla:  701642817\n",
            "Modelo:  <class 'sklearn.tree._classes.DecisionTreeRegressor'> Criterio:  mse Semilla:  1162069113\n",
            "Modelo:  <class 'sklearn.tree._classes.DecisionTreeRegressor'> Criterio:  mse Semilla:  1948912788\n"
          ],
          "name": "stdout"
        }
      ]
    },
    {
      "cell_type": "code",
      "metadata": {
        "id": "MinQiXw2fdL3",
        "outputId": "23413c77-0083-44ba-df6c-096bea2c2e00",
        "colab": {
          "base_uri": "https://localhost:8080/"
        }
      },
      "source": [
        "print(\"MSE:\", mean_squared_error(y_test, bagging_model.predict(X_test)))\n",
        "print(\"MAE:\", median_absolute_error(y_test,bagging_model.predict(X_test)))\n",
        "print(\"R2:\", r2_score(y_test, bagging_model.predict(X_test)))"
      ],
      "execution_count": 39,
      "outputs": [
        {
          "output_type": "stream",
          "text": [
            "MSE: 0.059583733312501476\n",
            "MAE: 0.11844441020363217\n",
            "R2: 0.8206157642516708\n"
          ],
          "name": "stdout"
        }
      ]
    },
    {
      "cell_type": "markdown",
      "metadata": {
        "id": "aGXi7L7qfdL4"
      },
      "source": [
        "Ahora podemos ver como el promedio de todos nuestros árboles mejoró un poco los indicadores vs lo que habiamos calculado con solo un modelo. Sin embargo, como el proceso de bagging usa los mismos atributos, existe una correlación entre los árboles, que podemos visualizarla de la siguiente manera:"
      ]
    },
    {
      "cell_type": "code",
      "metadata": {
        "id": "ZtVCvI2jfdL4"
      },
      "source": [
        "from scipy import stats #para calcular correlación\n",
        "\n",
        "store_rho = [] #aqui guardaremos las correlaciones que vamos calculando\n",
        "\n",
        "bag_est = bagging_model.estimators_ #obtenemos los estimadores del modelo y\n",
        "# recorremos dos veces los estimadores\n",
        "for i in bag_est:\n",
        "    for j in bag_est:\n",
        "# y calculamos las correlaciones entre pares\n",
        "        store_rho.append(stats.pearsonr(i.predict(X_test),j.predict(X_test))[0])\n",
        "#como store_rho es una lista, podemos usar el comando respae para pasarlo de 1 dimension a 10x10    \n",
        "store_rho = np.array(store_rho).reshape(len(bag_est), len(bag_est))"
      ],
      "execution_count": 41,
      "outputs": []
    },
    {
      "cell_type": "code",
      "metadata": {
        "id": "Mq3N6LejfdL4",
        "outputId": "f534d9f0-3685-454c-d27c-ef7d301f8a80",
        "colab": {
          "base_uri": "https://localhost:8080/",
          "height": 281
        }
      },
      "source": [
        "#podemos visualizar la correlación a través de un gráfico conocido como heatmap de seaborn\n",
        "sns.heatmap(store_rho, cmap='coolwarm', annot=True)\n",
        "plt.title(\"Correlación bivariada entre árboles\");"
      ],
      "execution_count": 42,
      "outputs": [
        {
          "output_type": "display_data",
          "data": {
            "image/png": "[encoded data removed]",
            "text/plain": [
              "<Figure size 432x288 with 2 Axes>"
            ]
          },
          "metadata": {
            "needs_background": "light"
          }
        }
      ]
    },
    {
      "cell_type": "markdown",
      "metadata": {
        "id": "CnIuLk9kfdL5"
      },
      "source": [
        "Para eliminar la correlación generada por **Bagging** y unificar todo el conocimiento del día, pasaremos a un algoritmo que mezcla todo.\n",
        "\n",
        "# Random Forest \n",
        "\n",
        "Lo que estabamos haciendo era seleccionar un conjunto de árboles y generábamos un muestreo de filas para añadir aleatoridad a los árboles. Sin embargo ahora se le agregará un nuevo nivel: se muestrearán ciertos atributos (columnas) para cada nuevo árbol. Así, por ejemplo, el primer árbol puede tener las primeras 3 columnas con las primeras 300 filas, y el segundo árbol puede tener las siguientes columnas, con el resto de filas, generando así independencia entre los modelos.\n",
        "\n",
        "Lo anterior nos permitirá eliminar el sesgo creado por el bagging, pues ya no se está entrenando siempre con todos los atributos.\n",
        "\n",
        "En python deberemos usar `RandomForestClassifier` o `RandomForestRegressor` segun sea el caso, ambos de la librería `sklearn.ensemble`.\n",
        "\n",
        "\n",
        "Contras:\n",
        "- Se pierde la interpretabilidad de un árbol de decisión aislado\n",
        "\n",
        "Pros:\n",
        "- Son mas dificiles de sobrajustar\n",
        "- Permiten calcular **Feature Importance**\n",
        "\n",
        "La implementación del modelo es igual que antes:"
      ]
    },
    {
      "cell_type": "code",
      "metadata": {
        "id": "vd4fLLnvfdL5",
        "outputId": "255373b2-19f2-4b1a-eec1-7a9eb55cd462",
        "colab": {
          "base_uri": "https://localhost:8080/"
        }
      },
      "source": [
        "from sklearn.ensemble import RandomForestRegressor\n",
        "RanForReg = RandomForestRegressor(random_state=0)\n",
        "RanForReg.fit(X_train,y_train)"
      ],
      "execution_count": 43,
      "outputs": [
        {
          "output_type": "execute_result",
          "data": {
            "text/plain": [
              "RandomForestRegressor(bootstrap=True, ccp_alpha=0.0, criterion='mse',\n",
              "                      max_depth=None, max_features='auto', max_leaf_nodes=None,\n",
              "                      max_samples=None, min_impurity_decrease=0.0,\n",
              "                      min_impurity_split=None, min_samples_leaf=1,\n",
              "                      min_samples_split=2, min_weight_fraction_leaf=0.0,\n",
              "                      n_estimators=100, n_jobs=None, oob_score=False,\n",
              "                      random_state=0, verbose=0, warm_start=False)"
            ]
          },
          "metadata": {},
          "execution_count": 43
        }
      ]
    },
    {
      "cell_type": "code",
      "metadata": {
        "id": "cZIt3Y5cfdL7",
        "outputId": "88b5f085-3391-4c92-9092-e8e0f8cfbe88",
        "colab": {
          "base_uri": "https://localhost:8080/"
        }
      },
      "source": [
        "print(\"MSE:\", mean_squared_error(y_test, RanForReg.predict(X_test)))\n",
        "print(\"MAE:\", median_absolute_error(y_test,RanForReg.predict(X_test)))\n",
        "print(\"R2:\", r2_score(y_test, RanForReg.predict(X_test)))"
      ],
      "execution_count": 44,
      "outputs": [
        {
          "output_type": "stream",
          "text": [
            "MSE: 0.053334709051232554\n",
            "MAE: 0.11119144674669545\n",
            "R2: 0.8394292285809577\n"
          ],
          "name": "stdout"
        }
      ]
    },
    {
      "cell_type": "markdown",
      "metadata": {
        "id": "cfoc2IhFfdL7"
      },
      "source": [
        "Podemos ver que su $R^2$ es mejor, y solucionamos el sesgo de correlación."
      ]
    },
    {
      "cell_type": "code",
      "metadata": {
        "id": "kvUUgOPP78Ks",
        "outputId": "6b4d3c7b-d263-4922-f92f-9d59170de096",
        "colab": {
          "base_uri": "https://localhost:8080/",
          "height": 175
        }
      },
      "source": [
        "preds = pd.DataFrame"
      ],
      "execution_count": 45,
      "outputs": [
        {
          "output_type": "error",
          "ename": "AttributeError",
          "evalue": "ignored",
          "traceback": [
            "\u001b[0;31m---------------------------------------------------------------------------\u001b[0m",
            "\u001b[0;31mAttributeError\u001b[0m                            Traceback (most recent call last)",
            "\u001b[0;32m<ipython-input-45-d24132a6d745>\u001b[0m in \u001b[0;36m<module>\u001b[0;34m()\u001b[0m\n\u001b[0;32m----> 1\u001b[0;31m \u001b[0mmodel\u001b[0m\u001b[0;34m.\u001b[0m\u001b[0mestimators_\u001b[0m\u001b[0;34m\u001b[0m\u001b[0;34m\u001b[0m\u001b[0m\n\u001b[0m",
            "\u001b[0;31mAttributeError\u001b[0m: 'DecisionTreeClassifier' object has no attribute 'estimators_'"
          ]
        }
      ]
    },
    {
      "cell_type": "markdown",
      "metadata": {
        "id": "Re3MP3pYfdL7"
      },
      "source": [
        "Como hemos podido ver, hay ciertos hiperparametros"
      ]
    },
    {
      "cell_type": "markdown",
      "metadata": {
        "id": "-Sd0mNB0fdL7"
      },
      "source": [
        "# Ejercicios"
      ]
    },
    {
      "cell_type": "markdown",
      "metadata": {
        "id": "haenOyjLfdL7"
      },
      "source": [
        "Es sabido que, una entidad que presta servicios o productos (pudiera ser una empresa, un banco, una tienda, etcétera) puede mejorar la experiencia de cliente desarrollando productos personalizados en pos de las preferencias y necesidades de cada uno de sus clientes.\n",
        "\n",
        "\n",
        "El set de datos _potencial_ contiene datos sobre clientes de una institución financiera:\n",
        "\n",
        "- Customer ID: ID asociado al cliente\n",
        "- Age: Edad en años del cliente\n",
        "- Income: Ingreso anual del cliente\n",
        "- Family: Tamaño del grupo familiar del cliente\n",
        "- CCAvg: Cupo promedio mensual utilizado en tarjetas de crédito\n",
        "- Education: Nivel educacional (1 si no es graduado, 2 graduado y 3 si posee estudios especializadoss (magister, doctorado, etcétera)\n",
        "- Mortgage: Monto de la hipoteca (0 indica que no posee)\n",
        "- ZIP Code: Código postal del domicilio\n",
        "\n",
        "\n",
        "En la última campaña a cada cliente se le ofreció un producto personalizado en base a su comportamiento financiero, preferencias, capacidad de pago y necesidades. La variable target corresponde a Personal Loan el cual indica si el cliente tomó o no tomó este producto (¿El cliente aceptó o no el producto ofrecido? ), donde 0 indica que el cliente no adquirió el producto y 1 indica que sí lo adquirió.\n",
        "\n",
        "Es de interés analizar cuáles pudieran ser los perfiles de clientes que tienen mayor probabilidad de aceptar el producto ofrecido, de manera de, identificar a los clientes con dichas características y priorizarlos a ellos en las próximas campañas."
      ]
    },
    {
      "cell_type": "markdown",
      "metadata": {
        "id": "ZWZodFQ7fdL8"
      },
      "source": [
        "- a) Cargue el set de datos utilizando la función read.excel de pandas. ¿Qué columnas le hacen sentido incluir en un modelo para predecir si un cliente tomará o no el producto ofrecido? Si desea eliminar alguna columna, recuerde que puede usar la función drop('nombre columna a eliminar', axis=1).\n",
        "\n",
        "\n"
      ]
    },
    {
      "cell_type": "code",
      "metadata": {
        "id": "Pgg8rBG8fdL8"
      },
      "source": [
        "import pandas as pd\n",
        "datos = pd.read_excel(\"/content/potencial.xlsx\")"
      ],
      "execution_count": 46,
      "outputs": []
    },
    {
      "cell_type": "code",
      "metadata": {
        "id": "VJ54wP2tA5M1",
        "outputId": "e2b5c8f7-c415-4222-943e-33c60a3b2887",
        "colab": {
          "base_uri": "https://localhost:8080/",
          "height": 363
        }
      },
      "source": [
        "datos.head(10)"
      ],
      "execution_count": 47,
      "outputs": [
        {
          "output_type": "execute_result",
          "data": {
            "text/html": [
              "<div>\n",
              "<style scoped>\n",
              "    .dataframe tbody tr th:only-of-type {\n",
              "        vertical-align: middle;\n",
              "    }\n",
              "\n",
              "    .dataframe tbody tr th {\n",
              "        vertical-align: top;\n",
              "    }\n",
              "\n",
              "    .dataframe thead th {\n",
              "        text-align: right;\n",
              "    }\n",
              "</style>\n",
              "<table border=\"1\" class=\"dataframe\">\n",
              "  <thead>\n",
              "    <tr style=\"text-align: right;\">\n",
              "      <th></th>\n",
              "      <th>ID</th>\n",
              "      <th>Age</th>\n",
              "      <th>Income</th>\n",
              "      <th>ZIP Code</th>\n",
              "      <th>Family</th>\n",
              "      <th>CCAvg</th>\n",
              "      <th>Education</th>\n",
              "      <th>Mortgage</th>\n",
              "      <th>Personal Loan</th>\n",
              "    </tr>\n",
              "  </thead>\n",
              "  <tbody>\n",
              "    <tr>\n",
              "      <th>0</th>\n",
              "      <td>1</td>\n",
              "      <td>25</td>\n",
              "      <td>49</td>\n",
              "      <td>91107</td>\n",
              "      <td>4</td>\n",
              "      <td>1.6</td>\n",
              "      <td>1</td>\n",
              "      <td>0</td>\n",
              "      <td>0</td>\n",
              "    </tr>\n",
              "    <tr>\n",
              "      <th>1</th>\n",
              "      <td>2</td>\n",
              "      <td>45</td>\n",
              "      <td>34</td>\n",
              "      <td>90089</td>\n",
              "      <td>3</td>\n",
              "      <td>1.5</td>\n",
              "      <td>1</td>\n",
              "      <td>0</td>\n",
              "      <td>0</td>\n",
              "    </tr>\n",
              "    <tr>\n",
              "      <th>2</th>\n",
              "      <td>3</td>\n",
              "      <td>39</td>\n",
              "      <td>11</td>\n",
              "      <td>94720</td>\n",
              "      <td>1</td>\n",
              "      <td>1.0</td>\n",
              "      <td>1</td>\n",
              "      <td>0</td>\n",
              "      <td>0</td>\n",
              "    </tr>\n",
              "    <tr>\n",
              "      <th>3</th>\n",
              "      <td>4</td>\n",
              "      <td>35</td>\n",
              "      <td>100</td>\n",
              "      <td>94112</td>\n",
              "      <td>1</td>\n",
              "      <td>2.7</td>\n",
              "      <td>2</td>\n",
              "      <td>0</td>\n",
              "      <td>0</td>\n",
              "    </tr>\n",
              "    <tr>\n",
              "      <th>4</th>\n",
              "      <td>5</td>\n",
              "      <td>35</td>\n",
              "      <td>45</td>\n",
              "      <td>91330</td>\n",
              "      <td>4</td>\n",
              "      <td>1.0</td>\n",
              "      <td>2</td>\n",
              "      <td>0</td>\n",
              "      <td>0</td>\n",
              "    </tr>\n",
              "    <tr>\n",
              "      <th>5</th>\n",
              "      <td>6</td>\n",
              "      <td>37</td>\n",
              "      <td>29</td>\n",
              "      <td>92121</td>\n",
              "      <td>4</td>\n",
              "      <td>0.4</td>\n",
              "      <td>2</td>\n",
              "      <td>155</td>\n",
              "      <td>0</td>\n",
              "    </tr>\n",
              "    <tr>\n",
              "      <th>6</th>\n",
              "      <td>7</td>\n",
              "      <td>53</td>\n",
              "      <td>72</td>\n",
              "      <td>91711</td>\n",
              "      <td>2</td>\n",
              "      <td>1.5</td>\n",
              "      <td>2</td>\n",
              "      <td>0</td>\n",
              "      <td>0</td>\n",
              "    </tr>\n",
              "    <tr>\n",
              "      <th>7</th>\n",
              "      <td>8</td>\n",
              "      <td>50</td>\n",
              "      <td>22</td>\n",
              "      <td>93943</td>\n",
              "      <td>1</td>\n",
              "      <td>0.3</td>\n",
              "      <td>3</td>\n",
              "      <td>0</td>\n",
              "      <td>0</td>\n",
              "    </tr>\n",
              "    <tr>\n",
              "      <th>8</th>\n",
              "      <td>9</td>\n",
              "      <td>35</td>\n",
              "      <td>81</td>\n",
              "      <td>90089</td>\n",
              "      <td>3</td>\n",
              "      <td>0.6</td>\n",
              "      <td>2</td>\n",
              "      <td>104</td>\n",
              "      <td>0</td>\n",
              "    </tr>\n",
              "    <tr>\n",
              "      <th>9</th>\n",
              "      <td>10</td>\n",
              "      <td>34</td>\n",
              "      <td>180</td>\n",
              "      <td>93023</td>\n",
              "      <td>1</td>\n",
              "      <td>8.9</td>\n",
              "      <td>3</td>\n",
              "      <td>0</td>\n",
              "      <td>1</td>\n",
              "    </tr>\n",
              "  </tbody>\n",
              "</table>\n",
              "</div>"
            ],
            "text/plain": [
              "   ID  Age  Income  ZIP Code  Family  CCAvg  Education  Mortgage  Personal Loan\n",
              "0   1   25      49     91107       4    1.6          1         0              0\n",
              "1   2   45      34     90089       3    1.5          1         0              0\n",
              "2   3   39      11     94720       1    1.0          1         0              0\n",
              "3   4   35     100     94112       1    2.7          2         0              0\n",
              "4   5   35      45     91330       4    1.0          2         0              0\n",
              "5   6   37      29     92121       4    0.4          2       155              0\n",
              "6   7   53      72     91711       2    1.5          2         0              0\n",
              "7   8   50      22     93943       1    0.3          3         0              0\n",
              "8   9   35      81     90089       3    0.6          2       104              0\n",
              "9  10   34     180     93023       1    8.9          3         0              1"
            ]
          },
          "metadata": {},
          "execution_count": 47
        }
      ]
    },
    {
      "cell_type": "code",
      "metadata": {
        "id": "ZrVGsJINBKIf",
        "outputId": "9b9daf21-ceea-4a83-8c38-2714542a1724",
        "colab": {
          "base_uri": "https://localhost:8080/",
          "height": 424
        }
      },
      "source": [
        "datos.drop([\"ID\", \"ZIP Code\"], axis = 1)"
      ],
      "execution_count": 49,
      "outputs": [
        {
          "output_type": "execute_result",
          "data": {
            "text/html": [
              "<div>\n",
              "<style scoped>\n",
              "    .dataframe tbody tr th:only-of-type {\n",
              "        vertical-align: middle;\n",
              "    }\n",
              "\n",
              "    .dataframe tbody tr th {\n",
              "        vertical-align: top;\n",
              "    }\n",
              "\n",
              "    .dataframe thead th {\n",
              "        text-align: right;\n",
              "    }\n",
              "</style>\n",
              "<table border=\"1\" class=\"dataframe\">\n",
              "  <thead>\n",
              "    <tr style=\"text-align: right;\">\n",
              "      <th></th>\n",
              "      <th>Age</th>\n",
              "      <th>Income</th>\n",
              "      <th>Family</th>\n",
              "      <th>CCAvg</th>\n",
              "      <th>Education</th>\n",
              "      <th>Mortgage</th>\n",
              "      <th>Personal Loan</th>\n",
              "    </tr>\n",
              "  </thead>\n",
              "  <tbody>\n",
              "    <tr>\n",
              "      <th>0</th>\n",
              "      <td>25</td>\n",
              "      <td>49</td>\n",
              "      <td>4</td>\n",
              "      <td>1.6</td>\n",
              "      <td>1</td>\n",
              "      <td>0</td>\n",
              "      <td>0</td>\n",
              "    </tr>\n",
              "    <tr>\n",
              "      <th>1</th>\n",
              "      <td>45</td>\n",
              "      <td>34</td>\n",
              "      <td>3</td>\n",
              "      <td>1.5</td>\n",
              "      <td>1</td>\n",
              "      <td>0</td>\n",
              "      <td>0</td>\n",
              "    </tr>\n",
              "    <tr>\n",
              "      <th>2</th>\n",
              "      <td>39</td>\n",
              "      <td>11</td>\n",
              "      <td>1</td>\n",
              "      <td>1.0</td>\n",
              "      <td>1</td>\n",
              "      <td>0</td>\n",
              "      <td>0</td>\n",
              "    </tr>\n",
              "    <tr>\n",
              "      <th>3</th>\n",
              "      <td>35</td>\n",
              "      <td>100</td>\n",
              "      <td>1</td>\n",
              "      <td>2.7</td>\n",
              "      <td>2</td>\n",
              "      <td>0</td>\n",
              "      <td>0</td>\n",
              "    </tr>\n",
              "    <tr>\n",
              "      <th>4</th>\n",
              "      <td>35</td>\n",
              "      <td>45</td>\n",
              "      <td>4</td>\n",
              "      <td>1.0</td>\n",
              "      <td>2</td>\n",
              "      <td>0</td>\n",
              "      <td>0</td>\n",
              "    </tr>\n",
              "    <tr>\n",
              "      <th>...</th>\n",
              "      <td>...</td>\n",
              "      <td>...</td>\n",
              "      <td>...</td>\n",
              "      <td>...</td>\n",
              "      <td>...</td>\n",
              "      <td>...</td>\n",
              "      <td>...</td>\n",
              "    </tr>\n",
              "    <tr>\n",
              "      <th>4995</th>\n",
              "      <td>29</td>\n",
              "      <td>40</td>\n",
              "      <td>1</td>\n",
              "      <td>1.9</td>\n",
              "      <td>3</td>\n",
              "      <td>0</td>\n",
              "      <td>0</td>\n",
              "    </tr>\n",
              "    <tr>\n",
              "      <th>4996</th>\n",
              "      <td>30</td>\n",
              "      <td>15</td>\n",
              "      <td>4</td>\n",
              "      <td>0.4</td>\n",
              "      <td>1</td>\n",
              "      <td>85</td>\n",
              "      <td>0</td>\n",
              "    </tr>\n",
              "    <tr>\n",
              "      <th>4997</th>\n",
              "      <td>63</td>\n",
              "      <td>24</td>\n",
              "      <td>2</td>\n",
              "      <td>0.3</td>\n",
              "      <td>3</td>\n",
              "      <td>0</td>\n",
              "      <td>0</td>\n",
              "    </tr>\n",
              "    <tr>\n",
              "      <th>4998</th>\n",
              "      <td>65</td>\n",
              "      <td>49</td>\n",
              "      <td>3</td>\n",
              "      <td>0.5</td>\n",
              "      <td>2</td>\n",
              "      <td>0</td>\n",
              "      <td>0</td>\n",
              "    </tr>\n",
              "    <tr>\n",
              "      <th>4999</th>\n",
              "      <td>28</td>\n",
              "      <td>83</td>\n",
              "      <td>3</td>\n",
              "      <td>0.8</td>\n",
              "      <td>1</td>\n",
              "      <td>0</td>\n",
              "      <td>0</td>\n",
              "    </tr>\n",
              "  </tbody>\n",
              "</table>\n",
              "<p>5000 rows × 7 columns</p>\n",
              "</div>"
            ],
            "text/plain": [
              "      Age  Income  Family  CCAvg  Education  Mortgage  Personal Loan\n",
              "0      25      49       4    1.6          1         0              0\n",
              "1      45      34       3    1.5          1         0              0\n",
              "2      39      11       1    1.0          1         0              0\n",
              "3      35     100       1    2.7          2         0              0\n",
              "4      35      45       4    1.0          2         0              0\n",
              "...   ...     ...     ...    ...        ...       ...            ...\n",
              "4995   29      40       1    1.9          3         0              0\n",
              "4996   30      15       4    0.4          1        85              0\n",
              "4997   63      24       2    0.3          3         0              0\n",
              "4998   65      49       3    0.5          2         0              0\n",
              "4999   28      83       3    0.8          1         0              0\n",
              "\n",
              "[5000 rows x 7 columns]"
            ]
          },
          "metadata": {},
          "execution_count": 49
        }
      ]
    },
    {
      "cell_type": "markdown",
      "metadata": {
        "id": "T4HnBgkTfdL8"
      },
      "source": [
        "- b) Determine cuáles son las variables predictoras que son categorías y obtenga las variables dummies correspondientes para incluirlas en el modelo. Recuerde que puede usar la función get_dummies() de pandas.\n"
      ]
    },
    {
      "cell_type": "code",
      "metadata": {
        "id": "P9l7YV9YfdL8",
        "outputId": "346b61b5-c5a3-418b-82bb-37fbc0ce59ee",
        "colab": {
          "base_uri": "https://localhost:8080/"
        }
      },
      "source": [
        "datos.info()"
      ],
      "execution_count": 50,
      "outputs": [
        {
          "output_type": "stream",
          "text": [
            "<class 'pandas.core.frame.DataFrame'>\n",
            "RangeIndex: 5000 entries, 0 to 4999\n",
            "Data columns (total 9 columns):\n",
            " #   Column         Non-Null Count  Dtype  \n",
            "---  ------         --------------  -----  \n",
            " 0   ID             5000 non-null   int64  \n",
            " 1   Age            5000 non-null   int64  \n",
            " 2   Income         5000 non-null   int64  \n",
            " 3   ZIP Code       5000 non-null   int64  \n",
            " 4   Family         5000 non-null   int64  \n",
            " 5   CCAvg          5000 non-null   float64\n",
            " 6   Education      5000 non-null   int64  \n",
            " 7   Mortgage       5000 non-null   int64  \n",
            " 8   Personal Loan  5000 non-null   int64  \n",
            "dtypes: float64(1), int64(8)\n",
            "memory usage: 351.7 KB\n"
          ],
          "name": "stdout"
        }
      ]
    },
    {
      "cell_type": "code",
      "metadata": {
        "id": "mNlz1UnGBz6Y"
      },
      "source": [
        "datos[\"Education\"] = datos[\"Education\"].astype(\"category\")\n",
        "datos[\"Mortgage\"] = datos[\"Mortgage\"].astype(\"category\") #bool"
      ],
      "execution_count": 51,
      "outputs": []
    },
    {
      "cell_type": "code",
      "metadata": {
        "id": "jbBx5XbaCZKm",
        "outputId": "86b62b5c-a492-45b7-abd6-038e8b6fa7ae",
        "colab": {
          "base_uri": "https://localhost:8080/"
        }
      },
      "source": [
        "datos.info()"
      ],
      "execution_count": 52,
      "outputs": [
        {
          "output_type": "stream",
          "text": [
            "<class 'pandas.core.frame.DataFrame'>\n",
            "RangeIndex: 5000 entries, 0 to 4999\n",
            "Data columns (total 9 columns):\n",
            " #   Column         Non-Null Count  Dtype   \n",
            "---  ------         --------------  -----   \n",
            " 0   ID             5000 non-null   int64   \n",
            " 1   Age            5000 non-null   int64   \n",
            " 2   Income         5000 non-null   int64   \n",
            " 3   ZIP Code       5000 non-null   int64   \n",
            " 4   Family         5000 non-null   int64   \n",
            " 5   CCAvg          5000 non-null   float64 \n",
            " 6   Education      5000 non-null   category\n",
            " 7   Mortgage       5000 non-null   category\n",
            " 8   Personal Loan  5000 non-null   int64   \n",
            "dtypes: category(2), float64(1), int64(6)\n",
            "memory usage: 301.0 KB\n"
          ],
          "name": "stdout"
        }
      ]
    },
    {
      "cell_type": "code",
      "metadata": {
        "id": "QV3nGUfLCa7p"
      },
      "source": [
        "datos = pd.get_dummies(datos)"
      ],
      "execution_count": 53,
      "outputs": []
    },
    {
      "cell_type": "code",
      "metadata": {
        "id": "jCFzQxFuCi6r",
        "outputId": "54971528-9ab0-4e29-d239-1616688fd2ef",
        "colab": {
          "base_uri": "https://localhost:8080/",
          "height": 461
        }
      },
      "source": [
        "datos"
      ],
      "execution_count": 54,
      "outputs": [
        {
          "output_type": "execute_result",
          "data": {
            "text/html": [
              "<div>\n",
              "<style scoped>\n",
              "    .dataframe tbody tr th:only-of-type {\n",
              "        vertical-align: middle;\n",
              "    }\n",
              "\n",
              "    .dataframe tbody tr th {\n",
              "        vertical-align: top;\n",
              "    }\n",
              "\n",
              "    .dataframe thead th {\n",
              "        text-align: right;\n",
              "    }\n",
              "</style>\n",
              "<table border=\"1\" class=\"dataframe\">\n",
              "  <thead>\n",
              "    <tr style=\"text-align: right;\">\n",
              "      <th></th>\n",
              "      <th>ID</th>\n",
              "      <th>Age</th>\n",
              "      <th>Income</th>\n",
              "      <th>ZIP Code</th>\n",
              "      <th>Family</th>\n",
              "      <th>CCAvg</th>\n",
              "      <th>Personal Loan</th>\n",
              "      <th>Education_1</th>\n",
              "      <th>Education_2</th>\n",
              "      <th>Education_3</th>\n",
              "      <th>Mortgage_0</th>\n",
              "      <th>Mortgage_75</th>\n",
              "      <th>Mortgage_76</th>\n",
              "      <th>Mortgage_77</th>\n",
              "      <th>Mortgage_78</th>\n",
              "      <th>Mortgage_79</th>\n",
              "      <th>Mortgage_80</th>\n",
              "      <th>Mortgage_81</th>\n",
              "      <th>Mortgage_82</th>\n",
              "      <th>Mortgage_83</th>\n",
              "      <th>Mortgage_84</th>\n",
              "      <th>Mortgage_85</th>\n",
              "      <th>Mortgage_86</th>\n",
              "      <th>Mortgage_87</th>\n",
              "      <th>Mortgage_88</th>\n",
              "      <th>Mortgage_89</th>\n",
              "      <th>Mortgage_90</th>\n",
              "      <th>Mortgage_91</th>\n",
              "      <th>Mortgage_92</th>\n",
              "      <th>Mortgage_93</th>\n",
              "      <th>Mortgage_94</th>\n",
              "      <th>Mortgage_95</th>\n",
              "      <th>Mortgage_96</th>\n",
              "      <th>Mortgage_97</th>\n",
              "      <th>Mortgage_98</th>\n",
              "      <th>Mortgage_99</th>\n",
              "      <th>Mortgage_100</th>\n",
              "      <th>Mortgage_101</th>\n",
              "      <th>Mortgage_102</th>\n",
              "      <th>Mortgage_103</th>\n",
              "      <th>...</th>\n",
              "      <th>Mortgage_449</th>\n",
              "      <th>Mortgage_452</th>\n",
              "      <th>Mortgage_455</th>\n",
              "      <th>Mortgage_458</th>\n",
              "      <th>Mortgage_461</th>\n",
              "      <th>Mortgage_464</th>\n",
              "      <th>Mortgage_466</th>\n",
              "      <th>Mortgage_467</th>\n",
              "      <th>Mortgage_470</th>\n",
              "      <th>Mortgage_475</th>\n",
              "      <th>Mortgage_477</th>\n",
              "      <th>Mortgage_481</th>\n",
              "      <th>Mortgage_483</th>\n",
              "      <th>Mortgage_485</th>\n",
              "      <th>Mortgage_496</th>\n",
              "      <th>Mortgage_500</th>\n",
              "      <th>Mortgage_505</th>\n",
              "      <th>Mortgage_508</th>\n",
              "      <th>Mortgage_509</th>\n",
              "      <th>Mortgage_522</th>\n",
              "      <th>Mortgage_524</th>\n",
              "      <th>Mortgage_535</th>\n",
              "      <th>Mortgage_541</th>\n",
              "      <th>Mortgage_547</th>\n",
              "      <th>Mortgage_550</th>\n",
              "      <th>Mortgage_553</th>\n",
              "      <th>Mortgage_565</th>\n",
              "      <th>Mortgage_567</th>\n",
              "      <th>Mortgage_569</th>\n",
              "      <th>Mortgage_571</th>\n",
              "      <th>Mortgage_577</th>\n",
              "      <th>Mortgage_581</th>\n",
              "      <th>Mortgage_582</th>\n",
              "      <th>Mortgage_587</th>\n",
              "      <th>Mortgage_589</th>\n",
              "      <th>Mortgage_590</th>\n",
              "      <th>Mortgage_601</th>\n",
              "      <th>Mortgage_612</th>\n",
              "      <th>Mortgage_617</th>\n",
              "      <th>Mortgage_635</th>\n",
              "    </tr>\n",
              "  </thead>\n",
              "  <tbody>\n",
              "    <tr>\n",
              "      <th>0</th>\n",
              "      <td>1</td>\n",
              "      <td>25</td>\n",
              "      <td>49</td>\n",
              "      <td>91107</td>\n",
              "      <td>4</td>\n",
              "      <td>1.6</td>\n",
              "      <td>0</td>\n",
              "      <td>1</td>\n",
              "      <td>0</td>\n",
              "      <td>0</td>\n",
              "      <td>1</td>\n",
              "      <td>0</td>\n",
              "      <td>0</td>\n",
              "      <td>0</td>\n",
              "      <td>0</td>\n",
              "      <td>0</td>\n",
              "      <td>0</td>\n",
              "      <td>0</td>\n",
              "      <td>0</td>\n",
              "      <td>0</td>\n",
              "      <td>0</td>\n",
              "      <td>0</td>\n",
              "      <td>0</td>\n",
              "      <td>0</td>\n",
              "      <td>0</td>\n",
              "      <td>0</td>\n",
              "      <td>0</td>\n",
              "      <td>0</td>\n",
              "      <td>0</td>\n",
              "      <td>0</td>\n",
              "      <td>0</td>\n",
              "      <td>0</td>\n",
              "      <td>0</td>\n",
              "      <td>0</td>\n",
              "      <td>0</td>\n",
              "      <td>0</td>\n",
              "      <td>0</td>\n",
              "      <td>0</td>\n",
              "      <td>0</td>\n",
              "      <td>0</td>\n",
              "      <td>...</td>\n",
              "      <td>0</td>\n",
              "      <td>0</td>\n",
              "      <td>0</td>\n",
              "      <td>0</td>\n",
              "      <td>0</td>\n",
              "      <td>0</td>\n",
              "      <td>0</td>\n",
              "      <td>0</td>\n",
              "      <td>0</td>\n",
              "      <td>0</td>\n",
              "      <td>0</td>\n",
              "      <td>0</td>\n",
              "      <td>0</td>\n",
              "      <td>0</td>\n",
              "      <td>0</td>\n",
              "      <td>0</td>\n",
              "      <td>0</td>\n",
              "      <td>0</td>\n",
              "      <td>0</td>\n",
              "      <td>0</td>\n",
              "      <td>0</td>\n",
              "      <td>0</td>\n",
              "      <td>0</td>\n",
              "      <td>0</td>\n",
              "      <td>0</td>\n",
              "      <td>0</td>\n",
              "      <td>0</td>\n",
              "      <td>0</td>\n",
              "      <td>0</td>\n",
              "      <td>0</td>\n",
              "      <td>0</td>\n",
              "      <td>0</td>\n",
              "      <td>0</td>\n",
              "      <td>0</td>\n",
              "      <td>0</td>\n",
              "      <td>0</td>\n",
              "      <td>0</td>\n",
              "      <td>0</td>\n",
              "      <td>0</td>\n",
              "      <td>0</td>\n",
              "    </tr>\n",
              "    <tr>\n",
              "      <th>1</th>\n",
              "      <td>2</td>\n",
              "      <td>45</td>\n",
              "      <td>34</td>\n",
              "      <td>90089</td>\n",
              "      <td>3</td>\n",
              "      <td>1.5</td>\n",
              "      <td>0</td>\n",
              "      <td>1</td>\n",
              "      <td>0</td>\n",
              "      <td>0</td>\n",
              "      <td>1</td>\n",
              "      <td>0</td>\n",
              "      <td>0</td>\n",
              "      <td>0</td>\n",
              "      <td>0</td>\n",
              "      <td>0</td>\n",
              "      <td>0</td>\n",
              "      <td>0</td>\n",
              "      <td>0</td>\n",
              "      <td>0</td>\n",
              "      <td>0</td>\n",
              "      <td>0</td>\n",
              "      <td>0</td>\n",
              "      <td>0</td>\n",
              "      <td>0</td>\n",
              "      <td>0</td>\n",
              "      <td>0</td>\n",
              "      <td>0</td>\n",
              "      <td>0</td>\n",
              "      <td>0</td>\n",
              "      <td>0</td>\n",
              "      <td>0</td>\n",
              "      <td>0</td>\n",
              "      <td>0</td>\n",
              "      <td>0</td>\n",
              "      <td>0</td>\n",
              "      <td>0</td>\n",
              "      <td>0</td>\n",
              "      <td>0</td>\n",
              "      <td>0</td>\n",
              "      <td>...</td>\n",
              "      <td>0</td>\n",
              "      <td>0</td>\n",
              "      <td>0</td>\n",
              "      <td>0</td>\n",
              "      <td>0</td>\n",
              "      <td>0</td>\n",
              "      <td>0</td>\n",
              "      <td>0</td>\n",
              "      <td>0</td>\n",
              "      <td>0</td>\n",
              "      <td>0</td>\n",
              "      <td>0</td>\n",
              "      <td>0</td>\n",
              "      <td>0</td>\n",
              "      <td>0</td>\n",
              "      <td>0</td>\n",
              "      <td>0</td>\n",
              "      <td>0</td>\n",
              "      <td>0</td>\n",
              "      <td>0</td>\n",
              "      <td>0</td>\n",
              "      <td>0</td>\n",
              "      <td>0</td>\n",
              "      <td>0</td>\n",
              "      <td>0</td>\n",
              "      <td>0</td>\n",
              "      <td>0</td>\n",
              "      <td>0</td>\n",
              "      <td>0</td>\n",
              "      <td>0</td>\n",
              "      <td>0</td>\n",
              "      <td>0</td>\n",
              "      <td>0</td>\n",
              "      <td>0</td>\n",
              "      <td>0</td>\n",
              "      <td>0</td>\n",
              "      <td>0</td>\n",
              "      <td>0</td>\n",
              "      <td>0</td>\n",
              "      <td>0</td>\n",
              "    </tr>\n",
              "    <tr>\n",
              "      <th>2</th>\n",
              "      <td>3</td>\n",
              "      <td>39</td>\n",
              "      <td>11</td>\n",
              "      <td>94720</td>\n",
              "      <td>1</td>\n",
              "      <td>1.0</td>\n",
              "      <td>0</td>\n",
              "      <td>1</td>\n",
              "      <td>0</td>\n",
              "      <td>0</td>\n",
              "      <td>1</td>\n",
              "      <td>0</td>\n",
              "      <td>0</td>\n",
              "      <td>0</td>\n",
              "      <td>0</td>\n",
              "      <td>0</td>\n",
              "      <td>0</td>\n",
              "      <td>0</td>\n",
              "      <td>0</td>\n",
              "      <td>0</td>\n",
              "      <td>0</td>\n",
              "      <td>0</td>\n",
              "      <td>0</td>\n",
              "      <td>0</td>\n",
              "      <td>0</td>\n",
              "      <td>0</td>\n",
              "      <td>0</td>\n",
              "      <td>0</td>\n",
              "      <td>0</td>\n",
              "      <td>0</td>\n",
              "      <td>0</td>\n",
              "      <td>0</td>\n",
              "      <td>0</td>\n",
              "      <td>0</td>\n",
              "      <td>0</td>\n",
              "      <td>0</td>\n",
              "      <td>0</td>\n",
              "      <td>0</td>\n",
              "      <td>0</td>\n",
              "      <td>0</td>\n",
              "      <td>...</td>\n",
              "      <td>0</td>\n",
              "      <td>0</td>\n",
              "      <td>0</td>\n",
              "      <td>0</td>\n",
              "      <td>0</td>\n",
              "      <td>0</td>\n",
              "      <td>0</td>\n",
              "      <td>0</td>\n",
              "      <td>0</td>\n",
              "      <td>0</td>\n",
              "      <td>0</td>\n",
              "      <td>0</td>\n",
              "      <td>0</td>\n",
              "      <td>0</td>\n",
              "      <td>0</td>\n",
              "      <td>0</td>\n",
              "      <td>0</td>\n",
              "      <td>0</td>\n",
              "      <td>0</td>\n",
              "      <td>0</td>\n",
              "      <td>0</td>\n",
              "      <td>0</td>\n",
              "      <td>0</td>\n",
              "      <td>0</td>\n",
              "      <td>0</td>\n",
              "      <td>0</td>\n",
              "      <td>0</td>\n",
              "      <td>0</td>\n",
              "      <td>0</td>\n",
              "      <td>0</td>\n",
              "      <td>0</td>\n",
              "      <td>0</td>\n",
              "      <td>0</td>\n",
              "      <td>0</td>\n",
              "      <td>0</td>\n",
              "      <td>0</td>\n",
              "      <td>0</td>\n",
              "      <td>0</td>\n",
              "      <td>0</td>\n",
              "      <td>0</td>\n",
              "    </tr>\n",
              "    <tr>\n",
              "      <th>3</th>\n",
              "      <td>4</td>\n",
              "      <td>35</td>\n",
              "      <td>100</td>\n",
              "      <td>94112</td>\n",
              "      <td>1</td>\n",
              "      <td>2.7</td>\n",
              "      <td>0</td>\n",
              "      <td>0</td>\n",
              "      <td>1</td>\n",
              "      <td>0</td>\n",
              "      <td>1</td>\n",
              "      <td>0</td>\n",
              "      <td>0</td>\n",
              "      <td>0</td>\n",
              "      <td>0</td>\n",
              "      <td>0</td>\n",
              "      <td>0</td>\n",
              "      <td>0</td>\n",
              "      <td>0</td>\n",
              "      <td>0</td>\n",
              "      <td>0</td>\n",
              "      <td>0</td>\n",
              "      <td>0</td>\n",
              "      <td>0</td>\n",
              "      <td>0</td>\n",
              "      <td>0</td>\n",
              "      <td>0</td>\n",
              "      <td>0</td>\n",
              "      <td>0</td>\n",
              "      <td>0</td>\n",
              "      <td>0</td>\n",
              "      <td>0</td>\n",
              "      <td>0</td>\n",
              "      <td>0</td>\n",
              "      <td>0</td>\n",
              "      <td>0</td>\n",
              "      <td>0</td>\n",
              "      <td>0</td>\n",
              "      <td>0</td>\n",
              "      <td>0</td>\n",
              "      <td>...</td>\n",
              "      <td>0</td>\n",
              "      <td>0</td>\n",
              "      <td>0</td>\n",
              "      <td>0</td>\n",
              "      <td>0</td>\n",
              "      <td>0</td>\n",
              "      <td>0</td>\n",
              "      <td>0</td>\n",
              "      <td>0</td>\n",
              "      <td>0</td>\n",
              "      <td>0</td>\n",
              "      <td>0</td>\n",
              "      <td>0</td>\n",
              "      <td>0</td>\n",
              "      <td>0</td>\n",
              "      <td>0</td>\n",
              "      <td>0</td>\n",
              "      <td>0</td>\n",
              "      <td>0</td>\n",
              "      <td>0</td>\n",
              "      <td>0</td>\n",
              "      <td>0</td>\n",
              "      <td>0</td>\n",
              "      <td>0</td>\n",
              "      <td>0</td>\n",
              "      <td>0</td>\n",
              "      <td>0</td>\n",
              "      <td>0</td>\n",
              "      <td>0</td>\n",
              "      <td>0</td>\n",
              "      <td>0</td>\n",
              "      <td>0</td>\n",
              "      <td>0</td>\n",
              "      <td>0</td>\n",
              "      <td>0</td>\n",
              "      <td>0</td>\n",
              "      <td>0</td>\n",
              "      <td>0</td>\n",
              "      <td>0</td>\n",
              "      <td>0</td>\n",
              "    </tr>\n",
              "    <tr>\n",
              "      <th>4</th>\n",
              "      <td>5</td>\n",
              "      <td>35</td>\n",
              "      <td>45</td>\n",
              "      <td>91330</td>\n",
              "      <td>4</td>\n",
              "      <td>1.0</td>\n",
              "      <td>0</td>\n",
              "      <td>0</td>\n",
              "      <td>1</td>\n",
              "      <td>0</td>\n",
              "      <td>1</td>\n",
              "      <td>0</td>\n",
              "      <td>0</td>\n",
              "      <td>0</td>\n",
              "      <td>0</td>\n",
              "      <td>0</td>\n",
              "      <td>0</td>\n",
              "      <td>0</td>\n",
              "      <td>0</td>\n",
              "      <td>0</td>\n",
              "      <td>0</td>\n",
              "      <td>0</td>\n",
              "      <td>0</td>\n",
              "      <td>0</td>\n",
              "      <td>0</td>\n",
              "      <td>0</td>\n",
              "      <td>0</td>\n",
              "      <td>0</td>\n",
              "      <td>0</td>\n",
              "      <td>0</td>\n",
              "      <td>0</td>\n",
              "      <td>0</td>\n",
              "      <td>0</td>\n",
              "      <td>0</td>\n",
              "      <td>0</td>\n",
              "      <td>0</td>\n",
              "      <td>0</td>\n",
              "      <td>0</td>\n",
              "      <td>0</td>\n",
              "      <td>0</td>\n",
              "      <td>...</td>\n",
              "      <td>0</td>\n",
              "      <td>0</td>\n",
              "      <td>0</td>\n",
              "      <td>0</td>\n",
              "      <td>0</td>\n",
              "      <td>0</td>\n",
              "      <td>0</td>\n",
              "      <td>0</td>\n",
              "      <td>0</td>\n",
              "      <td>0</td>\n",
              "      <td>0</td>\n",
              "      <td>0</td>\n",
              "      <td>0</td>\n",
              "      <td>0</td>\n",
              "      <td>0</td>\n",
              "      <td>0</td>\n",
              "      <td>0</td>\n",
              "      <td>0</td>\n",
              "      <td>0</td>\n",
              "      <td>0</td>\n",
              "      <td>0</td>\n",
              "      <td>0</td>\n",
              "      <td>0</td>\n",
              "      <td>0</td>\n",
              "      <td>0</td>\n",
              "      <td>0</td>\n",
              "      <td>0</td>\n",
              "      <td>0</td>\n",
              "      <td>0</td>\n",
              "      <td>0</td>\n",
              "      <td>0</td>\n",
              "      <td>0</td>\n",
              "      <td>0</td>\n",
              "      <td>0</td>\n",
              "      <td>0</td>\n",
              "      <td>0</td>\n",
              "      <td>0</td>\n",
              "      <td>0</td>\n",
              "      <td>0</td>\n",
              "      <td>0</td>\n",
              "    </tr>\n",
              "    <tr>\n",
              "      <th>...</th>\n",
              "      <td>...</td>\n",
              "      <td>...</td>\n",
              "      <td>...</td>\n",
              "      <td>...</td>\n",
              "      <td>...</td>\n",
              "      <td>...</td>\n",
              "      <td>...</td>\n",
              "      <td>...</td>\n",
              "      <td>...</td>\n",
              "      <td>...</td>\n",
              "      <td>...</td>\n",
              "      <td>...</td>\n",
              "      <td>...</td>\n",
              "      <td>...</td>\n",
              "      <td>...</td>\n",
              "      <td>...</td>\n",
              "      <td>...</td>\n",
              "      <td>...</td>\n",
              "      <td>...</td>\n",
              "      <td>...</td>\n",
              "      <td>...</td>\n",
              "      <td>...</td>\n",
              "      <td>...</td>\n",
              "      <td>...</td>\n",
              "      <td>...</td>\n",
              "      <td>...</td>\n",
              "      <td>...</td>\n",
              "      <td>...</td>\n",
              "      <td>...</td>\n",
              "      <td>...</td>\n",
              "      <td>...</td>\n",
              "      <td>...</td>\n",
              "      <td>...</td>\n",
              "      <td>...</td>\n",
              "      <td>...</td>\n",
              "      <td>...</td>\n",
              "      <td>...</td>\n",
              "      <td>...</td>\n",
              "      <td>...</td>\n",
              "      <td>...</td>\n",
              "      <td>...</td>\n",
              "      <td>...</td>\n",
              "      <td>...</td>\n",
              "      <td>...</td>\n",
              "      <td>...</td>\n",
              "      <td>...</td>\n",
              "      <td>...</td>\n",
              "      <td>...</td>\n",
              "      <td>...</td>\n",
              "      <td>...</td>\n",
              "      <td>...</td>\n",
              "      <td>...</td>\n",
              "      <td>...</td>\n",
              "      <td>...</td>\n",
              "      <td>...</td>\n",
              "      <td>...</td>\n",
              "      <td>...</td>\n",
              "      <td>...</td>\n",
              "      <td>...</td>\n",
              "      <td>...</td>\n",
              "      <td>...</td>\n",
              "      <td>...</td>\n",
              "      <td>...</td>\n",
              "      <td>...</td>\n",
              "      <td>...</td>\n",
              "      <td>...</td>\n",
              "      <td>...</td>\n",
              "      <td>...</td>\n",
              "      <td>...</td>\n",
              "      <td>...</td>\n",
              "      <td>...</td>\n",
              "      <td>...</td>\n",
              "      <td>...</td>\n",
              "      <td>...</td>\n",
              "      <td>...</td>\n",
              "      <td>...</td>\n",
              "      <td>...</td>\n",
              "      <td>...</td>\n",
              "      <td>...</td>\n",
              "      <td>...</td>\n",
              "      <td>...</td>\n",
              "    </tr>\n",
              "    <tr>\n",
              "      <th>4995</th>\n",
              "      <td>4996</td>\n",
              "      <td>29</td>\n",
              "      <td>40</td>\n",
              "      <td>92697</td>\n",
              "      <td>1</td>\n",
              "      <td>1.9</td>\n",
              "      <td>0</td>\n",
              "      <td>0</td>\n",
              "      <td>0</td>\n",
              "      <td>1</td>\n",
              "      <td>1</td>\n",
              "      <td>0</td>\n",
              "      <td>0</td>\n",
              "      <td>0</td>\n",
              "      <td>0</td>\n",
              "      <td>0</td>\n",
              "      <td>0</td>\n",
              "      <td>0</td>\n",
              "      <td>0</td>\n",
              "      <td>0</td>\n",
              "      <td>0</td>\n",
              "      <td>0</td>\n",
              "      <td>0</td>\n",
              "      <td>0</td>\n",
              "      <td>0</td>\n",
              "      <td>0</td>\n",
              "      <td>0</td>\n",
              "      <td>0</td>\n",
              "      <td>0</td>\n",
              "      <td>0</td>\n",
              "      <td>0</td>\n",
              "      <td>0</td>\n",
              "      <td>0</td>\n",
              "      <td>0</td>\n",
              "      <td>0</td>\n",
              "      <td>0</td>\n",
              "      <td>0</td>\n",
              "      <td>0</td>\n",
              "      <td>0</td>\n",
              "      <td>0</td>\n",
              "      <td>...</td>\n",
              "      <td>0</td>\n",
              "      <td>0</td>\n",
              "      <td>0</td>\n",
              "      <td>0</td>\n",
              "      <td>0</td>\n",
              "      <td>0</td>\n",
              "      <td>0</td>\n",
              "      <td>0</td>\n",
              "      <td>0</td>\n",
              "      <td>0</td>\n",
              "      <td>0</td>\n",
              "      <td>0</td>\n",
              "      <td>0</td>\n",
              "      <td>0</td>\n",
              "      <td>0</td>\n",
              "      <td>0</td>\n",
              "      <td>0</td>\n",
              "      <td>0</td>\n",
              "      <td>0</td>\n",
              "      <td>0</td>\n",
              "      <td>0</td>\n",
              "      <td>0</td>\n",
              "      <td>0</td>\n",
              "      <td>0</td>\n",
              "      <td>0</td>\n",
              "      <td>0</td>\n",
              "      <td>0</td>\n",
              "      <td>0</td>\n",
              "      <td>0</td>\n",
              "      <td>0</td>\n",
              "      <td>0</td>\n",
              "      <td>0</td>\n",
              "      <td>0</td>\n",
              "      <td>0</td>\n",
              "      <td>0</td>\n",
              "      <td>0</td>\n",
              "      <td>0</td>\n",
              "      <td>0</td>\n",
              "      <td>0</td>\n",
              "      <td>0</td>\n",
              "    </tr>\n",
              "    <tr>\n",
              "      <th>4996</th>\n",
              "      <td>4997</td>\n",
              "      <td>30</td>\n",
              "      <td>15</td>\n",
              "      <td>92037</td>\n",
              "      <td>4</td>\n",
              "      <td>0.4</td>\n",
              "      <td>0</td>\n",
              "      <td>1</td>\n",
              "      <td>0</td>\n",
              "      <td>0</td>\n",
              "      <td>0</td>\n",
              "      <td>0</td>\n",
              "      <td>0</td>\n",
              "      <td>0</td>\n",
              "      <td>0</td>\n",
              "      <td>0</td>\n",
              "      <td>0</td>\n",
              "      <td>0</td>\n",
              "      <td>0</td>\n",
              "      <td>0</td>\n",
              "      <td>0</td>\n",
              "      <td>1</td>\n",
              "      <td>0</td>\n",
              "      <td>0</td>\n",
              "      <td>0</td>\n",
              "      <td>0</td>\n",
              "      <td>0</td>\n",
              "      <td>0</td>\n",
              "      <td>0</td>\n",
              "      <td>0</td>\n",
              "      <td>0</td>\n",
              "      <td>0</td>\n",
              "      <td>0</td>\n",
              "      <td>0</td>\n",
              "      <td>0</td>\n",
              "      <td>0</td>\n",
              "      <td>0</td>\n",
              "      <td>0</td>\n",
              "      <td>0</td>\n",
              "      <td>0</td>\n",
              "      <td>...</td>\n",
              "      <td>0</td>\n",
              "      <td>0</td>\n",
              "      <td>0</td>\n",
              "      <td>0</td>\n",
              "      <td>0</td>\n",
              "      <td>0</td>\n",
              "      <td>0</td>\n",
              "      <td>0</td>\n",
              "      <td>0</td>\n",
              "      <td>0</td>\n",
              "      <td>0</td>\n",
              "      <td>0</td>\n",
              "      <td>0</td>\n",
              "      <td>0</td>\n",
              "      <td>0</td>\n",
              "      <td>0</td>\n",
              "      <td>0</td>\n",
              "      <td>0</td>\n",
              "      <td>0</td>\n",
              "      <td>0</td>\n",
              "      <td>0</td>\n",
              "      <td>0</td>\n",
              "      <td>0</td>\n",
              "      <td>0</td>\n",
              "      <td>0</td>\n",
              "      <td>0</td>\n",
              "      <td>0</td>\n",
              "      <td>0</td>\n",
              "      <td>0</td>\n",
              "      <td>0</td>\n",
              "      <td>0</td>\n",
              "      <td>0</td>\n",
              "      <td>0</td>\n",
              "      <td>0</td>\n",
              "      <td>0</td>\n",
              "      <td>0</td>\n",
              "      <td>0</td>\n",
              "      <td>0</td>\n",
              "      <td>0</td>\n",
              "      <td>0</td>\n",
              "    </tr>\n",
              "    <tr>\n",
              "      <th>4997</th>\n",
              "      <td>4998</td>\n",
              "      <td>63</td>\n",
              "      <td>24</td>\n",
              "      <td>93023</td>\n",
              "      <td>2</td>\n",
              "      <td>0.3</td>\n",
              "      <td>0</td>\n",
              "      <td>0</td>\n",
              "      <td>0</td>\n",
              "      <td>1</td>\n",
              "      <td>1</td>\n",
              "      <td>0</td>\n",
              "      <td>0</td>\n",
              "      <td>0</td>\n",
              "      <td>0</td>\n",
              "      <td>0</td>\n",
              "      <td>0</td>\n",
              "      <td>0</td>\n",
              "      <td>0</td>\n",
              "      <td>0</td>\n",
              "      <td>0</td>\n",
              "      <td>0</td>\n",
              "      <td>0</td>\n",
              "      <td>0</td>\n",
              "      <td>0</td>\n",
              "      <td>0</td>\n",
              "      <td>0</td>\n",
              "      <td>0</td>\n",
              "      <td>0</td>\n",
              "      <td>0</td>\n",
              "      <td>0</td>\n",
              "      <td>0</td>\n",
              "      <td>0</td>\n",
              "      <td>0</td>\n",
              "      <td>0</td>\n",
              "      <td>0</td>\n",
              "      <td>0</td>\n",
              "      <td>0</td>\n",
              "      <td>0</td>\n",
              "      <td>0</td>\n",
              "      <td>...</td>\n",
              "      <td>0</td>\n",
              "      <td>0</td>\n",
              "      <td>0</td>\n",
              "      <td>0</td>\n",
              "      <td>0</td>\n",
              "      <td>0</td>\n",
              "      <td>0</td>\n",
              "      <td>0</td>\n",
              "      <td>0</td>\n",
              "      <td>0</td>\n",
              "      <td>0</td>\n",
              "      <td>0</td>\n",
              "      <td>0</td>\n",
              "      <td>0</td>\n",
              "      <td>0</td>\n",
              "      <td>0</td>\n",
              "      <td>0</td>\n",
              "      <td>0</td>\n",
              "      <td>0</td>\n",
              "      <td>0</td>\n",
              "      <td>0</td>\n",
              "      <td>0</td>\n",
              "      <td>0</td>\n",
              "      <td>0</td>\n",
              "      <td>0</td>\n",
              "      <td>0</td>\n",
              "      <td>0</td>\n",
              "      <td>0</td>\n",
              "      <td>0</td>\n",
              "      <td>0</td>\n",
              "      <td>0</td>\n",
              "      <td>0</td>\n",
              "      <td>0</td>\n",
              "      <td>0</td>\n",
              "      <td>0</td>\n",
              "      <td>0</td>\n",
              "      <td>0</td>\n",
              "      <td>0</td>\n",
              "      <td>0</td>\n",
              "      <td>0</td>\n",
              "    </tr>\n",
              "    <tr>\n",
              "      <th>4998</th>\n",
              "      <td>4999</td>\n",
              "      <td>65</td>\n",
              "      <td>49</td>\n",
              "      <td>90034</td>\n",
              "      <td>3</td>\n",
              "      <td>0.5</td>\n",
              "      <td>0</td>\n",
              "      <td>0</td>\n",
              "      <td>1</td>\n",
              "      <td>0</td>\n",
              "      <td>1</td>\n",
              "      <td>0</td>\n",
              "      <td>0</td>\n",
              "      <td>0</td>\n",
              "      <td>0</td>\n",
              "      <td>0</td>\n",
              "      <td>0</td>\n",
              "      <td>0</td>\n",
              "      <td>0</td>\n",
              "      <td>0</td>\n",
              "      <td>0</td>\n",
              "      <td>0</td>\n",
              "      <td>0</td>\n",
              "      <td>0</td>\n",
              "      <td>0</td>\n",
              "      <td>0</td>\n",
              "      <td>0</td>\n",
              "      <td>0</td>\n",
              "      <td>0</td>\n",
              "      <td>0</td>\n",
              "      <td>0</td>\n",
              "      <td>0</td>\n",
              "      <td>0</td>\n",
              "      <td>0</td>\n",
              "      <td>0</td>\n",
              "      <td>0</td>\n",
              "      <td>0</td>\n",
              "      <td>0</td>\n",
              "      <td>0</td>\n",
              "      <td>0</td>\n",
              "      <td>...</td>\n",
              "      <td>0</td>\n",
              "      <td>0</td>\n",
              "      <td>0</td>\n",
              "      <td>0</td>\n",
              "      <td>0</td>\n",
              "      <td>0</td>\n",
              "      <td>0</td>\n",
              "      <td>0</td>\n",
              "      <td>0</td>\n",
              "      <td>0</td>\n",
              "      <td>0</td>\n",
              "      <td>0</td>\n",
              "      <td>0</td>\n",
              "      <td>0</td>\n",
              "      <td>0</td>\n",
              "      <td>0</td>\n",
              "      <td>0</td>\n",
              "      <td>0</td>\n",
              "      <td>0</td>\n",
              "      <td>0</td>\n",
              "      <td>0</td>\n",
              "      <td>0</td>\n",
              "      <td>0</td>\n",
              "      <td>0</td>\n",
              "      <td>0</td>\n",
              "      <td>0</td>\n",
              "      <td>0</td>\n",
              "      <td>0</td>\n",
              "      <td>0</td>\n",
              "      <td>0</td>\n",
              "      <td>0</td>\n",
              "      <td>0</td>\n",
              "      <td>0</td>\n",
              "      <td>0</td>\n",
              "      <td>0</td>\n",
              "      <td>0</td>\n",
              "      <td>0</td>\n",
              "      <td>0</td>\n",
              "      <td>0</td>\n",
              "      <td>0</td>\n",
              "    </tr>\n",
              "    <tr>\n",
              "      <th>4999</th>\n",
              "      <td>5000</td>\n",
              "      <td>28</td>\n",
              "      <td>83</td>\n",
              "      <td>92612</td>\n",
              "      <td>3</td>\n",
              "      <td>0.8</td>\n",
              "      <td>0</td>\n",
              "      <td>1</td>\n",
              "      <td>0</td>\n",
              "      <td>0</td>\n",
              "      <td>1</td>\n",
              "      <td>0</td>\n",
              "      <td>0</td>\n",
              "      <td>0</td>\n",
              "      <td>0</td>\n",
              "      <td>0</td>\n",
              "      <td>0</td>\n",
              "      <td>0</td>\n",
              "      <td>0</td>\n",
              "      <td>0</td>\n",
              "      <td>0</td>\n",
              "      <td>0</td>\n",
              "      <td>0</td>\n",
              "      <td>0</td>\n",
              "      <td>0</td>\n",
              "      <td>0</td>\n",
              "      <td>0</td>\n",
              "      <td>0</td>\n",
              "      <td>0</td>\n",
              "      <td>0</td>\n",
              "      <td>0</td>\n",
              "      <td>0</td>\n",
              "      <td>0</td>\n",
              "      <td>0</td>\n",
              "      <td>0</td>\n",
              "      <td>0</td>\n",
              "      <td>0</td>\n",
              "      <td>0</td>\n",
              "      <td>0</td>\n",
              "      <td>0</td>\n",
              "      <td>...</td>\n",
              "      <td>0</td>\n",
              "      <td>0</td>\n",
              "      <td>0</td>\n",
              "      <td>0</td>\n",
              "      <td>0</td>\n",
              "      <td>0</td>\n",
              "      <td>0</td>\n",
              "      <td>0</td>\n",
              "      <td>0</td>\n",
              "      <td>0</td>\n",
              "      <td>0</td>\n",
              "      <td>0</td>\n",
              "      <td>0</td>\n",
              "      <td>0</td>\n",
              "      <td>0</td>\n",
              "      <td>0</td>\n",
              "      <td>0</td>\n",
              "      <td>0</td>\n",
              "      <td>0</td>\n",
              "      <td>0</td>\n",
              "      <td>0</td>\n",
              "      <td>0</td>\n",
              "      <td>0</td>\n",
              "      <td>0</td>\n",
              "      <td>0</td>\n",
              "      <td>0</td>\n",
              "      <td>0</td>\n",
              "      <td>0</td>\n",
              "      <td>0</td>\n",
              "      <td>0</td>\n",
              "      <td>0</td>\n",
              "      <td>0</td>\n",
              "      <td>0</td>\n",
              "      <td>0</td>\n",
              "      <td>0</td>\n",
              "      <td>0</td>\n",
              "      <td>0</td>\n",
              "      <td>0</td>\n",
              "      <td>0</td>\n",
              "      <td>0</td>\n",
              "    </tr>\n",
              "  </tbody>\n",
              "</table>\n",
              "<p>5000 rows × 357 columns</p>\n",
              "</div>"
            ],
            "text/plain": [
              "        ID  Age  Income  ...  Mortgage_612  Mortgage_617  Mortgage_635\n",
              "0        1   25      49  ...             0             0             0\n",
              "1        2   45      34  ...             0             0             0\n",
              "2        3   39      11  ...             0             0             0\n",
              "3        4   35     100  ...             0             0             0\n",
              "4        5   35      45  ...             0             0             0\n",
              "...    ...  ...     ...  ...           ...           ...           ...\n",
              "4995  4996   29      40  ...             0             0             0\n",
              "4996  4997   30      15  ...             0             0             0\n",
              "4997  4998   63      24  ...             0             0             0\n",
              "4998  4999   65      49  ...             0             0             0\n",
              "4999  5000   28      83  ...             0             0             0\n",
              "\n",
              "[5000 rows x 357 columns]"
            ]
          },
          "metadata": {},
          "execution_count": 54
        }
      ]
    },
    {
      "cell_type": "markdown",
      "metadata": {
        "id": "v47nbn_DfdL9"
      },
      "source": [
        "- c) Defina en un objeto X las variables predictoras y en Y la variable respuesta Personal Loan. Obtenga los set de entrenamiento y prueba en una proporción 5:1. Recuerde que la función train_test_split() es útil para realizar split simple, además fije una semilla 2021 (random_state=2021 en la función train_test_split()).\n"
      ]
    },
    {
      "cell_type": "code",
      "metadata": {
        "id": "3C9YiBKMDTzm"
      },
      "source": [
        ""
      ],
      "execution_count": null,
      "outputs": []
    },
    {
      "cell_type": "code",
      "metadata": {
        "id": "4G74xIl0fdL9"
      },
      "source": [
        "from sklearn.model_selection import train_test_split\n",
        "\n",
        "X = datos.drop(\"Personal Loan\", axis = 1)\n",
        "y = datos[\"Personal Loan\"]\n",
        "X_train, X_test, y_train, y_test = train_test_split(X, y, test_size = 0.2,\n",
        "                                                    random_state = 2021)"
      ],
      "execution_count": 58,
      "outputs": []
    },
    {
      "cell_type": "markdown",
      "metadata": {
        "id": "6tkRQNnufdL9"
      },
      "source": [
        "- d) Obtenga un árbol de decisión con el set de datos de entrenamiento.  Obtenga el MSE del modelo en el set de prueba. Muestre el árbol obtenido, ¿qué observa?  ¿cuáles podrían ser los problemas de este árbol? ¿qué alternativas pudieran probarse para abordar este problema?\n"
      ]
    },
    {
      "cell_type": "code",
      "metadata": {
        "id": "OL0DKx3ZfdL9"
      },
      "source": [
        "dec_tree = DecisionTreeRegressor().fit(X_train, y_train)"
      ],
      "execution_count": 59,
      "outputs": []
    },
    {
      "cell_type": "code",
      "metadata": {
        "id": "oakNp6NxEp5I",
        "outputId": "f0185748-d3df-48dd-9727-15c9996d86f5",
        "colab": {
          "base_uri": "https://localhost:8080/"
        }
      },
      "source": [
        "print( \"Test MSE:\" , mean_squared_error(y_test,dec_tree.predict(X_test)).round( 5 ))\n",
        "print( \"Test MAE:\" , median_absolute_error(y_test,dec_tree.predict(X_test)).round( 5 ))\n",
        "print( \"Test R2:\" , r2_score(y_test, dec_tree.predict(X_test)).round( 5 ))"
      ],
      "execution_count": 60,
      "outputs": [
        {
          "output_type": "stream",
          "text": [
            "Test MSE: 0.016\n",
            "Test MAE: 0.0\n",
            "Test R2: 0.81733\n"
          ],
          "name": "stdout"
        }
      ]
    },
    {
      "cell_type": "markdown",
      "metadata": {
        "id": "3qcAjdoGfdL9"
      },
      "source": [
        "- e) Plantee otro árbol de decisión pero definiendo como parámetro de control o _prepoda_ la profundidad máxima del árbol, para esto en la función DecisionTreeClassifier() añada como argumento max_depth=2 (profundidad máxima 2).  Obtenga el MSE en el set de prueba y compare con el modelo anterior. Observe el árbol obtenido. Comente. \n"
      ]
    },
    {
      "cell_type": "code",
      "metadata": {
        "id": "ELi4wOWHfdL-"
      },
      "source": [
        ""
      ],
      "execution_count": null,
      "outputs": []
    },
    {
      "cell_type": "markdown",
      "metadata": {
        "id": "qeeGQPyYfdL-"
      },
      "source": [
        "- f) Busque los mejores valores de los criterios de corte y máxima profundidad para este caso, con 10 validaciones cruzadas, y entregue sus valores (Hint: evalue los hiperparámetros criterion y max_depth)"
      ]
    }
  ]
}