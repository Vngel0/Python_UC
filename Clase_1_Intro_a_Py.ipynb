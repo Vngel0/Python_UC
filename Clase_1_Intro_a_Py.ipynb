{
  "nbformat": 4,
  "nbformat_minor": 0,
  "metadata": {
    "colab": {
      "name": "Clase 1 - Intro a Py.ipynb",
      "provenance": [],
      "collapsed_sections": [],
      "include_colab_link": true
    },
    "kernelspec": {
      "display_name": "Python 3",
      "language": "python",
      "name": "python3"
    },
    "language_info": {
      "codemirror_mode": {
        "name": "ipython",
        "version": 3
      },
      "file_extension": ".py",
      "mimetype": "text/x-python",
      "name": "python",
      "nbconvert_exporter": "python",
      "pygments_lexer": "ipython3",
      "version": "3.8.3"
    }
  },
  "cells": [
    {
      "cell_type": "markdown",
      "metadata": {
        "id": "view-in-github",
        "colab_type": "text"
      },
      "source": [
        "<a href=\"https://colab.research.google.com/github/Vngel0/Python_UC/blob/main/Clase_1_Intro_a_Py.ipynb\" target=\"_parent\"><img src=\"https://colab.research.google.com/assets/colab-badge.svg\" alt=\"Open In Colab\"/></a>"
      ]
    },
    {
      "cell_type": "markdown",
      "metadata": {
        "id": "tku7wIXCvYdr"
      },
      "source": [
        "# Introducción a `python`\n",
        "\n",
        "---\n",
        "\n",
        "Python es un lenguaje de programación ampliamente usado en Data Science. \n",
        "\n",
        "| Pros | Contras |\n",
        "|------|---------|\n",
        "| Sintaxis limpia | Single Thread por defecto|\n",
        "| Rapidez de prototipado | Librerías estadísticas específicas menos desarrolladas|\n",
        "| Lenguaje de programacion completo | |\n",
        "| Open Source | |\n",
        "\n",
        "Más de alguna vez hemos escuchado \"¿`python` o `R` , cuál es mejor?\", al final del día parte de la labor de un Data Scientist es elegir la herramienta correcta para el problema (y usuario) correcto.\n",
        "\n",
        "Usaremos `python`durante el módulo de Machine Learning del diplomado, por lo que dedicaremos algunas semanas para aprender cómo transicionar los conocimientos adquiridos en `R`. \n",
        "\n",
        "## Google colab\n",
        "La plataforma en la que están estas clases se llama *google colab* y consiste en un servicio gestionado por google de **Jupyter Notebooks**, una herramienta que incorpora código y texto simultaneamente. Cada celda puede ser de tipo **texto** (markdown) o **código** (python). La capacidad de incorporar estas dos facetas convierte a los notebooks en una herramienta predilecta del Data Scientist\n"
      ]
    },
    {
      "cell_type": "markdown",
      "metadata": {
        "id": "dB15dDa228Yp"
      },
      "source": [
        "Ejecutar una sola linea: `ctrl +  enter`"
      ]
    },
    {
      "cell_type": "code",
      "metadata": {
        "colab": {
          "base_uri": "https://localhost:8080/"
        },
        "id": "FcVYjfLn2fPe",
        "outputId": "5d2b49b5-a940-462f-bcef-44ff6f628bca"
      },
      "source": [
        "print(\"Bienvenidos al curso de Machine Learning\")\n",
        "print(\"Esta es una celda de código\")\n",
        "print(\"Esta línea si se ejecuta. Ya no es un comentario\")"
      ],
      "execution_count": 2,
      "outputs": [
        {
          "output_type": "stream",
          "text": [
            "Bienvenidos al curso de Machine Learning\n",
            "Esta es una celda de código\n",
            "Esta línea si se ejecuta. Ya no es un comentario\n"
          ],
          "name": "stdout"
        }
      ]
    },
    {
      "cell_type": "markdown",
      "metadata": {
        "id": "FEXdMA4sqmeQ"
      },
      "source": [
        "Recordemos las primeras operaciones que realizaron en `R` y su equivalencia en `python`\n",
        "\n",
        "- Asignar Variables\n",
        "```\n",
        "poleras <- c(254,203,182,50)\n",
        "meses <- c(\"Ene\",\"Feb\", \"Mar\", \"Abr\")\n",
        "```\n"
      ]
    },
    {
      "cell_type": "code",
      "metadata": {
        "id": "3MKf2obJmgoz"
      },
      "source": [
        "# Una variable almacena un valor:\n",
        "dia_mes = 15\n",
        "tienda = \"Jhonson's\"\n",
        "# Una lista almacena muchos valores a la vez\n",
        "poleras = [100, 200, 305]\n",
        "meses = [\"Ene\", \"Feb\", \"Mar\"]"
      ],
      "execution_count": 4,
      "outputs": []
    },
    {
      "cell_type": "markdown",
      "metadata": {
        "id": "CncXFnyGsxgC"
      },
      "source": [
        "- Operaciones aritméticas\n",
        "```\n",
        "2 + (4*5) - exp(3)\n",
        "log(5) + pi/sqrt(5)\n",
        "```"
      ]
    },
    {
      "cell_type": "markdown",
      "metadata": {
        "id": "iqhBb7-V6HKl"
      },
      "source": [
        "### Librerias: Similar a R, las librerias son funciones que no vienen nativas en Python, pero pueden ser importadas (como los packages!)"
      ]
    },
    {
      "cell_type": "markdown",
      "metadata": {
        "id": "Ll-8yIV0Kc1W"
      },
      "source": [
        "Para poder trabajar con una lista de la forma que lo haciamos en algebra lineal, es necesario que usemos la libreria numpy, y transformemos nuestra lista en un vector, ya que en R podíamos mutiplicar un vector por un escalar sin problemas, en python las listas por defecto dejan de ser vectores:"
      ]
    },
    {
      "cell_type": "code",
      "metadata": {
        "id": "tiDd7y6HKc1W",
        "colab": {
          "base_uri": "https://localhost:8080/"
        },
        "outputId": "4c6ccca3-a9d8-44d2-ea9a-6e6fe2d1bb31"
      },
      "source": [
        "poleras*2"
      ],
      "execution_count": 5,
      "outputs": [
        {
          "output_type": "execute_result",
          "data": {
            "text/plain": [
              "[100, 200, 305, 100, 200, 305]"
            ]
          },
          "metadata": {
            "tags": []
          },
          "execution_count": 5
        }
      ]
    },
    {
      "cell_type": "code",
      "metadata": {
        "id": "e6Hgt2q3Kc1X"
      },
      "source": [
        "import numpy as np"
      ],
      "execution_count": 10,
      "outputs": []
    },
    {
      "cell_type": "markdown",
      "metadata": {
        "id": "LAf1cDYYKc1X"
      },
      "source": [
        "Cuando importamos una libreria, le podemos poner cualquier nombre, por convención la gente usa np para numpy.\n",
        "Uno podria usar cualquier cosa, pero se suele seguir la convención para facilidad de lectura de códigos"
      ]
    },
    {
      "cell_type": "code",
      "metadata": {
        "colab": {
          "base_uri": "https://localhost:8080/"
        },
        "id": "LYHw_cUZ5bfQ",
        "outputId": "889e3fe5-4651-49a8-81e2-e9f018d0314b"
      },
      "source": [
        "np.array(poleras)"
      ],
      "execution_count": 7,
      "outputs": [
        {
          "output_type": "execute_result",
          "data": {
            "text/plain": [
              "array([100, 200, 305])"
            ]
          },
          "metadata": {
            "tags": []
          },
          "execution_count": 7
        }
      ]
    },
    {
      "cell_type": "markdown",
      "metadata": {
        "id": "EtUh-YjlKc1Y"
      },
      "source": [
        "Ahora podemos utilizar nuestro array de manera lineal"
      ]
    },
    {
      "cell_type": "code",
      "metadata": {
        "id": "NmnOJzwKKc1Y",
        "colab": {
          "base_uri": "https://localhost:8080/"
        },
        "outputId": "d1a89ce9-08d7-46c4-8371-23b92de03673"
      },
      "source": [
        "np.array(poleras)*2"
      ],
      "execution_count": 8,
      "outputs": [
        {
          "output_type": "execute_result",
          "data": {
            "text/plain": [
              "array([200, 400, 610])"
            ]
          },
          "metadata": {
            "tags": []
          },
          "execution_count": 8
        }
      ]
    },
    {
      "cell_type": "markdown",
      "metadata": {
        "id": "gPaSmU8UKc1Y"
      },
      "source": [
        "Con esta libreria logramos hacer la mayoria de los calculos que usualmente utilizaremos, que por defecto no hubiesemos podido, por ejemplo:"
      ]
    },
    {
      "cell_type": "code",
      "metadata": {
        "id": "Da748Gz4Kc1Y",
        "colab": {
          "base_uri": "https://localhost:8080/",
          "height": 175
        },
        "outputId": "41765dab-3e25-424b-ed02-c2b5153b89d1"
      },
      "source": [
        "log(5) #el comando log no es nativo en python"
      ],
      "execution_count": 11,
      "outputs": [
        {
          "output_type": "error",
          "ename": "NameError",
          "evalue": "ignored",
          "traceback": [
            "\u001b[0;31m---------------------------------------------------------------------------\u001b[0m",
            "\u001b[0;31mNameError\u001b[0m                                 Traceback (most recent call last)",
            "\u001b[0;32m<ipython-input-11-d1569dbe30b4>\u001b[0m in \u001b[0;36m<module>\u001b[0;34m()\u001b[0m\n\u001b[0;32m----> 1\u001b[0;31m \u001b[0mlog\u001b[0m\u001b[0;34m(\u001b[0m\u001b[0;36m5\u001b[0m\u001b[0;34m)\u001b[0m \u001b[0;31m#el comando log no es nativo en python\u001b[0m\u001b[0;34m\u001b[0m\u001b[0;34m\u001b[0m\u001b[0m\n\u001b[0m",
            "\u001b[0;31mNameError\u001b[0m: name 'log' is not defined"
          ]
        }
      ]
    },
    {
      "cell_type": "code",
      "metadata": {
        "id": "_TPEjuf5Kc1Y",
        "colab": {
          "base_uri": "https://localhost:8080/"
        },
        "outputId": "a44e3562-c226-41bd-d23f-7cbcfb0ed82b"
      },
      "source": [
        "np.log(5)"
      ],
      "execution_count": 12,
      "outputs": [
        {
          "output_type": "execute_result",
          "data": {
            "text/plain": [
              "1.6094379124341003"
            ]
          },
          "metadata": {
            "tags": []
          },
          "execution_count": 12
        }
      ]
    },
    {
      "cell_type": "code",
      "metadata": {
        "colab": {
          "base_uri": "https://localhost:8080/"
        },
        "id": "5ANQVydM2kJM",
        "outputId": "7eaaf1dc-4367-4c60-cc53-818455c42391"
      },
      "source": [
        "from math import * # no es la forma mas usada de importar librerias\n",
        "2 + (4*5) - exp(3)\n",
        "log(5) + pi / sqrt(5)"
      ],
      "execution_count": 13,
      "outputs": [
        {
          "output_type": "execute_result",
          "data": {
            "text/plain": [
              "3.0144008586422455"
            ]
          },
          "metadata": {
            "tags": []
          },
          "execution_count": 13
        }
      ]
    },
    {
      "cell_type": "markdown",
      "metadata": {
        "id": "wUj_JGFVKc1Z"
      },
      "source": [
        "Notemos que ahora la palabra log se entiende como la función logaritmo, pues ha sido importada de las funciones math"
      ]
    },
    {
      "cell_type": "code",
      "metadata": {
        "colab": {
          "base_uri": "https://localhost:8080/"
        },
        "id": "HTWU05Mt8KEh",
        "outputId": "0b962b7f-17b7-479c-96ca-11fb50feea26"
      },
      "source": [
        "from math import log10 as mylog10\n",
        "mylog10(1000)"
      ],
      "execution_count": 14,
      "outputs": [
        {
          "output_type": "execute_result",
          "data": {
            "text/plain": [
              "3.0"
            ]
          },
          "metadata": {
            "tags": []
          },
          "execution_count": 14
        }
      ]
    },
    {
      "cell_type": "markdown",
      "metadata": {
        "id": "8Saeng2X8-nN"
      },
      "source": [
        "Librerias que vamos a estudiar:\n",
        "- os: dirección del directorio en cual trabajaremos\n",
        "- numpy: datos\n",
        "- pandas: tablas \n",
        "- sklearn: ML\n",
        "- matplotlib y seaborn: graficos\n",
        "- scipy: estadistica"
      ]
    },
    {
      "cell_type": "code",
      "metadata": {
        "id": "XKrRDO3b5E6D"
      },
      "source": [
        "import os\n",
        "import numpy as np\n",
        "import pandas as pd"
      ],
      "execution_count": 15,
      "outputs": []
    },
    {
      "cell_type": "markdown",
      "metadata": {
        "id": "XPEJEeJ1Kc1a"
      },
      "source": [
        "Una buena práctica siempre es predeterminar el directorio donde trabajaremos"
      ]
    },
    {
      "cell_type": "code",
      "metadata": {
        "id": "VGtRjL4pKc1a",
        "colab": {
          "base_uri": "https://localhost:8080/",
          "height": 36
        },
        "outputId": "be780497-00e2-482e-8279-a273db880c7e"
      },
      "source": [
        "os.getcwd()"
      ],
      "execution_count": 16,
      "outputs": [
        {
          "output_type": "execute_result",
          "data": {
            "application/vnd.google.colaboratory.intrinsic+json": {
              "type": "string"
            },
            "text/plain": [
              "'/content'"
            ]
          },
          "metadata": {
            "tags": []
          },
          "execution_count": 16
        }
      ]
    },
    {
      "cell_type": "code",
      "metadata": {
        "id": "v-MKS0tkKc1a",
        "colab": {
          "base_uri": "https://localhost:8080/",
          "height": 194
        },
        "outputId": "42937161-3233-4563-ca32-1fe5f3dc9f61"
      },
      "source": [
        "ruta = \"C:\\\\Users\\\\Felipe\\\\Desktop\\\\Diplo UC\\\\clase1\"\n",
        "os.chdir(ruta)"
      ],
      "execution_count": 17,
      "outputs": [
        {
          "output_type": "error",
          "ename": "FileNotFoundError",
          "evalue": "ignored",
          "traceback": [
            "\u001b[0;31m---------------------------------------------------------------------------\u001b[0m",
            "\u001b[0;31mFileNotFoundError\u001b[0m                         Traceback (most recent call last)",
            "\u001b[0;32m<ipython-input-17-ff9a1a5d7def>\u001b[0m in \u001b[0;36m<module>\u001b[0;34m()\u001b[0m\n\u001b[1;32m      1\u001b[0m \u001b[0mruta\u001b[0m \u001b[0;34m=\u001b[0m \u001b[0;34m\"C:\\\\Users\\\\Felipe\\\\Desktop\\\\Diplo UC\\\\clase1\"\u001b[0m\u001b[0;34m\u001b[0m\u001b[0;34m\u001b[0m\u001b[0m\n\u001b[0;32m----> 2\u001b[0;31m \u001b[0mos\u001b[0m\u001b[0;34m.\u001b[0m\u001b[0mchdir\u001b[0m\u001b[0;34m(\u001b[0m\u001b[0mruta\u001b[0m\u001b[0;34m)\u001b[0m\u001b[0;34m\u001b[0m\u001b[0;34m\u001b[0m\u001b[0m\n\u001b[0m",
            "\u001b[0;31mFileNotFoundError\u001b[0m: [Errno 2] No such file or directory: 'C:\\\\Users\\\\Felipe\\\\Desktop\\\\Diplo UC\\\\clase1'"
          ]
        }
      ]
    },
    {
      "cell_type": "markdown",
      "metadata": {
        "id": "_M2mE-bltAtv"
      },
      "source": [
        "- Leer y escribir una tabla a `.csv`\n",
        "\n",
        "```\n",
        "write.csv(cbind(meses, poleras),\"poleras.csv\")\n",
        "read.csv(\"poleras.csv\")\n",
        "```"
      ]
    },
    {
      "cell_type": "code",
      "metadata": {
        "id": "h6K2ikEsKc1a"
      },
      "source": [
        "data = {\"meses\": meses, \"poleras\": poleras}\n",
        "df = pd.DataFrame(data)"
      ],
      "execution_count": 18,
      "outputs": []
    },
    {
      "cell_type": "code",
      "metadata": {
        "id": "JmW3XExZKc1a",
        "colab": {
          "base_uri": "https://localhost:8080/",
          "height": 143
        },
        "outputId": "dfb3599d-b3d5-43f3-d333-b46b4eb99f8a"
      },
      "source": [
        "df"
      ],
      "execution_count": 19,
      "outputs": [
        {
          "output_type": "execute_result",
          "data": {
            "text/html": [
              "<div>\n",
              "<style scoped>\n",
              "    .dataframe tbody tr th:only-of-type {\n",
              "        vertical-align: middle;\n",
              "    }\n",
              "\n",
              "    .dataframe tbody tr th {\n",
              "        vertical-align: top;\n",
              "    }\n",
              "\n",
              "    .dataframe thead th {\n",
              "        text-align: right;\n",
              "    }\n",
              "</style>\n",
              "<table border=\"1\" class=\"dataframe\">\n",
              "  <thead>\n",
              "    <tr style=\"text-align: right;\">\n",
              "      <th></th>\n",
              "      <th>meses</th>\n",
              "      <th>poleras</th>\n",
              "    </tr>\n",
              "  </thead>\n",
              "  <tbody>\n",
              "    <tr>\n",
              "      <th>0</th>\n",
              "      <td>Ene</td>\n",
              "      <td>100</td>\n",
              "    </tr>\n",
              "    <tr>\n",
              "      <th>1</th>\n",
              "      <td>Feb</td>\n",
              "      <td>200</td>\n",
              "    </tr>\n",
              "    <tr>\n",
              "      <th>2</th>\n",
              "      <td>Mar</td>\n",
              "      <td>305</td>\n",
              "    </tr>\n",
              "  </tbody>\n",
              "</table>\n",
              "</div>"
            ],
            "text/plain": [
              "  meses  poleras\n",
              "0   Ene      100\n",
              "1   Feb      200\n",
              "2   Mar      305"
            ]
          },
          "metadata": {
            "tags": []
          },
          "execution_count": 19
        }
      ]
    },
    {
      "cell_type": "code",
      "metadata": {
        "id": "-r9xlwVKKc1b",
        "colab": {
          "base_uri": "https://localhost:8080/"
        },
        "outputId": "7cfeade0-41d1-4f39-8188-3c082d0b4ce3"
      },
      "source": [
        "df['poleras'] * 2"
      ],
      "execution_count": 20,
      "outputs": [
        {
          "output_type": "execute_result",
          "data": {
            "text/plain": [
              "0    200\n",
              "1    400\n",
              "2    610\n",
              "Name: poleras, dtype: int64"
            ]
          },
          "metadata": {
            "tags": []
          },
          "execution_count": 20
        }
      ]
    },
    {
      "cell_type": "markdown",
      "metadata": {
        "id": "EqK88etcKc1b"
      },
      "source": [
        "Nota: Pandas trabaja con numpy por debajo, por ello entiende el trabajo matricial que realizar"
      ]
    },
    {
      "cell_type": "code",
      "metadata": {
        "id": "9xC623sqKc1b"
      },
      "source": [
        "df.to_csv(\"poleras.csv\")"
      ],
      "execution_count": 21,
      "outputs": []
    },
    {
      "cell_type": "markdown",
      "metadata": {
        "id": "Qw9gulJhvi9N"
      },
      "source": [
        "- Gráficos simples\n",
        "```\n",
        "plot(poleras)\n",
        "barplot(poleras,names.arg = meses,col=\"orange\",main=\"Cantidad de poleas por mes\")\n",
        "```"
      ]
    },
    {
      "cell_type": "code",
      "metadata": {
        "colab": {
          "base_uri": "https://localhost:8080/",
          "height": 290
        },
        "id": "6yV20YzzuTMv",
        "outputId": "41c32427-36d6-41fa-9374-b9e9a58a5f68"
      },
      "source": [
        "from matplotlib import pyplot as plt\n",
        "df.plot(kind='bar', title='Cantidad de poleras por mes')\n",
        "plt.xticks(range(3), meses);"
      ],
      "execution_count": 22,
      "outputs": [
        {
          "output_type": "display_data",
          "data": {
            "image/png": "[encoded data removed]",
            "text/plain": [
              "<Figure size 432x288 with 1 Axes>"
            ]
          },
          "metadata": {
            "tags": [],
            "needs_background": "light"
          }
        }
      ]
    },
    {
      "cell_type": "markdown",
      "metadata": {
        "id": "kw_rSS343vRR"
      },
      "source": [
        "Python se caracteriza por tener soporte para una amplia gama de tareas a través de sus librerías. La librería pandas (data estructurada) y matplotlib (visualización) las estudiaremos en la semana 2 y 3. "
      ]
    },
    {
      "cell_type": "markdown",
      "metadata": {
        "id": "HAxFk9-ee51B"
      },
      "source": [
        "- Conjuntos de datos\n",
        "\n",
        "La librería `numpy` implementa el *arreglo* y operaciones con conjuntos de datos\n"
      ]
    },
    {
      "cell_type": "code",
      "metadata": {
        "colab": {
          "base_uri": "https://localhost:8080/"
        },
        "id": "RleYEDXx_o64",
        "outputId": "cac42c0e-74da-4e76-cead-b6709522da95"
      },
      "source": [
        "np.array(poleras + meses)"
      ],
      "execution_count": 23,
      "outputs": [
        {
          "output_type": "execute_result",
          "data": {
            "text/plain": [
              "array(['100', '200', '305', 'Ene', 'Feb', 'Mar'], dtype='<U21')"
            ]
          },
          "metadata": {
            "tags": []
          },
          "execution_count": 23
        }
      ]
    },
    {
      "cell_type": "code",
      "metadata": {
        "colab": {
          "base_uri": "https://localhost:8080/"
        },
        "id": "YxL5RO3r4CEg",
        "outputId": "427b2ce4-22ef-46bd-8dfd-0e609c62ce2c"
      },
      "source": [
        "arr = np.arange(5)\n",
        "arr"
      ],
      "execution_count": 24,
      "outputs": [
        {
          "output_type": "execute_result",
          "data": {
            "text/plain": [
              "array([0, 1, 2, 3, 4])"
            ]
          },
          "metadata": {
            "tags": []
          },
          "execution_count": 24
        }
      ]
    },
    {
      "cell_type": "markdown",
      "metadata": {
        "id": "9Snugk44fjoK"
      },
      "source": [
        "La selección de elementos se hace mediante índices **que parten desde cero (!)** dentro de corchetes."
      ]
    },
    {
      "cell_type": "code",
      "metadata": {
        "colab": {
          "base_uri": "https://localhost:8080/"
        },
        "id": "ZUgduQkc4Eb7",
        "outputId": "d9f7a2a8-a292-4ff3-fa1a-42cc057a583b"
      },
      "source": [
        "print(arr[0], arr[2:4], arr[-1])\n",
        "arr[:3]"
      ],
      "execution_count": 25,
      "outputs": [
        {
          "output_type": "stream",
          "text": [
            "0 [2 3] 4\n"
          ],
          "name": "stdout"
        },
        {
          "output_type": "execute_result",
          "data": {
            "text/plain": [
              "array([0, 1, 2])"
            ]
          },
          "metadata": {
            "tags": []
          },
          "execution_count": 25
        }
      ]
    },
    {
      "cell_type": "markdown",
      "metadata": {
        "id": "c8HJivD-Bg4m"
      },
      "source": [
        "`l = [1, 2, 3, 4, 5, 6, 7, 8, 9]`\n",
        "\n",
        "`l[0:2]`\n",
        "\n",
        "`l[2:4]`\n",
        "\n",
        "`l[4:6]`"
      ]
    },
    {
      "cell_type": "markdown",
      "metadata": {
        "id": "BmxbAWN6f9rA"
      },
      "source": [
        "Una matriz es simplemente un arreglo de arreglos y sus elementos se acceden usando 2 indices"
      ]
    },
    {
      "cell_type": "code",
      "metadata": {
        "colab": {
          "base_uri": "https://localhost:8080/"
        },
        "id": "d09KTluOfKs4",
        "outputId": "933c54a5-b9d6-463d-c745-25b8ee43bac7"
      },
      "source": [
        "mat = np.random.randint(low=0, high=10, size=(3, 4))\n",
        "\n",
        "print(\"Una matriz\")\n",
        "print(mat)\n",
        "print(\"Un elemento\")\n",
        "print(mat[1, 2])\n",
        "print(\"Una fila\")\n",
        "print(mat[1, :])\n",
        "print(\"Una columna\")\n",
        "print(mat[:, 1])\n",
        "print(\"Un subconjunto\")\n",
        "print(mat[0:2, 1:4])"
      ],
      "execution_count": 26,
      "outputs": [
        {
          "output_type": "stream",
          "text": [
            "Una matriz\n",
            "[[1 2 8 6]\n",
            " [0 3 8 2]\n",
            " [2 8 3 1]]\n",
            "Un elemento\n",
            "8\n",
            "Una fila\n",
            "[0 3 8 2]\n",
            "Una columna\n",
            "[2 3 8]\n",
            "Un subconjunto\n",
            "[[2 8 6]\n",
            " [3 8 2]]\n"
          ],
          "name": "stdout"
        }
      ]
    },
    {
      "cell_type": "markdown",
      "metadata": {
        "id": "Ecqc-aToh108"
      },
      "source": [
        "Otra forma de seleccionar datos es usando operaciones lógicas, mediante las que podemos extraer solo los datos que cumplan ciertos requisitos. Por ejemplo: creamos una población normalmente distribuida de estaturas, con media $\\mu=160$cm y desviación estándar $\\sigma=5$cm"
      ]
    },
    {
      "cell_type": "code",
      "metadata": {
        "colab": {
          "base_uri": "https://localhost:8080/"
        },
        "id": "ttJSt2Lcff8S",
        "outputId": "d6897128-964a-4444-c2bc-bd8afe6ab9d8"
      },
      "source": [
        "estaturas = np.random.normal(loc=160, scale=5, size=10000)\n",
        "estaturas"
      ],
      "execution_count": 27,
      "outputs": [
        {
          "output_type": "execute_result",
          "data": {
            "text/plain": [
              "array([157.05777342, 161.14467476, 157.56068287, ..., 171.43227894,\n",
              "       160.87830961, 157.31180058])"
            ]
          },
          "metadata": {
            "tags": []
          },
          "execution_count": 27
        }
      ]
    },
    {
      "cell_type": "markdown",
      "metadata": {
        "id": "Sdv3HYsuiqQH"
      },
      "source": [
        "Cuántas personas tienen estatura mayor a 175 ?"
      ]
    },
    {
      "cell_type": "code",
      "metadata": {
        "colab": {
          "base_uri": "https://localhost:8080/"
        },
        "id": "7OlASQE7ikc-",
        "outputId": "36bb8c7d-abc3-45c9-ae8c-c9072ac80657"
      },
      "source": [
        "cond1 = estaturas > 159\n",
        "cond2 = estaturas < 161\n",
        "\n",
        "estaturas[(estaturas >= 159) & (estaturas <= 161)] # Otros operadores: distinto != , no ~, o | \n",
        "estaturas[cond1 & cond2] ## Estas dos cosas son lo mismo"
      ],
      "execution_count": 28,
      "outputs": [
        {
          "output_type": "execute_result",
          "data": {
            "text/plain": [
              "array([160.51424975, 159.74898656, 159.10676336, ..., 160.29207534,\n",
              "       160.16862389, 160.87830961])"
            ]
          },
          "metadata": {
            "tags": []
          },
          "execution_count": 28
        }
      ]
    },
    {
      "cell_type": "markdown",
      "metadata": {
        "id": "6DVDW7EWsbek"
      },
      "source": [
        "- Estadística Descriptiva.\n",
        "\n",
        "\n",
        "| Sintaxis\t| Descripcion |\n",
        "|-----------|-------------|\n",
        "min() |\tMinimo\n",
        "max()\t| Maximo\n",
        "ptp()\t| Rango\n",
        "percentile(a, p)\t| Percentil p\n",
        "median(a)\t| Mediana\n",
        "mean()\t| Promedio\n",
        "std()\t| Desviacion Standard\n",
        "var()\t| Varianza"
      ]
    },
    {
      "cell_type": "code",
      "metadata": {
        "colab": {
          "base_uri": "https://localhost:8080/"
        },
        "id": "PSbA4zcNtQ00",
        "outputId": "a907c5f1-2849-42fb-9242-214daa268091"
      },
      "source": [
        "print(\"promedio:\")\n",
        "print(np.mean(estaturas[estaturas > 175]))\n",
        "print(\"varianza:\")\n",
        "print(np.var(estaturas))"
      ],
      "execution_count": 29,
      "outputs": [
        {
          "output_type": "stream",
          "text": [
            "promedio:\n",
            "176.59209806871112\n",
            "varianza:\n",
            "25.002500468831474\n"
          ],
          "name": "stdout"
        }
      ]
    },
    {
      "cell_type": "markdown",
      "metadata": {
        "id": "dYlf1IaAkv0R"
      },
      "source": [
        "- Estructuras de control. Principalmente usaremos estructuras condicionales `if-else`, `np.where` y ciclos `for`"
      ]
    },
    {
      "cell_type": "markdown",
      "metadata": {
        "id": "qZ_-tAH3Kc1f"
      },
      "source": [
        "`Python` a diferencia de `R` trabaja con identación en vez de parentesis de llave para encapsular lo que está dentro de una estructura de control (ciclo, función, etc). La identación es un tabulador o 4 espacios sucesivos a la linea siguiente (enter) de la estructura de control. Es decir, algo que en `R` sería de la siguiente forma:\n",
        "```\n",
        "if(condicion){\n",
        "acción\n",
        "}\n",
        "```\n",
        "En `python` sería de la siguiente estructura:\n",
        "```\n",
        "if condicion:\n",
        "    acción\n",
        "```\n",
        "(¡Notar los 4 espacios debajo del if!)"
      ]
    },
    {
      "cell_type": "code",
      "metadata": {
        "colab": {
          "base_uri": "https://localhost:8080/"
        },
        "id": "lCCVu7Ozi_ji",
        "outputId": "bd035658-50e4-4c6d-f3a3-f79bf3d6bec9"
      },
      "source": [
        "nota = 3.5\n",
        "\n",
        "if nota > 5.5:\n",
        "    print('Eximido')\n",
        "elif nota > 4.0:\n",
        "    print('A dar examen')\n",
        "else:\n",
        "    print('A Salvar el ramo')"
      ],
      "execution_count": 30,
      "outputs": [
        {
          "output_type": "stream",
          "text": [
            "A Salvar el ramo\n"
          ],
          "name": "stdout"
        }
      ]
    },
    {
      "cell_type": "markdown",
      "metadata": {
        "id": "AdYuAE58Kc1f"
      },
      "source": [
        "Si deseamos evaluar de forma secuencial varias preguntas para un vector, la funcion np.where es la solución, la cual funciona como:\n",
        "\n",
        "np.where( condicion, que hacer si es cierto, que hacer si es falso ) y se puede colocar un np where dentro de otro:"
      ]
    },
    {
      "cell_type": "code",
      "metadata": {
        "id": "wHNSytAlKc1f",
        "colab": {
          "base_uri": "https://localhost:8080/",
          "height": 175
        },
        "outputId": "116301be-e28a-4d6c-a6ec-024913a4b83a"
      },
      "source": [
        "notas = {\"notas\": [7,2.8,5.2,6.3]}\n",
        "df2 = pd.DataFrame(notas)\n",
        "df2"
      ],
      "execution_count": 31,
      "outputs": [
        {
          "output_type": "execute_result",
          "data": {
            "text/html": [
              "<div>\n",
              "<style scoped>\n",
              "    .dataframe tbody tr th:only-of-type {\n",
              "        vertical-align: middle;\n",
              "    }\n",
              "\n",
              "    .dataframe tbody tr th {\n",
              "        vertical-align: top;\n",
              "    }\n",
              "\n",
              "    .dataframe thead th {\n",
              "        text-align: right;\n",
              "    }\n",
              "</style>\n",
              "<table border=\"1\" class=\"dataframe\">\n",
              "  <thead>\n",
              "    <tr style=\"text-align: right;\">\n",
              "      <th></th>\n",
              "      <th>notas</th>\n",
              "    </tr>\n",
              "  </thead>\n",
              "  <tbody>\n",
              "    <tr>\n",
              "      <th>0</th>\n",
              "      <td>7.0</td>\n",
              "    </tr>\n",
              "    <tr>\n",
              "      <th>1</th>\n",
              "      <td>2.8</td>\n",
              "    </tr>\n",
              "    <tr>\n",
              "      <th>2</th>\n",
              "      <td>5.2</td>\n",
              "    </tr>\n",
              "    <tr>\n",
              "      <th>3</th>\n",
              "      <td>6.3</td>\n",
              "    </tr>\n",
              "  </tbody>\n",
              "</table>\n",
              "</div>"
            ],
            "text/plain": [
              "   notas\n",
              "0    7.0\n",
              "1    2.8\n",
              "2    5.2\n",
              "3    6.3"
            ]
          },
          "metadata": {
            "tags": []
          },
          "execution_count": 31
        }
      ]
    },
    {
      "cell_type": "code",
      "metadata": {
        "id": "zQ1et-n3Kc1f",
        "colab": {
          "base_uri": "https://localhost:8080/"
        },
        "outputId": "c3d71de8-da05-485a-c699-bb4b798ecf25"
      },
      "source": [
        "np.where(df2['notas']>=5.5,'Eximido',\n",
        "         np.where(df2['notas']>=4.0,'a dar examen','A Salvar el ramo')  )"
      ],
      "execution_count": 32,
      "outputs": [
        {
          "output_type": "execute_result",
          "data": {
            "text/plain": [
              "array(['Eximido', 'A Salvar el ramo', 'a dar examen', 'Eximido'],\n",
              "      dtype='<U16')"
            ]
          },
          "metadata": {
            "tags": []
          },
          "execution_count": 32
        }
      ]
    },
    {
      "cell_type": "markdown",
      "metadata": {
        "id": "X4znfoqSpaK7"
      },
      "source": [
        "Los ciclos en `python` se caracterizan por tener una sintaxis un poco distinta, aunque intuitiva cuando uno se acostumbra. Tradicionalmente, uno definir un índice que recorre un conjunto de valores `for(i=0, i<n, i++)`. Python recibe \n",
        "- Una lista de valores sobre los que itera\n",
        "- El nombre de una variable que irá recorriendo esa lista\n",
        "- Las instrucciones que se deben ejecutar"
      ]
    },
    {
      "cell_type": "code",
      "metadata": {
        "colab": {
          "base_uri": "https://localhost:8080/"
        },
        "id": "Brr9RNfdpWDH",
        "outputId": "820a08a0-8dc5-44dc-8a89-8e9f80e2ed34"
      },
      "source": [
        "notas = np.random.normal(4.5, 0.5, 10)\n",
        "notas"
      ],
      "execution_count": 33,
      "outputs": [
        {
          "output_type": "execute_result",
          "data": {
            "text/plain": [
              "array([5.06909522, 4.72748053, 4.03815063, 5.67853387, 4.18971598,\n",
              "       4.21744525, 4.87439409, 3.67966018, 4.6775262 , 4.47959409])"
            ]
          },
          "metadata": {
            "tags": []
          },
          "execution_count": 33
        }
      ]
    },
    {
      "cell_type": "code",
      "metadata": {
        "colab": {
          "base_uri": "https://localhost:8080/"
        },
        "id": "dXxSMgglrCGl",
        "outputId": "8ff289cb-a6f6-4d26-9f85-15155ce531e8"
      },
      "source": [
        "for nota in notas:\n",
        "    print(nota + 0.5)"
      ],
      "execution_count": 34,
      "outputs": [
        {
          "output_type": "stream",
          "text": [
            "5.5690952242558\n",
            "5.2274805278217995\n",
            "4.538150627774612\n",
            "6.178533866663223\n",
            "4.689715980502223\n",
            "4.717445248745172\n",
            "5.374394085133628\n",
            "4.179660180667594\n",
            "5.177526196991383\n",
            "4.979594088436848\n"
          ],
          "name": "stdout"
        }
      ]
    },
    {
      "cell_type": "markdown",
      "metadata": {
        "id": "Z2B7FmVtKc1g"
      },
      "source": [
        "Aunque también podemos recorrer un data frame de manera muy parecida a R, esto lo podemos hacer con un iterrows:"
      ]
    },
    {
      "cell_type": "code",
      "metadata": {
        "id": "oQK0ZFciKc1g",
        "colab": {
          "base_uri": "https://localhost:8080/",
          "height": 143
        },
        "outputId": "96adff1d-2b6e-41dc-9859-c7521c9676a2"
      },
      "source": [
        "df"
      ],
      "execution_count": 35,
      "outputs": [
        {
          "output_type": "execute_result",
          "data": {
            "text/html": [
              "<div>\n",
              "<style scoped>\n",
              "    .dataframe tbody tr th:only-of-type {\n",
              "        vertical-align: middle;\n",
              "    }\n",
              "\n",
              "    .dataframe tbody tr th {\n",
              "        vertical-align: top;\n",
              "    }\n",
              "\n",
              "    .dataframe thead th {\n",
              "        text-align: right;\n",
              "    }\n",
              "</style>\n",
              "<table border=\"1\" class=\"dataframe\">\n",
              "  <thead>\n",
              "    <tr style=\"text-align: right;\">\n",
              "      <th></th>\n",
              "      <th>meses</th>\n",
              "      <th>poleras</th>\n",
              "    </tr>\n",
              "  </thead>\n",
              "  <tbody>\n",
              "    <tr>\n",
              "      <th>0</th>\n",
              "      <td>Ene</td>\n",
              "      <td>100</td>\n",
              "    </tr>\n",
              "    <tr>\n",
              "      <th>1</th>\n",
              "      <td>Feb</td>\n",
              "      <td>200</td>\n",
              "    </tr>\n",
              "    <tr>\n",
              "      <th>2</th>\n",
              "      <td>Mar</td>\n",
              "      <td>305</td>\n",
              "    </tr>\n",
              "  </tbody>\n",
              "</table>\n",
              "</div>"
            ],
            "text/plain": [
              "  meses  poleras\n",
              "0   Ene      100\n",
              "1   Feb      200\n",
              "2   Mar      305"
            ]
          },
          "metadata": {
            "tags": []
          },
          "execution_count": 35
        }
      ]
    },
    {
      "cell_type": "code",
      "metadata": {
        "id": "5Fa7MVkKKc1g",
        "colab": {
          "base_uri": "https://localhost:8080/"
        },
        "outputId": "f1b4f798-98b2-4317-b44f-ce4a83fa2cdc"
      },
      "source": [
        "for i,j in df.iterrows():\n",
        "    print(df['meses'][i])\n",
        "    print(\" \")"
      ],
      "execution_count": 36,
      "outputs": [
        {
          "output_type": "stream",
          "text": [
            "Ene\n",
            " \n",
            "Feb\n",
            " \n",
            "Mar\n",
            " \n"
          ],
          "name": "stdout"
        }
      ]
    },
    {
      "cell_type": "markdown",
      "metadata": {
        "id": "jmoJbOf5Kc1g"
      },
      "source": [
        "Necesitamos rescatar el i,j si queremos usar iterrows, i nos da la posicion que buscamos para ser un simil con R, y j nos entregaría toda la fila, que en la práctica no solemos usar"
      ]
    },
    {
      "cell_type": "code",
      "metadata": {
        "id": "2dIjtu62Kc1g",
        "colab": {
          "base_uri": "https://localhost:8080/"
        },
        "outputId": "e1f3a6a7-6aa2-4dac-a5af-a8cefc17ddc5"
      },
      "source": [
        "for i,j in df.iterrows():\n",
        "    print(j)"
      ],
      "execution_count": 37,
      "outputs": [
        {
          "output_type": "stream",
          "text": [
            "meses      Ene\n",
            "poleras    100\n",
            "Name: 0, dtype: object\n",
            "meses      Feb\n",
            "poleras    200\n",
            "Name: 1, dtype: object\n",
            "meses      Mar\n",
            "poleras    305\n",
            "Name: 2, dtype: object\n"
          ],
          "name": "stdout"
        }
      ]
    },
    {
      "cell_type": "markdown",
      "metadata": {
        "id": "N37nfgCCKc1g"
      },
      "source": [
        "## Funciones y programación funcional"
      ]
    },
    {
      "cell_type": "markdown",
      "metadata": {
        "id": "3ITJcrYaKc1g"
      },
      "source": [
        "Las funciones en python trabajan de manera similar a `R` a través del comando `def`"
      ]
    },
    {
      "cell_type": "code",
      "metadata": {
        "id": "nJ3k5o9fKc1h"
      },
      "source": [
        "def primera_funcion(x):\n",
        "    variable_auxiliar = x*2\n",
        "    return variable_auxiliar"
      ],
      "execution_count": 38,
      "outputs": []
    },
    {
      "cell_type": "code",
      "metadata": {
        "id": "0EHiZPWzKc1h",
        "colab": {
          "base_uri": "https://localhost:8080/"
        },
        "outputId": "6df01c2a-3e53-4f5a-ca79-523f901298ad"
      },
      "source": [
        "primera_funcion(3)"
      ],
      "execution_count": 39,
      "outputs": [
        {
          "output_type": "execute_result",
          "data": {
            "text/plain": [
              "6"
            ]
          },
          "metadata": {
            "tags": []
          },
          "execution_count": 39
        }
      ]
    },
    {
      "cell_type": "markdown",
      "metadata": {
        "id": "xKOxh31kKc1h"
      },
      "source": [
        "Tampoco es necesario definir variables auxiliares:"
      ]
    },
    {
      "cell_type": "code",
      "metadata": {
        "id": "O2C8lM7dKc1h",
        "colab": {
          "base_uri": "https://localhost:8080/"
        },
        "outputId": "fd417a03-c351-403f-bb28-b8383d7548b3"
      },
      "source": [
        "def segunda_funcion(x):\n",
        "    return x*2\n",
        "\n",
        "segunda_funcion(3)"
      ],
      "execution_count": 40,
      "outputs": [
        {
          "output_type": "execute_result",
          "data": {
            "text/plain": [
              "6"
            ]
          },
          "metadata": {
            "tags": []
          },
          "execution_count": 40
        }
      ]
    },
    {
      "cell_type": "markdown",
      "metadata": {
        "id": "DcLRGBBTvjMP"
      },
      "source": [
        "`loc`, sentencia que ayuda a filtrar datos, con índices fila, columna."
      ]
    },
    {
      "cell_type": "code",
      "metadata": {
        "id": "ot7Nyqx-vbvy",
        "outputId": "ca449114-9516-4331-9545-00b43930099a",
        "colab": {
          "base_uri": "https://localhost:8080/"
        }
      },
      "source": [
        "df.loc[1,'poleras']"
      ],
      "execution_count": 45,
      "outputs": [
        {
          "output_type": "execute_result",
          "data": {
            "text/plain": [
              "200"
            ]
          },
          "metadata": {
            "tags": []
          },
          "execution_count": 45
        }
      ]
    },
    {
      "cell_type": "markdown",
      "metadata": {
        "id": "LGWzF22tKc1h"
      },
      "source": [
        "La programación funcional tiene como objetivo utilizar las funciones `filter`, `map` y `reduce` para poder iterar de manera masiva algo, evitando ciclos `for`. Es la manera en la que se trabaja el mundo del BigData."
      ]
    },
    {
      "cell_type": "markdown",
      "metadata": {
        "id": "bO_hwSZVKc1h"
      },
      "source": [
        "La estructura es map(funcion, objeto_a_iterar)\n",
        "\n",
        "> Bloque con sangría\n",
        "\n",
        "\n",
        "\n",
        "Veremos en el siguiente ejemplo que 'mapearemos' una lista de palabras, y veremos si la primera letra es una 'A' o no. (Solo usaremos mayúsculas para este ejemplo, pero podemos también diferenciar ese aspecto)"
      ]
    },
    {
      "cell_type": "markdown",
      "metadata": {
        "id": "OeLZAv3JKc1h"
      },
      "source": [
        "Primero realizaremos el ejemplo a través de un `for` y luego lo realizaremos de manera funcional.\n",
        "\n",
        "hint: para guardar los resultados dentro de la lista, utilizaremos el comando lista.append()"
      ]
    },
    {
      "cell_type": "code",
      "metadata": {
        "id": "0MiA51bIKc1h",
        "colab": {
          "base_uri": "https://localhost:8080/"
        },
        "outputId": "7832dd0e-a4ec-4d21-e885-08ef9ed80e2f"
      },
      "source": [
        "def comienza_con_A(x):\n",
        "    return x[0] == \"A\"\n",
        "\n",
        "colores = ['ROJO','VERDE','AZUL','AMARILLO','NARANJO']\n",
        "\n",
        "vector_auxiliar = []\n",
        "for i in colores:\n",
        "    vector_auxiliar.append(comienza_con_A(i))\n",
        "\n",
        "vector_auxiliar"
      ],
      "execution_count": 41,
      "outputs": [
        {
          "output_type": "execute_result",
          "data": {
            "text/plain": [
              "[False, False, True, True, False]"
            ]
          },
          "metadata": {
            "tags": []
          },
          "execution_count": 41
        }
      ]
    },
    {
      "cell_type": "markdown",
      "metadata": {
        "id": "JtNcAuliKc1h"
      },
      "source": [
        "Realizando lo mismo a través de map:"
      ]
    },
    {
      "cell_type": "code",
      "metadata": {
        "id": "W0NzBW9tKc1i",
        "colab": {
          "base_uri": "https://localhost:8080/"
        },
        "outputId": "31d0f9b3-de1b-47f3-ee23-09696c65815f"
      },
      "source": [
        "objeto_mapeado = map(comienza_con_A, colores)\n",
        "objeto_mapeado"
      ],
      "execution_count": 47,
      "outputs": [
        {
          "output_type": "execute_result",
          "data": {
            "text/plain": [
              "[False, False, True, True, False]"
            ]
          },
          "metadata": {
            "tags": []
          },
          "execution_count": 47
        }
      ]
    },
    {
      "cell_type": "markdown",
      "metadata": {
        "id": "c5WlhCDqKc1i"
      },
      "source": [
        "Veamos que el objeto no entrega nada, por lo que debemos extraer su resultado como lista:"
      ]
    },
    {
      "cell_type": "code",
      "metadata": {
        "id": "xOjDKjeLKc1i",
        "colab": {
          "base_uri": "https://localhost:8080/"
        },
        "outputId": "dbca4854-6561-4a9b-d662-c7b6a7892440"
      },
      "source": [
        "list(objeto_mapeado)"
      ],
      "execution_count": 43,
      "outputs": [
        {
          "output_type": "execute_result",
          "data": {
            "text/plain": [
              "[False, False, True, True, False]"
            ]
          },
          "metadata": {
            "tags": []
          },
          "execution_count": 43
        }
      ]
    },
    {
      "cell_type": "markdown",
      "metadata": {
        "id": "tKUDraNhKc1i"
      },
      "source": [
        "Otro beneficio de map es que una función no es necesario que sea guardada en la memoria para poder ser utilizada con map. Se pueden realizar funciones de manera temporal, las cuales son llamadas funciones `lambda`. Su estructura se define como:\n",
        "\n",
        "`lambda x: f(x)`\n",
        "\n",
        "Así, el siguiente caso es igual al anterior, pero sin guardar la funcion en memoria"
      ]
    },
    {
      "cell_type": "code",
      "metadata": {
        "id": "N3Ke64cnKc1i",
        "colab": {
          "base_uri": "https://localhost:8080/"
        },
        "outputId": "3d0f20ac-4860-4763-ea72-9894cc2a576e"
      },
      "source": [
        "list(map(lambda x:  x[0] == \"A\", colores))"
      ],
      "execution_count": 48,
      "outputs": [
        {
          "output_type": "execute_result",
          "data": {
            "text/plain": [
              "[False, False, True, True, False]"
            ]
          },
          "metadata": {
            "tags": []
          },
          "execution_count": 48
        }
      ]
    },
    {
      "cell_type": "markdown",
      "metadata": {
        "id": "608u-6-CKc1i"
      },
      "source": [
        "El cual es un objeto que gasta menos memoria, es más rápido y más eficiente en código. Ideal para cuando trabajemos con grandes volumenes de datos."
      ]
    },
    {
      "cell_type": "markdown",
      "metadata": {
        "id": "vEFlGHK4Kc1i"
      },
      "source": [
        "Para poder extraer los valores y no un vector, utilizamos el comando `filter` bajo la misma estructura que `map`"
      ]
    },
    {
      "cell_type": "code",
      "metadata": {
        "id": "Vw7ppmImKc1i",
        "colab": {
          "base_uri": "https://localhost:8080/"
        },
        "outputId": "96168b03-f469-4a03-84dc-6b5eb3a2cc57"
      },
      "source": [
        "list(filter(lambda x:  x[0] == \"A\", colores))"
      ],
      "execution_count": 49,
      "outputs": [
        {
          "output_type": "execute_result",
          "data": {
            "text/plain": [
              "['AZUL', 'AMARILLO']"
            ]
          },
          "metadata": {
            "tags": []
          },
          "execution_count": 49
        }
      ]
    },
    {
      "cell_type": "markdown",
      "metadata": {
        "id": "SQjk-y-GyE1g"
      },
      "source": [
        "Comando set() extrae los valores únicos."
      ]
    },
    {
      "cell_type": "code",
      "metadata": {
        "id": "IjjS6IUpyIsi",
        "outputId": "b319ff34-1360-4101-b345-039ebcc0bb51",
        "colab": {
          "base_uri": "https://localhost:8080/"
        }
      },
      "source": [
        "set(list(filter(lambda x: x[0] == \"A\", colores)))"
      ],
      "execution_count": 50,
      "outputs": [
        {
          "output_type": "execute_result",
          "data": {
            "text/plain": [
              "{'AMARILLO', 'AZUL'}"
            ]
          },
          "metadata": {
            "tags": []
          },
          "execution_count": 50
        }
      ]
    },
    {
      "cell_type": "markdown",
      "metadata": {
        "id": "FES0OrLIKc1i"
      },
      "source": [
        "Finalmente, la función `reduce` funciona de manera diferente a las otras 2 anteriores. Primero que todo, no es nativo a python por lo que debemos importarlo de la libreria `functools `. Luego reduce no devuelve una lista basada en los resultados de cada evaluación, sino una salida única luego de operar sucesivamente. Para ejemplificarlo, supongamos que tenemos una lista y queremos el resultado de la multiplicación de todos los números de esa lista. Primero lo resolveremos con un `for` y luego con `reduce` al igual que antes:"
      ]
    },
    {
      "cell_type": "code",
      "metadata": {
        "id": "GNrHk9PZKc1j",
        "outputId": "ff9415fd-7f16-45e9-c74c-9c8a7239a4c3"
      },
      "source": [
        "productoria = 1\n",
        "numeros = [1, 2, 3, 4]\n",
        "for i in numeros:\n",
        "    productoria = productoria * i\n",
        "\n",
        "productoria"
      ],
      "execution_count": null,
      "outputs": [
        {
          "output_type": "execute_result",
          "data": {
            "text/plain": [
              "24"
            ]
          },
          "metadata": {
            "tags": []
          },
          "execution_count": 42
        }
      ]
    },
    {
      "cell_type": "code",
      "metadata": {
        "id": "SxlrLtBLKc1j",
        "outputId": "a4390bed-c759-4b09-e77c-ac86885e2e70"
      },
      "source": [
        "from functools import reduce\n",
        "productoria = reduce((lambda x, y: x * y), numeros)\n",
        "productoria"
      ],
      "execution_count": null,
      "outputs": [
        {
          "output_type": "execute_result",
          "data": {
            "text/plain": [
              "24"
            ]
          },
          "metadata": {
            "tags": []
          },
          "execution_count": 43
        }
      ]
    },
    {
      "cell_type": "markdown",
      "metadata": {
        "id": "beV8kElXKc1j"
      },
      "source": [
        "Notemos que la función `lambda` internamente definida toma 2 variables, donde la primera es la evaluada en la lista y la segunda es el resultado que lleva acarreando de los calculos sucesivos"
      ]
    },
    {
      "cell_type": "markdown",
      "metadata": {
        "id": "tAE205ZUKc1j"
      },
      "source": [
        "# Ejercicios\n",
        "\n",
        "### 1) Tratamiento inicial:\n",
        "Considere los siguientes datos de peso (en kilos) y altura (en centímetros) de 10 pacientes: "
      ]
    },
    {
      "cell_type": "code",
      "metadata": {
        "id": "yfuKauSGKc1j"
      },
      "source": [
        "pesos=[63,72,83,54,91,53,68,89]\n",
        "alturas=[152, 179, 170, 172, 169, 153, 161, 190]"
      ],
      "execution_count": 213,
      "outputs": []
    },
    {
      "cell_type": "markdown",
      "metadata": {
        "id": "4dvGyw-OKc1j"
      },
      "source": [
        "   * a) Entregue el peso y las alturas de los primeros 4 pacientes.\n",
        "   * b) Entregue el peso y las alturas de los últimos 3 pacientes.\n",
        "   * c) Entregue el peso y las alturas de los 2 pacientes de al medio.\n",
        "   * d) Calcule el promedio, varianza y desviación estándar de los pesos y las alturas de los pacientes.\n",
        "   * e) Calcule el rango y el primer, segundo y tercer cuartil de los pesos y las alturas de los pacientes.\n",
        "   * f) Defina una función que calcule el IMC para cada paciente (el IMC corresponde al peso (en kilos) dividido en la altura (en metros cuadrados)\n",
        "   * g) En base a los IMC antes calculados, categorice cada paciente de modo que debajo de 18.5 indique Bajo peso, de 18.5 a 24.9 indique Normal, y en otro caso indique Sobrepeso/Obesidad."
      ]
    },
    {
      "cell_type": "code",
      "metadata": {
        "id": "_36F_KCL02rq"
      },
      "source": [
        "import pandas as pd\n",
        "\n",
        "df = pd.DataFrame({\"pesos\": pesos, \"alturas\": alturas})"
      ],
      "execution_count": 225,
      "outputs": []
    },
    {
      "cell_type": "code",
      "metadata": {
        "id": "ZcYRdEJF9Oh7",
        "outputId": "1929f067-3943-46ba-c1af-988b27177635",
        "colab": {
          "base_uri": "https://localhost:8080/",
          "height": 175
        }
      },
      "source": [
        "#a) Entregue el peso y las alturas de los primeros 4 pacientes.\n",
        "df.head(4)"
      ],
      "execution_count": 226,
      "outputs": [
        {
          "output_type": "execute_result",
          "data": {
            "text/html": [
              "<div>\n",
              "<style scoped>\n",
              "    .dataframe tbody tr th:only-of-type {\n",
              "        vertical-align: middle;\n",
              "    }\n",
              "\n",
              "    .dataframe tbody tr th {\n",
              "        vertical-align: top;\n",
              "    }\n",
              "\n",
              "    .dataframe thead th {\n",
              "        text-align: right;\n",
              "    }\n",
              "</style>\n",
              "<table border=\"1\" class=\"dataframe\">\n",
              "  <thead>\n",
              "    <tr style=\"text-align: right;\">\n",
              "      <th></th>\n",
              "      <th>pesos</th>\n",
              "      <th>alturas</th>\n",
              "    </tr>\n",
              "  </thead>\n",
              "  <tbody>\n",
              "    <tr>\n",
              "      <th>0</th>\n",
              "      <td>63</td>\n",
              "      <td>152</td>\n",
              "    </tr>\n",
              "    <tr>\n",
              "      <th>1</th>\n",
              "      <td>72</td>\n",
              "      <td>179</td>\n",
              "    </tr>\n",
              "    <tr>\n",
              "      <th>2</th>\n",
              "      <td>83</td>\n",
              "      <td>170</td>\n",
              "    </tr>\n",
              "    <tr>\n",
              "      <th>3</th>\n",
              "      <td>54</td>\n",
              "      <td>172</td>\n",
              "    </tr>\n",
              "  </tbody>\n",
              "</table>\n",
              "</div>"
            ],
            "text/plain": [
              "   pesos  alturas\n",
              "0     63      152\n",
              "1     72      179\n",
              "2     83      170\n",
              "3     54      172"
            ]
          },
          "metadata": {
            "tags": []
          },
          "execution_count": 226
        }
      ]
    },
    {
      "cell_type": "code",
      "metadata": {
        "id": "Auc1QLMh957k",
        "outputId": "a0bc0ea4-1f90-4451-8dc5-8a24306ac77f",
        "colab": {
          "base_uri": "https://localhost:8080/",
          "height": 143
        }
      },
      "source": [
        "#b) Entregue el peso y las alturas de los últimos 3 pacientes.\n",
        "df.tail(n=3)"
      ],
      "execution_count": 227,
      "outputs": [
        {
          "output_type": "execute_result",
          "data": {
            "text/html": [
              "<div>\n",
              "<style scoped>\n",
              "    .dataframe tbody tr th:only-of-type {\n",
              "        vertical-align: middle;\n",
              "    }\n",
              "\n",
              "    .dataframe tbody tr th {\n",
              "        vertical-align: top;\n",
              "    }\n",
              "\n",
              "    .dataframe thead th {\n",
              "        text-align: right;\n",
              "    }\n",
              "</style>\n",
              "<table border=\"1\" class=\"dataframe\">\n",
              "  <thead>\n",
              "    <tr style=\"text-align: right;\">\n",
              "      <th></th>\n",
              "      <th>pesos</th>\n",
              "      <th>alturas</th>\n",
              "    </tr>\n",
              "  </thead>\n",
              "  <tbody>\n",
              "    <tr>\n",
              "      <th>5</th>\n",
              "      <td>53</td>\n",
              "      <td>153</td>\n",
              "    </tr>\n",
              "    <tr>\n",
              "      <th>6</th>\n",
              "      <td>68</td>\n",
              "      <td>161</td>\n",
              "    </tr>\n",
              "    <tr>\n",
              "      <th>7</th>\n",
              "      <td>89</td>\n",
              "      <td>190</td>\n",
              "    </tr>\n",
              "  </tbody>\n",
              "</table>\n",
              "</div>"
            ],
            "text/plain": [
              "   pesos  alturas\n",
              "5     53      153\n",
              "6     68      161\n",
              "7     89      190"
            ]
          },
          "metadata": {
            "tags": []
          },
          "execution_count": 227
        }
      ]
    },
    {
      "cell_type": "code",
      "metadata": {
        "id": "kAKv26Bz-l7p",
        "outputId": "1a95e93d-059f-4d05-8595-865ef2038ac9",
        "colab": {
          "base_uri": "https://localhost:8080/",
          "height": 112
        }
      },
      "source": [
        "#c) Entregue el peso y las alturas de los 2 pacientes de al medio.\n",
        "df[3:5]"
      ],
      "execution_count": 228,
      "outputs": [
        {
          "output_type": "execute_result",
          "data": {
            "text/html": [
              "<div>\n",
              "<style scoped>\n",
              "    .dataframe tbody tr th:only-of-type {\n",
              "        vertical-align: middle;\n",
              "    }\n",
              "\n",
              "    .dataframe tbody tr th {\n",
              "        vertical-align: top;\n",
              "    }\n",
              "\n",
              "    .dataframe thead th {\n",
              "        text-align: right;\n",
              "    }\n",
              "</style>\n",
              "<table border=\"1\" class=\"dataframe\">\n",
              "  <thead>\n",
              "    <tr style=\"text-align: right;\">\n",
              "      <th></th>\n",
              "      <th>pesos</th>\n",
              "      <th>alturas</th>\n",
              "    </tr>\n",
              "  </thead>\n",
              "  <tbody>\n",
              "    <tr>\n",
              "      <th>3</th>\n",
              "      <td>54</td>\n",
              "      <td>172</td>\n",
              "    </tr>\n",
              "    <tr>\n",
              "      <th>4</th>\n",
              "      <td>91</td>\n",
              "      <td>169</td>\n",
              "    </tr>\n",
              "  </tbody>\n",
              "</table>\n",
              "</div>"
            ],
            "text/plain": [
              "   pesos  alturas\n",
              "3     54      172\n",
              "4     91      169"
            ]
          },
          "metadata": {
            "tags": []
          },
          "execution_count": 228
        }
      ]
    },
    {
      "cell_type": "code",
      "metadata": {
        "id": "yEabI67NUQln",
        "outputId": "bd175860-de84-46aa-d676-a23a98ccd071",
        "colab": {
          "base_uri": "https://localhost:8080/"
        }
      },
      "source": [
        "#f) Defina una función que calcule el IMC para cada paciente (el IMC corresponde al peso (en kilos) dividido en la altura (en metros cuadrados)\n",
        "def IMC(DataFrame):\n",
        "  a = DataFrame[\"alturas\"]\n",
        "  p = DataFrame[\"pesos\"]\n",
        "  r = p / (a^2)*100\n",
        "  return r\n",
        "IMC(df)"
      ],
      "execution_count": 229,
      "outputs": [
        {
          "output_type": "execute_result",
          "data": {
            "text/plain": [
              "0    40.909091\n",
              "1    40.677966\n",
              "2    49.404762\n",
              "3    31.034483\n",
              "4    53.216374\n",
              "5    34.193548\n",
              "6    41.717791\n",
              "7    47.340426\n",
              "dtype: float64"
            ]
          },
          "metadata": {
            "tags": []
          },
          "execution_count": 229
        }
      ]
    },
    {
      "cell_type": "code",
      "metadata": {
        "id": "7bMAbCms3UmM"
      },
      "source": [
        "#g) En base a los IMC antes calculados, categorice cada paciente de modo que debajo de 18.5 indique Bajo peso, de 18.5 a 24.9 indique Normal, y en otro caso indique Sobrepeso/Obesidad.\n"
      ],
      "execution_count": 230,
      "outputs": []
    },
    {
      "cell_type": "code",
      "metadata": {
        "id": "nrzHj04W3iw6",
        "outputId": "5ffd6443-63c1-47a6-b9dd-422f9a6a905b",
        "colab": {
          "base_uri": "https://localhost:8080/"
        }
      },
      "source": [
        "print(pesos[3:5])\n",
        "print(alturas[3:5])"
      ],
      "execution_count": 68,
      "outputs": [
        {
          "output_type": "stream",
          "text": [
            "[54, 91]\n",
            "[172, 169]\n"
          ],
          "name": "stdout"
        }
      ]
    },
    {
      "cell_type": "markdown",
      "metadata": {
        "id": "ApT21-pKsG2S"
      },
      "source": [
        "### 2) Datos simulados:\n",
        "- a) Cree un conjunto de datos normalmente distribuidos, con media 100, desviacion estandard 10 y 150 elementos.\n",
        "- b) Calcule el rango y el primer, segundo y tercer cuartil\n",
        "- c) Elimine los elementos con valor mayor o igual a 120"
      ]
    },
    {
      "cell_type": "markdown",
      "metadata": {
        "id": "_sUhl_7tKc1j"
      },
      "source": [
        "### 3)  Map-Reduce\n",
        "#### Hint: para ambos ejercicios le puede ser ayuda la funcion `range`\n",
        "- a) Dado el siguiente vector:"
      ]
    },
    {
      "cell_type": "code",
      "metadata": {
        "id": "uBnkD3DYKc1j"
      },
      "source": [
        "aux = [3.4121571, 5.4441121, 4.93843, 56.12314, 9.61124651, 32.653131113]"
      ],
      "execution_count": null,
      "outputs": []
    },
    {
      "cell_type": "markdown",
      "metadata": {
        "id": "KE0p34p6Kc1j"
      },
      "source": [
        "Utilice la función `round` a través de un `map` para entregar el primer valor del vector aux redondeado a un número, el segundo valor de aux redondeado a dos números, el tercero a tres y así para todos los números de aux, es decir:\n",
        "\n",
        "3.4, 5.44, 4.938, 56.1231, 9.61125, 32.653131"
      ]
    },
    {
      "cell_type": "markdown",
      "metadata": {
        "id": "Muo5HuimKc1j"
      },
      "source": [
        "- b) Con la ayuda de la función reduce, calcule el factorial cualquier número: recordar que el factorial de un numero es la multiplicación suicesiva del mismo numero hasta 1: ejemplo: 5! = 5$\\bullet$4$\\bullet$3$\\bullet$2$\\bullet$1 = 120"
      ]
    },
    {
      "cell_type": "markdown",
      "metadata": {
        "id": "iZ1btyzMKc1j"
      },
      "source": [
        "\n",
        "## Próxima clase\n",
        "Estudiaremos como procesar y manipular tablas usando `pandas`! "
      ]
    }
  ]
}