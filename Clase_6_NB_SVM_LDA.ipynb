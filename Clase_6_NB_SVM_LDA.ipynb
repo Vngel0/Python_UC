{
  "nbformat": 4,
  "nbformat_minor": 0,
  "metadata": {
    "colab": {
      "name": "Clase 6 NB-SVM-LDA.ipynb",
      "provenance": [],
      "collapsed_sections": [],
      "include_colab_link": true
    },
    "kernelspec": {
      "display_name": "Python 3",
      "language": "python",
      "name": "python3"
    },
    "language_info": {
      "codemirror_mode": {
        "name": "ipython",
        "version": 3
      },
      "file_extension": ".py",
      "mimetype": "text/x-python",
      "name": "python",
      "nbconvert_exporter": "python",
      "pygments_lexer": "ipython3",
      "version": "3.8.3"
    }
  },
  "cells": [
    {
      "cell_type": "markdown",
      "metadata": {
        "id": "view-in-github",
        "colab_type": "text"
      },
      "source": [
        "<a href=\"https://colab.research.google.com/github/Vngel0/Python_UC/blob/main/Clase_6_NB_SVM_LDA.ipynb\" target=\"_parent\"><img src=\"https://colab.research.google.com/assets/colab-badge.svg\" alt=\"Open In Colab\"/></a>"
      ]
    },
    {
      "cell_type": "markdown",
      "metadata": {
        "id": "HtHKRT2g9r-b"
      },
      "source": [
        "# Support Vector Machine, LDA/QDA y Naive Bayes\n",
        "\n",
        "En esta clase, revisaremos tres modelos supervisados que sirven para problemas de clasificación. Los veremos con algunos sets de datos, revisaremos sus hiper-parámetros más relevantes y también compararemos los desempeños sobre el mismo dataset.\n",
        "\n",
        "## Support Vector Machine\n",
        "\n",
        "En su forma más simplificada es un algoritmo que busca separar (clasificar) dividiendo el espacio mediante un hiper-plano. Por supuesto lo anterior no solo no es visible al ojo humano en altas dimensiones si no que tampoco es muy util para configuraciones de datos más complejas, por ello una versión más general utiliza una curva que divide el plano en dos o más regiones y así permite generar clasificaciones más certeras.\n",
        "\n",
        "Para partir explicando este método cargaremos el set de datos que utilizaremos."
      ]
    },
    {
      "cell_type": "code",
      "metadata": {
        "colab": {
          "base_uri": "https://localhost:8080/",
          "height": 921
        },
        "id": "ycM9YaeA9r-c",
        "scrolled": true,
        "outputId": "b227780c-8431-4625-de66-397902d6fc3c"
      },
      "source": [
        "import numpy as np\n",
        "import pandas as pd\n",
        "import matplotlib.pyplot as plt\n",
        "import seaborn as sns\n",
        "\n",
        "from sklearn.datasets import load_breast_cancer\n",
        "\n",
        "Cancer_dataset = load_breast_cancer()\n",
        "display(Cancer_dataset)"
      ],
      "execution_count": null,
      "outputs": [
        {
          "output_type": "display_data",
          "data": {
            "text/plain": [
              "{'DESCR': '.. _breast_cancer_dataset:\\n\\nBreast cancer wisconsin (diagnostic) dataset\\n--------------------------------------------\\n\\n**Data Set Characteristics:**\\n\\n    :Number of Instances: 569\\n\\n    :Number of Attributes: 30 numeric, predictive attributes and the class\\n\\n    :Attribute Information:\\n        - radius (mean of distances from center to points on the perimeter)\\n        - texture (standard deviation of gray-scale values)\\n        - perimeter\\n        - area\\n        - smoothness (local variation in radius lengths)\\n        - compactness (perimeter^2 / area - 1.0)\\n        - concavity (severity of concave portions of the contour)\\n        - concave points (number of concave portions of the contour)\\n        - symmetry \\n        - fractal dimension (\"coastline approximation\" - 1)\\n\\n        The mean, standard error, and \"worst\" or largest (mean of the three\\n        largest values) of these features were computed for each image,\\n        resulting in 30 features.  For instance, field 3 is Mean Radius, field\\n        13 is Radius SE, field 23 is Worst Radius.\\n\\n        - class:\\n                - WDBC-Malignant\\n                - WDBC-Benign\\n\\n    :Summary Statistics:\\n\\n    ===================================== ====== ======\\n                                           Min    Max\\n    ===================================== ====== ======\\n    radius (mean):                        6.981  28.11\\n    texture (mean):                       9.71   39.28\\n    perimeter (mean):                     43.79  188.5\\n    area (mean):                          143.5  2501.0\\n    smoothness (mean):                    0.053  0.163\\n    compactness (mean):                   0.019  0.345\\n    concavity (mean):                     0.0    0.427\\n    concave points (mean):                0.0    0.201\\n    symmetry (mean):                      0.106  0.304\\n    fractal dimension (mean):             0.05   0.097\\n    radius (standard error):              0.112  2.873\\n    texture (standard error):             0.36   4.885\\n    perimeter (standard error):           0.757  21.98\\n    area (standard error):                6.802  542.2\\n    smoothness (standard error):          0.002  0.031\\n    compactness (standard error):         0.002  0.135\\n    concavity (standard error):           0.0    0.396\\n    concave points (standard error):      0.0    0.053\\n    symmetry (standard error):            0.008  0.079\\n    fractal dimension (standard error):   0.001  0.03\\n    radius (worst):                       7.93   36.04\\n    texture (worst):                      12.02  49.54\\n    perimeter (worst):                    50.41  251.2\\n    area (worst):                         185.2  4254.0\\n    smoothness (worst):                   0.071  0.223\\n    compactness (worst):                  0.027  1.058\\n    concavity (worst):                    0.0    1.252\\n    concave points (worst):               0.0    0.291\\n    symmetry (worst):                     0.156  0.664\\n    fractal dimension (worst):            0.055  0.208\\n    ===================================== ====== ======\\n\\n    :Missing Attribute Values: None\\n\\n    :Class Distribution: 212 - Malignant, 357 - Benign\\n\\n    :Creator:  Dr. William H. Wolberg, W. Nick Street, Olvi L. Mangasarian\\n\\n    :Donor: Nick Street\\n\\n    :Date: November, 1995\\n\\nThis is a copy of UCI ML Breast Cancer Wisconsin (Diagnostic) datasets.\\nhttps://goo.gl/U2Uwz2\\n\\nFeatures are computed from a digitized image of a fine needle\\naspirate (FNA) of a breast mass.  They describe\\ncharacteristics of the cell nuclei present in the image.\\n\\nSeparating plane described above was obtained using\\nMultisurface Method-Tree (MSM-T) [K. P. Bennett, \"Decision Tree\\nConstruction Via Linear Programming.\" Proceedings of the 4th\\nMidwest Artificial Intelligence and Cognitive Science Society,\\npp. 97-101, 1992], a classification method which uses linear\\nprogramming to construct a decision tree.  Relevant features\\nwere selected using an exhaustive search in the space of 1-4\\nfeatures and 1-3 separating planes.\\n\\nThe actual linear program used to obtain the separating plane\\nin the 3-dimensional space is that described in:\\n[K. P. Bennett and O. L. Mangasarian: \"Robust Linear\\nProgramming Discrimination of Two Linearly Inseparable Sets\",\\nOptimization Methods and Software 1, 1992, 23-34].\\n\\nThis database is also available through the UW CS ftp server:\\n\\nftp ftp.cs.wisc.edu\\ncd math-prog/cpo-dataset/machine-learn/WDBC/\\n\\n.. topic:: References\\n\\n   - W.N. Street, W.H. Wolberg and O.L. Mangasarian. Nuclear feature extraction \\n     for breast tumor diagnosis. IS&T/SPIE 1993 International Symposium on \\n     Electronic Imaging: Science and Technology, volume 1905, pages 861-870,\\n     San Jose, CA, 1993.\\n   - O.L. Mangasarian, W.N. Street and W.H. Wolberg. Breast cancer diagnosis and \\n     prognosis via linear programming. Operations Research, 43(4), pages 570-577, \\n     July-August 1995.\\n   - W.H. Wolberg, W.N. Street, and O.L. Mangasarian. Machine learning techniques\\n     to diagnose breast cancer from fine-needle aspirates. Cancer Letters 77 (1994) \\n     163-171.',\n",
              " 'data': array([[1.799e+01, 1.038e+01, 1.228e+02, ..., 2.654e-01, 4.601e-01,\n",
              "         1.189e-01],\n",
              "        [2.057e+01, 1.777e+01, 1.329e+02, ..., 1.860e-01, 2.750e-01,\n",
              "         8.902e-02],\n",
              "        [1.969e+01, 2.125e+01, 1.300e+02, ..., 2.430e-01, 3.613e-01,\n",
              "         8.758e-02],\n",
              "        ...,\n",
              "        [1.660e+01, 2.808e+01, 1.083e+02, ..., 1.418e-01, 2.218e-01,\n",
              "         7.820e-02],\n",
              "        [2.060e+01, 2.933e+01, 1.401e+02, ..., 2.650e-01, 4.087e-01,\n",
              "         1.240e-01],\n",
              "        [7.760e+00, 2.454e+01, 4.792e+01, ..., 0.000e+00, 2.871e-01,\n",
              "         7.039e-02]]),\n",
              " 'feature_names': array(['mean radius', 'mean texture', 'mean perimeter', 'mean area',\n",
              "        'mean smoothness', 'mean compactness', 'mean concavity',\n",
              "        'mean concave points', 'mean symmetry', 'mean fractal dimension',\n",
              "        'radius error', 'texture error', 'perimeter error', 'area error',\n",
              "        'smoothness error', 'compactness error', 'concavity error',\n",
              "        'concave points error', 'symmetry error',\n",
              "        'fractal dimension error', 'worst radius', 'worst texture',\n",
              "        'worst perimeter', 'worst area', 'worst smoothness',\n",
              "        'worst compactness', 'worst concavity', 'worst concave points',\n",
              "        'worst symmetry', 'worst fractal dimension'], dtype='<U23'),\n",
              " 'filename': '/usr/local/lib/python3.7/dist-packages/sklearn/datasets/data/breast_cancer.csv',\n",
              " 'target': array([0, 0, 0, 0, 0, 0, 0, 0, 0, 0, 0, 0, 0, 0, 0, 0, 0, 0, 0, 1, 1, 1,\n",
              "        0, 0, 0, 0, 0, 0, 0, 0, 0, 0, 0, 0, 0, 0, 0, 1, 0, 0, 0, 0, 0, 0,\n",
              "        0, 0, 1, 0, 1, 1, 1, 1, 1, 0, 0, 1, 0, 0, 1, 1, 1, 1, 0, 1, 0, 0,\n",
              "        1, 1, 1, 1, 0, 1, 0, 0, 1, 0, 1, 0, 0, 1, 1, 1, 0, 0, 1, 0, 0, 0,\n",
              "        1, 1, 1, 0, 1, 1, 0, 0, 1, 1, 1, 0, 0, 1, 1, 1, 1, 0, 1, 1, 0, 1,\n",
              "        1, 1, 1, 1, 1, 1, 1, 0, 0, 0, 1, 0, 0, 1, 1, 1, 0, 0, 1, 0, 1, 0,\n",
              "        0, 1, 0, 0, 1, 1, 0, 1, 1, 0, 1, 1, 1, 1, 0, 1, 1, 1, 1, 1, 1, 1,\n",
              "        1, 1, 0, 1, 1, 1, 1, 0, 0, 1, 0, 1, 1, 0, 0, 1, 1, 0, 0, 1, 1, 1,\n",
              "        1, 0, 1, 1, 0, 0, 0, 1, 0, 1, 0, 1, 1, 1, 0, 1, 1, 0, 0, 1, 0, 0,\n",
              "        0, 0, 1, 0, 0, 0, 1, 0, 1, 0, 1, 1, 0, 1, 0, 0, 0, 0, 1, 1, 0, 0,\n",
              "        1, 1, 1, 0, 1, 1, 1, 1, 1, 0, 0, 1, 1, 0, 1, 1, 0, 0, 1, 0, 1, 1,\n",
              "        1, 1, 0, 1, 1, 1, 1, 1, 0, 1, 0, 0, 0, 0, 0, 0, 0, 0, 0, 0, 0, 0,\n",
              "        0, 0, 1, 1, 1, 1, 1, 1, 0, 1, 0, 1, 1, 0, 1, 1, 0, 1, 0, 0, 1, 1,\n",
              "        1, 1, 1, 1, 1, 1, 1, 1, 1, 1, 1, 0, 1, 1, 0, 1, 0, 1, 1, 1, 1, 1,\n",
              "        1, 1, 1, 1, 1, 1, 1, 1, 1, 0, 1, 1, 1, 0, 1, 0, 1, 1, 1, 1, 0, 0,\n",
              "        0, 1, 1, 1, 1, 0, 1, 0, 1, 0, 1, 1, 1, 0, 1, 1, 1, 1, 1, 1, 1, 0,\n",
              "        0, 0, 1, 1, 1, 1, 1, 1, 1, 1, 1, 1, 1, 0, 0, 1, 0, 0, 0, 1, 0, 0,\n",
              "        1, 1, 1, 1, 1, 0, 1, 1, 1, 1, 1, 0, 1, 1, 1, 0, 1, 1, 0, 0, 1, 1,\n",
              "        1, 1, 1, 1, 0, 1, 1, 1, 1, 1, 1, 1, 0, 1, 1, 1, 1, 1, 0, 1, 1, 0,\n",
              "        1, 1, 1, 1, 1, 1, 1, 1, 1, 1, 1, 1, 0, 1, 0, 0, 1, 0, 1, 1, 1, 1,\n",
              "        1, 0, 1, 1, 0, 1, 0, 1, 1, 0, 1, 0, 1, 1, 1, 1, 1, 1, 1, 1, 0, 0,\n",
              "        1, 1, 1, 1, 1, 1, 0, 1, 1, 1, 1, 1, 1, 1, 1, 1, 1, 0, 1, 1, 1, 1,\n",
              "        1, 1, 1, 0, 1, 0, 1, 1, 0, 1, 1, 1, 1, 1, 0, 0, 1, 0, 1, 0, 1, 1,\n",
              "        1, 1, 1, 0, 1, 1, 0, 1, 0, 1, 0, 0, 1, 1, 1, 0, 1, 1, 1, 1, 1, 1,\n",
              "        1, 1, 1, 1, 1, 0, 1, 0, 0, 1, 1, 1, 1, 1, 1, 1, 1, 1, 1, 1, 1, 1,\n",
              "        1, 1, 1, 1, 1, 1, 1, 1, 1, 1, 1, 1, 0, 0, 0, 0, 0, 0, 1]),\n",
              " 'target_names': array(['malignant', 'benign'], dtype='<U9')}"
            ]
          },
          "metadata": {}
        }
      ]
    },
    {
      "cell_type": "code",
      "metadata": {
        "colab": {
          "base_uri": "https://localhost:8080/"
        },
        "id": "4j0tVKPQUOwY",
        "outputId": "9dd7ff58-e9b4-4b5e-8047-cb7c005049ca"
      },
      "source": [
        "Cancer_dataset['data'][0:2]"
      ],
      "execution_count": null,
      "outputs": [
        {
          "output_type": "execute_result",
          "data": {
            "text/plain": [
              "array([[1.799e+01, 1.038e+01, 1.228e+02, ..., 2.654e-01, 4.601e-01,\n",
              "        1.189e-01],\n",
              "       [2.057e+01, 1.777e+01, 1.329e+02, ..., 1.860e-01, 2.750e-01,\n",
              "        8.902e-02],\n",
              "       [1.969e+01, 2.125e+01, 1.300e+02, ..., 2.430e-01, 3.613e-01,\n",
              "        8.758e-02],\n",
              "       ...,\n",
              "       [1.660e+01, 2.808e+01, 1.083e+02, ..., 1.418e-01, 2.218e-01,\n",
              "        7.820e-02],\n",
              "       [2.060e+01, 2.933e+01, 1.401e+02, ..., 2.650e-01, 4.087e-01,\n",
              "        1.240e-01],\n",
              "       [7.760e+00, 2.454e+01, 4.792e+01, ..., 0.000e+00, 2.871e-01,\n",
              "        7.039e-02]])"
            ]
          },
          "metadata": {},
          "execution_count": 4
        }
      ]
    },
    {
      "cell_type": "code",
      "metadata": {
        "colab": {
          "base_uri": "https://localhost:8080/"
        },
        "id": "7FR-mtsMUOwZ",
        "outputId": "e814743d-a757-419c-c44e-9e5ffe8d71ff"
      },
      "source": [
        "Cancer_dataset['target'][0:20]"
      ],
      "execution_count": null,
      "outputs": [
        {
          "output_type": "execute_result",
          "data": {
            "text/plain": [
              "array([0, 0, 0, 0, 0, 0, 0, 0, 0, 0, 0, 0, 0, 0, 0, 0, 0, 0, 0, 1])"
            ]
          },
          "metadata": {},
          "execution_count": 5
        }
      ]
    },
    {
      "cell_type": "code",
      "metadata": {
        "colab": {
          "base_uri": "https://localhost:8080/"
        },
        "id": "7x-WqfaBUOwa",
        "outputId": "a0d42422-d88f-49ec-c933-8c258e9e779b"
      },
      "source": [
        "Cancer_dataset['feature_names']"
      ],
      "execution_count": null,
      "outputs": [
        {
          "output_type": "execute_result",
          "data": {
            "text/plain": [
              "array(['mean radius', 'mean texture', 'mean perimeter', 'mean area',\n",
              "       'mean smoothness', 'mean compactness', 'mean concavity',\n",
              "       'mean concave points', 'mean symmetry', 'mean fractal dimension',\n",
              "       'radius error', 'texture error', 'perimeter error', 'area error',\n",
              "       'smoothness error', 'compactness error', 'concavity error',\n",
              "       'concave points error', 'symmetry error',\n",
              "       'fractal dimension error', 'worst radius', 'worst texture',\n",
              "       'worst perimeter', 'worst area', 'worst smoothness',\n",
              "       'worst compactness', 'worst concavity', 'worst concave points',\n",
              "       'worst symmetry', 'worst fractal dimension'], dtype='<U23')"
            ]
          },
          "metadata": {},
          "execution_count": 3
        }
      ]
    },
    {
      "cell_type": "markdown",
      "metadata": {
        "id": "9c0az_GdUOwb"
      },
      "source": [
        "Con el comando `np.c_` podemos concatenar las listas en un columnas, por ende le daremos nuestros array de data que viene como lista, y nuestro target, y formaremos un data frame:"
      ]
    },
    {
      "cell_type": "code",
      "metadata": {
        "colab": {
          "base_uri": "https://localhost:8080/"
        },
        "id": "n-x-Uv9zUOwd",
        "outputId": "a6dd4e27-9564-4b94-9963-2c2a44b91c5f"
      },
      "source": [
        "#Concatenamos\n",
        "np.c_[Cancer_dataset['data'],Cancer_dataset['target']][0:2]"
      ],
      "execution_count": null,
      "outputs": [
        {
          "output_type": "execute_result",
          "data": {
            "text/plain": [
              "array([[1.799e+01, 1.038e+01, 1.228e+02, 1.001e+03, 1.184e-01, 2.776e-01,\n",
              "        3.001e-01, 1.471e-01, 2.419e-01, 7.871e-02, 1.095e+00, 9.053e-01,\n",
              "        8.589e+00, 1.534e+02, 6.399e-03, 4.904e-02, 5.373e-02, 1.587e-02,\n",
              "        3.003e-02, 6.193e-03, 2.538e+01, 1.733e+01, 1.846e+02, 2.019e+03,\n",
              "        1.622e-01, 6.656e-01, 7.119e-01, 2.654e-01, 4.601e-01, 1.189e-01,\n",
              "        0.000e+00],\n",
              "       [2.057e+01, 1.777e+01, 1.329e+02, 1.326e+03, 8.474e-02, 7.864e-02,\n",
              "        8.690e-02, 7.017e-02, 1.812e-01, 5.667e-02, 5.435e-01, 7.339e-01,\n",
              "        3.398e+00, 7.408e+01, 5.225e-03, 1.308e-02, 1.860e-02, 1.340e-02,\n",
              "        1.389e-02, 3.532e-03, 2.499e+01, 2.341e+01, 1.588e+02, 1.956e+03,\n",
              "        1.238e-01, 1.866e-01, 2.416e-01, 1.860e-01, 2.750e-01, 8.902e-02,\n",
              "        0.000e+00]])"
            ]
          },
          "metadata": {},
          "execution_count": 6
        }
      ]
    },
    {
      "cell_type": "code",
      "metadata": {
        "colab": {
          "base_uri": "https://localhost:8080/",
          "height": 258
        },
        "id": "Zf5AeIXE9r-f",
        "scrolled": true,
        "outputId": "96c0a754-7faa-47b7-8366-8ad2f5bcada1"
      },
      "source": [
        "# Transformamos a data frame y preservamos los nombres\n",
        "Cancer_df = pd.DataFrame(np.c_[Cancer_dataset['data'],Cancer_dataset['target']], columns = np.append(Cancer_dataset['feature_names'],'target'))\n",
        "Cancer_df.head()"
      ],
      "execution_count": null,
      "outputs": [
        {
          "output_type": "execute_result",
          "data": {
            "text/html": [
              "<div>\n",
              "<style scoped>\n",
              "    .dataframe tbody tr th:only-of-type {\n",
              "        vertical-align: middle;\n",
              "    }\n",
              "\n",
              "    .dataframe tbody tr th {\n",
              "        vertical-align: top;\n",
              "    }\n",
              "\n",
              "    .dataframe thead th {\n",
              "        text-align: right;\n",
              "    }\n",
              "</style>\n",
              "<table border=\"1\" class=\"dataframe\">\n",
              "  <thead>\n",
              "    <tr style=\"text-align: right;\">\n",
              "      <th></th>\n",
              "      <th>mean radius</th>\n",
              "      <th>mean texture</th>\n",
              "      <th>mean perimeter</th>\n",
              "      <th>mean area</th>\n",
              "      <th>mean smoothness</th>\n",
              "      <th>mean compactness</th>\n",
              "      <th>mean concavity</th>\n",
              "      <th>mean concave points</th>\n",
              "      <th>mean symmetry</th>\n",
              "      <th>mean fractal dimension</th>\n",
              "      <th>radius error</th>\n",
              "      <th>texture error</th>\n",
              "      <th>perimeter error</th>\n",
              "      <th>area error</th>\n",
              "      <th>smoothness error</th>\n",
              "      <th>compactness error</th>\n",
              "      <th>concavity error</th>\n",
              "      <th>concave points error</th>\n",
              "      <th>symmetry error</th>\n",
              "      <th>fractal dimension error</th>\n",
              "      <th>worst radius</th>\n",
              "      <th>worst texture</th>\n",
              "      <th>worst perimeter</th>\n",
              "      <th>worst area</th>\n",
              "      <th>worst smoothness</th>\n",
              "      <th>worst compactness</th>\n",
              "      <th>worst concavity</th>\n",
              "      <th>worst concave points</th>\n",
              "      <th>worst symmetry</th>\n",
              "      <th>worst fractal dimension</th>\n",
              "      <th>target</th>\n",
              "    </tr>\n",
              "  </thead>\n",
              "  <tbody>\n",
              "    <tr>\n",
              "      <th>0</th>\n",
              "      <td>17.99</td>\n",
              "      <td>10.38</td>\n",
              "      <td>122.80</td>\n",
              "      <td>1001.0</td>\n",
              "      <td>0.11840</td>\n",
              "      <td>0.27760</td>\n",
              "      <td>0.3001</td>\n",
              "      <td>0.14710</td>\n",
              "      <td>0.2419</td>\n",
              "      <td>0.07871</td>\n",
              "      <td>1.0950</td>\n",
              "      <td>0.9053</td>\n",
              "      <td>8.589</td>\n",
              "      <td>153.40</td>\n",
              "      <td>0.006399</td>\n",
              "      <td>0.04904</td>\n",
              "      <td>0.05373</td>\n",
              "      <td>0.01587</td>\n",
              "      <td>0.03003</td>\n",
              "      <td>0.006193</td>\n",
              "      <td>25.38</td>\n",
              "      <td>17.33</td>\n",
              "      <td>184.60</td>\n",
              "      <td>2019.0</td>\n",
              "      <td>0.1622</td>\n",
              "      <td>0.6656</td>\n",
              "      <td>0.7119</td>\n",
              "      <td>0.2654</td>\n",
              "      <td>0.4601</td>\n",
              "      <td>0.11890</td>\n",
              "      <td>0.0</td>\n",
              "    </tr>\n",
              "    <tr>\n",
              "      <th>1</th>\n",
              "      <td>20.57</td>\n",
              "      <td>17.77</td>\n",
              "      <td>132.90</td>\n",
              "      <td>1326.0</td>\n",
              "      <td>0.08474</td>\n",
              "      <td>0.07864</td>\n",
              "      <td>0.0869</td>\n",
              "      <td>0.07017</td>\n",
              "      <td>0.1812</td>\n",
              "      <td>0.05667</td>\n",
              "      <td>0.5435</td>\n",
              "      <td>0.7339</td>\n",
              "      <td>3.398</td>\n",
              "      <td>74.08</td>\n",
              "      <td>0.005225</td>\n",
              "      <td>0.01308</td>\n",
              "      <td>0.01860</td>\n",
              "      <td>0.01340</td>\n",
              "      <td>0.01389</td>\n",
              "      <td>0.003532</td>\n",
              "      <td>24.99</td>\n",
              "      <td>23.41</td>\n",
              "      <td>158.80</td>\n",
              "      <td>1956.0</td>\n",
              "      <td>0.1238</td>\n",
              "      <td>0.1866</td>\n",
              "      <td>0.2416</td>\n",
              "      <td>0.1860</td>\n",
              "      <td>0.2750</td>\n",
              "      <td>0.08902</td>\n",
              "      <td>0.0</td>\n",
              "    </tr>\n",
              "    <tr>\n",
              "      <th>2</th>\n",
              "      <td>19.69</td>\n",
              "      <td>21.25</td>\n",
              "      <td>130.00</td>\n",
              "      <td>1203.0</td>\n",
              "      <td>0.10960</td>\n",
              "      <td>0.15990</td>\n",
              "      <td>0.1974</td>\n",
              "      <td>0.12790</td>\n",
              "      <td>0.2069</td>\n",
              "      <td>0.05999</td>\n",
              "      <td>0.7456</td>\n",
              "      <td>0.7869</td>\n",
              "      <td>4.585</td>\n",
              "      <td>94.03</td>\n",
              "      <td>0.006150</td>\n",
              "      <td>0.04006</td>\n",
              "      <td>0.03832</td>\n",
              "      <td>0.02058</td>\n",
              "      <td>0.02250</td>\n",
              "      <td>0.004571</td>\n",
              "      <td>23.57</td>\n",
              "      <td>25.53</td>\n",
              "      <td>152.50</td>\n",
              "      <td>1709.0</td>\n",
              "      <td>0.1444</td>\n",
              "      <td>0.4245</td>\n",
              "      <td>0.4504</td>\n",
              "      <td>0.2430</td>\n",
              "      <td>0.3613</td>\n",
              "      <td>0.08758</td>\n",
              "      <td>0.0</td>\n",
              "    </tr>\n",
              "    <tr>\n",
              "      <th>3</th>\n",
              "      <td>11.42</td>\n",
              "      <td>20.38</td>\n",
              "      <td>77.58</td>\n",
              "      <td>386.1</td>\n",
              "      <td>0.14250</td>\n",
              "      <td>0.28390</td>\n",
              "      <td>0.2414</td>\n",
              "      <td>0.10520</td>\n",
              "      <td>0.2597</td>\n",
              "      <td>0.09744</td>\n",
              "      <td>0.4956</td>\n",
              "      <td>1.1560</td>\n",
              "      <td>3.445</td>\n",
              "      <td>27.23</td>\n",
              "      <td>0.009110</td>\n",
              "      <td>0.07458</td>\n",
              "      <td>0.05661</td>\n",
              "      <td>0.01867</td>\n",
              "      <td>0.05963</td>\n",
              "      <td>0.009208</td>\n",
              "      <td>14.91</td>\n",
              "      <td>26.50</td>\n",
              "      <td>98.87</td>\n",
              "      <td>567.7</td>\n",
              "      <td>0.2098</td>\n",
              "      <td>0.8663</td>\n",
              "      <td>0.6869</td>\n",
              "      <td>0.2575</td>\n",
              "      <td>0.6638</td>\n",
              "      <td>0.17300</td>\n",
              "      <td>0.0</td>\n",
              "    </tr>\n",
              "    <tr>\n",
              "      <th>4</th>\n",
              "      <td>20.29</td>\n",
              "      <td>14.34</td>\n",
              "      <td>135.10</td>\n",
              "      <td>1297.0</td>\n",
              "      <td>0.10030</td>\n",
              "      <td>0.13280</td>\n",
              "      <td>0.1980</td>\n",
              "      <td>0.10430</td>\n",
              "      <td>0.1809</td>\n",
              "      <td>0.05883</td>\n",
              "      <td>0.7572</td>\n",
              "      <td>0.7813</td>\n",
              "      <td>5.438</td>\n",
              "      <td>94.44</td>\n",
              "      <td>0.011490</td>\n",
              "      <td>0.02461</td>\n",
              "      <td>0.05688</td>\n",
              "      <td>0.01885</td>\n",
              "      <td>0.01756</td>\n",
              "      <td>0.005115</td>\n",
              "      <td>22.54</td>\n",
              "      <td>16.67</td>\n",
              "      <td>152.20</td>\n",
              "      <td>1575.0</td>\n",
              "      <td>0.1374</td>\n",
              "      <td>0.2050</td>\n",
              "      <td>0.4000</td>\n",
              "      <td>0.1625</td>\n",
              "      <td>0.2364</td>\n",
              "      <td>0.07678</td>\n",
              "      <td>0.0</td>\n",
              "    </tr>\n",
              "  </tbody>\n",
              "</table>\n",
              "</div>"
            ],
            "text/plain": [
              "   mean radius  mean texture  ...  worst fractal dimension  target\n",
              "0        17.99         10.38  ...                  0.11890     0.0\n",
              "1        20.57         17.77  ...                  0.08902     0.0\n",
              "2        19.69         21.25  ...                  0.08758     0.0\n",
              "3        11.42         20.38  ...                  0.17300     0.0\n",
              "4        20.29         14.34  ...                  0.07678     0.0\n",
              "\n",
              "[5 rows x 31 columns]"
            ]
          },
          "metadata": {},
          "execution_count": 7
        }
      ]
    },
    {
      "cell_type": "code",
      "metadata": {
        "colab": {
          "base_uri": "https://localhost:8080/",
          "height": 680
        },
        "id": "G5_MzFlR9r-i",
        "outputId": "f0a60a94-02d2-484a-d3ca-8c4c9aeb853c"
      },
      "source": [
        "display(Cancer_df.info())"
      ],
      "execution_count": null,
      "outputs": [
        {
          "output_type": "stream",
          "text": [
            "<class 'pandas.core.frame.DataFrame'>\n",
            "RangeIndex: 569 entries, 0 to 568\n",
            "Data columns (total 31 columns):\n",
            " #   Column                   Non-Null Count  Dtype  \n",
            "---  ------                   --------------  -----  \n",
            " 0   mean radius              569 non-null    float64\n",
            " 1   mean texture             569 non-null    float64\n",
            " 2   mean perimeter           569 non-null    float64\n",
            " 3   mean area                569 non-null    float64\n",
            " 4   mean smoothness          569 non-null    float64\n",
            " 5   mean compactness         569 non-null    float64\n",
            " 6   mean concavity           569 non-null    float64\n",
            " 7   mean concave points      569 non-null    float64\n",
            " 8   mean symmetry            569 non-null    float64\n",
            " 9   mean fractal dimension   569 non-null    float64\n",
            " 10  radius error             569 non-null    float64\n",
            " 11  texture error            569 non-null    float64\n",
            " 12  perimeter error          569 non-null    float64\n",
            " 13  area error               569 non-null    float64\n",
            " 14  smoothness error         569 non-null    float64\n",
            " 15  compactness error        569 non-null    float64\n",
            " 16  concavity error          569 non-null    float64\n",
            " 17  concave points error     569 non-null    float64\n",
            " 18  symmetry error           569 non-null    float64\n",
            " 19  fractal dimension error  569 non-null    float64\n",
            " 20  worst radius             569 non-null    float64\n",
            " 21  worst texture            569 non-null    float64\n",
            " 22  worst perimeter          569 non-null    float64\n",
            " 23  worst area               569 non-null    float64\n",
            " 24  worst smoothness         569 non-null    float64\n",
            " 25  worst compactness        569 non-null    float64\n",
            " 26  worst concavity          569 non-null    float64\n",
            " 27  worst concave points     569 non-null    float64\n",
            " 28  worst symmetry           569 non-null    float64\n",
            " 29  worst fractal dimension  569 non-null    float64\n",
            " 30  target                   569 non-null    float64\n",
            "dtypes: float64(31)\n",
            "memory usage: 137.9 KB\n"
          ],
          "name": "stdout"
        },
        {
          "output_type": "display_data",
          "data": {
            "text/plain": [
              "None"
            ]
          },
          "metadata": {}
        }
      ]
    },
    {
      "cell_type": "markdown",
      "metadata": {
        "id": "96qAiPno9r-k"
      },
      "source": [
        "Ahora haremos algunos gráficos para ver si tenemos alguna opción de que SVM pueda generar alguna separación o clasificación dentre cancer benigno o maligno. Para ello generaremos algunos scatter plot entre pares de variables y coloreando acorde a la variable target, de modo de ver si existe algun tipo de separación entre las variables según target."
      ]
    },
    {
      "cell_type": "code",
      "metadata": {
        "colab": {
          "base_uri": "https://localhost:8080/",
          "height": 607
        },
        "id": "qyXKHuwS9r-k",
        "outputId": "3276f358-144c-4a8c-ef94-73dd4ef6a170"
      },
      "source": [
        "fig, ax = plt.subplots(nrows = 2, ncols = 2, figsize = (10,10), sharex = True)\n",
        "ax[0,0].scatter(Cancer_df['mean radius'],Cancer_df['mean texture'], c = Cancer_df['target']) #el orden es ejes: x-y y luego color\n",
        "ax[0,1].scatter(Cancer_df['mean radius'],Cancer_df['mean smoothness'], c = Cancer_df['target'])\n",
        "ax[1,0].scatter(Cancer_df['mean radius'],Cancer_df['mean area'], c = Cancer_df['target'])\n",
        "ax[1,1].scatter(Cancer_df['mean radius'],Cancer_df['mean concavity'], c = Cancer_df['target'])\n",
        "ax[0, 0].set_title('Mean Texture')\n",
        "ax[0, 1].set_title('Mean smoothness')\n",
        "ax[1, 0].set_title('Mean area')\n",
        "ax[1, 1].set_title('Mean concavity')\n",
        "plt.show()"
      ],
      "execution_count": null,
      "outputs": [
        {
          "output_type": "display_data",
          "data": {
            "image/png": "[encoded data removed]",
            "text/plain": [
              "<Figure size 720x720 with 4 Axes>"
            ]
          },
          "metadata": {
            "needs_background": "light"
          }
        }
      ]
    },
    {
      "cell_type": "markdown",
      "metadata": {
        "id": "m_MFn0p-9r-m"
      },
      "source": [
        "Gráficamente se observa que existe una cierta agrupación de puntos según el cancer es benigno o maligno, y además aparentemente podría ser separable o clasificable mediante un hiper-plano, por lo que SVM podría funcionar. \n",
        "\n",
        "Ahora, haciendo el ajuste del modelo tenemos lo siguiente"
      ]
    },
    {
      "cell_type": "code",
      "metadata": {
        "id": "OFGvNfk59r-n"
      },
      "source": [
        "# Split en train y test datasets\n",
        "from sklearn.model_selection import train_test_split\n",
        "X = Cancer_df.drop('target',axis = 1)\n",
        "y = Cancer_df['target']\n",
        "X_train, X_test, y_train, y_test = train_test_split(X,y,test_size = 0.2, random_state = 1)"
      ],
      "execution_count": null,
      "outputs": []
    },
    {
      "cell_type": "markdown",
      "metadata": {
        "id": "rSF1Hv7sUOwl"
      },
      "source": [
        "Aquí ajustaremos el modelo.\n",
        "\n",
        "Utilizaremos 2 hiperparámetros para este ejemplo\n",
        " - Kernel: Es la fórmula de cálculo utilizada para medir la distancia entre los valores y el hiperplano. Los comunmente utilizados son linear: $<x,x'>$ y rbf: $\\exp(-\\gamma \\|x-x'\\|^2)$ donde $\\gamma$ debe ser especificado como parámetro y debe ser mayor a cero.\n",
        " \n",
        " - C: Parámetro de regularización. Por defecto es 1 y si hay mucho ruido en la data (parámetros que no aporten mucho) el valor debe disminuir.\n",
        " \n",
        " (Fuente: https://scikit-learn.org/stable/modules/svm.html#mathematical-formulation)"
      ]
    },
    {
      "cell_type": "code",
      "metadata": {
        "colab": {
          "base_uri": "https://localhost:8080/"
        },
        "id": "payZqV_v9r-p",
        "outputId": "deaa8928-2e9d-4cda-e45a-f05149383de1"
      },
      "source": [
        "# Ajuste del modelo\n",
        "from sklearn.svm import SVC\n",
        "\n",
        "svm_model = SVC(kernel = 'linear', C = 100) # C parameter, kernel. Los podriamos mejorar con un CV search :)\n",
        "svm_model.fit(X_train, y_train)"
      ],
      "execution_count": null,
      "outputs": [
        {
          "output_type": "execute_result",
          "data": {
            "text/plain": [
              "SVC(C=100, break_ties=False, cache_size=200, class_weight=None, coef0=0.0,\n",
              "    decision_function_shape='ovr', degree=3, gamma='scale', kernel='linear',\n",
              "    max_iter=-1, probability=False, random_state=None, shrinking=True,\n",
              "    tol=0.001, verbose=False)"
            ]
          },
          "metadata": {},
          "execution_count": 12
        }
      ]
    },
    {
      "cell_type": "code",
      "metadata": {
        "colab": {
          "base_uri": "https://localhost:8080/",
          "height": 204
        },
        "id": "_Cc71pRQ9r-s",
        "outputId": "c5f78608-f78c-4423-eb48-7d279ad0472f"
      },
      "source": [
        "# Validando el modelo\n",
        "\n",
        "predict = svm_model.predict(X_test)\n",
        "\n",
        "from sklearn.metrics import classification_report, confusion_matrix\n",
        "\n",
        "confusion = confusion_matrix(y_test,predict)\n",
        "display(confusion)\n",
        "print(classification_report(y_test, predict))"
      ],
      "execution_count": null,
      "outputs": [
        {
          "output_type": "display_data",
          "data": {
            "text/plain": [
              "array([[39,  3],\n",
              "       [ 1, 71]])"
            ]
          },
          "metadata": {}
        },
        {
          "output_type": "stream",
          "text": [
            "              precision    recall  f1-score   support\n",
            "\n",
            "         0.0       0.97      0.93      0.95        42\n",
            "         1.0       0.96      0.99      0.97        72\n",
            "\n",
            "    accuracy                           0.96       114\n",
            "   macro avg       0.97      0.96      0.96       114\n",
            "weighted avg       0.97      0.96      0.96       114\n",
            "\n"
          ],
          "name": "stdout"
        }
      ]
    },
    {
      "cell_type": "markdown",
      "metadata": {
        "id": "Sj05yZcMJzYj"
      },
      "source": [
        "$ w_1 x_1+  w_2 x_2\\dots  w_n x_n+ c = 0$"
      ]
    },
    {
      "cell_type": "code",
      "metadata": {
        "colab": {
          "base_uri": "https://localhost:8080/"
        },
        "id": "DSAIjKHdJgPZ",
        "outputId": "60f42ab7-3aba-46d6-edf6-b6f39b3d1930"
      },
      "source": [
        "svm_model.coef_"
      ],
      "execution_count": null,
      "outputs": [
        {
          "output_type": "execute_result",
          "data": {
            "text/plain": [
              "array([[ 11.80319861,  -1.48138365,   4.24902999,  -0.41264388,\n",
              "        -11.03501699,  -5.28049316, -23.71518218, -15.74121763,\n",
              "        -17.59819836,   1.08778704,   0.49127827,  -5.99207544,\n",
              "          3.10882073,  -0.66802634,  -3.3771315 ,   8.29884572,\n",
              "         -2.53958398,  -4.57155878,  -4.4006725 ,   1.87953802,\n",
              "        -18.66838995,  -0.35295751,  -1.34228291,   0.15196033,\n",
              "        -18.27224318,  -0.91645434, -39.88870104, -40.68168113,\n",
              "        -49.17131178,   1.62073749]])"
            ]
          },
          "metadata": {},
          "execution_count": 14
        }
      ]
    },
    {
      "cell_type": "markdown",
      "metadata": {
        "id": "81h3-M-X9r-v"
      },
      "source": [
        "Lo anterior funciona bastante bien y dicho resultado va en línea con lo observado en los gráficos. Ahora veremos otro ejemplo donde los datos son dificiles de separar mediante métodos lineales y entonces tendremos que adaptar nuestro modelo para mejorar el performance."
      ]
    },
    {
      "cell_type": "code",
      "metadata": {
        "colab": {
          "base_uri": "https://localhost:8080/",
          "height": 639
        },
        "id": "IiIy4QGt9r-w",
        "outputId": "2f0a466d-9304-4b60-8ae5-1fa48fb0e0af"
      },
      "source": [
        "# Creamos los datos\n",
        "from sklearn.datasets.samples_generator import make_circles\n",
        "X, y = make_circles(100, factor=.1, noise=0.25)\n",
        "print(\"X:\")\n",
        "display(X[0:3,:])\n",
        "print(\"y:\")\n",
        "display(y[0:3])\n",
        "fig, ax = plt.subplots(figsize = (8,8))\n",
        "ax.scatter(X[:,0],X[:,1],c = y)\n",
        "plt.show()"
      ],
      "execution_count": null,
      "outputs": [
        {
          "output_type": "stream",
          "text": [
            "X:\n"
          ],
          "name": "stdout"
        },
        {
          "output_type": "stream",
          "text": [
            "/usr/local/lib/python3.7/dist-packages/sklearn/utils/deprecation.py:144: FutureWarning: The sklearn.datasets.samples_generator module is  deprecated in version 0.22 and will be removed in version 0.24. The corresponding classes / functions should instead be imported from sklearn.datasets. Anything that cannot be imported from sklearn.datasets is now part of the private API.\n",
            "  warnings.warn(message, FutureWarning)\n"
          ],
          "name": "stderr"
        },
        {
          "output_type": "display_data",
          "data": {
            "text/plain": [
              "array([[-0.4368248 ,  0.70835178],\n",
              "       [ 0.58517072,  1.20372857],\n",
              "       [ 0.42292143,  0.20356808]])"
            ]
          },
          "metadata": {}
        },
        {
          "output_type": "stream",
          "text": [
            "y:\n"
          ],
          "name": "stdout"
        },
        {
          "output_type": "display_data",
          "data": {
            "text/plain": [
              "array([0, 0, 1])"
            ]
          },
          "metadata": {}
        },
        {
          "output_type": "display_data",
          "data": {
            "image/png": "[encoded data removed]",
            "text/plain": [
              "<Figure size 576x576 with 1 Axes>"
            ]
          },
          "metadata": {
            "needs_background": "light"
          }
        }
      ]
    },
    {
      "cell_type": "code",
      "metadata": {
        "id": "wqy2vDGDdcJT"
      },
      "source": [
        "circle_data = pd.DataFrame(np.c_[X,y])\n",
        "circle_data.to_csv('circle_data.csv')"
      ],
      "execution_count": null,
      "outputs": []
    },
    {
      "cell_type": "code",
      "metadata": {
        "id": "B3Kl_Uxw9r-x",
        "scrolled": true
      },
      "source": [
        "# Entrenando el modelo\n",
        "X_train, X_test, y_train, y_test = train_test_split(X,y,test_size = 0.2, random_state = 1)\n",
        "\n",
        "svm_model = SVC(kernel = 'rbf') #rbf, sigmoid, poly # 0,0001 < gamma < 10, 0,1 < C < 100\n",
        "svm_model.fit(X_train, y_train)\n",
        "\n",
        "# Verificando el modelo\n",
        "predict = svm_model.predict(X_test)\n",
        "\n",
        "from sklearn.metrics import classification_report, confusion_matrix\n",
        "confusion = confusion_matrix(y_test,predict)\n",
        "display(confusion)\n",
        "print(classification_report(y_test, predict))"
      ],
      "execution_count": null,
      "outputs": []
    },
    {
      "cell_type": "markdown",
      "metadata": {
        "id": "T5CGxuD49r-z"
      },
      "source": [
        "El modelo funciona de manera similiar para cuando uno desea hacer regresión, solo que en vez de importa SVC (support vector classification) traemos SVR (support vector regression). Para más información del uso y parámetros asociados al método de regresión, pueden visitar https://scikit-learn.org/stable/modules/generated/sklearn.svm.SVR.html\n"
      ]
    },
    {
      "cell_type": "markdown",
      "metadata": {
        "id": "WE9fdA1tUOwt"
      },
      "source": [
        "# Análisis Discriminante Lineal y Cuadrático (LDA y QDA)"
      ]
    },
    {
      "cell_type": "markdown",
      "metadata": {
        "id": "KJRhYP7IUOwt"
      },
      "source": [
        "Similar al modelo anterior, que asume que la data es i.i.d., este modelo también se basa en un supuesto distribucional de los datos. En el caso del LDA y el QDA estamos asumiendo una distribución normal multivariada de los datos para poder calcular nuestras probabilidades (todo esto ha sido profundizado en sus clases teoricas HEF).\n",
        "\n",
        "Ahora nos enfocaremos en los códigos para poder aplicar lo visto. Utilizaremos nuestro querido set de datos iris por simplicidad y para entender la diferencia entre las clases multiples y no los simples vectores respuesta \"si\" y \"no\" que hemos usado."
      ]
    },
    {
      "cell_type": "code",
      "metadata": {
        "colab": {
          "base_uri": "https://localhost:8080/",
          "height": 426
        },
        "id": "kSkQWPS7UOwt",
        "outputId": "b49f6265-df13-4e13-9a3c-443e55b0efbc"
      },
      "source": [
        "df = pd.read_csv('iris.csv').drop(columns='Unnamed: 0')# botamos la columna de index\n",
        "# guardamos las etiquetas de cada clase para posterior uso.\n",
        "target_label = df['Species'].unique()\n",
        "print(df.head())"
      ],
      "execution_count": null,
      "outputs": [
        {
          "output_type": "error",
          "ename": "FileNotFoundError",
          "evalue": "ignored",
          "traceback": [
            "\u001b[0;31m---------------------------------------------------------------------------\u001b[0m",
            "\u001b[0;31mFileNotFoundError\u001b[0m                         Traceback (most recent call last)",
            "\u001b[0;32m<ipython-input-20-0fa80c1d8b89>\u001b[0m in \u001b[0;36m<module>\u001b[0;34m()\u001b[0m\n\u001b[0;32m----> 1\u001b[0;31m \u001b[0mdf\u001b[0m \u001b[0;34m=\u001b[0m \u001b[0mpd\u001b[0m\u001b[0;34m.\u001b[0m\u001b[0mread_csv\u001b[0m\u001b[0;34m(\u001b[0m\u001b[0;34m'iris.csv'\u001b[0m\u001b[0;34m)\u001b[0m\u001b[0;34m.\u001b[0m\u001b[0mdrop\u001b[0m\u001b[0;34m(\u001b[0m\u001b[0mcolumns\u001b[0m\u001b[0;34m=\u001b[0m\u001b[0;34m'Unnamed: 0'\u001b[0m\u001b[0;34m)\u001b[0m\u001b[0;31m# botamos la columna de index\u001b[0m\u001b[0;34m\u001b[0m\u001b[0;34m\u001b[0m\u001b[0m\n\u001b[0m\u001b[1;32m      2\u001b[0m \u001b[0;31m# guardamos las etiquetas de cada clase para posterior uso.\u001b[0m\u001b[0;34m\u001b[0m\u001b[0;34m\u001b[0m\u001b[0;34m\u001b[0m\u001b[0m\n\u001b[1;32m      3\u001b[0m \u001b[0mtarget_label\u001b[0m \u001b[0;34m=\u001b[0m \u001b[0mdf\u001b[0m\u001b[0;34m[\u001b[0m\u001b[0;34m'Species'\u001b[0m\u001b[0;34m]\u001b[0m\u001b[0;34m.\u001b[0m\u001b[0munique\u001b[0m\u001b[0;34m(\u001b[0m\u001b[0;34m)\u001b[0m\u001b[0;34m\u001b[0m\u001b[0;34m\u001b[0m\u001b[0m\n\u001b[1;32m      4\u001b[0m \u001b[0mprint\u001b[0m\u001b[0;34m(\u001b[0m\u001b[0mdf\u001b[0m\u001b[0;34m.\u001b[0m\u001b[0mhead\u001b[0m\u001b[0;34m(\u001b[0m\u001b[0;34m)\u001b[0m\u001b[0;34m)\u001b[0m\u001b[0;34m\u001b[0m\u001b[0;34m\u001b[0m\u001b[0m\n",
            "\u001b[0;32m/usr/local/lib/python3.7/dist-packages/pandas/io/parsers.py\u001b[0m in \u001b[0;36mread_csv\u001b[0;34m(filepath_or_buffer, sep, delimiter, header, names, index_col, usecols, squeeze, prefix, mangle_dupe_cols, dtype, engine, converters, true_values, false_values, skipinitialspace, skiprows, skipfooter, nrows, na_values, keep_default_na, na_filter, verbose, skip_blank_lines, parse_dates, infer_datetime_format, keep_date_col, date_parser, dayfirst, cache_dates, iterator, chunksize, compression, thousands, decimal, lineterminator, quotechar, quoting, doublequote, escapechar, comment, encoding, dialect, error_bad_lines, warn_bad_lines, delim_whitespace, low_memory, memory_map, float_precision)\u001b[0m\n\u001b[1;32m    686\u001b[0m     )\n\u001b[1;32m    687\u001b[0m \u001b[0;34m\u001b[0m\u001b[0m\n\u001b[0;32m--> 688\u001b[0;31m     \u001b[0;32mreturn\u001b[0m \u001b[0m_read\u001b[0m\u001b[0;34m(\u001b[0m\u001b[0mfilepath_or_buffer\u001b[0m\u001b[0;34m,\u001b[0m \u001b[0mkwds\u001b[0m\u001b[0;34m)\u001b[0m\u001b[0;34m\u001b[0m\u001b[0;34m\u001b[0m\u001b[0m\n\u001b[0m\u001b[1;32m    689\u001b[0m \u001b[0;34m\u001b[0m\u001b[0m\n\u001b[1;32m    690\u001b[0m \u001b[0;34m\u001b[0m\u001b[0m\n",
            "\u001b[0;32m/usr/local/lib/python3.7/dist-packages/pandas/io/parsers.py\u001b[0m in \u001b[0;36m_read\u001b[0;34m(filepath_or_buffer, kwds)\u001b[0m\n\u001b[1;32m    452\u001b[0m \u001b[0;34m\u001b[0m\u001b[0m\n\u001b[1;32m    453\u001b[0m     \u001b[0;31m# Create the parser.\u001b[0m\u001b[0;34m\u001b[0m\u001b[0;34m\u001b[0m\u001b[0;34m\u001b[0m\u001b[0m\n\u001b[0;32m--> 454\u001b[0;31m     \u001b[0mparser\u001b[0m \u001b[0;34m=\u001b[0m \u001b[0mTextFileReader\u001b[0m\u001b[0;34m(\u001b[0m\u001b[0mfp_or_buf\u001b[0m\u001b[0;34m,\u001b[0m \u001b[0;34m**\u001b[0m\u001b[0mkwds\u001b[0m\u001b[0;34m)\u001b[0m\u001b[0;34m\u001b[0m\u001b[0;34m\u001b[0m\u001b[0m\n\u001b[0m\u001b[1;32m    455\u001b[0m \u001b[0;34m\u001b[0m\u001b[0m\n\u001b[1;32m    456\u001b[0m     \u001b[0;32mif\u001b[0m \u001b[0mchunksize\u001b[0m \u001b[0;32mor\u001b[0m \u001b[0miterator\u001b[0m\u001b[0;34m:\u001b[0m\u001b[0;34m\u001b[0m\u001b[0;34m\u001b[0m\u001b[0m\n",
            "\u001b[0;32m/usr/local/lib/python3.7/dist-packages/pandas/io/parsers.py\u001b[0m in \u001b[0;36m__init__\u001b[0;34m(self, f, engine, **kwds)\u001b[0m\n\u001b[1;32m    946\u001b[0m             \u001b[0mself\u001b[0m\u001b[0;34m.\u001b[0m\u001b[0moptions\u001b[0m\u001b[0;34m[\u001b[0m\u001b[0;34m\"has_index_names\"\u001b[0m\u001b[0;34m]\u001b[0m \u001b[0;34m=\u001b[0m \u001b[0mkwds\u001b[0m\u001b[0;34m[\u001b[0m\u001b[0;34m\"has_index_names\"\u001b[0m\u001b[0;34m]\u001b[0m\u001b[0;34m\u001b[0m\u001b[0;34m\u001b[0m\u001b[0m\n\u001b[1;32m    947\u001b[0m \u001b[0;34m\u001b[0m\u001b[0m\n\u001b[0;32m--> 948\u001b[0;31m         \u001b[0mself\u001b[0m\u001b[0;34m.\u001b[0m\u001b[0m_make_engine\u001b[0m\u001b[0;34m(\u001b[0m\u001b[0mself\u001b[0m\u001b[0;34m.\u001b[0m\u001b[0mengine\u001b[0m\u001b[0;34m)\u001b[0m\u001b[0;34m\u001b[0m\u001b[0;34m\u001b[0m\u001b[0m\n\u001b[0m\u001b[1;32m    949\u001b[0m \u001b[0;34m\u001b[0m\u001b[0m\n\u001b[1;32m    950\u001b[0m     \u001b[0;32mdef\u001b[0m \u001b[0mclose\u001b[0m\u001b[0;34m(\u001b[0m\u001b[0mself\u001b[0m\u001b[0;34m)\u001b[0m\u001b[0;34m:\u001b[0m\u001b[0;34m\u001b[0m\u001b[0;34m\u001b[0m\u001b[0m\n",
            "\u001b[0;32m/usr/local/lib/python3.7/dist-packages/pandas/io/parsers.py\u001b[0m in \u001b[0;36m_make_engine\u001b[0;34m(self, engine)\u001b[0m\n\u001b[1;32m   1178\u001b[0m     \u001b[0;32mdef\u001b[0m \u001b[0m_make_engine\u001b[0m\u001b[0;34m(\u001b[0m\u001b[0mself\u001b[0m\u001b[0;34m,\u001b[0m \u001b[0mengine\u001b[0m\u001b[0;34m=\u001b[0m\u001b[0;34m\"c\"\u001b[0m\u001b[0;34m)\u001b[0m\u001b[0;34m:\u001b[0m\u001b[0;34m\u001b[0m\u001b[0;34m\u001b[0m\u001b[0m\n\u001b[1;32m   1179\u001b[0m         \u001b[0;32mif\u001b[0m \u001b[0mengine\u001b[0m \u001b[0;34m==\u001b[0m \u001b[0;34m\"c\"\u001b[0m\u001b[0;34m:\u001b[0m\u001b[0;34m\u001b[0m\u001b[0;34m\u001b[0m\u001b[0m\n\u001b[0;32m-> 1180\u001b[0;31m             \u001b[0mself\u001b[0m\u001b[0;34m.\u001b[0m\u001b[0m_engine\u001b[0m \u001b[0;34m=\u001b[0m \u001b[0mCParserWrapper\u001b[0m\u001b[0;34m(\u001b[0m\u001b[0mself\u001b[0m\u001b[0;34m.\u001b[0m\u001b[0mf\u001b[0m\u001b[0;34m,\u001b[0m \u001b[0;34m**\u001b[0m\u001b[0mself\u001b[0m\u001b[0;34m.\u001b[0m\u001b[0moptions\u001b[0m\u001b[0;34m)\u001b[0m\u001b[0;34m\u001b[0m\u001b[0;34m\u001b[0m\u001b[0m\n\u001b[0m\u001b[1;32m   1181\u001b[0m         \u001b[0;32melse\u001b[0m\u001b[0;34m:\u001b[0m\u001b[0;34m\u001b[0m\u001b[0;34m\u001b[0m\u001b[0m\n\u001b[1;32m   1182\u001b[0m             \u001b[0;32mif\u001b[0m \u001b[0mengine\u001b[0m \u001b[0;34m==\u001b[0m \u001b[0;34m\"python\"\u001b[0m\u001b[0;34m:\u001b[0m\u001b[0;34m\u001b[0m\u001b[0;34m\u001b[0m\u001b[0m\n",
            "\u001b[0;32m/usr/local/lib/python3.7/dist-packages/pandas/io/parsers.py\u001b[0m in \u001b[0;36m__init__\u001b[0;34m(self, src, **kwds)\u001b[0m\n\u001b[1;32m   2008\u001b[0m         \u001b[0mkwds\u001b[0m\u001b[0;34m[\u001b[0m\u001b[0;34m\"usecols\"\u001b[0m\u001b[0;34m]\u001b[0m \u001b[0;34m=\u001b[0m \u001b[0mself\u001b[0m\u001b[0;34m.\u001b[0m\u001b[0musecols\u001b[0m\u001b[0;34m\u001b[0m\u001b[0;34m\u001b[0m\u001b[0m\n\u001b[1;32m   2009\u001b[0m \u001b[0;34m\u001b[0m\u001b[0m\n\u001b[0;32m-> 2010\u001b[0;31m         \u001b[0mself\u001b[0m\u001b[0;34m.\u001b[0m\u001b[0m_reader\u001b[0m \u001b[0;34m=\u001b[0m \u001b[0mparsers\u001b[0m\u001b[0;34m.\u001b[0m\u001b[0mTextReader\u001b[0m\u001b[0;34m(\u001b[0m\u001b[0msrc\u001b[0m\u001b[0;34m,\u001b[0m \u001b[0;34m**\u001b[0m\u001b[0mkwds\u001b[0m\u001b[0;34m)\u001b[0m\u001b[0;34m\u001b[0m\u001b[0;34m\u001b[0m\u001b[0m\n\u001b[0m\u001b[1;32m   2011\u001b[0m         \u001b[0mself\u001b[0m\u001b[0;34m.\u001b[0m\u001b[0munnamed_cols\u001b[0m \u001b[0;34m=\u001b[0m \u001b[0mself\u001b[0m\u001b[0;34m.\u001b[0m\u001b[0m_reader\u001b[0m\u001b[0;34m.\u001b[0m\u001b[0munnamed_cols\u001b[0m\u001b[0;34m\u001b[0m\u001b[0;34m\u001b[0m\u001b[0m\n\u001b[1;32m   2012\u001b[0m \u001b[0;34m\u001b[0m\u001b[0m\n",
            "\u001b[0;32mpandas/_libs/parsers.pyx\u001b[0m in \u001b[0;36mpandas._libs.parsers.TextReader.__cinit__\u001b[0;34m()\u001b[0m\n",
            "\u001b[0;32mpandas/_libs/parsers.pyx\u001b[0m in \u001b[0;36mpandas._libs.parsers.TextReader._setup_parser_source\u001b[0;34m()\u001b[0m\n",
            "\u001b[0;31mFileNotFoundError\u001b[0m: [Errno 2] No such file or directory: 'iris.csv'"
          ]
        }
      ]
    },
    {
      "cell_type": "markdown",
      "metadata": {
        "id": "IaC7ipIXUOwu"
      },
      "source": [
        "Visualicemos cada una de las características"
      ]
    },
    {
      "cell_type": "code",
      "metadata": {
        "id": "TbqP2AiqUOwv"
      },
      "source": [
        "plt.figure(figsize=(10, 6))\n",
        "for n, i in enumerate(df.drop(columns = 'Species').columns):\n",
        "    plt.subplot(2, 2, n + 1)\n",
        "    df.groupby('Species')[i].plot(kind='hist', alpha=.5)\n",
        "    plt.legend(df['Species'].unique())\n",
        "    plt.title(i)\n",
        "    plt.tight_layout()"
      ],
      "execution_count": null,
      "outputs": []
    },
    {
      "cell_type": "markdown",
      "metadata": {
        "id": "YIE1HhDIUOww"
      },
      "source": [
        "A simple vista pareciera observarse normalidad en las variables, aunque lo correcto sería realizar un test estadístico."
      ]
    },
    {
      "cell_type": "code",
      "metadata": {
        "id": "Bh5YmMcTUOww"
      },
      "source": [
        "from sklearn.discriminant_analysis import LinearDiscriminantAnalysis\n",
        "from sklearn.model_selection import train_test_split\n",
        "from sklearn.preprocessing import LabelEncoder\n",
        "df['Species'] = LabelEncoder().fit_transform(df['Species'])"
      ],
      "execution_count": null,
      "outputs": []
    },
    {
      "cell_type": "code",
      "metadata": {
        "id": "D1TypLeNUOww"
      },
      "source": [
        "X_train_mat, X_test_mat, y_train_vec, y_test_vec =train_test_split(df.loc[:, 'Sepal.Length':'Petal.Width'],\n",
        "                                                        df['Species'], test_size=.33, random_state=2021)"
      ],
      "execution_count": null,
      "outputs": []
    },
    {
      "cell_type": "markdown",
      "metadata": {
        "id": "WAJOdl_bUOwx"
      },
      "source": [
        "Ahora instanciaremos nuestro modelo y analizaremos 3 hiperparámetros:\n",
        "\n",
        "   - priors: Permite ingresar la probabilidad a priori para cada clase en el algoritmo de entrenamiento. Éstos deben ser ingresados como una lista especificando la probabilidad entre 0 y 1 para cada clase\n",
        "   - n_components: Cantidad de discriminantes lineales a estimar. Por defecto el método estima que el número de discriminantes lineales a estimar es $1 - N_y$\n",
        "   - Solver: especifica el método numérico para calcular la solución al sistema. Mediante la especificación de este en un modelo, podemos obtener estimaciones con un mayor grado de eficiencia. Por ejemplo, cuando implementamos modelos con matrices dispersas, el solver por defecto liblinear será mucho más lento que `sag` o `saga`."
      ]
    },
    {
      "cell_type": "code",
      "metadata": {
        "id": "_2TCCM8dUOwx"
      },
      "source": [
        "lda_model = LinearDiscriminantAnalysis()\n",
        "lda_model.fit(X_train_mat, y_train_vec)"
      ],
      "execution_count": null,
      "outputs": []
    },
    {
      "cell_type": "code",
      "metadata": {
        "id": "IeZ6fxboUOwx"
      },
      "source": [
        "LinearDiscriminantAnalysis(n_components=None, priors=None, solver='svd')"
      ],
      "execution_count": null,
      "outputs": []
    },
    {
      "cell_type": "code",
      "metadata": {
        "id": "5148AI1TUOwz"
      },
      "source": [
        "print(\"Probabilidades a priori\\n\", lda_model.priors_, \"\\n\")\n",
        "print(\"Medias de atributos en cada clase\\n\", lda_model.means_.round(2), \"\\n\")\n",
        "print(\"Varianza explicada por cada discriminante\\n\", lda_model.explained_variance_ratio_.round(2), \"\\n\")"
      ],
      "execution_count": null,
      "outputs": []
    },
    {
      "cell_type": "markdown",
      "metadata": {
        "id": "S5IN8ERaUOw2"
      },
      "source": [
        "con `.predict` extraeremos las clases predichas para observar que fue lo que estimó"
      ]
    },
    {
      "cell_type": "code",
      "metadata": {
        "id": "wyRWTuqAUOw3"
      },
      "source": [
        "lda_class_pred = lda_model.predict(X_test_mat)\n",
        "lda_class_pred[:15]"
      ],
      "execution_count": null,
      "outputs": []
    },
    {
      "cell_type": "code",
      "metadata": {
        "id": "3Rz74i1VUOw5"
      },
      "source": [
        "pd.crosstab(y_test_vec, lda_class_pred) #matriz de confusion rápida"
      ],
      "execution_count": null,
      "outputs": []
    },
    {
      "cell_type": "code",
      "metadata": {
        "id": "EcvFCdkLUOw6"
      },
      "source": [
        "print(classification_report(y_test_vec, lda_class_pred))"
      ],
      "execution_count": null,
      "outputs": []
    },
    {
      "cell_type": "markdown",
      "metadata": {
        "id": "LqEm0rigUOw6"
      },
      "source": [
        "## QDA"
      ]
    },
    {
      "cell_type": "markdown",
      "metadata": {
        "id": "KqK9irGMUOw7"
      },
      "source": [
        "Ahora veremos un QDA, donde los atributos de la matriz de datos se distribuyen de forma multivariada normal condicional a las clases, lo que nos permite mayor flexibilidad. Esto en otras palabras significa que LDA asume que las matrices de varianza-covarianza de todas las clases son las mismas, lo que resulta en un límite de decisión lineal (he ahi el L de LDA). En contraste, el QDA permite diferentes matrices de varianza covarianza para diferentes clases, lo que implica una límite de decisión cuadrático (y de ahí sale el Q de QDA)."
      ]
    },
    {
      "cell_type": "code",
      "metadata": {
        "id": "VyF15mWSUOw7"
      },
      "source": [
        "from sklearn.discriminant_analysis import QuadraticDiscriminantAnalysis\n",
        "qda_model = QuadraticDiscriminantAnalysis().fit(X_train_mat, y_train_vec)\n",
        "qda_class_pred = qda_model.predict(X_test_mat)"
      ],
      "execution_count": null,
      "outputs": []
    },
    {
      "cell_type": "code",
      "metadata": {
        "id": "jcfH2-9UUOw7"
      },
      "source": [
        "pd.crosstab(y_test_vec, qda_class_pred)"
      ],
      "execution_count": null,
      "outputs": []
    },
    {
      "cell_type": "code",
      "metadata": {
        "id": "9K0V80GVUOw8"
      },
      "source": [
        "print(classification_report(y_test_vec, qda_class_pred))"
      ],
      "execution_count": null,
      "outputs": []
    },
    {
      "cell_type": "markdown",
      "metadata": {
        "id": "phmaidKKUOw9"
      },
      "source": [
        "Nota: No hemos alterado ningún hiperparámetro, revisar cuales y como modificarlos"
      ]
    },
    {
      "cell_type": "markdown",
      "metadata": {
        "id": "PrF2BN45UOw-"
      },
      "source": [
        "# Naive Bayes"
      ]
    },
    {
      "cell_type": "markdown",
      "metadata": {
        "id": "7dJUgkcZUOw_"
      },
      "source": [
        "Con el algoritmo de naive bayes podemos trabajar multiclases a través de multinomial-naive bayes y además, si es que poseemos información a priori, es posible entregarla al modelo por su naturaleza bayesiana. \n",
        "\n",
        "A continuación realizaremos algo distinto a lo que hemos trabajado: exploraremos como trabajar  reconocimiento de texto con la función `CountVectorizer` en donde leeremos las letras de varias canciones, y luego predeciremos el género al cual pertenece una canción, en función de su letra.\n",
        "\n",
        "Para poder trabajar con textos, debemos pasarlos a una matriz dispersa (sparse matrix), donde cada fila representará una entrada (en este caso, una canción), y cada columna representará una palabra (token). Cada celda de dicha matriz contará la cantidad de palabras en dicho registro, es por esto que por naturaleza hay muchos registros vacios. Visualizaremos esto con ceros, pero una matriz sparse tendría dichas celdas vacías, para poder ahorrar memoria. Primero ejemplifiquemos como funciona esto, y luego trabajaremos con nuestros datos"
      ]
    },
    {
      "cell_type": "code",
      "metadata": {
        "id": "BfbDjNlfUOw_"
      },
      "source": [
        "# Librerias para tratamiento de texto\n",
        "from sklearn.feature_extraction.text import CountVectorizer\n",
        "from sklearn.feature_extraction.text import TfidfTransformer\n",
        "from sklearn.pipeline import Pipeline"
      ],
      "execution_count": null,
      "outputs": []
    },
    {
      "cell_type": "code",
      "metadata": {
        "id": "isf-0NUDUOw_"
      },
      "source": [
        "# Textos de ejemplo\n",
        "textos = ['Este es el primer documento',\n",
        "           'Este documento es el segundo documento',\n",
        "           'Este es el tercero',\n",
        "           'Y el cuarto']"
      ],
      "execution_count": null,
      "outputs": []
    },
    {
      "cell_type": "code",
      "metadata": {
        "id": "WvjL7vKDUOxA"
      },
      "source": [
        "#Inicializamos nuestro modelo \n",
        "count_vectorizer=CountVectorizer()"
      ],
      "execution_count": null,
      "outputs": []
    },
    {
      "cell_type": "code",
      "metadata": {
        "id": "_a6CjfPlUOxA"
      },
      "source": [
        "# Le entregamos nuestra data\n",
        "count_vectorizer_fit = count_vectorizer.fit_transform(textos)\n",
        "count_vectorizer_fit\n",
        "# Esto creará una matriz donde cada fila es una de las  lineas de texto, y cada columna es una palabra"
      ],
      "execution_count": null,
      "outputs": []
    },
    {
      "cell_type": "markdown",
      "metadata": {
        "id": "wxuvVMBeUOxA"
      },
      "source": [
        "Lo anterior lo podemos visualizar de la siguiente forma:"
      ]
    },
    {
      "cell_type": "code",
      "metadata": {
        "id": "rma_Qq81UOxA"
      },
      "source": [
        "display(count_vectorizer.get_feature_names()) #lista de nombres\n",
        "display(count_vectorizer_fit.toarray()) # matriz sparse"
      ],
      "execution_count": null,
      "outputs": []
    },
    {
      "cell_type": "markdown",
      "metadata": {
        "id": "Zlz5eyP2UOxB"
      },
      "source": [
        "Ahora, como nosotros queremos usar esta información para el cálculo de un modelo, podemos extraer el peso de cada palabra función de su repetición de todos los textos, y así sabremos que palabras son mejores para rescatar la idea. esto lo podemos hacer con `TfidfTransformer`:"
      ]
    },
    {
      "cell_type": "code",
      "metadata": {
        "id": "CUH0RAo9UOxB"
      },
      "source": [
        "#inicializamos nuestro objeto\n",
        "tfid =  TfidfTransformer()"
      ],
      "execution_count": null,
      "outputs": []
    },
    {
      "cell_type": "code",
      "metadata": {
        "id": "N9hROXCrUOxB"
      },
      "source": [
        "#obtenemos sus pesos, dandole la matriz sparse que creamos (ojo, no el array con los ceros!)\n",
        "tfid_fit = tfid.fit(count_vectorizer_fit)"
      ],
      "execution_count": null,
      "outputs": []
    },
    {
      "cell_type": "code",
      "metadata": {
        "id": "IUlzlE7-UOxC"
      },
      "source": [
        "tfid_fit.idf_ #objeto que tiene los pesos de cada palabra"
      ],
      "execution_count": null,
      "outputs": []
    },
    {
      "cell_type": "code",
      "metadata": {
        "id": "2CFp5qSbUOxC"
      },
      "source": [
        "#visualicemos el peso de las palabras en un data frame\n",
        "df_idf = pd.DataFrame(tfid_fit.idf_, index=count_vectorizer.get_feature_names(),columns=[\"idf_pesos\"]) \n",
        " \n",
        "# orodenar de menos a mas peso\n",
        "df_idf.sort_values(by=['idf_pesos'])"
      ],
      "execution_count": null,
      "outputs": []
    },
    {
      "cell_type": "markdown",
      "metadata": {
        "id": "6iugYm0DUOxD"
      },
      "source": [
        "Esto asume que las palabras menos comunes, son clave para reconocer a que texto pertenecen.\n",
        "\n",
        "Como hay una cadena de pasos, hemos visto en clases anteriores que podemos unificarlas todas con  `pipe`, que en resumidas cuentas hace todo en un solo paso:"
      ]
    },
    {
      "cell_type": "code",
      "metadata": {
        "id": "MknURJ-QUOxD"
      },
      "source": [
        "pipe = Pipeline([('countvec', CountVectorizer()),\n",
        "                  ('tfid', TfidfTransformer())]).fit(textos)"
      ],
      "execution_count": null,
      "outputs": []
    },
    {
      "cell_type": "code",
      "metadata": {
        "id": "BdmxKIzKUOxD"
      },
      "source": [
        "#obtenemos su información de la misma manera\n",
        "pipe['countvec'].transform(textos).toarray()"
      ],
      "execution_count": null,
      "outputs": []
    },
    {
      "cell_type": "code",
      "metadata": {
        "id": "fte-Te7gUOxD"
      },
      "source": [
        "pipe['tfid'].idf_"
      ],
      "execution_count": null,
      "outputs": []
    },
    {
      "cell_type": "markdown",
      "metadata": {
        "id": "U_O6XhZMUOxE"
      },
      "source": [
        "Perfecto!! Ahora pongamos todo lo que vimos en práctica, y categorizemos las canciones que tenemos bajo sus letras.\n",
        "\n",
        "En la carpeta `canciones` encontraremos múltiples canciones, sus letras, y el género al cual pertenecen. Como leeremos múltiples archivos csv, la función `glob` nos permitirá leer todos los archivos que están en una carpeta, en un solo archivo pandas."
      ]
    },
    {
      "cell_type": "code",
      "metadata": {
        "id": "W1QAXrhVUOxE"
      },
      "source": [
        "import glob"
      ],
      "execution_count": null,
      "outputs": []
    },
    {
      "cell_type": "code",
      "metadata": {
        "id": "9S_ie0EsUOxE"
      },
      "source": [
        "lista_de_rutas = glob.glob(\"canciones/*.csv\")"
      ],
      "execution_count": null,
      "outputs": []
    },
    {
      "cell_type": "code",
      "metadata": {
        "id": "1zpp2zAeUOxE"
      },
      "source": [
        "lista_de_rutas[0:3] #con esto tenemos todas las rutas de cada uno de los archivos csv de la carpeta"
      ],
      "execution_count": null,
      "outputs": []
    },
    {
      "cell_type": "markdown",
      "metadata": {
        "id": "7l575ZAzUOxF"
      },
      "source": [
        "Como tenemos todas las rutas, leeremos todos los archivos y los iremos agregando en una lista:"
      ]
    },
    {
      "cell_type": "code",
      "metadata": {
        "id": "33boZJXTUOxF"
      },
      "source": [
        "lista = []\n",
        "for i in lista_de_rutas:\n",
        "    cancion = pd.read_csv(i, index_col=None, header=0)\n",
        "    lista.append(cancion)"
      ],
      "execution_count": null,
      "outputs": []
    },
    {
      "cell_type": "markdown",
      "metadata": {
        "id": "tSXHDOGoUOxF"
      },
      "source": [
        "Finalmente concatenaremos los objetos de la lista en un objeto data frame, con la función `pd.concat`."
      ]
    },
    {
      "cell_type": "code",
      "metadata": {
        "id": "Sk91VLRvUOxF"
      },
      "source": [
        "data = pd.concat(lista, axis=0, ignore_index=True)\n",
        "data.head(3)"
      ],
      "execution_count": null,
      "outputs": []
    },
    {
      "cell_type": "code",
      "metadata": {
        "id": "r0LrBEQ6UOxF"
      },
      "source": [
        "#limpiamos un poco\n",
        "df = data.drop('Unnamed: 0',axis = 1)\n",
        "df = df.rename(columns = {'0': 'Artista', '1': 'Genero', '2':'Cancion','3':'Letra'}, inplace = False)\n",
        "df.head(3)"
      ],
      "execution_count": null,
      "outputs": []
    },
    {
      "cell_type": "markdown",
      "metadata": {
        "id": "toIQAbzlUOxG"
      },
      "source": [
        "Visualizando un poco la data, podremos ver que artistas tienen más canciones:"
      ]
    },
    {
      "cell_type": "code",
      "metadata": {
        "id": "p0E99pNsUOxG"
      },
      "source": [
        "plt.figure(figsize=(24,6))\n",
        "df.groupby('Artista').agg('count').sort_values('Cancion',ascending=False)['Cancion'].plot(kind='bar',fontsize =16);"
      ],
      "execution_count": null,
      "outputs": []
    },
    {
      "cell_type": "markdown",
      "metadata": {
        "id": "8iB9mzarUOxG"
      },
      "source": [
        "Y nuestro vector objetivo, recordemos que es multiclase:"
      ]
    },
    {
      "cell_type": "code",
      "metadata": {
        "id": "CEhOmHH4UOxG"
      },
      "source": [
        "df.groupby('Genero').agg('count').sort_values('Cancion',ascending=False)['Cancion'].plot(kind='bar',fontsize =12);"
      ],
      "execution_count": null,
      "outputs": []
    },
    {
      "cell_type": "markdown",
      "metadata": {
        "id": "6jDAzfyiUOxH"
      },
      "source": [
        "Ahora generemos nuestro modelo, recordemos nuestro train/test para validar los resultados de naive bayes"
      ]
    },
    {
      "cell_type": "code",
      "metadata": {
        "id": "aqxSK7R3UOxH"
      },
      "source": [
        "X_train, X_test, y_train, y_test = train_test_split(df.Letra, df[ 'Genero' ],test_size= .4 ,random_state= 60 )"
      ],
      "execution_count": null,
      "outputs": []
    },
    {
      "cell_type": "code",
      "metadata": {
        "id": "oTgb4zD4UOxH"
      },
      "source": [
        "from sklearn.naive_bayes import MultinomialNB\n",
        "#Ojo, haremos todo junto: el count vectorizer, el calculo de sus pesos y el modelo Naive Bayes.\n",
        "#No le entregaremos ninguna prior por el momento"
      ],
      "execution_count": null,
      "outputs": []
    },
    {
      "cell_type": "code",
      "metadata": {
        "id": "RmywynViUOxH"
      },
      "source": [
        "pipeline_model =  Pipeline([\n",
        "    ('vect', CountVectorizer(stop_words=\"english\")),\n",
        "    ('tfidf', TfidfTransformer()),\n",
        "    ('MnB', MultinomialNB(fit_prior=False)),\n",
        "])"
      ],
      "execution_count": null,
      "outputs": []
    },
    {
      "cell_type": "code",
      "metadata": {
        "id": "6XTaXEX7UOxH"
      },
      "source": [
        "pipeline_model.fit(X_train, y_train)\n",
        "y_hat = pipeline_model.predict(X_test)"
      ],
      "execution_count": null,
      "outputs": []
    },
    {
      "cell_type": "code",
      "metadata": {
        "id": "b2GgGCQsUOxH"
      },
      "source": [
        "pd.crosstab(y_test, y_hat)"
      ],
      "execution_count": null,
      "outputs": []
    },
    {
      "cell_type": "code",
      "metadata": {
        "id": "dp0UG8JIUOxI"
      },
      "source": [
        "print(classification_report(y_test, y_hat));"
      ],
      "execution_count": null,
      "outputs": []
    },
    {
      "cell_type": "markdown",
      "metadata": {
        "id": "izJ4ykrYUOxI"
      },
      "source": [
        "Podemos ver que el modelo tiene un muy mal f1-score para pop, pero como es un modelo bayesiano, podemos entregar un vector de valores prioris que influyan en su resultado. Usaremos la siguiente priori [0.15,0.2,0.45,0.2], que significa que previamente creemos que el 15% es hip hop, el 20% es metal, el otro 45% pop y el ultimo 20% rock"
      ]
    },
    {
      "cell_type": "code",
      "metadata": {
        "id": "5Hsf0SgtUOxI"
      },
      "source": [
        "pipeline_model2 =  Pipeline([\n",
        "    ('vect', CountVectorizer(stop_words=\"english\")),\n",
        "    ('tfidf', TfidfTransformer()),\n",
        "    ('MnB', MultinomialNB(class_prior=[0.15,0.2,0.45,0.2])),\n",
        "])\n",
        "pipeline_model2.fit(X_train, y_train)\n",
        "y_hat2 = pipeline_model2.predict(X_test)"
      ],
      "execution_count": null,
      "outputs": []
    },
    {
      "cell_type": "code",
      "metadata": {
        "id": "IOhsVnbSUOxI"
      },
      "source": [
        "print(classification_report(y_test, y_hat2));"
      ],
      "execution_count": null,
      "outputs": []
    },
    {
      "cell_type": "markdown",
      "metadata": {
        "id": "OsvrlUfoUOxI"
      },
      "source": [
        "Podemos observar que una priori es capaz de ayudar mejorar las métricas: Ahora el f1-score de pop subió de 0,06 a 0,21. Encontrar la mejor priori posible es un muy buen problema estadístico a resolver. También es posible probar diferentes conbinaciones de prioris con validación cruzada para obtener mejores métricas.\n",
        "\n",
        "Finalmente tomaremos nuestro último modelo que es el mejor que tenemos hasta ahora, y veamos si podemos predecir que tipo de música pertenecen las siguientes letras, de los grupos Queen, Gorguts, Snoop Dogg y Britney Spears, que son artistas pertenecientes a cada clase que tenemos"
      ]
    },
    {
      "cell_type": "code",
      "metadata": {
        "id": "FHZMr_6NUOxJ"
      },
      "source": [
        "letras = [ 'I want to break free I want to break free I want to break free from your lies Youre so self satisfied I dont need you' , # Queen - i want to break free\n",
        "'As veils of ignorance, hatred retains Storm of arrows through karma Seeking light through samsara', # Gorguts - Forgotten Arrows\n",
        "'Lookin at the ladies, all of them fly I dont know which one I want, dog' , # Snoop Dogg - Let's Get Blown\n",
        "'ups I think I did it again I made you believe we re more than just friends Oh baby' #Britney Spears - Oops!...I Did It Again\n",
        "]"
      ],
      "execution_count": null,
      "outputs": []
    },
    {
      "cell_type": "code",
      "metadata": {
        "id": "YGOYUfFrUOxJ"
      },
      "source": [
        "pipeline_model2.predict(letras)"
      ],
      "execution_count": null,
      "outputs": []
    },
    {
      "cell_type": "markdown",
      "metadata": {
        "id": "8RBZSl6FUOxJ"
      },
      "source": [
        "El modelo pudo predecir 3 de las 4 clases, pero sigue teniendo problemas con una canción pop (esperable por su bajo f1-score con dicha clase)"
      ]
    },
    {
      "cell_type": "markdown",
      "metadata": {
        "id": "35J3XBiVUOxJ"
      },
      "source": [
        "# Ejercicios"
      ]
    },
    {
      "cell_type": "markdown",
      "metadata": {
        "id": "-tFTzBzzUOxJ"
      },
      "source": [
        "Con el fin de clasificar las distintas actividades que puede realizar una persona, se realizó un experimento a un grupo de \n",
        "30 voluntarios dentro de un grupo de edad de 19 a 48 años. Cada persona realizó seis actividades (CAMINAR, CAMINAR POR LAS ESCALERAS, BAJAR LAS ESCALERAS, SENTARSE, DE PIE, RECOSTARSE) con un smartphone (Samsung Galaxy S II) conectado en su cintura. Usando el acelerómetro y giroscopio integrados en el smartphone, se tienen la siguiente data:\n",
        "\n",
        "\n",
        "-Aceleración triaxial del acelerómetro (aceleración total) y la aceleración corporal estimada.\n",
        "\n",
        "-Velocidad angular triaxial del giroscopio.\n",
        "\n",
        "-Variables de dominio de tiempo y frecuencia.\n",
        "\n",
        "-Su etiqueta de actividad.\n",
        "\n",
        "-Un identificador del sujeto que realizó el experimento.\n",
        "\n",
        "El conjunto de datos obtenido se ha dividido aleatoriamente en dos conjuntos (train y test), donde se seleccionó al 70% de los voluntarios para generar los datos de entrenamiento y al 30% los datos de la prueba.\n",
        "\n",
        "Estos datos se encuentran en los siguientes links:\n",
        "\n",
        "train: https://raw.githubusercontent.com/natjulian/Contribuci-n-Diplomado-Data-Science-UC-2021/main/Bases%20de%20datos%20Clases/Activity/train.csv\n",
        "\n",
        "test: https://raw.githubusercontent.com/natjulian/Contribuci-n-Diplomado-Data-Science-UC-2021/main/Bases%20de%20datos%20Clases/Activity/test.csv\n"
      ]
    },
    {
      "cell_type": "markdown",
      "metadata": {
        "id": "2pOstly3UOxJ"
      },
      "source": [
        "- a) Cargue los set de datos de entrenamiento y prueba. ¿Cuáles son las dimensiones de estos set de datos?"
      ]
    },
    {
      "cell_type": "code",
      "metadata": {
        "id": "9tJ5wVU9UOxK"
      },
      "source": [
        ""
      ],
      "execution_count": null,
      "outputs": []
    },
    {
      "cell_type": "markdown",
      "metadata": {
        "id": "hcJsWcnrUOxK"
      },
      "source": [
        "- b) Estudie la cantidad de registros que hay en cada actividad en el set de entrenamiento. Para esto, una opción es utilizar la función de pandas `crosstab(index=columna, columns=\"count\")`. ¿Cómo se encuentran repartidas las Actividades? ¿Existe algún desbalance en las categorías? Comente."
      ]
    },
    {
      "cell_type": "code",
      "metadata": {
        "id": "rbjEnaKPUOxK"
      },
      "source": [
        ""
      ],
      "execution_count": null,
      "outputs": []
    },
    {
      "cell_type": "markdown",
      "metadata": {
        "id": "vEOMpUqRUOxK"
      },
      "source": [
        "- c) Defina X_train y X_test como corresponda (omitiendo las variables que no corresponden a variables predictoras)."
      ]
    },
    {
      "cell_type": "code",
      "metadata": {
        "id": "wXWCKOcyUOxK"
      },
      "source": [
        ""
      ],
      "execution_count": null,
      "outputs": []
    },
    {
      "cell_type": "markdown",
      "metadata": {
        "id": "zbzWVbQwUOxK"
      },
      "source": [
        "- d) Estandarice el set de features de entrenamiento y prueba. Recuerde que puede utilizar la función vista en clases `StandardScaler`"
      ]
    },
    {
      "cell_type": "code",
      "metadata": {
        "id": "bk3nrvDWUOxK"
      },
      "source": [
        ""
      ],
      "execution_count": null,
      "outputs": []
    },
    {
      "cell_type": "markdown",
      "metadata": {
        "id": "U1Y7bL2TUOxK"
      },
      "source": [
        "- e) Defina  y_train e y_test como corresponda (recuerde que debe estar codificada numéricamente). Para recodificar un vector o columna _y_ de varias categorías a formato numérico. Puede utilizar `LabelEncoder()`"
      ]
    },
    {
      "cell_type": "code",
      "metadata": {
        "id": "QGl-ccY_UOxK"
      },
      "source": [
        ""
      ],
      "execution_count": null,
      "outputs": []
    },
    {
      "cell_type": "markdown",
      "metadata": {
        "id": "Q96chrOLUOxL"
      },
      "source": [
        "- f) Defina un diccionario llamado `param_grid` con las opciones de:\n",
        "    - kernel que se mueva entre linear o rbf\n",
        "    - C que se mueva con los valores 10 ó 15"
      ]
    },
    {
      "cell_type": "code",
      "metadata": {
        "id": "2WPsxchBUOxL"
      },
      "source": [
        ""
      ],
      "execution_count": null,
      "outputs": []
    },
    {
      "cell_type": "markdown",
      "metadata": {
        "id": "8j42JMKDUOxL"
      },
      "source": [
        "- g) Utilice la función `GridSearchCV` para realizar 10 validaciones cruzadas con la lista de parámetros definida anteriormente (Esto puede tardar un poco). Determine la mejor combinación de parámetros y obtenga el modelo con dichos parámetros. "
      ]
    },
    {
      "cell_type": "code",
      "metadata": {
        "id": "vFHqxu9sUOxL"
      },
      "source": [
        ""
      ],
      "execution_count": null,
      "outputs": []
    },
    {
      "cell_type": "markdown",
      "metadata": {
        "id": "2Ez3s5h4UOxO"
      },
      "source": [
        "- h) ¿Cómo es la capacidad predictiva de este modelo en el set de prueba? Comente."
      ]
    },
    {
      "cell_type": "code",
      "metadata": {
        "id": "U_-_ymaBUOxP"
      },
      "source": [
        ""
      ],
      "execution_count": null,
      "outputs": []
    }
  ]
}